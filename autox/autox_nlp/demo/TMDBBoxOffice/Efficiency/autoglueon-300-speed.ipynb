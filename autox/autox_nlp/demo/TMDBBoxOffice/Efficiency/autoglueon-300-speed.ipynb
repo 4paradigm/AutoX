{
 "cells": [
  {
   "cell_type": "code",
   "execution_count": 1,
   "id": "2827085c-166a-4866-a3f8-4781a5edba1d",
   "metadata": {
    "scrolled": true,
    "tags": []
   },
   "outputs": [],
   "source": [
    "# !pip install --upgrade mxnet\n",
    "# !pip install autogluon"
   ]
  },
  {
   "cell_type": "code",
   "execution_count": 4,
   "id": "3a7936f7-a1c7-431f-984e-6b71904dfcf6",
   "metadata": {
    "scrolled": true,
    "tags": []
   },
   "outputs": [],
   "source": [
    "from autogluon.text import TextPredictor\n",
    "import pandas as pd\n",
    "\n",
    "train_data = pd.read_csv('sub_train.csv').drop(columns=['index', 'id', 'belongs_to_collection', 'budget', 'genres', 'homepage',\n",
    "       'imdb_id', 'original_language', 'original_title',\n",
    "       'popularity', 'poster_path', 'production_companies',\n",
    "       'production_countries', 'release_date', 'runtime', 'spoken_languages',\n",
    "       'status', 'tagline', 'title', 'Keywords', 'cast', 'crew'])\n",
    "test_data = pd.read_csv('sub_val.csv')\n",
    "test_data_nolab = test_data.drop(columns=['revenue']) \n",
    "time_limit = 1 * 60  # set to larger value in your applications"
   ]
  },
  {
   "cell_type": "code",
   "execution_count": 5,
   "id": "4b39925f-2817-49da-89ed-153688384edc",
   "metadata": {},
   "outputs": [
    {
     "data": {
      "text/html": [
       "<div>\n",
       "<style scoped>\n",
       "    .dataframe tbody tr th:only-of-type {\n",
       "        vertical-align: middle;\n",
       "    }\n",
       "\n",
       "    .dataframe tbody tr th {\n",
       "        vertical-align: top;\n",
       "    }\n",
       "\n",
       "    .dataframe thead th {\n",
       "        text-align: right;\n",
       "    }\n",
       "</style>\n",
       "<table border=\"1\" class=\"dataframe\">\n",
       "  <thead>\n",
       "    <tr style=\"text-align: right;\">\n",
       "      <th></th>\n",
       "      <th>overview</th>\n",
       "      <th>revenue</th>\n",
       "    </tr>\n",
       "  </thead>\n",
       "  <tbody>\n",
       "    <tr>\n",
       "      <th>0</th>\n",
       "      <td>When Lou, who has become the \"father of the In...</td>\n",
       "      <td>12314651</td>\n",
       "    </tr>\n",
       "    <tr>\n",
       "      <th>1</th>\n",
       "      <td>Mia Thermopolis is now a college graduate and ...</td>\n",
       "      <td>95149435</td>\n",
       "    </tr>\n",
       "    <tr>\n",
       "      <th>2</th>\n",
       "      <td>Pinocchio and his friends, a glow worm and a m...</td>\n",
       "      <td>3261638</td>\n",
       "    </tr>\n",
       "    <tr>\n",
       "      <th>3</th>\n",
       "      <td>A young girl buys an antique box at a yard sal...</td>\n",
       "      <td>85446075</td>\n",
       "    </tr>\n",
       "    <tr>\n",
       "      <th>4</th>\n",
       "      <td>After telling the story of Flint's last journe...</td>\n",
       "      <td>34327391</td>\n",
       "    </tr>\n",
       "    <tr>\n",
       "      <th>...</th>\n",
       "      <td>...</td>\n",
       "      <td>...</td>\n",
       "    </tr>\n",
       "    <tr>\n",
       "      <th>1995</th>\n",
       "      <td>Viktor Navorski is a man without a country; hi...</td>\n",
       "      <td>219417255</td>\n",
       "    </tr>\n",
       "    <tr>\n",
       "      <th>1996</th>\n",
       "      <td>When David Greene receives a football scholars...</td>\n",
       "      <td>14715067</td>\n",
       "    </tr>\n",
       "    <tr>\n",
       "      <th>1997</th>\n",
       "      <td>Military men Rock Reilly and Eddie Devane are ...</td>\n",
       "      <td>1596687</td>\n",
       "    </tr>\n",
       "    <tr>\n",
       "      <th>1998</th>\n",
       "      <td>Three girls in 1980s Stockholm decide to form ...</td>\n",
       "      <td>180590</td>\n",
       "    </tr>\n",
       "    <tr>\n",
       "      <th>1999</th>\n",
       "      <td>Reuben Feffer is a guy who's spent his entire ...</td>\n",
       "      <td>171963386</td>\n",
       "    </tr>\n",
       "  </tbody>\n",
       "</table>\n",
       "<p>2000 rows × 2 columns</p>\n",
       "</div>"
      ],
      "text/plain": [
       "                                               overview    revenue\n",
       "0     When Lou, who has become the \"father of the In...   12314651\n",
       "1     Mia Thermopolis is now a college graduate and ...   95149435\n",
       "2     Pinocchio and his friends, a glow worm and a m...    3261638\n",
       "3     A young girl buys an antique box at a yard sal...   85446075\n",
       "4     After telling the story of Flint's last journe...   34327391\n",
       "...                                                 ...        ...\n",
       "1995  Viktor Navorski is a man without a country; hi...  219417255\n",
       "1996  When David Greene receives a football scholars...   14715067\n",
       "1997  Military men Rock Reilly and Eddie Devane are ...    1596687\n",
       "1998  Three girls in 1980s Stockholm decide to form ...     180590\n",
       "1999  Reuben Feffer is a guy who's spent his entire ...  171963386\n",
       "\n",
       "[2000 rows x 2 columns]"
      ]
     },
     "execution_count": 5,
     "metadata": {},
     "output_type": "execute_result"
    }
   ],
   "source": [
    "train_data"
   ]
  },
  {
   "cell_type": "code",
   "execution_count": 6,
   "id": "73a119e1-9fc1-4ae4-abf4-2a2fc77197e9",
   "metadata": {},
   "outputs": [
    {
     "name": "stdout",
     "output_type": "stream",
     "text": [
      "304.3244999999998\n"
     ]
    }
   ],
   "source": [
    "length=0\n",
    "for item in train_data['overview'].apply(str):\n",
    "    length+=len(item)/len(train_data['overview'])\n",
    "print(length)"
   ]
  },
  {
   "cell_type": "code",
   "execution_count": 7,
   "id": "3979fe2b-2303-4fd0-8f1f-1d5719aebe8d",
   "metadata": {},
   "outputs": [],
   "source": [
    "import os\n",
    "import time\n",
    "import os\n",
    "import psutil\n",
    "def count_time(func):\n",
    "    def int_time():\n",
    "        start_time = time.time()\n",
    "        func()\n",
    "        over_time = time.time()\n",
    "        total_time = over_time - start_time\n",
    "        print(\"程序运行了%s秒\" % total_time)\n",
    "    return int_time\n",
    "\n",
    "def count_info(func):\n",
    "    def float_info():\n",
    "        pid = os.getpid()\n",
    "        p = psutil.Process(pid)\n",
    "        info_start = p.memory_full_info().uss/1024\n",
    "        func()\n",
    "        info_end=p.memory_full_info().uss/1024\n",
    "        print(\"程序占用了内存\"+str(info_end-info_start)+\"KB\")\n",
    "    return float_info"
   ]
  },
  {
   "cell_type": "code",
   "execution_count": 8,
   "id": "74e1de78-0179-4881-8f37-f585b5635ce8",
   "metadata": {},
   "outputs": [
    {
     "name": "stderr",
     "output_type": "stream",
     "text": [
      "Global seed set to 123\n",
      "Using 16bit native Automatic Mixed Precision (AMP)\n",
      "GPU available: True, used: True\n",
      "TPU available: False, using: 0 TPU cores\n",
      "IPU available: False, using: 0 IPUs\n",
      "LOCAL_RANK: 0 - CUDA_VISIBLE_DEVICES: [0]\n",
      "\n",
      "  | Name              | Type                         | Params\n",
      "-------------------------------------------------------------------\n",
      "0 | model             | HFAutoModelForTextPrediction | 108 M \n",
      "1 | validation_metric | MeanSquaredError             | 0     \n",
      "2 | loss_func         | MSELoss                      | 0     \n",
      "-------------------------------------------------------------------\n",
      "108 M     Trainable params\n",
      "0         Non-trainable params\n",
      "108 M     Total params\n",
      "217.785   Total estimated model params size (MB)\n"
     ]
    },
    {
     "data": {
      "application/vnd.jupyter.widget-view+json": {
       "model_id": "",
       "version_major": 2,
       "version_minor": 0
      },
      "text/plain": [
       "Validation sanity check: 0it [00:00, ?it/s]"
      ]
     },
     "metadata": {},
     "output_type": "display_data"
    },
    {
     "name": "stderr",
     "output_type": "stream",
     "text": [
      "Global seed set to 123\n"
     ]
    },
    {
     "data": {
      "application/vnd.jupyter.widget-view+json": {
       "model_id": "5a8f831d9165456fad5957f4e3e5b840",
       "version_major": 2,
       "version_minor": 0
      },
      "text/plain": [
       "Training: 0it [00:00, ?it/s]"
      ]
     },
     "metadata": {},
     "output_type": "display_data"
    },
    {
     "data": {
      "application/vnd.jupyter.widget-view+json": {
       "model_id": "",
       "version_major": 2,
       "version_minor": 0
      },
      "text/plain": [
       "Validating: 0it [00:00, ?it/s]"
      ]
     },
     "metadata": {},
     "output_type": "display_data"
    },
    {
     "name": "stderr",
     "output_type": "stream",
     "text": [
      "Epoch 0, global step 6: val_rmse reached 0.60567 (best 0.60567), saving model to \"/root/autodl-tmp/TMDB/autogluon/epoch=0-step=6.ckpt\" as top 3\n"
     ]
    },
    {
     "data": {
      "application/vnd.jupyter.widget-view+json": {
       "model_id": "",
       "version_major": 2,
       "version_minor": 0
      },
      "text/plain": [
       "Validating: 0it [00:00, ?it/s]"
      ]
     },
     "metadata": {},
     "output_type": "display_data"
    },
    {
     "name": "stderr",
     "output_type": "stream",
     "text": [
      "Epoch 0, global step 12: val_rmse reached 0.69686 (best 0.60567), saving model to \"/root/autodl-tmp/TMDB/autogluon/epoch=0-step=12.ckpt\" as top 3\n"
     ]
    },
    {
     "data": {
      "application/vnd.jupyter.widget-view+json": {
       "model_id": "",
       "version_major": 2,
       "version_minor": 0
      },
      "text/plain": [
       "Validating: 0it [00:00, ?it/s]"
      ]
     },
     "metadata": {},
     "output_type": "display_data"
    },
    {
     "name": "stderr",
     "output_type": "stream",
     "text": [
      "Epoch 1, global step 19: val_rmse reached 0.68587 (best 0.60567), saving model to \"/root/autodl-tmp/TMDB/autogluon/epoch=1-step=19.ckpt\" as top 3\n"
     ]
    },
    {
     "data": {
      "application/vnd.jupyter.widget-view+json": {
       "model_id": "",
       "version_major": 2,
       "version_minor": 0
      },
      "text/plain": [
       "Validating: 0it [00:00, ?it/s]"
      ]
     },
     "metadata": {},
     "output_type": "display_data"
    },
    {
     "name": "stderr",
     "output_type": "stream",
     "text": [
      "Epoch 1, global step 25: val_rmse was not in top 3\n"
     ]
    },
    {
     "data": {
      "application/vnd.jupyter.widget-view+json": {
       "model_id": "",
       "version_major": 2,
       "version_minor": 0
      },
      "text/plain": [
       "Validating: 0it [00:00, ?it/s]"
      ]
     },
     "metadata": {},
     "output_type": "display_data"
    },
    {
     "name": "stderr",
     "output_type": "stream",
     "text": [
      "Epoch 2, global step 32: val_rmse reached 0.61246 (best 0.60567), saving model to \"/root/autodl-tmp/TMDB/autogluon/epoch=2-step=32.ckpt\" as top 3\n"
     ]
    },
    {
     "data": {
      "application/vnd.jupyter.widget-view+json": {
       "model_id": "",
       "version_major": 2,
       "version_minor": 0
      },
      "text/plain": [
       "Validating: 0it [00:00, ?it/s]"
      ]
     },
     "metadata": {},
     "output_type": "display_data"
    },
    {
     "name": "stderr",
     "output_type": "stream",
     "text": [
      "Epoch 2, global step 38: val_rmse was not in top 3\n",
      "Time limit reached. Elapsed time is 0:01:05. Signaling Trainer to stop.\n"
     ]
    },
    {
     "data": {
      "application/vnd.jupyter.widget-view+json": {
       "model_id": "",
       "version_major": 2,
       "version_minor": 0
      },
      "text/plain": [
       "Validating: 0it [00:00, ?it/s]"
      ]
     },
     "metadata": {},
     "output_type": "display_data"
    },
    {
     "name": "stderr",
     "output_type": "stream",
     "text": [
      "Epoch 3, global step 39: val_rmse was not in top 3\n"
     ]
    },
    {
     "data": {
      "application/vnd.jupyter.widget-view+json": {
       "model_id": "dae90d5c78d84226b59ba1b99314a944",
       "version_major": 2,
       "version_minor": 0
      },
      "text/plain": [
       "Predicting: 0it [00:00, ?it/s]"
      ]
     },
     "metadata": {},
     "output_type": "display_data"
    },
    {
     "name": "stdout",
     "output_type": "stream",
     "text": [
      "程序占用了内存6562148.0KB\n",
      "程序运行了98.03468608856201秒\n"
     ]
    }
   ],
   "source": [
    "@count_time\n",
    "@count_info\n",
    "def calcu_atg():\n",
    "    predictor = TextPredictor(label='revenue', path='autogluon')\n",
    "    predictor.fit(train_data, time_limit=time_limit)\n",
    "    embeddings = predictor.extract_embedding(train_data)\n",
    "    embeddings.shape\n",
    "    \n",
    "calcu_atg()"
   ]
  },
  {
   "cell_type": "code",
   "execution_count": null,
   "id": "3c7ecd9c-1da6-4acc-96ce-55a9fd2577d5",
   "metadata": {},
   "outputs": [],
   "source": []
  }
 ],
 "metadata": {
  "kernelspec": {
   "display_name": "Python 3 (ipykernel)",
   "language": "python",
   "name": "python3"
  },
  "language_info": {
   "codemirror_mode": {
    "name": "ipython",
    "version": 3
   },
   "file_extension": ".py",
   "mimetype": "text/x-python",
   "name": "python",
   "nbconvert_exporter": "python",
   "pygments_lexer": "ipython3",
   "version": "3.8.10"
  }
 },
 "nbformat": 4,
 "nbformat_minor": 5
}
