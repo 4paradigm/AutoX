{
 "cells": [
  {
   "cell_type": "code",
   "execution_count": null,
   "id": "8ecf78f6-5a21-4c06-8854-94681b42da14",
   "metadata": {},
   "outputs": [],
   "source": [
    "import numpy as np \n",
    "import pandas as pd \n",
    "from sklearn.model_selection import KFold\n",
    "\n",
    "train = pd.read_csv('../input/stumbleupon/train.tsv', sep='\\t')"
   ]
  },
  {
   "cell_type": "code",
   "execution_count": null,
   "id": "16b3bb68-389e-46b4-a323-202ae00eb0f6",
   "metadata": {},
   "outputs": [],
   "source": [
    "kf = KFold(n_splits=3, random_state=1001,shuffle=True)\n",
    "for i, (train_index, val_index) in enumerate(kf.split(train)):\n",
    "    trn= train.iloc[train_index].reset_index()\n",
    "    val= train.iloc[val_index].reset_index()\n",
    "    \n",
    "trn = trn.drop(columns=['index'])\n",
    "val = val.drop(columns=['index'])\n",
    "\n",
    "val.to_csv('sub_val.csv',index=False)\n",
    "trn.to_csv('sub_train.csv',index=False)"
   ]
  },
  {
   "cell_type": "code",
   "execution_count": null,
   "id": "1555c236-46cf-45c8-9141-8cf4321561b7",
   "metadata": {},
   "outputs": [],
   "source": [
    "!git clone https://github.com/4paradigm/autox.git\n",
    "!pip install ./autox"
   ]
  },
  {
   "cell_type": "code",
   "execution_count": null,
   "id": "e94f0872-a7f8-4ab3-9bb6-78e916a42041",
   "metadata": {},
   "outputs": [],
   "source": [
    "from autox.autox_nlp import NLP_feature\n",
    "import pandas as pd\n",
    "import numpy as np\n",
    "import os\n",
    "from tqdm import tqdm"
   ]
  },
  {
   "cell_type": "code",
   "execution_count": null,
   "id": "0be47a0f-010e-41b8-8f86-f68d74f9137d",
   "metadata": {},
   "outputs": [],
   "source": [
    "df_train = pd.read_csv('sub_train.csv')\n",
    "df_test = pd.read_csv('sub_val.csv')"
   ]
  },
  {
   "cell_type": "code",
   "execution_count": null,
   "id": "ddfaa386-1a4d-4e24-93a9-b01c3555eb26",
   "metadata": {},
   "outputs": [],
   "source": [
    "use_Toknizer=True\n",
    "emb_mode = 'Bert'# TFIDF / Word2Vec / Glove / FastText / Bert\n",
    "encode_mode = 'supervise' # unsupervise / supervise\n",
    "text_columns_name = ['url','boilerplate']\n",
    "target_column = df_train['label']\n",
    "candidate_labels=None"
   ]
  },
  {
   "cell_type": "code",
   "execution_count": null,
   "id": "e5c5ed0c-be18-4946-ada1-ee12d036d9f4",
   "metadata": {},
   "outputs": [],
   "source": [
    "use_Toknizer=True\n",
    "emb_mode = 'Bert'# TFIDF / Word2Vec / Glove / FastText / Bert\n",
    "encode_mode = 'supervise' # unsupervise / supervise\n",
    "text_columns_name = ['url','boilerplate']\n",
    "target_column = df_train['label']\n",
    "candidate_labels=None"
   ]
  },
  {
   "cell_type": "code",
   "execution_count": null,
   "id": "edff8763-644c-42c1-bf02-f2122a5aeca6",
   "metadata": {},
   "outputs": [],
   "source": [
    "nlp = NLP_feature()\n",
    "nlp.emb_size=100\n",
    "nlp.n_clusters=20\n",
    "df = nlp.fit(df_train,\n",
    "             text_columns_name,\n",
    "             use_Toknizer,\n",
    "             emb_mode,\n",
    "             encode_mode,\n",
    "             target_column,\n",
    "             candidate_labels)"
   ]
  },
  {
   "cell_type": "code",
   "execution_count": null,
   "id": "eaa155c6-d20e-44e3-b0fc-129a297b4176",
   "metadata": {},
   "outputs": [],
   "source": [
    "for column in df.columns:\n",
    "    df_train[column] = df[column]"
   ]
  },
  {
   "cell_type": "code",
   "execution_count": null,
   "id": "4e3e404d-b5e8-433b-ba48-ac4574433755",
   "metadata": {},
   "outputs": [],
   "source": [
    "test = nlp.transform(df_test)"
   ]
  },
  {
   "cell_type": "code",
   "execution_count": null,
   "id": "995f8c5b-6041-4e48-825d-c086a61c5867",
   "metadata": {},
   "outputs": [],
   "source": [
    "for column in test.columns:\n",
    "    df_test[column] = test[column]"
   ]
  },
  {
   "cell_type": "code",
   "execution_count": null,
   "id": "61b39e3b-144d-4454-8cf2-10809241d6a3",
   "metadata": {},
   "outputs": [],
   "source": [
    "df_train.to_csv(f'{emb_mode}_{encode_mode}_autox_trn.csv',index=False)\n",
    "df_test.to_csv(f'{emb_mode}_{encode_mode}_autox_val.csv',index=False)"
   ]
  },
  {
   "cell_type": "code",
   "execution_count": null,
   "id": "876cc96e-fbb6-4abf-9992-3e60597529ba",
   "metadata": {},
   "outputs": [],
   "source": [
    "df_val=pd.read_csv(f'{emb_mode}_{encode_mode}_autox_val.csv').drop(columns=['label'])\n",
    "df_val.to_csv(f'{emb_mode}_{encode_mode}_autox_tst.csv',index=False)"
   ]
  },
  {
   "cell_type": "code",
   "execution_count": 1,
   "id": "c024a718-31e1-47f0-b8d2-8ff9c94f7eed",
   "metadata": {},
   "outputs": [],
   "source": [
    "import os\n",
    "from tqdm import tqdm"
   ]
  },
  {
   "cell_type": "code",
   "execution_count": 2,
   "id": "63c34382-3a3b-41a0-884b-60397f646770",
   "metadata": {
    "scrolled": true,
    "tags": []
   },
   "outputs": [
    {
     "name": "stderr",
     "output_type": "stream",
     "text": [
      "   INFO ->  [+] read sampleSubmission.csv\n",
      "   INFO ->  Memory usage of dataframe is 0.05 MB\n",
      "   INFO ->  Memory usage after optimization is: 0.01 MB\n",
      "   INFO ->  Decreased by 81.0%\n",
      "   INFO ->  table = sampleSubmission.csv, shape = (3171, 2)\n",
      "   INFO ->  [+] read sub_train.csv\n",
      "   INFO ->  Memory usage of dataframe is 1.02 MB\n",
      "   INFO ->  Memory usage after optimization is: 0.70 MB\n",
      "   INFO ->  Decreased by 31.1%\n",
      "   INFO ->  table = sub_train.csv, shape = (4930, 27)\n",
      "   INFO ->  [+] read sub_val.csv\n",
      "   INFO ->  Memory usage of dataframe is 0.53 MB\n",
      "   INFO ->  Memory usage after optimization is: 0.36 MB\n",
      "   INFO ->  Decreased by 32.6%\n",
      "   INFO ->  table = sub_val.csv, shape = (2465, 28)\n",
      "   INFO ->  [+] read Bert_supervise_autox_trn.csv\n",
      "   INFO ->  Memory usage of dataframe is 1.09 MB\n",
      "   INFO ->  Memory usage after optimization is: 0.72 MB\n",
      "   INFO ->  Decreased by 34.1%\n",
      "   INFO ->  table = Bert_supervise_autox_trn.csv, shape = (4930, 29)\n",
      "   INFO ->  [+] read Bert_supervise_autox_tst.csv\n",
      "   INFO ->  Memory usage of dataframe is 0.55 MB\n",
      "   INFO ->  Memory usage after optimization is: 0.36 MB\n",
      "   INFO ->  Decreased by 34.0%\n",
      "   INFO ->  table = Bert_supervise_autox_tst.csv, shape = (2465, 29)\n",
      "   INFO ->  [+] read sub_test.csv\n",
      "   INFO ->  Memory usage of dataframe is 0.49 MB\n",
      "   INFO ->  Memory usage after optimization is: 0.35 MB\n",
      "   INFO ->  Decreased by 28.8%\n",
      "   INFO ->  table = sub_test.csv, shape = (2465, 26)\n",
      "   INFO ->  [+] read Bert_supervise_autox_val.csv\n",
      "   INFO ->  Memory usage of dataframe is 0.53 MB\n",
      "   INFO ->  Memory usage after optimization is: 0.36 MB\n",
      "   INFO ->  Decreased by 32.1%\n",
      "   INFO ->  table = Bert_supervise_autox_val.csv, shape = (2465, 28)\n",
      "   INFO ->  start feature engineer\n",
      "   INFO ->  feature engineer: one2M\n",
      "   INFO ->  featureOne2M ops: {}\n",
      "   INFO ->  ignore featureOne2M\n",
      "   INFO ->  feature engineer: time\n",
      "   INFO ->  featureTime ops: []\n",
      "0it [00:00, ?it/s]\n",
      "   INFO ->  feature engineer: Cumsum\n",
      "100%|██████████| 1/1 [00:00<00:00, 54.81it/s]\n",
      "   INFO ->  this cols with inf data, del them: ['alchemy_category__avglinksize__cumsum', 'alchemy_category__commonlinkratio_1__cumsum', 'alchemy_category__commonlinkratio_2__cumsum', 'alchemy_category__commonlinkratio_3__cumsum', 'alchemy_category__commonlinkratio_4__cumsum', 'alchemy_category__compression_ratio__cumsum', 'alchemy_category__embed_ratio__cumsum', 'alchemy_category__framebased__cumsum', 'alchemy_category__frameTagRatio__cumsum', 'alchemy_category__hasDomainLink__cumsum', 'alchemy_category__html_ratio__cumsum', 'alchemy_category__image_ratio__cumsum', 'alchemy_category__lengthyLinkDomain__cumsum', 'alchemy_category__linkwordscore__cumsum', 'alchemy_category__non_markup_alphanum_characters__cumsum', 'alchemy_category__numberOfLinks__cumsum', 'alchemy_category__numwords_in_url__cumsum', 'alchemy_category__parametrizedLinkRatio__cumsum', 'alchemy_category__spelling_errors_ratio__cumsum', 'alchemy_category__boilerplate_meta_feature__cumsum', 'alchemy_category__url_meta_feature__cumsum', 'alchemy_category__boilerplate_transformed__cumsum', 'alchemy_category__url_transformed__cumsum']\n",
      "   INFO ->  featureCumsum ops: {'alchemy_category': ['avglinksize', 'commonlinkratio_1', 'commonlinkratio_2', 'commonlinkratio_3', 'commonlinkratio_4', 'compression_ratio', 'embed_ratio', 'framebased', 'frameTagRatio', 'hasDomainLink', 'html_ratio', 'image_ratio', 'lengthyLinkDomain', 'linkwordscore', 'non_markup_alphanum_characters', 'numberOfLinks', 'numwords_in_url', 'parametrizedLinkRatio', 'spelling_errors_ratio', 'boilerplate_meta_feature', 'url_meta_feature', 'boilerplate_transformed', 'url_transformed']}\n",
      "   INFO ->  feature engineer: Shift\n",
      "100%|██████████| 1/1 [00:00<00:00,  6.26it/s]\n",
      "   INFO ->  featureShift ops: {'alchemy_category': ['avglinksize', 'commonlinkratio_1', 'commonlinkratio_2', 'commonlinkratio_3', 'commonlinkratio_4', 'compression_ratio', 'embed_ratio', 'framebased', 'frameTagRatio', 'hasDomainLink', 'html_ratio', 'image_ratio', 'lengthyLinkDomain', 'linkwordscore', 'non_markup_alphanum_characters', 'numberOfLinks', 'numwords_in_url', 'parametrizedLinkRatio', 'spelling_errors_ratio', 'boilerplate_meta_feature', 'url_meta_feature', 'boilerplate_transformed', 'url_transformed']}\n",
      "   INFO ->  feature engineer: Diff\n",
      "100%|██████████| 1/1 [00:00<00:00,  4.02it/s]\n",
      "   INFO ->  featureDiff ops: {'alchemy_category': ['avglinksize', 'commonlinkratio_1', 'commonlinkratio_2', 'commonlinkratio_3', 'commonlinkratio_4', 'compression_ratio', 'embed_ratio', 'framebased', 'frameTagRatio', 'hasDomainLink', 'html_ratio', 'image_ratio', 'lengthyLinkDomain', 'linkwordscore', 'non_markup_alphanum_characters', 'numberOfLinks', 'numwords_in_url', 'parametrizedLinkRatio', 'spelling_errors_ratio', 'boilerplate_meta_feature', 'url_meta_feature', 'boilerplate_transformed', 'url_transformed']}\n",
      "   INFO ->  feature engineer: Stat\n",
      "100%|██████████| 1/1 [00:00<00:00, 11.33it/s]\n",
      "   INFO ->  featureStat ops: {'alchemy_category': {'alchemy_category_score': ['nunique'], 'avglinksize': ['mean', 'min', 'max', 'median', 'std'], 'commonlinkratio_1': ['mean', 'min', 'max', 'median', 'std'], 'commonlinkratio_2': ['mean', 'min', 'max', 'median', 'std'], 'commonlinkratio_3': ['mean', 'min', 'max', 'median', 'std'], 'commonlinkratio_4': ['mean', 'min', 'max', 'median', 'std'], 'compression_ratio': ['mean', 'min', 'max', 'median', 'std'], 'embed_ratio': ['mean', 'min', 'max', 'median', 'std'], 'framebased': ['mean', 'min', 'max', 'median', 'std'], 'frameTagRatio': ['mean', 'min', 'max', 'median', 'std'], 'hasDomainLink': ['mean', 'min', 'max', 'median', 'std'], 'html_ratio': ['mean', 'min', 'max', 'median', 'std'], 'image_ratio': ['mean', 'min', 'max', 'median', 'std'], 'is_news': ['nunique'], 'lengthyLinkDomain': ['mean', 'min', 'max', 'median', 'std'], 'linkwordscore': ['mean', 'min', 'max', 'median', 'std'], 'news_front_page': ['nunique'], 'non_markup_alphanum_characters': ['mean', 'min', 'max', 'median', 'std'], 'numberOfLinks': ['mean', 'min', 'max', 'median', 'std'], 'numwords_in_url': ['mean', 'min', 'max', 'median', 'std'], 'parametrizedLinkRatio': ['mean', 'min', 'max', 'median', 'std'], 'spelling_errors_ratio': ['mean', 'min', 'max', 'median', 'std'], 'boilerplate_meta_feature': ['mean', 'min', 'max', 'median', 'std'], 'url_meta_feature': ['mean', 'min', 'max', 'median', 'std'], 'boilerplate_transformed': ['mean', 'min', 'max', 'median', 'std'], 'url_transformed': ['mean', 'min', 'max', 'median', 'std']}}\n",
      "   INFO ->  feature engineer: NLP\n",
      "  0%|          | 0/2 [00:00<?, ?it/s]"
     ]
    },
    {
     "name": "stdout",
     "output_type": "stream",
     "text": [
      "(4930, 2968) (2465, 2968)\n"
     ]
    },
    {
     "name": "stderr",
     "output_type": "stream",
     "text": [
      "\n",
      "  0%|          | 0/1 [00:00<?, ?it/s]\u001b[A"
     ]
    },
    {
     "name": "stdout",
     "output_type": "stream",
     "text": [
      "Training on model 1 - fold 1\n",
      "Training until validation scores don't improve for 150 rounds\n",
      "[20]\ttraining's auc: 0.763503\tvalid_1's auc: 0.700903\n",
      "[40]\ttraining's auc: 0.775356\tvalid_1's auc: 0.702253\n",
      "[60]\ttraining's auc: 0.787371\tvalid_1's auc: 0.704676\n",
      "[80]\ttraining's auc: 0.797955\tvalid_1's auc: 0.705253\n",
      "[100]\ttraining's auc: 0.80621\tvalid_1's auc: 0.701447\n",
      "[120]\ttraining's auc: 0.81306\tvalid_1's auc: 0.701911\n",
      "[140]\ttraining's auc: 0.820687\tvalid_1's auc: 0.700472\n",
      "[160]\ttraining's auc: 0.827474\tvalid_1's auc: 0.69994\n",
      "[180]\ttraining's auc: 0.832749\tvalid_1's auc: 0.696555\n",
      "[200]\ttraining's auc: 0.838984\tvalid_1's auc: 0.697163\n",
      "[220]\ttraining's auc: 0.843262\tvalid_1's auc: 0.695233\n",
      "Early stopping, best iteration is:\n",
      "[78]\ttraining's auc: 0.797111\tvalid_1's auc: 0.706028\n",
      "Model 1 - Fold 1 finished in 0:00:00.354350\n",
      "Training on model 1 - fold 2\n",
      "Training until validation scores don't improve for 150 rounds\n",
      "[20]\ttraining's auc: 0.754423\tvalid_1's auc: 0.735168\n",
      "[40]\ttraining's auc: 0.768316\tvalid_1's auc: 0.736204\n",
      "[60]\ttraining's auc: 0.783123\tvalid_1's auc: 0.736324\n",
      "[80]\ttraining's auc: 0.792082\tvalid_1's auc: 0.736964\n",
      "[100]\ttraining's auc: 0.800788\tvalid_1's auc: 0.732905\n",
      "[120]\ttraining's auc: 0.806304\tvalid_1's auc: 0.733099\n",
      "[140]\ttraining's auc: 0.813218\tvalid_1's auc: 0.729605\n",
      "[160]\ttraining's auc: 0.818465\tvalid_1's auc: 0.730376\n",
      "Early stopping, best iteration is:\n",
      "[23]\ttraining's auc: 0.757736\tvalid_1's auc: 0.738678\n",
      "Model 1 - Fold 2 finished in 0:00:00.292448\n",
      "Training on model 1 - fold 3\n",
      "Training until validation scores don't improve for 150 rounds\n",
      "[20]\ttraining's auc: 0.75523\tvalid_1's auc: 0.713105\n",
      "[40]\ttraining's auc: 0.775801\tvalid_1's auc: 0.718406\n",
      "[60]\ttraining's auc: 0.785295\tvalid_1's auc: 0.718316\n",
      "[80]\ttraining's auc: 0.795619\tvalid_1's auc: 0.717826\n",
      "[100]\ttraining's auc: 0.804878\tvalid_1's auc: 0.715267\n",
      "[120]\ttraining's auc: 0.812384\tvalid_1's auc: 0.714221\n",
      "[140]\ttraining's auc: 0.818452\tvalid_1's auc: 0.713993\n",
      "[160]\ttraining's auc: 0.824791\tvalid_1's auc: 0.712927\n",
      "[180]\ttraining's auc: 0.830586\tvalid_1's auc: 0.711583\n",
      "Early stopping, best iteration is:\n",
      "[35]\ttraining's auc: 0.771604\tvalid_1's auc: 0.719399\n",
      "Model 1 - Fold 3 finished in 0:00:00.291940\n",
      "Training on model 1 - fold 4\n",
      "Training until validation scores don't improve for 150 rounds\n",
      "[20]\ttraining's auc: 0.763739\tvalid_1's auc: 0.693048\n",
      "[40]\ttraining's auc: 0.776673\tvalid_1's auc: 0.696496\n",
      "[60]\ttraining's auc: 0.790035\tvalid_1's auc: 0.697194\n",
      "[80]\ttraining's auc: 0.801091\tvalid_1's auc: 0.693873\n",
      "[100]\ttraining's auc: 0.810136\tvalid_1's auc: 0.693824\n",
      "[120]\ttraining's auc: 0.816708\tvalid_1's auc: 0.69226\n",
      "[140]\ttraining's auc: 0.822943\tvalid_1's auc: 0.690989\n",
      "[160]\ttraining's auc: 0.829422\tvalid_1's auc: 0.691974\n",
      "[180]\ttraining's auc: 0.834191\tvalid_1's auc: 0.689862\n",
      "[200]\ttraining's auc: 0.840048\tvalid_1's auc: 0.689135\n",
      "Early stopping, best iteration is:\n",
      "[51]\ttraining's auc: 0.785037\tvalid_1's auc: 0.699891\n",
      "Model 1 - Fold 4 finished in 0:00:00.324337\n",
      "Training on model 1 - fold 5\n",
      "Training until validation scores don't improve for 150 rounds\n",
      "[20]\ttraining's auc: 0.759707\tvalid_1's auc: 0.693637\n",
      "[40]\ttraining's auc: 0.774974\tvalid_1's auc: 0.700587\n",
      "[60]\ttraining's auc: 0.789015\tvalid_1's auc: 0.703965\n",
      "[80]\ttraining's auc: 0.799438\tvalid_1's auc: 0.702716\n",
      "[100]\ttraining's auc: 0.807903\tvalid_1's auc: 0.700587\n",
      "[120]\ttraining's auc: 0.813695\tvalid_1's auc: 0.70112\n"
     ]
    },
    {
     "name": "stderr",
     "output_type": "stream",
     "text": [
      "\n",
      "100%|██████████| 1/1 [00:01<00:00,  1.60s/it]\u001b[A\n",
      " 50%|█████     | 1/2 [00:01<00:01,  1.68s/it]"
     ]
    },
    {
     "name": "stdout",
     "output_type": "stream",
     "text": [
      "[140]\ttraining's auc: 0.820069\tvalid_1's auc: 0.70042\n",
      "[160]\ttraining's auc: 0.824669\tvalid_1's auc: 0.699796\n",
      "[180]\ttraining's auc: 0.829675\tvalid_1's auc: 0.699299\n",
      "[200]\ttraining's auc: 0.83517\tvalid_1's auc: 0.697713\n",
      "Early stopping, best iteration is:\n",
      "[62]\ttraining's auc: 0.790539\tvalid_1's auc: 0.704112\n",
      "Model 1 - Fold 5 finished in 0:00:00.336895\n",
      "done!\n",
      "(4930, 28542) (2465, 28542)\n"
     ]
    },
    {
     "name": "stderr",
     "output_type": "stream",
     "text": [
      "\n",
      "  0%|          | 0/1 [00:00<?, ?it/s]\u001b[A"
     ]
    },
    {
     "name": "stdout",
     "output_type": "stream",
     "text": [
      "Training on model 1 - fold 1\n",
      "Training until validation scores don't improve for 150 rounds\n",
      "[20]\ttraining's auc: 0.908457\tvalid_1's auc: 0.842644\n",
      "[40]\ttraining's auc: 0.939414\tvalid_1's auc: 0.845306\n",
      "[60]\ttraining's auc: 0.960621\tvalid_1's auc: 0.845151\n",
      "[80]\ttraining's auc: 0.975387\tvalid_1's auc: 0.84491\n",
      "[100]\ttraining's auc: 0.98431\tvalid_1's auc: 0.843295\n",
      "[120]\ttraining's auc: 0.989708\tvalid_1's auc: 0.842714\n",
      "[140]\ttraining's auc: 0.993055\tvalid_1's auc: 0.8409\n",
      "[160]\ttraining's auc: 0.995022\tvalid_1's auc: 0.840887\n",
      "[180]\ttraining's auc: 0.996251\tvalid_1's auc: 0.839671\n",
      "Early stopping, best iteration is:\n",
      "[32]\ttraining's auc: 0.927793\tvalid_1's auc: 0.84694\n",
      "Model 1 - Fold 1 finished in 0:00:01.961127\n",
      "Training on model 1 - fold 2\n",
      "Training until validation scores don't improve for 150 rounds\n",
      "[20]\ttraining's auc: 0.912257\tvalid_1's auc: 0.850987\n",
      "[40]\ttraining's auc: 0.940578\tvalid_1's auc: 0.855137\n",
      "[60]\ttraining's auc: 0.96229\tvalid_1's auc: 0.856642\n",
      "[80]\ttraining's auc: 0.976227\tvalid_1's auc: 0.857322\n",
      "[100]\ttraining's auc: 0.984898\tvalid_1's auc: 0.856984\n",
      "[120]\ttraining's auc: 0.990194\tvalid_1's auc: 0.856097\n",
      "[140]\ttraining's auc: 0.993398\tvalid_1's auc: 0.855767\n",
      "[160]\ttraining's auc: 0.995179\tvalid_1's auc: 0.85685\n",
      "[180]\ttraining's auc: 0.996398\tvalid_1's auc: 0.85642\n",
      "[200]\ttraining's auc: 0.99712\tvalid_1's auc: 0.856914\n",
      "[220]\ttraining's auc: 0.997606\tvalid_1's auc: 0.857425\n",
      "Early stopping, best iteration is:\n",
      "[76]\ttraining's auc: 0.973906\tvalid_1's auc: 0.858134\n",
      "Model 1 - Fold 2 finished in 0:00:02.363479\n",
      "Training on model 1 - fold 3\n",
      "Training until validation scores don't improve for 150 rounds\n",
      "[20]\ttraining's auc: 0.908971\tvalid_1's auc: 0.881245\n",
      "[40]\ttraining's auc: 0.937519\tvalid_1's auc: 0.884424\n",
      "[60]\ttraining's auc: 0.959866\tvalid_1's auc: 0.882841\n",
      "[80]\ttraining's auc: 0.97424\tvalid_1's auc: 0.881526\n",
      "[100]\ttraining's auc: 0.984085\tvalid_1's auc: 0.880815\n",
      "[120]\ttraining's auc: 0.989499\tvalid_1's auc: 0.878103\n",
      "[140]\ttraining's auc: 0.99329\tvalid_1's auc: 0.87659\n",
      "[160]\ttraining's auc: 0.995347\tvalid_1's auc: 0.87623\n",
      "[180]\ttraining's auc: 0.996552\tvalid_1's auc: 0.873012\n",
      "Early stopping, best iteration is:\n",
      "[41]\ttraining's auc: 0.938924\tvalid_1's auc: 0.884759\n",
      "Model 1 - Fold 3 finished in 0:00:02.091364\n",
      "Training on model 1 - fold 4\n",
      "Training until validation scores don't improve for 150 rounds\n",
      "[20]\ttraining's auc: 0.911066\tvalid_1's auc: 0.84703\n",
      "[40]\ttraining's auc: 0.940482\tvalid_1's auc: 0.857855\n",
      "[60]\ttraining's auc: 0.960872\tvalid_1's auc: 0.859129\n",
      "[80]\ttraining's auc: 0.974771\tvalid_1's auc: 0.85962\n",
      "[100]\ttraining's auc: 0.983732\tvalid_1's auc: 0.858736\n",
      "[120]\ttraining's auc: 0.989477\tvalid_1's auc: 0.859828\n",
      "[140]\ttraining's auc: 0.992826\tvalid_1's auc: 0.860342\n",
      "[160]\ttraining's auc: 0.995037\tvalid_1's auc: 0.858853\n",
      "[180]\ttraining's auc: 0.996455\tvalid_1's auc: 0.858804\n",
      "[200]\ttraining's auc: 0.997162\tvalid_1's auc: 0.859129\n",
      "[220]\ttraining's auc: 0.997668\tvalid_1's auc: 0.858123\n",
      "[240]\ttraining's auc: 0.99798\tvalid_1's auc: 0.858092\n",
      "[260]\ttraining's auc: 0.998287\tvalid_1's auc: 0.858047\n",
      "[280]\ttraining's auc: 0.998432\tvalid_1's auc: 0.857257\n",
      "Early stopping, best iteration is:\n",
      "[141]\ttraining's auc: 0.992922\tvalid_1's auc: 0.860659\n",
      "Model 1 - Fold 4 finished in 0:00:02.957355\n",
      "Training on model 1 - fold 5\n",
      "Training until validation scores don't improve for 150 rounds\n",
      "[20]\ttraining's auc: 0.915582\tvalid_1's auc: 0.850734\n",
      "[40]\ttraining's auc: 0.942367\tvalid_1's auc: 0.853722\n",
      "[60]\ttraining's auc: 0.963176\tvalid_1's auc: 0.850555\n",
      "[80]\ttraining's auc: 0.977665\tvalid_1's auc: 0.848686\n",
      "[100]\ttraining's auc: 0.986594\tvalid_1's auc: 0.847776\n",
      "[120]\ttraining's auc: 0.991673\tvalid_1's auc: 0.847763\n",
      "[140]\ttraining's auc: 0.994686\tvalid_1's auc: 0.847697\n"
     ]
    },
    {
     "name": "stderr",
     "output_type": "stream",
     "text": [
      "\n",
      "100%|██████████| 1/1 [00:11<00:00, 11.48s/it]\u001b[A\n",
      "100%|██████████| 2/2 [00:14<00:00,  7.40s/it]"
     ]
    },
    {
     "name": "stdout",
     "output_type": "stream",
     "text": [
      "[160]\ttraining's auc: 0.996156\tvalid_1's auc: 0.847594\n",
      "Early stopping, best iteration is:\n",
      "[26]\ttraining's auc: 0.924273\tvalid_1's auc: 0.854144\n",
      "Model 1 - Fold 5 finished in 0:00:02.102014\n",
      "done!\n"
     ]
    },
    {
     "name": "stderr",
     "output_type": "stream",
     "text": [
      "\n",
      "   INFO ->  featureNlp ops: [['url'], ['boilerplate']]\n",
      "   INFO ->  feature engineer: Count\n",
      "100%|██████████| 9/9 [00:00<00:00, 182.63it/s]\n",
      "   INFO ->  featureCount ops: [['alchemy_category', 'is_news'], ['alchemy_category', 'news_front_page'], ['is_news', 'alchemy_category'], ['is_news', 'news_front_page'], ['news_front_page', 'alchemy_category'], ['news_front_page', 'is_news'], ['alchemy_category'], ['is_news'], ['news_front_page']]\n",
      "   INFO ->  feature engineer: Rank\n",
      "100%|██████████| 1/1 [00:00<00:00, 31.69it/s]\n",
      "   INFO ->  featureRank ops: {'alchemy_category': {'urlid': ['rank'], 'avglinksize': ['rank'], 'commonlinkratio_1': ['rank'], 'commonlinkratio_2': ['rank'], 'commonlinkratio_3': ['rank'], 'commonlinkratio_4': ['rank'], 'compression_ratio': ['rank'], 'embed_ratio': ['rank'], 'framebased': ['rank'], 'frameTagRatio': ['rank'], 'hasDomainLink': ['rank'], 'html_ratio': ['rank'], 'image_ratio': ['rank'], 'lengthyLinkDomain': ['rank'], 'linkwordscore': ['rank'], 'non_markup_alphanum_characters': ['rank'], 'numberOfLinks': ['rank'], 'numwords_in_url': ['rank'], 'parametrizedLinkRatio': ['rank'], 'spelling_errors_ratio': ['rank'], 'label': ['rank'], 'boilerplate_meta_feature': ['rank'], 'url_meta_feature': ['rank'], 'boilerplate_transformed': ['rank'], 'url_transformed': ['rank']}}\n",
      "   INFO ->  ignore image feature\n",
      "100%|██████████| 31/31 [00:00<00:00, 2467.05it/s]\n",
      "   INFO ->  label_encoder_list: ['alchemy_category', 'alchemy_category_score', 'is_news', 'news_front_page']\n",
      "   INFO ->  ordinal_encoder_list: []\n",
      "   INFO ->  feature combination\n",
      "100%|██████████| 9/9 [00:00<00:00, 277.84it/s]\n",
      "   INFO ->  shape of FE_all: (7395, 737), shape of train: (4930, 737), shape of test: (2465, 737)\n",
      "   INFO ->  feature filter\n",
      "100%|██████████| 731/731 [00:01<00:00, 698.35it/s] \n",
      "   INFO ->  filtered features: ['urlid', 'label', 'framebased', 'boilerplate_meta_feature', 'url_meta_feature', 'alchemy_category__commonlinkratio_1__min', 'alchemy_category__commonlinkratio_2__min', 'alchemy_category__commonlinkratio_3__min', 'alchemy_category__commonlinkratio_4__min', 'alchemy_category__embed_ratio__min', 'alchemy_category__framebased__mean', 'alchemy_category__framebased__min', 'alchemy_category__framebased__max', 'alchemy_category__framebased__median', 'alchemy_category__framebased__std', 'alchemy_category__hasDomainLink__min', 'alchemy_category__hasDomainLink__median', 'alchemy_category__image_ratio__min', 'alchemy_category__is_news__nunique', 'alchemy_category__lengthyLinkDomain__min', 'alchemy_category__lengthyLinkDomain__max', 'alchemy_category__parametrizedLinkRatio__min', 'alchemy_category__label__rank', 'alchemy_category__boilerplate_meta_feature__rank', 'alchemy_category__url_meta_feature__rank', 'alchemy_category__framebased__shift__-30', 'alchemy_category__framebased__shift__-24', 'alchemy_category__framebased__shift__-7', 'alchemy_category__framebased__shift__-3', 'alchemy_category__framebased__shift__-2', 'alchemy_category__framebased__shift__-1', 'alchemy_category__framebased__shift__1', 'alchemy_category__framebased__shift__2', 'alchemy_category__framebased__shift__3', 'alchemy_category__framebased__shift__7', 'alchemy_category__framebased__shift__24', 'alchemy_category__framebased__shift__30', 'alchemy_category__boilerplate_meta_feature__shift__-30', 'alchemy_category__boilerplate_meta_feature__shift__-24', 'alchemy_category__boilerplate_meta_feature__shift__-7', 'alchemy_category__boilerplate_meta_feature__shift__-3', 'alchemy_category__boilerplate_meta_feature__shift__-2', 'alchemy_category__boilerplate_meta_feature__shift__-1', 'alchemy_category__url_meta_feature__shift__-30', 'alchemy_category__url_meta_feature__shift__-24', 'alchemy_category__url_meta_feature__shift__-7', 'alchemy_category__url_meta_feature__shift__-3', 'alchemy_category__url_meta_feature__shift__-2', 'alchemy_category__url_meta_feature__shift__-1', 'alchemy_category__framebased__diff__-30', 'alchemy_category__framebased__diff__-24', 'alchemy_category__framebased__diff__-7', 'alchemy_category__framebased__diff__-3', 'alchemy_category__framebased__diff__-2', 'alchemy_category__framebased__diff__-1', 'alchemy_category__framebased__diff__1', 'alchemy_category__framebased__diff__2', 'alchemy_category__framebased__diff__3', 'alchemy_category__framebased__diff__7', 'alchemy_category__framebased__diff__24', 'alchemy_category__framebased__diff__30', 'alchemy_category__boilerplate_meta_feature__diff__-30', 'alchemy_category__boilerplate_meta_feature__diff__-24', 'alchemy_category__boilerplate_meta_feature__diff__-7', 'alchemy_category__boilerplate_meta_feature__diff__-3', 'alchemy_category__boilerplate_meta_feature__diff__-2', 'alchemy_category__boilerplate_meta_feature__diff__-1', 'alchemy_category__boilerplate_meta_feature__diff__1', 'alchemy_category__boilerplate_meta_feature__diff__2', 'alchemy_category__boilerplate_meta_feature__diff__3', 'alchemy_category__boilerplate_meta_feature__diff__7', 'alchemy_category__boilerplate_meta_feature__diff__24', 'alchemy_category__boilerplate_meta_feature__diff__30', 'alchemy_category__url_meta_feature__diff__-30', 'alchemy_category__url_meta_feature__diff__-24', 'alchemy_category__url_meta_feature__diff__-7', 'alchemy_category__url_meta_feature__diff__-3', 'alchemy_category__url_meta_feature__diff__-2', 'alchemy_category__url_meta_feature__diff__-1', 'alchemy_category__url_meta_feature__diff__1', 'alchemy_category__url_meta_feature__diff__2', 'alchemy_category__url_meta_feature__diff__3', 'alchemy_category__url_meta_feature__diff__7', 'alchemy_category__url_meta_feature__diff__24', 'alchemy_category__url_meta_feature__diff__30']\n",
      "   INFO ->  used_features: ['avglinksize', 'commonlinkratio_1', 'commonlinkratio_2', 'commonlinkratio_3', 'commonlinkratio_4', 'compression_ratio', 'embed_ratio', 'frameTagRatio', 'hasDomainLink', 'html_ratio', 'image_ratio', 'lengthyLinkDomain', 'linkwordscore', 'non_markup_alphanum_characters', 'numberOfLinks', 'numwords_in_url', 'parametrizedLinkRatio', 'spelling_errors_ratio', 'boilerplate_transformed', 'url_transformed', 'url_nlp', 'boilerplate_nlp', 'COUNT_alchemy_category__is_news', 'COUNT_alchemy_category__news_front_page', 'COUNT_is_news__alchemy_category', 'COUNT_is_news__news_front_page', 'COUNT_news_front_page__alchemy_category', 'COUNT_news_front_page__is_news', 'COUNT_alchemy_category', 'COUNT_is_news', 'COUNT_news_front_page', 'alchemy_category__alchemy_category_score__nunique', 'alchemy_category__avglinksize__mean', 'alchemy_category__avglinksize__min', 'alchemy_category__avglinksize__max', 'alchemy_category__avglinksize__median', 'alchemy_category__avglinksize__std', 'alchemy_category__commonlinkratio_1__mean', 'alchemy_category__commonlinkratio_1__max', 'alchemy_category__commonlinkratio_1__median', 'alchemy_category__commonlinkratio_1__std', 'alchemy_category__commonlinkratio_2__mean', 'alchemy_category__commonlinkratio_2__max', 'alchemy_category__commonlinkratio_2__median', 'alchemy_category__commonlinkratio_2__std', 'alchemy_category__commonlinkratio_3__mean', 'alchemy_category__commonlinkratio_3__max', 'alchemy_category__commonlinkratio_3__median', 'alchemy_category__commonlinkratio_3__std', 'alchemy_category__commonlinkratio_4__mean', 'alchemy_category__commonlinkratio_4__max', 'alchemy_category__commonlinkratio_4__median', 'alchemy_category__commonlinkratio_4__std', 'alchemy_category__compression_ratio__mean', 'alchemy_category__compression_ratio__min', 'alchemy_category__compression_ratio__max', 'alchemy_category__compression_ratio__median', 'alchemy_category__compression_ratio__std', 'alchemy_category__embed_ratio__mean', 'alchemy_category__embed_ratio__max', 'alchemy_category__embed_ratio__median', 'alchemy_category__embed_ratio__std', 'alchemy_category__frameTagRatio__mean', 'alchemy_category__frameTagRatio__min', 'alchemy_category__frameTagRatio__max', 'alchemy_category__frameTagRatio__median', 'alchemy_category__frameTagRatio__std', 'alchemy_category__hasDomainLink__mean', 'alchemy_category__hasDomainLink__max', 'alchemy_category__hasDomainLink__std', 'alchemy_category__html_ratio__mean', 'alchemy_category__html_ratio__min', 'alchemy_category__html_ratio__max', 'alchemy_category__html_ratio__median', 'alchemy_category__html_ratio__std', 'alchemy_category__image_ratio__mean', 'alchemy_category__image_ratio__max', 'alchemy_category__image_ratio__median', 'alchemy_category__image_ratio__std', 'alchemy_category__lengthyLinkDomain__mean', 'alchemy_category__lengthyLinkDomain__median', 'alchemy_category__lengthyLinkDomain__std', 'alchemy_category__linkwordscore__mean', 'alchemy_category__linkwordscore__min', 'alchemy_category__linkwordscore__max', 'alchemy_category__linkwordscore__median', 'alchemy_category__linkwordscore__std', 'alchemy_category__news_front_page__nunique', 'alchemy_category__non_markup_alphanum_characters__mean', 'alchemy_category__non_markup_alphanum_characters__min', 'alchemy_category__non_markup_alphanum_characters__max', 'alchemy_category__non_markup_alphanum_characters__median', 'alchemy_category__non_markup_alphanum_characters__std', 'alchemy_category__numberOfLinks__mean', 'alchemy_category__numberOfLinks__min', 'alchemy_category__numberOfLinks__max', 'alchemy_category__numberOfLinks__median', 'alchemy_category__numberOfLinks__std', 'alchemy_category__numwords_in_url__mean', 'alchemy_category__numwords_in_url__min', 'alchemy_category__numwords_in_url__max', 'alchemy_category__numwords_in_url__median', 'alchemy_category__numwords_in_url__std', 'alchemy_category__parametrizedLinkRatio__mean', 'alchemy_category__parametrizedLinkRatio__max', 'alchemy_category__parametrizedLinkRatio__median', 'alchemy_category__parametrizedLinkRatio__std', 'alchemy_category__spelling_errors_ratio__mean', 'alchemy_category__spelling_errors_ratio__min', 'alchemy_category__spelling_errors_ratio__max', 'alchemy_category__spelling_errors_ratio__median', 'alchemy_category__spelling_errors_ratio__std', 'alchemy_category__boilerplate_meta_feature__mean', 'alchemy_category__boilerplate_meta_feature__min', 'alchemy_category__boilerplate_meta_feature__max', 'alchemy_category__boilerplate_meta_feature__median', 'alchemy_category__boilerplate_meta_feature__std', 'alchemy_category__url_meta_feature__mean', 'alchemy_category__url_meta_feature__min', 'alchemy_category__url_meta_feature__max', 'alchemy_category__url_meta_feature__median', 'alchemy_category__url_meta_feature__std', 'alchemy_category__boilerplate_transformed__mean', 'alchemy_category__boilerplate_transformed__min', 'alchemy_category__boilerplate_transformed__max', 'alchemy_category__boilerplate_transformed__median', 'alchemy_category__boilerplate_transformed__std', 'alchemy_category__url_transformed__mean', 'alchemy_category__url_transformed__min', 'alchemy_category__url_transformed__max', 'alchemy_category__url_transformed__median', 'alchemy_category__url_transformed__std', 'alchemy_category__urlid__rank', 'alchemy_category__avglinksize__rank', 'alchemy_category__commonlinkratio_1__rank', 'alchemy_category__commonlinkratio_2__rank', 'alchemy_category__commonlinkratio_3__rank', 'alchemy_category__commonlinkratio_4__rank', 'alchemy_category__compression_ratio__rank', 'alchemy_category__embed_ratio__rank', 'alchemy_category__framebased__rank', 'alchemy_category__frameTagRatio__rank', 'alchemy_category__hasDomainLink__rank', 'alchemy_category__html_ratio__rank', 'alchemy_category__image_ratio__rank', 'alchemy_category__lengthyLinkDomain__rank', 'alchemy_category__linkwordscore__rank', 'alchemy_category__non_markup_alphanum_characters__rank', 'alchemy_category__numberOfLinks__rank', 'alchemy_category__numwords_in_url__rank', 'alchemy_category__parametrizedLinkRatio__rank', 'alchemy_category__spelling_errors_ratio__rank', 'alchemy_category__boilerplate_transformed__rank', 'alchemy_category__url_transformed__rank', 'alchemy_category__avglinksize__shift__-30', 'alchemy_category__avglinksize__shift__-24', 'alchemy_category__avglinksize__shift__-7', 'alchemy_category__avglinksize__shift__-3', 'alchemy_category__avglinksize__shift__-2', 'alchemy_category__avglinksize__shift__-1', 'alchemy_category__avglinksize__shift__1', 'alchemy_category__avglinksize__shift__2', 'alchemy_category__avglinksize__shift__3', 'alchemy_category__avglinksize__shift__7', 'alchemy_category__avglinksize__shift__24', 'alchemy_category__avglinksize__shift__30', 'alchemy_category__commonlinkratio_1__shift__-30', 'alchemy_category__commonlinkratio_1__shift__-24', 'alchemy_category__commonlinkratio_1__shift__-7', 'alchemy_category__commonlinkratio_1__shift__-3', 'alchemy_category__commonlinkratio_1__shift__-2', 'alchemy_category__commonlinkratio_1__shift__-1', 'alchemy_category__commonlinkratio_1__shift__1', 'alchemy_category__commonlinkratio_1__shift__2', 'alchemy_category__commonlinkratio_1__shift__3', 'alchemy_category__commonlinkratio_1__shift__7', 'alchemy_category__commonlinkratio_1__shift__24', 'alchemy_category__commonlinkratio_1__shift__30', 'alchemy_category__commonlinkratio_2__shift__-30', 'alchemy_category__commonlinkratio_2__shift__-24', 'alchemy_category__commonlinkratio_2__shift__-7', 'alchemy_category__commonlinkratio_2__shift__-3', 'alchemy_category__commonlinkratio_2__shift__-2', 'alchemy_category__commonlinkratio_2__shift__-1', 'alchemy_category__commonlinkratio_2__shift__1', 'alchemy_category__commonlinkratio_2__shift__2', 'alchemy_category__commonlinkratio_2__shift__3', 'alchemy_category__commonlinkratio_2__shift__7', 'alchemy_category__commonlinkratio_2__shift__24', 'alchemy_category__commonlinkratio_2__shift__30', 'alchemy_category__commonlinkratio_3__shift__-30', 'alchemy_category__commonlinkratio_3__shift__-24', 'alchemy_category__commonlinkratio_3__shift__-7', 'alchemy_category__commonlinkratio_3__shift__-3', 'alchemy_category__commonlinkratio_3__shift__-2', 'alchemy_category__commonlinkratio_3__shift__-1', 'alchemy_category__commonlinkratio_3__shift__1', 'alchemy_category__commonlinkratio_3__shift__2', 'alchemy_category__commonlinkratio_3__shift__3', 'alchemy_category__commonlinkratio_3__shift__7', 'alchemy_category__commonlinkratio_3__shift__24', 'alchemy_category__commonlinkratio_3__shift__30', 'alchemy_category__commonlinkratio_4__shift__-30', 'alchemy_category__commonlinkratio_4__shift__-24', 'alchemy_category__commonlinkratio_4__shift__-7', 'alchemy_category__commonlinkratio_4__shift__-3', 'alchemy_category__commonlinkratio_4__shift__-2', 'alchemy_category__commonlinkratio_4__shift__-1', 'alchemy_category__commonlinkratio_4__shift__1', 'alchemy_category__commonlinkratio_4__shift__2', 'alchemy_category__commonlinkratio_4__shift__3', 'alchemy_category__commonlinkratio_4__shift__7', 'alchemy_category__commonlinkratio_4__shift__24', 'alchemy_category__commonlinkratio_4__shift__30', 'alchemy_category__compression_ratio__shift__-30', 'alchemy_category__compression_ratio__shift__-24', 'alchemy_category__compression_ratio__shift__-7', 'alchemy_category__compression_ratio__shift__-3', 'alchemy_category__compression_ratio__shift__-2', 'alchemy_category__compression_ratio__shift__-1', 'alchemy_category__compression_ratio__shift__1', 'alchemy_category__compression_ratio__shift__2', 'alchemy_category__compression_ratio__shift__3', 'alchemy_category__compression_ratio__shift__7', 'alchemy_category__compression_ratio__shift__24', 'alchemy_category__compression_ratio__shift__30', 'alchemy_category__embed_ratio__shift__-30', 'alchemy_category__embed_ratio__shift__-24', 'alchemy_category__embed_ratio__shift__-7', 'alchemy_category__embed_ratio__shift__-3', 'alchemy_category__embed_ratio__shift__-2', 'alchemy_category__embed_ratio__shift__-1', 'alchemy_category__embed_ratio__shift__1', 'alchemy_category__embed_ratio__shift__2', 'alchemy_category__embed_ratio__shift__3', 'alchemy_category__embed_ratio__shift__7', 'alchemy_category__embed_ratio__shift__24', 'alchemy_category__embed_ratio__shift__30', 'alchemy_category__frameTagRatio__shift__-30', 'alchemy_category__frameTagRatio__shift__-24', 'alchemy_category__frameTagRatio__shift__-7', 'alchemy_category__frameTagRatio__shift__-3', 'alchemy_category__frameTagRatio__shift__-2', 'alchemy_category__frameTagRatio__shift__-1', 'alchemy_category__frameTagRatio__shift__1', 'alchemy_category__frameTagRatio__shift__2', 'alchemy_category__frameTagRatio__shift__3', 'alchemy_category__frameTagRatio__shift__7', 'alchemy_category__frameTagRatio__shift__24', 'alchemy_category__frameTagRatio__shift__30', 'alchemy_category__hasDomainLink__shift__-30', 'alchemy_category__hasDomainLink__shift__-24', 'alchemy_category__hasDomainLink__shift__-7', 'alchemy_category__hasDomainLink__shift__-3', 'alchemy_category__hasDomainLink__shift__-2', 'alchemy_category__hasDomainLink__shift__-1', 'alchemy_category__hasDomainLink__shift__1', 'alchemy_category__hasDomainLink__shift__2', 'alchemy_category__hasDomainLink__shift__3', 'alchemy_category__hasDomainLink__shift__7', 'alchemy_category__hasDomainLink__shift__24', 'alchemy_category__hasDomainLink__shift__30', 'alchemy_category__html_ratio__shift__-30', 'alchemy_category__html_ratio__shift__-24', 'alchemy_category__html_ratio__shift__-7', 'alchemy_category__html_ratio__shift__-3', 'alchemy_category__html_ratio__shift__-2', 'alchemy_category__html_ratio__shift__-1', 'alchemy_category__html_ratio__shift__1', 'alchemy_category__html_ratio__shift__2', 'alchemy_category__html_ratio__shift__3', 'alchemy_category__html_ratio__shift__7', 'alchemy_category__html_ratio__shift__24', 'alchemy_category__html_ratio__shift__30', 'alchemy_category__image_ratio__shift__-30', 'alchemy_category__image_ratio__shift__-24', 'alchemy_category__image_ratio__shift__-7', 'alchemy_category__image_ratio__shift__-3', 'alchemy_category__image_ratio__shift__-2', 'alchemy_category__image_ratio__shift__-1', 'alchemy_category__image_ratio__shift__1', 'alchemy_category__image_ratio__shift__2', 'alchemy_category__image_ratio__shift__3', 'alchemy_category__image_ratio__shift__7', 'alchemy_category__image_ratio__shift__24', 'alchemy_category__image_ratio__shift__30', 'alchemy_category__lengthyLinkDomain__shift__-30', 'alchemy_category__lengthyLinkDomain__shift__-24', 'alchemy_category__lengthyLinkDomain__shift__-7', 'alchemy_category__lengthyLinkDomain__shift__-3', 'alchemy_category__lengthyLinkDomain__shift__-2', 'alchemy_category__lengthyLinkDomain__shift__-1', 'alchemy_category__lengthyLinkDomain__shift__1', 'alchemy_category__lengthyLinkDomain__shift__2', 'alchemy_category__lengthyLinkDomain__shift__3', 'alchemy_category__lengthyLinkDomain__shift__7', 'alchemy_category__lengthyLinkDomain__shift__24', 'alchemy_category__lengthyLinkDomain__shift__30', 'alchemy_category__linkwordscore__shift__-30', 'alchemy_category__linkwordscore__shift__-24', 'alchemy_category__linkwordscore__shift__-7', 'alchemy_category__linkwordscore__shift__-3', 'alchemy_category__linkwordscore__shift__-2', 'alchemy_category__linkwordscore__shift__-1', 'alchemy_category__linkwordscore__shift__1', 'alchemy_category__linkwordscore__shift__2', 'alchemy_category__linkwordscore__shift__3', 'alchemy_category__linkwordscore__shift__7', 'alchemy_category__linkwordscore__shift__24', 'alchemy_category__linkwordscore__shift__30', 'alchemy_category__non_markup_alphanum_characters__shift__-30', 'alchemy_category__non_markup_alphanum_characters__shift__-24', 'alchemy_category__non_markup_alphanum_characters__shift__-7', 'alchemy_category__non_markup_alphanum_characters__shift__-3', 'alchemy_category__non_markup_alphanum_characters__shift__-2', 'alchemy_category__non_markup_alphanum_characters__shift__-1', 'alchemy_category__non_markup_alphanum_characters__shift__1', 'alchemy_category__non_markup_alphanum_characters__shift__2', 'alchemy_category__non_markup_alphanum_characters__shift__3', 'alchemy_category__non_markup_alphanum_characters__shift__7', 'alchemy_category__non_markup_alphanum_characters__shift__24', 'alchemy_category__non_markup_alphanum_characters__shift__30', 'alchemy_category__numberOfLinks__shift__-30', 'alchemy_category__numberOfLinks__shift__-24', 'alchemy_category__numberOfLinks__shift__-7', 'alchemy_category__numberOfLinks__shift__-3', 'alchemy_category__numberOfLinks__shift__-2', 'alchemy_category__numberOfLinks__shift__-1', 'alchemy_category__numberOfLinks__shift__1', 'alchemy_category__numberOfLinks__shift__2', 'alchemy_category__numberOfLinks__shift__3', 'alchemy_category__numberOfLinks__shift__7', 'alchemy_category__numberOfLinks__shift__24', 'alchemy_category__numberOfLinks__shift__30', 'alchemy_category__numwords_in_url__shift__-30', 'alchemy_category__numwords_in_url__shift__-24', 'alchemy_category__numwords_in_url__shift__-7', 'alchemy_category__numwords_in_url__shift__-3', 'alchemy_category__numwords_in_url__shift__-2', 'alchemy_category__numwords_in_url__shift__-1', 'alchemy_category__numwords_in_url__shift__1', 'alchemy_category__numwords_in_url__shift__2', 'alchemy_category__numwords_in_url__shift__3', 'alchemy_category__numwords_in_url__shift__7', 'alchemy_category__numwords_in_url__shift__24', 'alchemy_category__numwords_in_url__shift__30', 'alchemy_category__parametrizedLinkRatio__shift__-30', 'alchemy_category__parametrizedLinkRatio__shift__-24', 'alchemy_category__parametrizedLinkRatio__shift__-7', 'alchemy_category__parametrizedLinkRatio__shift__-3', 'alchemy_category__parametrizedLinkRatio__shift__-2', 'alchemy_category__parametrizedLinkRatio__shift__-1', 'alchemy_category__parametrizedLinkRatio__shift__1', 'alchemy_category__parametrizedLinkRatio__shift__2', 'alchemy_category__parametrizedLinkRatio__shift__3', 'alchemy_category__parametrizedLinkRatio__shift__7', 'alchemy_category__parametrizedLinkRatio__shift__24', 'alchemy_category__parametrizedLinkRatio__shift__30', 'alchemy_category__spelling_errors_ratio__shift__-30', 'alchemy_category__spelling_errors_ratio__shift__-24', 'alchemy_category__spelling_errors_ratio__shift__-7', 'alchemy_category__spelling_errors_ratio__shift__-3', 'alchemy_category__spelling_errors_ratio__shift__-2', 'alchemy_category__spelling_errors_ratio__shift__-1', 'alchemy_category__spelling_errors_ratio__shift__1', 'alchemy_category__spelling_errors_ratio__shift__2', 'alchemy_category__spelling_errors_ratio__shift__3', 'alchemy_category__spelling_errors_ratio__shift__7', 'alchemy_category__spelling_errors_ratio__shift__24', 'alchemy_category__spelling_errors_ratio__shift__30', 'alchemy_category__boilerplate_meta_feature__shift__1', 'alchemy_category__boilerplate_meta_feature__shift__2', 'alchemy_category__boilerplate_meta_feature__shift__3', 'alchemy_category__boilerplate_meta_feature__shift__7', 'alchemy_category__boilerplate_meta_feature__shift__24', 'alchemy_category__boilerplate_meta_feature__shift__30', 'alchemy_category__url_meta_feature__shift__1', 'alchemy_category__url_meta_feature__shift__2', 'alchemy_category__url_meta_feature__shift__3', 'alchemy_category__url_meta_feature__shift__7', 'alchemy_category__url_meta_feature__shift__24', 'alchemy_category__url_meta_feature__shift__30', 'alchemy_category__boilerplate_transformed__shift__-30', 'alchemy_category__boilerplate_transformed__shift__-24', 'alchemy_category__boilerplate_transformed__shift__-7', 'alchemy_category__boilerplate_transformed__shift__-3', 'alchemy_category__boilerplate_transformed__shift__-2', 'alchemy_category__boilerplate_transformed__shift__-1', 'alchemy_category__boilerplate_transformed__shift__1', 'alchemy_category__boilerplate_transformed__shift__2', 'alchemy_category__boilerplate_transformed__shift__3', 'alchemy_category__boilerplate_transformed__shift__7', 'alchemy_category__boilerplate_transformed__shift__24', 'alchemy_category__boilerplate_transformed__shift__30', 'alchemy_category__url_transformed__shift__-30', 'alchemy_category__url_transformed__shift__-24', 'alchemy_category__url_transformed__shift__-7', 'alchemy_category__url_transformed__shift__-3', 'alchemy_category__url_transformed__shift__-2', 'alchemy_category__url_transformed__shift__-1', 'alchemy_category__url_transformed__shift__1', 'alchemy_category__url_transformed__shift__2', 'alchemy_category__url_transformed__shift__3', 'alchemy_category__url_transformed__shift__7', 'alchemy_category__url_transformed__shift__24', 'alchemy_category__url_transformed__shift__30', 'alchemy_category__avglinksize__diff__-30', 'alchemy_category__avglinksize__diff__-24', 'alchemy_category__avglinksize__diff__-7', 'alchemy_category__avglinksize__diff__-3', 'alchemy_category__avglinksize__diff__-2', 'alchemy_category__avglinksize__diff__-1', 'alchemy_category__avglinksize__diff__1', 'alchemy_category__avglinksize__diff__2', 'alchemy_category__avglinksize__diff__3', 'alchemy_category__avglinksize__diff__7', 'alchemy_category__avglinksize__diff__24', 'alchemy_category__avglinksize__diff__30', 'alchemy_category__commonlinkratio_1__diff__-30', 'alchemy_category__commonlinkratio_1__diff__-24', 'alchemy_category__commonlinkratio_1__diff__-7', 'alchemy_category__commonlinkratio_1__diff__-3', 'alchemy_category__commonlinkratio_1__diff__-2', 'alchemy_category__commonlinkratio_1__diff__-1', 'alchemy_category__commonlinkratio_1__diff__1', 'alchemy_category__commonlinkratio_1__diff__2', 'alchemy_category__commonlinkratio_1__diff__3', 'alchemy_category__commonlinkratio_1__diff__7', 'alchemy_category__commonlinkratio_1__diff__24', 'alchemy_category__commonlinkratio_1__diff__30', 'alchemy_category__commonlinkratio_2__diff__-30', 'alchemy_category__commonlinkratio_2__diff__-24', 'alchemy_category__commonlinkratio_2__diff__-7', 'alchemy_category__commonlinkratio_2__diff__-3', 'alchemy_category__commonlinkratio_2__diff__-2', 'alchemy_category__commonlinkratio_2__diff__-1', 'alchemy_category__commonlinkratio_2__diff__1', 'alchemy_category__commonlinkratio_2__diff__2', 'alchemy_category__commonlinkratio_2__diff__3', 'alchemy_category__commonlinkratio_2__diff__7', 'alchemy_category__commonlinkratio_2__diff__24', 'alchemy_category__commonlinkratio_2__diff__30', 'alchemy_category__commonlinkratio_3__diff__-30', 'alchemy_category__commonlinkratio_3__diff__-24', 'alchemy_category__commonlinkratio_3__diff__-7', 'alchemy_category__commonlinkratio_3__diff__-3', 'alchemy_category__commonlinkratio_3__diff__-2', 'alchemy_category__commonlinkratio_3__diff__-1', 'alchemy_category__commonlinkratio_3__diff__1', 'alchemy_category__commonlinkratio_3__diff__2', 'alchemy_category__commonlinkratio_3__diff__3', 'alchemy_category__commonlinkratio_3__diff__7', 'alchemy_category__commonlinkratio_3__diff__24', 'alchemy_category__commonlinkratio_3__diff__30', 'alchemy_category__commonlinkratio_4__diff__-30', 'alchemy_category__commonlinkratio_4__diff__-24', 'alchemy_category__commonlinkratio_4__diff__-7', 'alchemy_category__commonlinkratio_4__diff__-3', 'alchemy_category__commonlinkratio_4__diff__-2', 'alchemy_category__commonlinkratio_4__diff__-1', 'alchemy_category__commonlinkratio_4__diff__1', 'alchemy_category__commonlinkratio_4__diff__2', 'alchemy_category__commonlinkratio_4__diff__3', 'alchemy_category__commonlinkratio_4__diff__7', 'alchemy_category__commonlinkratio_4__diff__24', 'alchemy_category__commonlinkratio_4__diff__30', 'alchemy_category__compression_ratio__diff__-30', 'alchemy_category__compression_ratio__diff__-24', 'alchemy_category__compression_ratio__diff__-7', 'alchemy_category__compression_ratio__diff__-3', 'alchemy_category__compression_ratio__diff__-2', 'alchemy_category__compression_ratio__diff__-1', 'alchemy_category__compression_ratio__diff__1', 'alchemy_category__compression_ratio__diff__2', 'alchemy_category__compression_ratio__diff__3', 'alchemy_category__compression_ratio__diff__7', 'alchemy_category__compression_ratio__diff__24', 'alchemy_category__compression_ratio__diff__30', 'alchemy_category__embed_ratio__diff__-30', 'alchemy_category__embed_ratio__diff__-24', 'alchemy_category__embed_ratio__diff__-7', 'alchemy_category__embed_ratio__diff__-3', 'alchemy_category__embed_ratio__diff__-2', 'alchemy_category__embed_ratio__diff__-1', 'alchemy_category__embed_ratio__diff__1', 'alchemy_category__embed_ratio__diff__2', 'alchemy_category__embed_ratio__diff__3', 'alchemy_category__embed_ratio__diff__7', 'alchemy_category__embed_ratio__diff__24', 'alchemy_category__embed_ratio__diff__30', 'alchemy_category__frameTagRatio__diff__-30', 'alchemy_category__frameTagRatio__diff__-24', 'alchemy_category__frameTagRatio__diff__-7', 'alchemy_category__frameTagRatio__diff__-3', 'alchemy_category__frameTagRatio__diff__-2', 'alchemy_category__frameTagRatio__diff__-1', 'alchemy_category__frameTagRatio__diff__1', 'alchemy_category__frameTagRatio__diff__2', 'alchemy_category__frameTagRatio__diff__3', 'alchemy_category__frameTagRatio__diff__7', 'alchemy_category__frameTagRatio__diff__24', 'alchemy_category__frameTagRatio__diff__30', 'alchemy_category__hasDomainLink__diff__-30', 'alchemy_category__hasDomainLink__diff__-24', 'alchemy_category__hasDomainLink__diff__-7', 'alchemy_category__hasDomainLink__diff__-3', 'alchemy_category__hasDomainLink__diff__-2', 'alchemy_category__hasDomainLink__diff__-1', 'alchemy_category__hasDomainLink__diff__1', 'alchemy_category__hasDomainLink__diff__2', 'alchemy_category__hasDomainLink__diff__3', 'alchemy_category__hasDomainLink__diff__7', 'alchemy_category__hasDomainLink__diff__24', 'alchemy_category__hasDomainLink__diff__30', 'alchemy_category__html_ratio__diff__-30', 'alchemy_category__html_ratio__diff__-24', 'alchemy_category__html_ratio__diff__-7', 'alchemy_category__html_ratio__diff__-3', 'alchemy_category__html_ratio__diff__-2', 'alchemy_category__html_ratio__diff__-1', 'alchemy_category__html_ratio__diff__1', 'alchemy_category__html_ratio__diff__2', 'alchemy_category__html_ratio__diff__3', 'alchemy_category__html_ratio__diff__7', 'alchemy_category__html_ratio__diff__24', 'alchemy_category__html_ratio__diff__30', 'alchemy_category__image_ratio__diff__-30', 'alchemy_category__image_ratio__diff__-24', 'alchemy_category__image_ratio__diff__-7', 'alchemy_category__image_ratio__diff__-3', 'alchemy_category__image_ratio__diff__-2', 'alchemy_category__image_ratio__diff__-1', 'alchemy_category__image_ratio__diff__1', 'alchemy_category__image_ratio__diff__2', 'alchemy_category__image_ratio__diff__3', 'alchemy_category__image_ratio__diff__7', 'alchemy_category__image_ratio__diff__24', 'alchemy_category__image_ratio__diff__30', 'alchemy_category__lengthyLinkDomain__diff__-30', 'alchemy_category__lengthyLinkDomain__diff__-24', 'alchemy_category__lengthyLinkDomain__diff__-7', 'alchemy_category__lengthyLinkDomain__diff__-3', 'alchemy_category__lengthyLinkDomain__diff__-2', 'alchemy_category__lengthyLinkDomain__diff__-1', 'alchemy_category__lengthyLinkDomain__diff__1', 'alchemy_category__lengthyLinkDomain__diff__2', 'alchemy_category__lengthyLinkDomain__diff__3', 'alchemy_category__lengthyLinkDomain__diff__7', 'alchemy_category__lengthyLinkDomain__diff__24', 'alchemy_category__lengthyLinkDomain__diff__30', 'alchemy_category__linkwordscore__diff__-30', 'alchemy_category__linkwordscore__diff__-24', 'alchemy_category__linkwordscore__diff__-7', 'alchemy_category__linkwordscore__diff__-3', 'alchemy_category__linkwordscore__diff__-2', 'alchemy_category__linkwordscore__diff__-1', 'alchemy_category__linkwordscore__diff__1', 'alchemy_category__linkwordscore__diff__2', 'alchemy_category__linkwordscore__diff__3', 'alchemy_category__linkwordscore__diff__7', 'alchemy_category__linkwordscore__diff__24', 'alchemy_category__linkwordscore__diff__30', 'alchemy_category__non_markup_alphanum_characters__diff__-30', 'alchemy_category__non_markup_alphanum_characters__diff__-24', 'alchemy_category__non_markup_alphanum_characters__diff__-7', 'alchemy_category__non_markup_alphanum_characters__diff__-3', 'alchemy_category__non_markup_alphanum_characters__diff__-2', 'alchemy_category__non_markup_alphanum_characters__diff__-1', 'alchemy_category__non_markup_alphanum_characters__diff__1', 'alchemy_category__non_markup_alphanum_characters__diff__2', 'alchemy_category__non_markup_alphanum_characters__diff__3', 'alchemy_category__non_markup_alphanum_characters__diff__7', 'alchemy_category__non_markup_alphanum_characters__diff__24', 'alchemy_category__non_markup_alphanum_characters__diff__30', 'alchemy_category__numberOfLinks__diff__-30', 'alchemy_category__numberOfLinks__diff__-24', 'alchemy_category__numberOfLinks__diff__-7', 'alchemy_category__numberOfLinks__diff__-3', 'alchemy_category__numberOfLinks__diff__-2', 'alchemy_category__numberOfLinks__diff__-1', 'alchemy_category__numberOfLinks__diff__1', 'alchemy_category__numberOfLinks__diff__2', 'alchemy_category__numberOfLinks__diff__3', 'alchemy_category__numberOfLinks__diff__7', 'alchemy_category__numberOfLinks__diff__24', 'alchemy_category__numberOfLinks__diff__30', 'alchemy_category__numwords_in_url__diff__-30', 'alchemy_category__numwords_in_url__diff__-24', 'alchemy_category__numwords_in_url__diff__-7', 'alchemy_category__numwords_in_url__diff__-3', 'alchemy_category__numwords_in_url__diff__-2', 'alchemy_category__numwords_in_url__diff__-1', 'alchemy_category__numwords_in_url__diff__1', 'alchemy_category__numwords_in_url__diff__2', 'alchemy_category__numwords_in_url__diff__3', 'alchemy_category__numwords_in_url__diff__7', 'alchemy_category__numwords_in_url__diff__24', 'alchemy_category__numwords_in_url__diff__30', 'alchemy_category__parametrizedLinkRatio__diff__-30', 'alchemy_category__parametrizedLinkRatio__diff__-24', 'alchemy_category__parametrizedLinkRatio__diff__-7', 'alchemy_category__parametrizedLinkRatio__diff__-3', 'alchemy_category__parametrizedLinkRatio__diff__-2', 'alchemy_category__parametrizedLinkRatio__diff__-1', 'alchemy_category__parametrizedLinkRatio__diff__1', 'alchemy_category__parametrizedLinkRatio__diff__2', 'alchemy_category__parametrizedLinkRatio__diff__3', 'alchemy_category__parametrizedLinkRatio__diff__7', 'alchemy_category__parametrizedLinkRatio__diff__24', 'alchemy_category__parametrizedLinkRatio__diff__30', 'alchemy_category__spelling_errors_ratio__diff__-30', 'alchemy_category__spelling_errors_ratio__diff__-24', 'alchemy_category__spelling_errors_ratio__diff__-7', 'alchemy_category__spelling_errors_ratio__diff__-3', 'alchemy_category__spelling_errors_ratio__diff__-2', 'alchemy_category__spelling_errors_ratio__diff__-1', 'alchemy_category__spelling_errors_ratio__diff__1', 'alchemy_category__spelling_errors_ratio__diff__2', 'alchemy_category__spelling_errors_ratio__diff__3', 'alchemy_category__spelling_errors_ratio__diff__7', 'alchemy_category__spelling_errors_ratio__diff__24', 'alchemy_category__spelling_errors_ratio__diff__30', 'alchemy_category__boilerplate_transformed__diff__-30', 'alchemy_category__boilerplate_transformed__diff__-24', 'alchemy_category__boilerplate_transformed__diff__-7', 'alchemy_category__boilerplate_transformed__diff__-3', 'alchemy_category__boilerplate_transformed__diff__-2', 'alchemy_category__boilerplate_transformed__diff__-1', 'alchemy_category__boilerplate_transformed__diff__1', 'alchemy_category__boilerplate_transformed__diff__2', 'alchemy_category__boilerplate_transformed__diff__3', 'alchemy_category__boilerplate_transformed__diff__7', 'alchemy_category__boilerplate_transformed__diff__24', 'alchemy_category__boilerplate_transformed__diff__30', 'alchemy_category__url_transformed__diff__-30', 'alchemy_category__url_transformed__diff__-24', 'alchemy_category__url_transformed__diff__-7', 'alchemy_category__url_transformed__diff__-3', 'alchemy_category__url_transformed__diff__-2', 'alchemy_category__url_transformed__diff__-1', 'alchemy_category__url_transformed__diff__1', 'alchemy_category__url_transformed__diff__2', 'alchemy_category__url_transformed__diff__3', 'alchemy_category__url_transformed__diff__7', 'alchemy_category__url_transformed__diff__24', 'alchemy_category__url_transformed__diff__30']\n",
      "   INFO ->  start training lightgbm model\n",
      "   INFO ->  (4930, 646)\n"
     ]
    },
    {
     "name": "stdout",
     "output_type": "stream",
     "text": [
      "Training on fold 1\n",
      "Training until validation scores don't improve for 150 rounds\n",
      "[100]\ttraining's auc: 0.931358\tvalid_1's auc: 0.846813\n",
      "[200]\ttraining's auc: 0.946367\tvalid_1's auc: 0.848697\n",
      "[300]\ttraining's auc: 0.961227\tvalid_1's auc: 0.849934\n",
      "[400]\ttraining's auc: 0.973498\tvalid_1's auc: 0.849699\n",
      "Early stopping, best iteration is:\n",
      "[346]\ttraining's auc: 0.967463\tvalid_1's auc: 0.850573\n",
      "AUC: 0.8505731486063004\n",
      "Fold 1 finished in 0:00:02.171296\n",
      "Training on fold 2\n",
      "Training until validation scores don't improve for 150 rounds\n",
      "[100]\ttraining's auc: 0.932475\tvalid_1's auc: 0.852937\n",
      "[200]\ttraining's auc: 0.947507\tvalid_1's auc: 0.853485\n",
      "[300]\ttraining's auc: 0.96198\tvalid_1's auc: 0.854004\n",
      "Early stopping, best iteration is:\n",
      "[150]\ttraining's auc: 0.939611\tvalid_1's auc: 0.854457\n",
      "AUC: 0.8544570769484263\n",
      "Fold 2 finished in 0:00:01.410992\n",
      "Training on fold 3\n",
      "Training until validation scores don't improve for 150 rounds\n",
      "[100]\ttraining's auc: 0.925991\tvalid_1's auc: 0.880538\n",
      "[200]\ttraining's auc: 0.943784\tvalid_1's auc: 0.882378\n",
      "[300]\ttraining's auc: 0.959309\tvalid_1's auc: 0.882853\n",
      "[400]\ttraining's auc: 0.97068\tvalid_1's auc: 0.881592\n",
      "Early stopping, best iteration is:\n",
      "[292]\ttraining's auc: 0.95823\tvalid_1's auc: 0.883167\n",
      "AUC: 0.8831673508534765\n",
      "Fold 3 finished in 0:00:01.906971\n",
      "Training on fold 4\n",
      "Training until validation scores don't improve for 150 rounds\n",
      "[100]\ttraining's auc: 0.93226\tvalid_1's auc: 0.853461\n",
      "[200]\ttraining's auc: 0.948224\tvalid_1's auc: 0.854769\n",
      "[300]\ttraining's auc: 0.962244\tvalid_1's auc: 0.855033\n",
      "Early stopping, best iteration is:\n",
      "[164]\ttraining's auc: 0.942111\tvalid_1's auc: 0.855354\n",
      "AUC: 0.8553536749942398\n",
      "Fold 4 finished in 0:00:01.460377\n",
      "Training on fold 5\n",
      "Training until validation scores don't improve for 150 rounds\n",
      "[100]\ttraining's auc: 0.93188\tvalid_1's auc: 0.851831\n"
     ]
    },
    {
     "name": "stderr",
     "output_type": "stream",
     "text": [
      "   INFO ->  feature importance\n",
      "   INFO ->                                               feature  fold_1  fold_2  fold_3  \\\n",
      "0                                    boilerplate_nlp     723     346     605   \n",
      "1                                            url_nlp     171     109     188   \n",
      "2        alchemy_category__numwords_in_url__shift__3      73      30     103   \n",
      "3       alchemy_category__commonlinkratio_4__diff__1     121      15      85   \n",
      "4         alchemy_category__frameTagRatio__diff__-24      62      38      69   \n",
      "..                                               ...     ...     ...     ...   \n",
      "641   alchemy_category__boilerplate_transformed__max       0       0       0   \n",
      "642               alchemy_category__framebased__rank       0       0       0   \n",
      "643  alchemy_category__boilerplate_transformed__rank       0       0       0   \n",
      "644          alchemy_category__url_transformed__rank       0       0       0   \n",
      "645      alchemy_category__url_transformed__diff__30       0       0       0   \n",
      "\n",
      "     fold_4  fold_5  average  \n",
      "0       393     157    444.8  \n",
      "1       152      71    138.2  \n",
      "2        55      23     56.8  \n",
      "3        37      14     54.4  \n",
      "4        38       4     42.2  \n",
      "..      ...     ...      ...  \n",
      "641       0       0      0.0  \n",
      "642       0       0      0.0  \n",
      "643       0       0      0.0  \n",
      "644       0       0      0.0  \n",
      "645       0       0      0.0  \n",
      "\n",
      "[646 rows x 7 columns]\n",
      "   INFO ->  start training xgboost model\n",
      "   INFO ->  (4930, 646)\n"
     ]
    },
    {
     "name": "stdout",
     "output_type": "stream",
     "text": [
      "[200]\ttraining's auc: 0.949361\tvalid_1's auc: 0.850447\n",
      "Early stopping, best iteration is:\n",
      "[55]\ttraining's auc: 0.923593\tvalid_1's auc: 0.853508\n",
      "AUC: 0.853507551135871\n",
      "Fold 5 finished in 0:00:01.032491\n",
      "Training on fold 1\n",
      "AUC: 0.8713410819531789\n",
      "Fold 1 finished in 1:10:18.708394\n",
      "Training on fold 2\n",
      "AUC: 0.874098943418584\n",
      "Fold 2 finished in 1:12:05.623520\n",
      "Training on fold 3\n",
      "AUC: 0.876750700280112\n",
      "Fold 3 finished in 1:08:24.497337\n",
      "Training on fold 4\n",
      "AUC: 0.8558518518518519\n",
      "Fold 4 finished in 1:07:16.891939\n",
      "Training on fold 5\n",
      "AUC: 0.8674698795180722\n",
      "Fold 5 finished in 1:09:02.098713\n",
      "Training on fold 6\n",
      "AUC: 0.8406487917907978\n",
      "Fold 6 finished in 1:07:50.701779\n",
      "Training on fold 7\n",
      "AUC: 0.8631754525036333\n",
      "Fold 7 finished in 1:10:07.797514\n",
      "Training on fold 8\n",
      "AUC: 0.8319643740722416\n",
      "Fold 8 finished in 1:10:45.705609\n",
      "Training on fold 9\n",
      "AUC: 0.8435995515399327\n",
      "Fold 9 finished in 1:09:34.996993\n",
      "Training on fold 10\n"
     ]
    },
    {
     "name": "stderr",
     "output_type": "stream",
     "text": [
      "   INFO ->  Average KFold AUC: 0.8589687643848544\n"
     ]
    },
    {
     "name": "stdout",
     "output_type": "stream",
     "text": [
      "AUC: 0.8647870169201396\n",
      "Fold 10 finished in 1:08:18.006822\n"
     ]
    }
   ],
   "source": [
    "from autox import AutoX\n",
    "emb_mode = 'Bert'\n",
    "encode_mode = 'supervise'\n",
    "autox = AutoX(target = 'label', train_name = f'{emb_mode}_{encode_mode}_autox_trn.csv', test_name = f'{emb_mode}_{encode_mode}_autox_val.csv',  id = ['urlid'], path = path)\n",
    "sub = autox.get_submit()"
   ]
  },
  {
   "cell_type": "code",
   "execution_count": 4,
   "id": "91accc77-9ba7-4b09-8286-fe6e16d6093e",
   "metadata": {},
   "outputs": [],
   "source": [
    "test1 = pd.read_csv(f'{emb_mode}_{encode_mode}_autox_tst.csv')"
   ]
  },
  {
   "cell_type": "code",
   "execution_count": 6,
   "id": "320945c8-6082-48f8-b13d-b48aa1d263f8",
   "metadata": {},
   "outputs": [
    {
     "data": {
      "text/html": [
       "<div>\n",
       "<style scoped>\n",
       "    .dataframe tbody tr th:only-of-type {\n",
       "        vertical-align: middle;\n",
       "    }\n",
       "\n",
       "    .dataframe tbody tr th {\n",
       "        vertical-align: top;\n",
       "    }\n",
       "\n",
       "    .dataframe thead th {\n",
       "        text-align: right;\n",
       "    }\n",
       "</style>\n",
       "<table border=\"1\" class=\"dataframe\">\n",
       "  <thead>\n",
       "    <tr style=\"text-align: right;\">\n",
       "      <th></th>\n",
       "      <th>urlid</th>\n",
       "      <th>label</th>\n",
       "    </tr>\n",
       "  </thead>\n",
       "  <tbody>\n",
       "    <tr>\n",
       "      <th>0</th>\n",
       "      <td>8471</td>\n",
       "      <td>0.190155</td>\n",
       "    </tr>\n",
       "    <tr>\n",
       "      <th>1</th>\n",
       "      <td>6684</td>\n",
       "      <td>0.601328</td>\n",
       "    </tr>\n",
       "    <tr>\n",
       "      <th>2</th>\n",
       "      <td>9006</td>\n",
       "      <td>0.189045</td>\n",
       "    </tr>\n",
       "    <tr>\n",
       "      <th>3</th>\n",
       "      <td>7018</td>\n",
       "      <td>0.575996</td>\n",
       "    </tr>\n",
       "    <tr>\n",
       "      <th>4</th>\n",
       "      <td>3402</td>\n",
       "      <td>0.353175</td>\n",
       "    </tr>\n",
       "    <tr>\n",
       "      <th>...</th>\n",
       "      <td>...</td>\n",
       "      <td>...</td>\n",
       "    </tr>\n",
       "    <tr>\n",
       "      <th>2460</th>\n",
       "      <td>1823</td>\n",
       "      <td>0.583872</td>\n",
       "    </tr>\n",
       "    <tr>\n",
       "      <th>2461</th>\n",
       "      <td>10126</td>\n",
       "      <td>0.305289</td>\n",
       "    </tr>\n",
       "    <tr>\n",
       "      <th>2462</th>\n",
       "      <td>1061</td>\n",
       "      <td>0.831415</td>\n",
       "    </tr>\n",
       "    <tr>\n",
       "      <th>2463</th>\n",
       "      <td>10382</td>\n",
       "      <td>0.240687</td>\n",
       "    </tr>\n",
       "    <tr>\n",
       "      <th>2464</th>\n",
       "      <td>8895</td>\n",
       "      <td>0.351890</td>\n",
       "    </tr>\n",
       "  </tbody>\n",
       "</table>\n",
       "<p>2465 rows × 2 columns</p>\n",
       "</div>"
      ],
      "text/plain": [
       "      urlid     label\n",
       "0      8471  0.190155\n",
       "1      6684  0.601328\n",
       "2      9006  0.189045\n",
       "3      7018  0.575996\n",
       "4      3402  0.353175\n",
       "...     ...       ...\n",
       "2460   1823  0.583872\n",
       "2461  10126  0.305289\n",
       "2462   1061  0.831415\n",
       "2463  10382  0.240687\n",
       "2464   8895  0.351890\n",
       "\n",
       "[2465 rows x 2 columns]"
      ]
     },
     "execution_count": 6,
     "metadata": {},
     "output_type": "execute_result"
    }
   ],
   "source": [
    "sub"
   ]
  },
  {
   "cell_type": "code",
   "execution_count": 9,
   "id": "b2ccb2a6-5290-4b48-8db3-3bdbe1a72a02",
   "metadata": {},
   "outputs": [],
   "source": [
    "from sklearn.metrics import mean_squared_error,roc_auc_score\n",
    "AUC = (roc_auc_score(test1['label'], sub['label']))"
   ]
  },
  {
   "cell_type": "code",
   "execution_count": 10,
   "id": "573c73d0-4dda-4f85-a938-e9faf2bc2608",
   "metadata": {},
   "outputs": [
    {
     "data": {
      "text/plain": [
       "0.8705382607928147"
      ]
     },
     "execution_count": 10,
     "metadata": {},
     "output_type": "execute_result"
    }
   ],
   "source": [
    "AUC"
   ]
  },
  {
   "cell_type": "code",
   "execution_count": null,
   "id": "04ab2e08-9798-4f04-8113-bf2aab9bf12f",
   "metadata": {},
   "outputs": [],
   "source": []
  }
 ],
 "metadata": {
  "kernelspec": {
   "display_name": "Python 3 (ipykernel)",
   "language": "python",
   "name": "python3"
  },
  "language_info": {
   "codemirror_mode": {
    "name": "ipython",
    "version": 3
   },
   "file_extension": ".py",
   "mimetype": "text/x-python",
   "name": "python",
   "nbconvert_exporter": "python",
   "pygments_lexer": "ipython3",
   "version": "3.8.10"
  }
 },
 "nbformat": 4,
 "nbformat_minor": 5
}
