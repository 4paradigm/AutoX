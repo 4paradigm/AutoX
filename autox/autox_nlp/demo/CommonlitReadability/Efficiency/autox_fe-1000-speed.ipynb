{
 "cells": [
  {
   "cell_type": "code",
   "execution_count": 1,
   "id": "42a9ef30-6eb8-47fe-9f77-f4d0b4677f76",
   "metadata": {},
   "outputs": [],
   "source": [
    "# !pip install joblib\n",
    "# !pip install gensim\n",
    "# !pip install glove-python-binary\n",
    "# !pip install transformers\n",
    "# !pip install datasets\n",
    "# !pip install tokenizers"
   ]
  },
  {
   "cell_type": "code",
   "execution_count": 2,
   "id": "8895c215-2e61-4598-a2a9-d1423d766d5f",
   "metadata": {},
   "outputs": [],
   "source": [
    "import time\n",
    "import os\n",
    "import psutil\n",
    "\n",
    "def count_time(func):\n",
    "    def int_time():\n",
    "        start_time = time.time()\n",
    "        func()\n",
    "        over_time = time.time()\n",
    "        total_time = over_time - start_time\n",
    "        print(\"程序运行了%s秒\" % total_time)\n",
    "    return int_time\n",
    "\n",
    "def count_info(func):\n",
    "    def float_info():\n",
    "        pid = os.getpid()\n",
    "        p = psutil.Process(pid)\n",
    "        info_start = p.memory_full_info().uss/1024\n",
    "        func()\n",
    "        info_end=p.memory_full_info().uss/1024\n",
    "        print(\"程序占用了内存\"+str(info_end-info_start)+\"KB\")\n",
    "    return float_info"
   ]
  },
  {
   "cell_type": "code",
   "execution_count": 3,
   "id": "328817f8-d6f6-45a4-b94d-757bc138ae72",
   "metadata": {},
   "outputs": [],
   "source": [
    "import numpy as np\n",
    "import gc\n",
    "import pandas as pd\n",
    "import re\n",
    "from joblib import Parallel, delayed\n",
    "from gensim.models import FastText,Word2Vec\n",
    "from glove import Glove,Corpus\n",
    "from sklearn.model_selection import KFold\n",
    "from sklearn.cluster import KMeans\n",
    "from scipy import sparse\n",
    "from sklearn.feature_extraction.text import TfidfVectorizer\n",
    "from transformers import (AutoModel,AutoModelForMaskedLM, \n",
    "                          AutoTokenizer, LineByLineTextDataset,\n",
    "                          DataCollatorForLanguageModeling,\n",
    "                          Trainer, TrainingArguments,PreTrainedTokenizerFast,pipeline)\n",
    "from datasets import Dataset\n",
    "from sklearn.linear_model import Ridge\n",
    "from tokenizers import (\n",
    "    decoders,\n",
    "    models,\n",
    "    normalizers,\n",
    "    pre_tokenizers,\n",
    "    processors,\n",
    "    trainers,\n",
    "    Tokenizer,\n",
    ")\n",
    "import warnings\n",
    "warnings.filterwarnings('ignore')\n",
    "\n",
    "from tqdm.auto import tqdm"
   ]
  },
  {
   "cell_type": "code",
   "execution_count": 4,
   "id": "5bf48c48-d498-4f7f-b86d-8f141ad90eac",
   "metadata": {},
   "outputs": [],
   "source": [
    "from NLP_feature import NLP_feature"
   ]
  },
  {
   "cell_type": "code",
   "execution_count": 5,
   "id": "76a18590-4d87-4846-bf84-099f9eab052b",
   "metadata": {},
   "outputs": [],
   "source": [
    "df_train = pd.read_csv('sub_train.csv')\n",
    "df_test = pd.read_csv('sub_val.csv')"
   ]
  },
  {
   "cell_type": "code",
   "execution_count": 6,
   "id": "c55c1ace-1d7d-4a32-8cc0-058dac439b1b",
   "metadata": {},
   "outputs": [],
   "source": [
    "# df_test.head(3)"
   ]
  },
  {
   "cell_type": "code",
   "execution_count": 8,
   "id": "d179da2e-6bb5-48ef-824d-6e8f78881e1b",
   "metadata": {},
   "outputs": [],
   "source": [
    "use_Toknizer=True\n",
    "emb_mode = 'Word2Vec'\n",
    "encode_mode = 'supervise'\n",
    "text_columns_name = ['excerpt']\n",
    "target_column = df_train['target']\n",
    "candidate_labels=None"
   ]
  },
  {
   "cell_type": "code",
   "execution_count": 9,
   "id": "50f4a1c3-e85c-4404-a185-f03ffb25d521",
   "metadata": {},
   "outputs": [
    {
     "name": "stdout",
     "output_type": "stream",
     "text": [
      "Fitting column: excerpt tokenizer\n",
      "\n",
      "\n",
      "\n",
      "Tokenizing column: excerpt\n",
      "Fitting column: excerpt word2vec embedding\n",
      "Fitting column: excerpt encoder\n",
      "程序占用了内存133952.0KB\n",
      "程序运行了16.439002752304077秒\n"
     ]
    }
   ],
   "source": [
    "nlp = NLP_feature()\n",
    "# nlp.tokenizers\n",
    "nlp.do_mlm = True\n",
    "nlp.emb_size=100\n",
    "nlp.n_clusters=20\n",
    "@count_time\n",
    "@count_info\n",
    "def fit():\n",
    "    return nlp.fit(df_train,\n",
    "             text_columns_name,\n",
    "             use_Toknizer,\n",
    "             emb_mode,\n",
    "             encode_mode,\n",
    "             target_column,\n",
    "             candidate_labels)\n",
    "df = fit()"
   ]
  },
  {
   "cell_type": "code",
   "execution_count": 10,
   "id": "fc181774-43e2-4f45-9116-f87334bc2036",
   "metadata": {},
   "outputs": [],
   "source": [
    "# for column in df.columns:\n",
    "#     df_train[column] = df[column]"
   ]
  },
  {
   "cell_type": "code",
   "execution_count": 11,
   "id": "33a16400-15e7-495a-9fe0-14666c916eaf",
   "metadata": {},
   "outputs": [
    {
     "name": "stdout",
     "output_type": "stream",
     "text": [
      "Transforming column: excerpt\n",
      "Tokenizing column: excerpt\n",
      "程序占用了内存3804.0KB\n",
      "程序运行了3.1925668716430664秒\n"
     ]
    }
   ],
   "source": [
    "@count_time\n",
    "@count_info\n",
    "def trans():\n",
    "    return nlp.transform(df_test)\n",
    "test = trans()"
   ]
  },
  {
   "cell_type": "code",
   "execution_count": 12,
   "id": "0eae622b-dc31-430e-82d9-3f45f65c80c3",
   "metadata": {},
   "outputs": [],
   "source": [
    "# df_train.head(1)"
   ]
  },
  {
   "cell_type": "code",
   "execution_count": 13,
   "id": "788c26d2-9beb-4df8-aa8b-2165ba34ceb3",
   "metadata": {},
   "outputs": [],
   "source": [
    "# df_train.to_csv(f'mlm_{emb_mode}_{encode_mode}_autox_trn.csv',index=False)\n",
    "# test.to_csv(f'mlm_{emb_mode}_{encode_mode}_autox_tst.csv',index=False)"
   ]
  },
  {
   "cell_type": "code",
   "execution_count": null,
   "id": "f3b1508f-f978-448e-b8f9-73585d7c0b35",
   "metadata": {},
   "outputs": [],
   "source": []
  },
  {
   "cell_type": "code",
   "execution_count": null,
   "id": "fa726d1f-07e5-4efc-9aff-b013de05f651",
   "metadata": {},
   "outputs": [],
   "source": []
  }
 ],
 "metadata": {
  "kernelspec": {
   "display_name": "Python 3 (ipykernel)",
   "language": "python",
   "name": "python3"
  },
  "language_info": {
   "codemirror_mode": {
    "name": "ipython",
    "version": 3
   },
   "file_extension": ".py",
   "mimetype": "text/x-python",
   "name": "python",
   "nbconvert_exporter": "python",
   "pygments_lexer": "ipython3",
   "version": "3.8.10"
  }
 },
 "nbformat": 4,
 "nbformat_minor": 5
}
