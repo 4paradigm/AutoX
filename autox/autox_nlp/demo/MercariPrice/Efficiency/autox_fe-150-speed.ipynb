{
 "cells": [
  {
   "cell_type": "code",
   "execution_count": 14,
   "id": "42a9ef30-6eb8-47fe-9f77-f4d0b4677f76",
   "metadata": {},
   "outputs": [],
   "source": [
    "# !pip install joblib\n",
    "# !pip install gensim\n",
    "# !pip install glove-python-binary\n",
    "# !pip install transformers\n",
    "# !pip install datasets\n",
    "# !pip install tokenizers"
   ]
  },
  {
   "cell_type": "code",
   "execution_count": 17,
   "id": "8895c215-2e61-4598-a2a9-d1423d766d5f",
   "metadata": {},
   "outputs": [],
   "source": [
    "import time\n",
    "import os\n",
    "import psutil\n",
    "\n",
    "def count_time(func):\n",
    "    def int_time():\n",
    "        start_time = time.time()\n",
    "        func()\n",
    "        over_time = time.time()\n",
    "        total_time = over_time - start_time\n",
    "        print(\"程序运行了%s秒\" % total_time)\n",
    "    return int_time\n",
    "\n",
    "def count_info(func):\n",
    "    def float_info():\n",
    "        pid = os.getpid()\n",
    "        p = psutil.Process(pid)\n",
    "        info_start = p.memory_full_info().uss/1024\n",
    "        func()\n",
    "        info_end=p.memory_full_info().uss/1024\n",
    "        print(\"程序占用了内存\"+str(info_end-info_start)+\"KB\")\n",
    "    return float_info"
   ]
  },
  {
   "cell_type": "code",
   "execution_count": 18,
   "id": "328817f8-d6f6-45a4-b94d-757bc138ae72",
   "metadata": {},
   "outputs": [],
   "source": [
    "import numpy as np\n",
    "import gc\n",
    "import pandas as pd\n",
    "import re\n",
    "from joblib import Parallel, delayed\n",
    "from gensim.models import FastText,Word2Vec\n",
    "from glove import Glove,Corpus\n",
    "from sklearn.model_selection import KFold\n",
    "from sklearn.cluster import KMeans\n",
    "from scipy import sparse\n",
    "from sklearn.feature_extraction.text import TfidfVectorizer\n",
    "from transformers import (AutoModel,AutoModelForMaskedLM, \n",
    "                          AutoTokenizer, LineByLineTextDataset,\n",
    "                          DataCollatorForLanguageModeling,\n",
    "                          Trainer, TrainingArguments,PreTrainedTokenizerFast,pipeline)\n",
    "from datasets import Dataset\n",
    "from sklearn.linear_model import Ridge\n",
    "from tokenizers import (\n",
    "    decoders,\n",
    "    models,\n",
    "    normalizers,\n",
    "    pre_tokenizers,\n",
    "    processors,\n",
    "    trainers,\n",
    "    Tokenizer,\n",
    ")\n",
    "import warnings\n",
    "warnings.filterwarnings('ignore')\n",
    "\n",
    "from tqdm.auto import tqdm"
   ]
  },
  {
   "cell_type": "code",
   "execution_count": 19,
   "id": "5bf48c48-d498-4f7f-b86d-8f141ad90eac",
   "metadata": {},
   "outputs": [],
   "source": [
    "from NLP_feature import NLP_feature"
   ]
  },
  {
   "cell_type": "code",
   "execution_count": 20,
   "id": "76a18590-4d87-4846-bf84-099f9eab052b",
   "metadata": {},
   "outputs": [],
   "source": [
    "df_train = pd.read_csv('sub_train.csv')\n",
    "df_test = pd.read_csv('sub_val.csv')"
   ]
  },
  {
   "cell_type": "code",
   "execution_count": 21,
   "id": "c55c1ace-1d7d-4a32-8cc0-058dac439b1b",
   "metadata": {},
   "outputs": [],
   "source": [
    "# df_test.head(3)"
   ]
  },
  {
   "cell_type": "code",
   "execution_count": 22,
   "id": "d179da2e-6bb5-48ef-824d-6e8f78881e1b",
   "metadata": {},
   "outputs": [],
   "source": [
    "use_Toknizer=True\n",
    "emb_mode = 'Word2Vec'\n",
    "encode_mode = 'supervise'\n",
    "text_columns_name = ['item_description']\n",
    "target_column = df_train['price']\n",
    "candidate_labels=None"
   ]
  },
  {
   "cell_type": "code",
   "execution_count": 23,
   "id": "50f4a1c3-e85c-4404-a185-f03ffb25d521",
   "metadata": {},
   "outputs": [
    {
     "name": "stdout",
     "output_type": "stream",
     "text": [
      "Fitting column: item_description tokenizer\n",
      "\n",
      "\n",
      "\n",
      "Tokenizing column: item_description\n",
      "Fitting column: item_description word2vec embedding\n",
      "Fitting column: item_description encoder\n",
      "程序占用了内存190264.0KB\n",
      "程序运行了18.25020456314087秒\n"
     ]
    }
   ],
   "source": [
    "nlp = NLP_feature()\n",
    "# nlp.tokenizers\n",
    "nlp.do_mlm = True\n",
    "nlp.emb_size=100\n",
    "nlp.n_clusters=20\n",
    "@count_time\n",
    "@count_info\n",
    "def fit():\n",
    "    return nlp.fit(df_train,\n",
    "             text_columns_name,\n",
    "             use_Toknizer,\n",
    "             emb_mode,\n",
    "             encode_mode,\n",
    "             target_column,\n",
    "             candidate_labels)\n",
    "df = fit()"
   ]
  },
  {
   "cell_type": "code",
   "execution_count": 9,
   "id": "fc181774-43e2-4f45-9116-f87334bc2036",
   "metadata": {},
   "outputs": [],
   "source": [
    "# for column in df.columns:\n",
    "#     df_train[column] = df[column]"
   ]
  },
  {
   "cell_type": "code",
   "execution_count": 10,
   "id": "33a16400-15e7-495a-9fe0-14666c916eaf",
   "metadata": {},
   "outputs": [
    {
     "name": "stdout",
     "output_type": "stream",
     "text": [
      "Transforming column: item_description\n",
      "Tokenizing column: item_description\n",
      "程序占用了内存-3488.0KB\n",
      "程序运行了1.3236894607543945秒\n"
     ]
    }
   ],
   "source": [
    "@count_time\n",
    "@count_info\n",
    "def trans():\n",
    "    return nlp.transform(df_test)\n",
    "test = trans()"
   ]
  },
  {
   "cell_type": "code",
   "execution_count": 12,
   "id": "0eae622b-dc31-430e-82d9-3f45f65c80c3",
   "metadata": {},
   "outputs": [
    {
     "data": {
      "text/html": [
       "<div>\n",
       "<style scoped>\n",
       "    .dataframe tbody tr th:only-of-type {\n",
       "        vertical-align: middle;\n",
       "    }\n",
       "\n",
       "    .dataframe tbody tr th {\n",
       "        vertical-align: top;\n",
       "    }\n",
       "\n",
       "    .dataframe thead th {\n",
       "        text-align: right;\n",
       "    }\n",
       "</style>\n",
       "<table border=\"1\" class=\"dataframe\">\n",
       "  <thead>\n",
       "    <tr style=\"text-align: right;\">\n",
       "      <th></th>\n",
       "      <th>train_id</th>\n",
       "      <th>name</th>\n",
       "      <th>item_condition_id</th>\n",
       "      <th>category_name</th>\n",
       "      <th>brand_name</th>\n",
       "      <th>price</th>\n",
       "      <th>shipping</th>\n",
       "      <th>item_description</th>\n",
       "      <th>category_name_meta_feature</th>\n",
       "      <th>item_description_meta_feature</th>\n",
       "      <th>name_meta_feature</th>\n",
       "    </tr>\n",
       "  </thead>\n",
       "  <tbody>\n",
       "    <tr>\n",
       "      <th>0</th>\n",
       "      <td>39376</td>\n",
       "      <td>Size 8 Boots</td>\n",
       "      <td>2</td>\n",
       "      <td>Women/Shoes/Boots</td>\n",
       "      <td>Sonoma</td>\n",
       "      <td>24.0</td>\n",
       "      <td>0</td>\n",
       "      <td>Excellent condition! Worn maybe once or twice</td>\n",
       "      <td>18.0</td>\n",
       "      <td>19.0</td>\n",
       "      <td>16.0</td>\n",
       "    </tr>\n",
       "  </tbody>\n",
       "</table>\n",
       "</div>"
      ],
      "text/plain": [
       "   train_id          name  item_condition_id      category_name brand_name  \\\n",
       "0     39376  Size 8 Boots                  2  Women/Shoes/Boots     Sonoma   \n",
       "\n",
       "   price  shipping                               item_description  \\\n",
       "0   24.0         0  Excellent condition! Worn maybe once or twice   \n",
       "\n",
       "   category_name_meta_feature  item_description_meta_feature  \\\n",
       "0                        18.0                           19.0   \n",
       "\n",
       "   name_meta_feature  \n",
       "0               16.0  "
      ]
     },
     "execution_count": 12,
     "metadata": {},
     "output_type": "execute_result"
    }
   ],
   "source": [
    "# df_train.head(1)"
   ]
  },
  {
   "cell_type": "code",
   "execution_count": 13,
   "id": "788c26d2-9beb-4df8-aa8b-2165ba34ceb3",
   "metadata": {},
   "outputs": [],
   "source": [
    "# df_train.to_csv(f'mlm_{emb_mode}_{encode_mode}_autox_trn.csv',index=False)\n",
    "# test.to_csv(f'mlm_{emb_mode}_{encode_mode}_autox_tst.csv',index=False)"
   ]
  },
  {
   "cell_type": "code",
   "execution_count": null,
   "id": "f3b1508f-f978-448e-b8f9-73585d7c0b35",
   "metadata": {},
   "outputs": [],
   "source": []
  },
  {
   "cell_type": "code",
   "execution_count": null,
   "id": "fa726d1f-07e5-4efc-9aff-b013de05f651",
   "metadata": {},
   "outputs": [],
   "source": []
  }
 ],
 "metadata": {
  "kernelspec": {
   "display_name": "Python 3 (ipykernel)",
   "language": "python",
   "name": "python3"
  },
  "language_info": {
   "codemirror_mode": {
    "name": "ipython",
    "version": 3
   },
   "file_extension": ".py",
   "mimetype": "text/x-python",
   "name": "python",
   "nbconvert_exporter": "python",
   "pygments_lexer": "ipython3",
   "version": "3.8.10"
  }
 },
 "nbformat": 4,
 "nbformat_minor": 5
}
