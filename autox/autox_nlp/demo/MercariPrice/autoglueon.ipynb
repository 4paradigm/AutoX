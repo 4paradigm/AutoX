{
 "cells": [
  {
   "cell_type": "code",
   "execution_count": 1,
   "id": "2827085c-166a-4866-a3f8-4781a5edba1d",
   "metadata": {
    "scrolled": true,
    "tags": []
   },
   "outputs": [],
   "source": [
    "# !pip install --upgrade mxnet\n",
    "# !pip install autogluon"
   ]
  },
  {
   "cell_type": "code",
   "execution_count": 2,
   "id": "3a7936f7-a1c7-431f-984e-6b71904dfcf6",
   "metadata": {
    "scrolled": true,
    "tags": []
   },
   "outputs": [
    {
     "name": "stderr",
     "output_type": "stream",
     "text": [
      "Global seed set to 123\n",
      "Using 16bit native Automatic Mixed Precision (AMP)\n",
      "GPU available: True, used: True\n",
      "TPU available: False, using: 0 TPU cores\n",
      "IPU available: False, using: 0 IPUs\n",
      "LOCAL_RANK: 0 - CUDA_VISIBLE_DEVICES: [0]\n",
      "\n",
      "  | Name              | Type                         | Params\n",
      "-------------------------------------------------------------------\n",
      "0 | model             | HFAutoModelForTextPrediction | 108 M \n",
      "1 | validation_metric | MeanSquaredError             | 0     \n",
      "2 | loss_func         | MSELoss                      | 0     \n",
      "-------------------------------------------------------------------\n",
      "108 M     Trainable params\n",
      "0         Non-trainable params\n",
      "108 M     Total params\n",
      "217.785   Total estimated model params size (MB)\n"
     ]
    },
    {
     "data": {
      "application/vnd.jupyter.widget-view+json": {
       "model_id": "",
       "version_major": 2,
       "version_minor": 0
      },
      "text/plain": [
       "Validation sanity check: 0it [00:00, ?it/s]"
      ]
     },
     "metadata": {},
     "output_type": "display_data"
    },
    {
     "name": "stderr",
     "output_type": "stream",
     "text": [
      "Global seed set to 123\n"
     ]
    },
    {
     "data": {
      "application/vnd.jupyter.widget-view+json": {
       "model_id": "1eb92cb5ecfb457cb2a4dc9527173396",
       "version_major": 2,
       "version_minor": 0
      },
      "text/plain": [
       "Training: 0it [00:00, ?it/s]"
      ]
     },
     "metadata": {},
     "output_type": "display_data"
    },
    {
     "data": {
      "application/vnd.jupyter.widget-view+json": {
       "model_id": "",
       "version_major": 2,
       "version_minor": 0
      },
      "text/plain": [
       "Validating: 0it [00:00, ?it/s]"
      ]
     },
     "metadata": {},
     "output_type": "display_data"
    },
    {
     "name": "stderr",
     "output_type": "stream",
     "text": [
      "Epoch 0, global step 52: val_rmse reached 0.64257 (best 0.64257), saving model to \"/root/autodl-tmp/mercari-price-suggestion-challenge/autogluon/epoch=0-step=52.ckpt\" as top 3\n"
     ]
    },
    {
     "data": {
      "application/vnd.jupyter.widget-view+json": {
       "model_id": "",
       "version_major": 2,
       "version_minor": 0
      },
      "text/plain": [
       "Validating: 0it [00:00, ?it/s]"
      ]
     },
     "metadata": {},
     "output_type": "display_data"
    },
    {
     "name": "stderr",
     "output_type": "stream",
     "text": [
      "Epoch 0, global step 104: val_rmse reached 0.61568 (best 0.61568), saving model to \"/root/autodl-tmp/mercari-price-suggestion-challenge/autogluon/epoch=0-step=104.ckpt\" as top 3\n"
     ]
    },
    {
     "data": {
      "application/vnd.jupyter.widget-view+json": {
       "model_id": "",
       "version_major": 2,
       "version_minor": 0
      },
      "text/plain": [
       "Validating: 0it [00:00, ?it/s]"
      ]
     },
     "metadata": {},
     "output_type": "display_data"
    },
    {
     "name": "stderr",
     "output_type": "stream",
     "text": [
      "Epoch 1, global step 157: val_rmse reached 0.62639 (best 0.61568), saving model to \"/root/autodl-tmp/mercari-price-suggestion-challenge/autogluon/epoch=1-step=157.ckpt\" as top 3\n",
      "Time limit reached. Elapsed time is 0:03:00. Signaling Trainer to stop.\n"
     ]
    },
    {
     "data": {
      "application/vnd.jupyter.widget-view+json": {
       "model_id": "",
       "version_major": 2,
       "version_minor": 0
      },
      "text/plain": [
       "Validating: 0it [00:00, ?it/s]"
      ]
     },
     "metadata": {},
     "output_type": "display_data"
    },
    {
     "name": "stderr",
     "output_type": "stream",
     "text": [
      "Epoch 1, global step 208: val_rmse was not in top 3\n"
     ]
    },
    {
     "data": {
      "application/vnd.jupyter.widget-view+json": {
       "model_id": "f74be65a3274496f8cc18daa5e041156",
       "version_major": 2,
       "version_minor": 0
      },
      "text/plain": [
       "Predicting: 0it [00:00, ?it/s]"
      ]
     },
     "metadata": {},
     "output_type": "display_data"
    }
   ],
   "source": [
    "from autogluon.text import TextPredictor\n",
    "import pandas as pd\n",
    "\n",
    "train_data = pd.read_csv('sub_train.csv').drop(columns=['train_id'])\n",
    "test_data = pd.read_csv('sub_val.csv')\n",
    "test_data_nolab = test_data.drop(columns=['price','test_id']) \n",
    "time_limit = 1 * 60  # set to larger value in your applications\n",
    "predictor = TextPredictor(label='price', path='autogluon')\n",
    "predictor.fit(train_data, time_limit=time_limit)\n",
    "y_pred = predictor.predict(test_data_nolab)"
   ]
  },
  {
   "cell_type": "code",
   "execution_count": 4,
   "id": "bb6dacba-82f6-43ff-aad3-7513acf4b8c6",
   "metadata": {},
   "outputs": [
    {
     "data": {
      "text/plain": [
       "34.49539757348188"
      ]
     },
     "execution_count": 4,
     "metadata": {},
     "output_type": "execute_result"
    }
   ],
   "source": [
    "from sklearn.metrics import mean_squared_error\n",
    "import numpy as np\n",
    "RMSLE = np.sqrt(mean_squared_error(test_data['price'], y_pred))\n",
    "RMSLE"
   ]
  },
  {
   "cell_type": "code",
   "execution_count": 7,
   "id": "4b39925f-2817-49da-89ed-153688384edc",
   "metadata": {},
   "outputs": [
    {
     "data": {
      "text/html": [
       "<div>\n",
       "<style scoped>\n",
       "    .dataframe tbody tr th:only-of-type {\n",
       "        vertical-align: middle;\n",
       "    }\n",
       "\n",
       "    .dataframe tbody tr th {\n",
       "        vertical-align: top;\n",
       "    }\n",
       "\n",
       "    .dataframe thead th {\n",
       "        text-align: right;\n",
       "    }\n",
       "</style>\n",
       "<table border=\"1\" class=\"dataframe\">\n",
       "  <thead>\n",
       "    <tr style=\"text-align: right;\">\n",
       "      <th></th>\n",
       "      <th>name</th>\n",
       "      <th>item_condition_id</th>\n",
       "      <th>category_name</th>\n",
       "      <th>brand_name</th>\n",
       "      <th>price</th>\n",
       "      <th>shipping</th>\n",
       "      <th>item_description</th>\n",
       "    </tr>\n",
       "  </thead>\n",
       "  <tbody>\n",
       "    <tr>\n",
       "      <th>0</th>\n",
       "      <td>Size 8 Boots</td>\n",
       "      <td>2</td>\n",
       "      <td>Women/Shoes/Boots</td>\n",
       "      <td>Sonoma</td>\n",
       "      <td>24.0</td>\n",
       "      <td>0</td>\n",
       "      <td>Excellent condition! Worn maybe once or twice</td>\n",
       "    </tr>\n",
       "    <tr>\n",
       "      <th>1</th>\n",
       "      <td>Tobi size small dress</td>\n",
       "      <td>2</td>\n",
       "      <td>Women/Dresses/Above Knee, Mini</td>\n",
       "      <td>Tobi</td>\n",
       "      <td>9.0</td>\n",
       "      <td>0</td>\n",
       "      <td>No description yet</td>\n",
       "    </tr>\n",
       "    <tr>\n",
       "      <th>2</th>\n",
       "      <td>Bright salmon top</td>\n",
       "      <td>2</td>\n",
       "      <td>Women/Tops &amp; Blouses/Blouse</td>\n",
       "      <td>NaN</td>\n",
       "      <td>16.0</td>\n",
       "      <td>0</td>\n",
       "      <td>Off shoulder. Never been worn. Can be worn as ...</td>\n",
       "    </tr>\n",
       "    <tr>\n",
       "      <th>3</th>\n",
       "      <td>Bikini Top</td>\n",
       "      <td>3</td>\n",
       "      <td>Women/Swimwear/Two-Piece</td>\n",
       "      <td>Old Navy</td>\n",
       "      <td>8.0</td>\n",
       "      <td>0</td>\n",
       "      <td>Old navy blue bikini top This top has adorable...</td>\n",
       "    </tr>\n",
       "    <tr>\n",
       "      <th>4</th>\n",
       "      <td>Schick women's shave bundle</td>\n",
       "      <td>1</td>\n",
       "      <td>Other/Daily &amp; Travel items/Personal Care</td>\n",
       "      <td>Schick</td>\n",
       "      <td>9.0</td>\n",
       "      <td>0</td>\n",
       "      <td>Schick Quattro You - 4 razors - smooth protect...</td>\n",
       "    </tr>\n",
       "    <tr>\n",
       "      <th>...</th>\n",
       "      <td>...</td>\n",
       "      <td>...</td>\n",
       "      <td>...</td>\n",
       "      <td>...</td>\n",
       "      <td>...</td>\n",
       "      <td>...</td>\n",
       "      <td>...</td>\n",
       "    </tr>\n",
       "    <tr>\n",
       "      <th>14820</th>\n",
       "      <td>Kingdom Hearts</td>\n",
       "      <td>2</td>\n",
       "      <td>Electronics/Video Games &amp; Consoles/Games</td>\n",
       "      <td>NaN</td>\n",
       "      <td>8.0</td>\n",
       "      <td>1</td>\n",
       "      <td>Kingdom Hearts chain of memories game that wor...</td>\n",
       "    </tr>\n",
       "    <tr>\n",
       "      <th>14821</th>\n",
       "      <td>Harvey Bullock Funko Pop</td>\n",
       "      <td>2</td>\n",
       "      <td>Vintage &amp; Collectibles/Collectibles/Figurine</td>\n",
       "      <td>NaN</td>\n",
       "      <td>8.0</td>\n",
       "      <td>1</td>\n",
       "      <td>No description yet</td>\n",
       "    </tr>\n",
       "    <tr>\n",
       "      <th>14822</th>\n",
       "      <td>9 pairs of Beautiful eyelashes</td>\n",
       "      <td>1</td>\n",
       "      <td>Beauty/Makeup/Eyes</td>\n",
       "      <td>NaN</td>\n",
       "      <td>20.0</td>\n",
       "      <td>1</td>\n",
       "      <td>Free shipping with tracking 9 pairs of high qu...</td>\n",
       "    </tr>\n",
       "    <tr>\n",
       "      <th>14823</th>\n",
       "      <td>Chicago cubs World series Champions hat</td>\n",
       "      <td>1</td>\n",
       "      <td>Sports &amp; Outdoors/Fan Shop/MLB</td>\n",
       "      <td>NaN</td>\n",
       "      <td>35.0</td>\n",
       "      <td>1</td>\n",
       "      <td>Original hat One size fits most</td>\n",
       "    </tr>\n",
       "    <tr>\n",
       "      <th>14824</th>\n",
       "      <td>BNIB Large Black Fitbit Charge HR</td>\n",
       "      <td>1</td>\n",
       "      <td>Sports &amp; Outdoors/Exercise/Fitness technology</td>\n",
       "      <td>Fitbit</td>\n",
       "      <td>71.0</td>\n",
       "      <td>0</td>\n",
       "      <td>Brand new in box, large Fitbit Charge HR with ...</td>\n",
       "    </tr>\n",
       "  </tbody>\n",
       "</table>\n",
       "<p>14825 rows × 7 columns</p>\n",
       "</div>"
      ],
      "text/plain": [
       "                                          name  item_condition_id  \\\n",
       "0                                 Size 8 Boots                  2   \n",
       "1                        Tobi size small dress                  2   \n",
       "2                            Bright salmon top                  2   \n",
       "3                                   Bikini Top                  3   \n",
       "4                  Schick women's shave bundle                  1   \n",
       "...                                        ...                ...   \n",
       "14820                           Kingdom Hearts                  2   \n",
       "14821                 Harvey Bullock Funko Pop                  2   \n",
       "14822           9 pairs of Beautiful eyelashes                  1   \n",
       "14823  Chicago cubs World series Champions hat                  1   \n",
       "14824        BNIB Large Black Fitbit Charge HR                  1   \n",
       "\n",
       "                                       category_name brand_name  price  \\\n",
       "0                                  Women/Shoes/Boots     Sonoma   24.0   \n",
       "1                     Women/Dresses/Above Knee, Mini       Tobi    9.0   \n",
       "2                        Women/Tops & Blouses/Blouse        NaN   16.0   \n",
       "3                           Women/Swimwear/Two-Piece   Old Navy    8.0   \n",
       "4           Other/Daily & Travel items/Personal Care     Schick    9.0   \n",
       "...                                              ...        ...    ...   \n",
       "14820       Electronics/Video Games & Consoles/Games        NaN    8.0   \n",
       "14821   Vintage & Collectibles/Collectibles/Figurine        NaN    8.0   \n",
       "14822                             Beauty/Makeup/Eyes        NaN   20.0   \n",
       "14823                 Sports & Outdoors/Fan Shop/MLB        NaN   35.0   \n",
       "14824  Sports & Outdoors/Exercise/Fitness technology     Fitbit   71.0   \n",
       "\n",
       "       shipping                                   item_description  \n",
       "0             0      Excellent condition! Worn maybe once or twice  \n",
       "1             0                                 No description yet  \n",
       "2             0  Off shoulder. Never been worn. Can be worn as ...  \n",
       "3             0  Old navy blue bikini top This top has adorable...  \n",
       "4             0  Schick Quattro You - 4 razors - smooth protect...  \n",
       "...         ...                                                ...  \n",
       "14820         1  Kingdom Hearts chain of memories game that wor...  \n",
       "14821         1                                 No description yet  \n",
       "14822         1  Free shipping with tracking 9 pairs of high qu...  \n",
       "14823         1                    Original hat One size fits most  \n",
       "14824         0  Brand new in box, large Fitbit Charge HR with ...  \n",
       "\n",
       "[14825 rows x 7 columns]"
      ]
     },
     "execution_count": 7,
     "metadata": {},
     "output_type": "execute_result"
    }
   ],
   "source": [
    "train_data"
   ]
  },
  {
   "cell_type": "code",
   "execution_count": 10,
   "id": "73a119e1-9fc1-4ae4-abf4-2a2fc77197e9",
   "metadata": {},
   "outputs": [
    {
     "name": "stdout",
     "output_type": "stream",
     "text": [
      "29.944283305227785\n"
     ]
    }
   ],
   "source": [
    "length=0\n",
    "for item in train_data['category_name'].apply(str):\n",
    "    length+=len(item)/len(train_data['category_name'])\n",
    "print(length)"
   ]
  },
  {
   "cell_type": "code",
   "execution_count": 6,
   "id": "3979fe2b-2303-4fd0-8f1f-1d5719aebe8d",
   "metadata": {},
   "outputs": [],
   "source": [
    "import os\n",
    "import time\n",
    "import os\n",
    "import psutil\n",
    "def count_time(func):\n",
    "    def int_time():\n",
    "        start_time = time.time()\n",
    "        func()\n",
    "        over_time = time.time()\n",
    "        total_time = over_time - start_time\n",
    "        print(\"程序运行了%s秒\" % total_time)\n",
    "    return int_time\n",
    "\n",
    "def count_info(func):\n",
    "    def float_info():\n",
    "        pid = os.getpid()\n",
    "        p = psutil.Process(pid)\n",
    "        info_start = p.memory_full_info().uss/1024\n",
    "        func()\n",
    "        info_end=p.memory_full_info().uss/1024\n",
    "        print(\"程序占用了内存\"+str(info_end-info_start)+\"KB\")\n",
    "    return float_info"
   ]
  },
  {
   "cell_type": "code",
   "execution_count": 8,
   "id": "74e1de78-0179-4881-8f37-f585b5635ce8",
   "metadata": {},
   "outputs": [
    {
     "data": {
      "application/vnd.jupyter.widget-view+json": {
       "model_id": "12e0a78428a845e3811d4bde6e0349ad",
       "version_major": 2,
       "version_minor": 0
      },
      "text/plain": [
       "Predicting: 0it [00:00, ?it/s]"
      ]
     },
     "metadata": {},
     "output_type": "display_data"
    },
    {
     "name": "stdout",
     "output_type": "stream",
     "text": [
      "程序占用了内存-42288.0KB\n",
      "程序运行了29.756831169128418秒\n"
     ]
    }
   ],
   "source": [
    "@count_time\n",
    "@count_info\n",
    "def calcu_atg():\n",
    "    embeddings = predictor.extract_embedding(train_data)\n",
    "    embeddings.shape\n",
    "    \n",
    "calcu_atg()"
   ]
  },
  {
   "cell_type": "code",
   "execution_count": null,
   "id": "3c7ecd9c-1da6-4acc-96ce-55a9fd2577d5",
   "metadata": {},
   "outputs": [],
   "source": []
  }
 ],
 "metadata": {
  "kernelspec": {
   "display_name": "Python 3 (ipykernel)",
   "language": "python",
   "name": "python3"
  },
  "language_info": {
   "codemirror_mode": {
    "name": "ipython",
    "version": 3
   },
   "file_extension": ".py",
   "mimetype": "text/x-python",
   "name": "python",
   "nbconvert_exporter": "python",
   "pygments_lexer": "ipython3",
   "version": "3.8.10"
  }
 },
 "nbformat": 4,
 "nbformat_minor": 5
}
