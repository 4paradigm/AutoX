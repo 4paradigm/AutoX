{
 "cells": [
  {
   "cell_type": "markdown",
   "metadata": {},
   "source": [
    "## import 包"
   ]
  },
  {
   "cell_type": "code",
   "execution_count": 1,
   "metadata": {
    "ExecuteTime": {
     "end_time": "2022-03-31T08:52:50.428695Z",
     "start_time": "2022-03-31T08:52:49.969620Z"
    }
   },
   "outputs": [],
   "source": [
    "import warnings\n",
    "warnings.filterwarnings('ignore')\n",
    "import pandas as pd\n",
    "import numpy as np\n",
    "import os\n",
    "from tqdm import tqdm\n",
    "from datetime import datetime, timedelta\n",
    "import matplotlib.pyplot as plt"
   ]
  },
  {
   "cell_type": "markdown",
   "metadata": {},
   "source": [
    "## 读数据，预处理"
   ]
  },
  {
   "cell_type": "code",
   "execution_count": 2,
   "metadata": {
    "ExecuteTime": {
     "end_time": "2022-03-31T08:52:52.109641Z",
     "start_time": "2022-03-31T08:52:50.724795Z"
    },
    "scrolled": true
   },
   "outputs": [],
   "source": [
    "df = pd.read_csv('~/KDD_CUP_2022/input/sdwpf134_initial_kddcup.csv')\n",
    "\n",
    "def get_date(k):\n",
    "    cur_date = \"2020-01-01\"\n",
    "    one_day = timedelta(days=k-1)\n",
    "    return str(datetime.strptime(cur_date, '%Y-%m-%d') + one_day)[:10]\n",
    "\n",
    "df['Day'] = df['Day'].apply(lambda x: get_date(x))\n",
    "\n",
    "def cols_concat(df, con_list):\n",
    "    name = 't1'\n",
    "    df[name] = df[con_list[0]].astype(str)\n",
    "    for item in con_list[1:]:\n",
    "        df[name] = df[name] + ' ' + df[item].astype(str)\n",
    "    return df\n",
    "\n",
    "df = cols_concat(df, [\"Day\", \"Tmstamp\"])\n",
    "\n",
    "df = df[['TurbID', 't1', 'Wspd', 'Wdir', 'Etmp', 'Itmp', 'Ndir', 'Pab1', 'Pab2', 'Pab3', 'Prtv', 'Patv']]\n",
    "df['t1'] = pd.to_datetime(df['t1'])"
   ]
  },
  {
   "cell_type": "code",
   "execution_count": 3,
   "metadata": {
    "ExecuteTime": {
     "end_time": "2022-03-31T08:52:53.016438Z",
     "start_time": "2022-03-31T08:52:52.984472Z"
    },
    "scrolled": true
   },
   "outputs": [
    {
     "data": {
      "text/html": [
       "<div>\n",
       "<style scoped>\n",
       "    .dataframe tbody tr th:only-of-type {\n",
       "        vertical-align: middle;\n",
       "    }\n",
       "\n",
       "    .dataframe tbody tr th {\n",
       "        vertical-align: top;\n",
       "    }\n",
       "\n",
       "    .dataframe thead th {\n",
       "        text-align: right;\n",
       "    }\n",
       "</style>\n",
       "<table border=\"1\" class=\"dataframe\">\n",
       "  <thead>\n",
       "    <tr style=\"text-align: right;\">\n",
       "      <th></th>\n",
       "      <th>TurbID</th>\n",
       "      <th>t1</th>\n",
       "      <th>Wspd</th>\n",
       "      <th>Wdir</th>\n",
       "      <th>Etmp</th>\n",
       "      <th>Itmp</th>\n",
       "      <th>Ndir</th>\n",
       "      <th>Pab1</th>\n",
       "      <th>Pab2</th>\n",
       "      <th>Pab3</th>\n",
       "      <th>Prtv</th>\n",
       "      <th>Patv</th>\n",
       "    </tr>\n",
       "  </thead>\n",
       "  <tbody>\n",
       "    <tr>\n",
       "      <th>0</th>\n",
       "      <td>1</td>\n",
       "      <td>2020-01-01 00:00:00</td>\n",
       "      <td>2.81</td>\n",
       "      <td>-2.00</td>\n",
       "      <td>16.61</td>\n",
       "      <td>30.95</td>\n",
       "      <td>148.0</td>\n",
       "      <td>0.03</td>\n",
       "      <td>0.03</td>\n",
       "      <td>0.03</td>\n",
       "      <td>-19.38</td>\n",
       "      <td>111.13</td>\n",
       "    </tr>\n",
       "    <tr>\n",
       "      <th>1</th>\n",
       "      <td>1</td>\n",
       "      <td>2020-01-01 00:15:00</td>\n",
       "      <td>2.48</td>\n",
       "      <td>-4.30</td>\n",
       "      <td>16.38</td>\n",
       "      <td>30.83</td>\n",
       "      <td>148.0</td>\n",
       "      <td>0.03</td>\n",
       "      <td>0.03</td>\n",
       "      <td>0.03</td>\n",
       "      <td>-15.69</td>\n",
       "      <td>75.30</td>\n",
       "    </tr>\n",
       "    <tr>\n",
       "      <th>2</th>\n",
       "      <td>1</td>\n",
       "      <td>2020-01-01 00:30:00</td>\n",
       "      <td>1.16</td>\n",
       "      <td>9.28</td>\n",
       "      <td>16.62</td>\n",
       "      <td>31.05</td>\n",
       "      <td>135.0</td>\n",
       "      <td>0.03</td>\n",
       "      <td>0.03</td>\n",
       "      <td>0.03</td>\n",
       "      <td>-2.50</td>\n",
       "      <td>9.54</td>\n",
       "    </tr>\n",
       "    <tr>\n",
       "      <th>3</th>\n",
       "      <td>1</td>\n",
       "      <td>2020-01-01 00:45:00</td>\n",
       "      <td>0.92</td>\n",
       "      <td>14.38</td>\n",
       "      <td>16.13</td>\n",
       "      <td>31.20</td>\n",
       "      <td>148.0</td>\n",
       "      <td>0.04</td>\n",
       "      <td>0.04</td>\n",
       "      <td>0.03</td>\n",
       "      <td>-0.70</td>\n",
       "      <td>0.00</td>\n",
       "    </tr>\n",
       "    <tr>\n",
       "      <th>4</th>\n",
       "      <td>1</td>\n",
       "      <td>2020-01-01 01:00:00</td>\n",
       "      <td>1.38</td>\n",
       "      <td>-4.28</td>\n",
       "      <td>15.12</td>\n",
       "      <td>29.52</td>\n",
       "      <td>148.0</td>\n",
       "      <td>89.68</td>\n",
       "      <td>89.69</td>\n",
       "      <td>89.50</td>\n",
       "      <td>-0.30</td>\n",
       "      <td>0.00</td>\n",
       "    </tr>\n",
       "    <tr>\n",
       "      <th>...</th>\n",
       "      <td>...</td>\n",
       "      <td>...</td>\n",
       "      <td>...</td>\n",
       "      <td>...</td>\n",
       "      <td>...</td>\n",
       "      <td>...</td>\n",
       "      <td>...</td>\n",
       "      <td>...</td>\n",
       "      <td>...</td>\n",
       "      <td>...</td>\n",
       "      <td>...</td>\n",
       "      <td>...</td>\n",
       "    </tr>\n",
       "    <tr>\n",
       "      <th>90043</th>\n",
       "      <td>134</td>\n",
       "      <td>2020-01-07 22:45:00</td>\n",
       "      <td>9.94</td>\n",
       "      <td>1.90</td>\n",
       "      <td>22.75</td>\n",
       "      <td>22.63</td>\n",
       "      <td>181.0</td>\n",
       "      <td>90.40</td>\n",
       "      <td>90.39</td>\n",
       "      <td>90.00</td>\n",
       "      <td>-0.30</td>\n",
       "      <td>0.00</td>\n",
       "    </tr>\n",
       "    <tr>\n",
       "      <th>90044</th>\n",
       "      <td>134</td>\n",
       "      <td>2020-01-07 23:00:00</td>\n",
       "      <td>9.94</td>\n",
       "      <td>1.90</td>\n",
       "      <td>22.75</td>\n",
       "      <td>22.63</td>\n",
       "      <td>181.0</td>\n",
       "      <td>90.40</td>\n",
       "      <td>90.39</td>\n",
       "      <td>90.00</td>\n",
       "      <td>-0.30</td>\n",
       "      <td>0.00</td>\n",
       "    </tr>\n",
       "    <tr>\n",
       "      <th>90045</th>\n",
       "      <td>134</td>\n",
       "      <td>2020-01-07 23:15:00</td>\n",
       "      <td>9.94</td>\n",
       "      <td>1.90</td>\n",
       "      <td>22.75</td>\n",
       "      <td>22.63</td>\n",
       "      <td>181.0</td>\n",
       "      <td>90.40</td>\n",
       "      <td>90.39</td>\n",
       "      <td>90.00</td>\n",
       "      <td>-0.30</td>\n",
       "      <td>0.00</td>\n",
       "    </tr>\n",
       "    <tr>\n",
       "      <th>90046</th>\n",
       "      <td>134</td>\n",
       "      <td>2020-01-07 23:30:00</td>\n",
       "      <td>9.94</td>\n",
       "      <td>1.90</td>\n",
       "      <td>22.75</td>\n",
       "      <td>22.63</td>\n",
       "      <td>181.0</td>\n",
       "      <td>90.40</td>\n",
       "      <td>90.39</td>\n",
       "      <td>90.00</td>\n",
       "      <td>-0.30</td>\n",
       "      <td>0.00</td>\n",
       "    </tr>\n",
       "    <tr>\n",
       "      <th>90047</th>\n",
       "      <td>134</td>\n",
       "      <td>2020-01-07 23:45:00</td>\n",
       "      <td>9.94</td>\n",
       "      <td>1.90</td>\n",
       "      <td>22.75</td>\n",
       "      <td>22.63</td>\n",
       "      <td>181.0</td>\n",
       "      <td>90.40</td>\n",
       "      <td>90.39</td>\n",
       "      <td>90.00</td>\n",
       "      <td>-0.30</td>\n",
       "      <td>0.00</td>\n",
       "    </tr>\n",
       "  </tbody>\n",
       "</table>\n",
       "<p>90048 rows × 12 columns</p>\n",
       "</div>"
      ],
      "text/plain": [
       "       TurbID                  t1  Wspd   Wdir   Etmp   Itmp   Ndir   Pab1  \\\n",
       "0           1 2020-01-01 00:00:00  2.81  -2.00  16.61  30.95  148.0   0.03   \n",
       "1           1 2020-01-01 00:15:00  2.48  -4.30  16.38  30.83  148.0   0.03   \n",
       "2           1 2020-01-01 00:30:00  1.16   9.28  16.62  31.05  135.0   0.03   \n",
       "3           1 2020-01-01 00:45:00  0.92  14.38  16.13  31.20  148.0   0.04   \n",
       "4           1 2020-01-01 01:00:00  1.38  -4.28  15.12  29.52  148.0  89.68   \n",
       "...       ...                 ...   ...    ...    ...    ...    ...    ...   \n",
       "90043     134 2020-01-07 22:45:00  9.94   1.90  22.75  22.63  181.0  90.40   \n",
       "90044     134 2020-01-07 23:00:00  9.94   1.90  22.75  22.63  181.0  90.40   \n",
       "90045     134 2020-01-07 23:15:00  9.94   1.90  22.75  22.63  181.0  90.40   \n",
       "90046     134 2020-01-07 23:30:00  9.94   1.90  22.75  22.63  181.0  90.40   \n",
       "90047     134 2020-01-07 23:45:00  9.94   1.90  22.75  22.63  181.0  90.40   \n",
       "\n",
       "        Pab2   Pab3   Prtv    Patv  \n",
       "0       0.03   0.03 -19.38  111.13  \n",
       "1       0.03   0.03 -15.69   75.30  \n",
       "2       0.03   0.03  -2.50    9.54  \n",
       "3       0.04   0.03  -0.70    0.00  \n",
       "4      89.69  89.50  -0.30    0.00  \n",
       "...      ...    ...    ...     ...  \n",
       "90043  90.39  90.00  -0.30    0.00  \n",
       "90044  90.39  90.00  -0.30    0.00  \n",
       "90045  90.39  90.00  -0.30    0.00  \n",
       "90046  90.39  90.00  -0.30    0.00  \n",
       "90047  90.39  90.00  -0.30    0.00  \n",
       "\n",
       "[90048 rows x 12 columns]"
      ]
     },
     "execution_count": 3,
     "metadata": {},
     "output_type": "execute_result"
    }
   ],
   "source": [
    "df"
   ]
  },
  {
   "cell_type": "markdown",
   "metadata": {},
   "source": [
    "## AutoX.AutoTS"
   ]
  },
  {
   "cell_type": "code",
   "execution_count": 4,
   "metadata": {
    "ExecuteTime": {
     "end_time": "2022-03-31T08:52:58.175431Z",
     "start_time": "2022-03-31T08:52:53.897283Z"
    },
    "scrolled": true
   },
   "outputs": [
    {
     "name": "stderr",
     "output_type": "stream",
     "text": [
      "/home/caihengxing/anaconda3/lib/python3.7/site-packages/sklearn/linear_model/least_angle.py:30: DeprecationWarning: `np.float` is a deprecated alias for the builtin `float`. To silence this warning, use `float` by itself. Doing this will not modify any behavior and is safe. If you specifically wanted the numpy scalar type, use `np.float64` here.\n",
      "Deprecated in NumPy 1.20; for more details and guidance: https://numpy.org/devdocs/release/1.20.0-notes.html#deprecations\n",
      "  method='lar', copy_X=True, eps=np.finfo(np.float).eps,\n",
      "/home/caihengxing/anaconda3/lib/python3.7/site-packages/sklearn/linear_model/least_angle.py:167: DeprecationWarning: `np.float` is a deprecated alias for the builtin `float`. To silence this warning, use `float` by itself. Doing this will not modify any behavior and is safe. If you specifically wanted the numpy scalar type, use `np.float64` here.\n",
      "Deprecated in NumPy 1.20; for more details and guidance: https://numpy.org/devdocs/release/1.20.0-notes.html#deprecations\n",
      "  method='lar', copy_X=True, eps=np.finfo(np.float).eps,\n",
      "/home/caihengxing/anaconda3/lib/python3.7/site-packages/sklearn/linear_model/least_angle.py:284: DeprecationWarning: `np.float` is a deprecated alias for the builtin `float`. To silence this warning, use `float` by itself. Doing this will not modify any behavior and is safe. If you specifically wanted the numpy scalar type, use `np.float64` here.\n",
      "Deprecated in NumPy 1.20; for more details and guidance: https://numpy.org/devdocs/release/1.20.0-notes.html#deprecations\n",
      "  eps=np.finfo(np.float).eps, copy_Gram=True, verbose=0,\n",
      "/home/caihengxing/anaconda3/lib/python3.7/site-packages/sklearn/linear_model/least_angle.py:862: DeprecationWarning: `np.float` is a deprecated alias for the builtin `float`. To silence this warning, use `float` by itself. Doing this will not modify any behavior and is safe. If you specifically wanted the numpy scalar type, use `np.float64` here.\n",
      "Deprecated in NumPy 1.20; for more details and guidance: https://numpy.org/devdocs/release/1.20.0-notes.html#deprecations\n",
      "  eps=np.finfo(np.float).eps, copy_X=True, fit_path=True,\n",
      "/home/caihengxing/anaconda3/lib/python3.7/site-packages/sklearn/linear_model/least_angle.py:1101: DeprecationWarning: `np.float` is a deprecated alias for the builtin `float`. To silence this warning, use `float` by itself. Doing this will not modify any behavior and is safe. If you specifically wanted the numpy scalar type, use `np.float64` here.\n",
      "Deprecated in NumPy 1.20; for more details and guidance: https://numpy.org/devdocs/release/1.20.0-notes.html#deprecations\n",
      "  eps=np.finfo(np.float).eps, copy_X=True, fit_path=True,\n",
      "/home/caihengxing/anaconda3/lib/python3.7/site-packages/sklearn/linear_model/least_angle.py:1127: DeprecationWarning: `np.float` is a deprecated alias for the builtin `float`. To silence this warning, use `float` by itself. Doing this will not modify any behavior and is safe. If you specifically wanted the numpy scalar type, use `np.float64` here.\n",
      "Deprecated in NumPy 1.20; for more details and guidance: https://numpy.org/devdocs/release/1.20.0-notes.html#deprecations\n",
      "  eps=np.finfo(np.float).eps, positive=False):\n",
      "/home/caihengxing/anaconda3/lib/python3.7/site-packages/sklearn/linear_model/least_angle.py:1362: DeprecationWarning: `np.float` is a deprecated alias for the builtin `float`. To silence this warning, use `float` by itself. Doing this will not modify any behavior and is safe. If you specifically wanted the numpy scalar type, use `np.float64` here.\n",
      "Deprecated in NumPy 1.20; for more details and guidance: https://numpy.org/devdocs/release/1.20.0-notes.html#deprecations\n",
      "  max_n_alphas=1000, n_jobs=None, eps=np.finfo(np.float).eps,\n",
      "/home/caihengxing/anaconda3/lib/python3.7/site-packages/sklearn/linear_model/least_angle.py:1602: DeprecationWarning: `np.float` is a deprecated alias for the builtin `float`. To silence this warning, use `float` by itself. Doing this will not modify any behavior and is safe. If you specifically wanted the numpy scalar type, use `np.float64` here.\n",
      "Deprecated in NumPy 1.20; for more details and guidance: https://numpy.org/devdocs/release/1.20.0-notes.html#deprecations\n",
      "  max_n_alphas=1000, n_jobs=None, eps=np.finfo(np.float).eps,\n",
      "/home/caihengxing/anaconda3/lib/python3.7/site-packages/sklearn/linear_model/least_angle.py:1738: DeprecationWarning: `np.float` is a deprecated alias for the builtin `float`. To silence this warning, use `float` by itself. Doing this will not modify any behavior and is safe. If you specifically wanted the numpy scalar type, use `np.float64` here.\n",
      "Deprecated in NumPy 1.20; for more details and guidance: https://numpy.org/devdocs/release/1.20.0-notes.html#deprecations\n",
      "  eps=np.finfo(np.float).eps, copy_X=True, positive=False):\n",
      "/home/caihengxing/anaconda3/lib/python3.7/site-packages/sklearn/decomposition/online_lda.py:29: DeprecationWarning: `np.float` is a deprecated alias for the builtin `float`. To silence this warning, use `float` by itself. Doing this will not modify any behavior and is safe. If you specifically wanted the numpy scalar type, use `np.float64` here.\n",
      "Deprecated in NumPy 1.20; for more details and guidance: https://numpy.org/devdocs/release/1.20.0-notes.html#deprecations\n",
      "  EPS = np.finfo(np.float).eps\n",
      "/home/caihengxing/anaconda3/lib/python3.7/site-packages/sklearn/feature_extraction/image.py:167: DeprecationWarning: `np.int` is a deprecated alias for the builtin `int`. To silence this warning, use `int` by itself. Doing this will not modify any behavior and is safe. When replacing `np.int`, you may wish to use e.g. `np.int64` or `np.int32` to specify the precision. If you wish to review your current use, check the release note link for additional information.\n",
      "Deprecated in NumPy 1.20; for more details and guidance: https://numpy.org/devdocs/release/1.20.0-notes.html#deprecations\n",
      "  dtype=np.int):\n"
     ]
    }
   ],
   "source": [
    "from autox import AutoTS\n",
    "autots = AutoTS(df = df,\n",
    "                id_col = 'TurbID',\n",
    "                time_col = 't1',\n",
    "                target_col = 'Patv',\n",
    "                time_varying_cols = ['Wspd', 'Wdir', 'Etmp', 'Itmp', 'Ndir', 'Pab1', 'Pab2', 'Pab3', 'Prtv', 'Patv'],\n",
    "                time_interval_num = 15,\n",
    "                time_interval_unit = 'minute',\n",
    "                forecast_period = 4*24*2)"
   ]
  },
  {
   "cell_type": "code",
   "execution_count": 5,
   "metadata": {
    "ExecuteTime": {
     "end_time": "2022-03-31T09:36:23.271840Z",
     "start_time": "2022-03-31T08:52:59.057757Z"
    },
    "scrolled": true
   },
   "outputs": [
    {
     "name": "stderr",
     "output_type": "stream",
     "text": [
      "   INFO ->  [+] feature engineer\n",
      "   INFO ->  [+] fe_rolling_stat\n",
      "100%|██████████| 4/4 [00:19<00:00,  4.92s/it]\n",
      "   INFO ->  [+] fe_lag\n",
      "   INFO ->  [+] fe_diff\n",
      "   INFO ->  [+] fe_time\n",
      "   INFO ->  [+] feature combination\n",
      "100%|██████████| 4/4 [00:00<00:00,  4.85it/s]\n",
      "   INFO ->  [+] construct data\n",
      "  0%|          | 0/192 [00:00<?, ?it/s]   INFO ->  [+] sample data, frac=0.2891976131248519\n",
      "  1%|          | 1/192 [00:04<13:34,  4.26s/it]   INFO ->  [+] sample data, frac=0.2891976131248519\n",
      "  1%|          | 2/192 [00:08<13:55,  4.40s/it]   INFO ->  [+] sample data, frac=0.2891976131248519\n",
      "  2%|▏         | 3/192 [00:13<13:53,  4.41s/it]   INFO ->  [+] sample data, frac=0.2891976131248519\n",
      "  2%|▏         | 4/192 [00:17<13:48,  4.41s/it]   INFO ->  [+] sample data, frac=0.2891976131248519\n",
      "  3%|▎         | 5/192 [00:22<13:48,  4.43s/it]   INFO ->  [+] sample data, frac=0.2891976131248519\n",
      "  3%|▎         | 6/192 [00:26<13:43,  4.43s/it]   INFO ->  [+] sample data, frac=0.2891976131248519\n",
      "  4%|▎         | 7/192 [00:30<13:34,  4.40s/it]   INFO ->  [+] sample data, frac=0.2891976131248519\n",
      "  4%|▍         | 8/192 [00:35<14:02,  4.58s/it]   INFO ->  [+] sample data, frac=0.2891976131248519\n",
      "  5%|▍         | 9/192 [00:40<13:58,  4.58s/it]   INFO ->  [+] sample data, frac=0.2891976131248519\n",
      "  5%|▌         | 10/192 [00:45<14:02,  4.63s/it]   INFO ->  [+] sample data, frac=0.2891976131248519\n",
      "  6%|▌         | 11/192 [00:49<14:06,  4.67s/it]   INFO ->  [+] sample data, frac=0.2891976131248519\n",
      "  6%|▋         | 12/192 [00:54<14:20,  4.78s/it]   INFO ->  [+] sample data, frac=0.2891976131248519\n",
      "  7%|▋         | 13/192 [00:59<14:24,  4.83s/it]   INFO ->  [+] sample data, frac=0.2891976131248519\n",
      "  7%|▋         | 14/192 [01:04<14:29,  4.89s/it]   INFO ->  [+] sample data, frac=0.2891976131248519\n",
      "  8%|▊         | 15/192 [01:10<14:42,  4.98s/it]   INFO ->  [+] sample data, frac=0.2891976131248519\n",
      "  8%|▊         | 16/192 [01:15<14:55,  5.09s/it]   INFO ->  [+] sample data, frac=0.2891976131248519\n",
      "  9%|▉         | 17/192 [01:20<15:05,  5.18s/it]   INFO ->  [+] sample data, frac=0.2891976131248519\n",
      "  9%|▉         | 18/192 [01:26<15:18,  5.28s/it]   INFO ->  [+] sample data, frac=0.2891976131248519\n",
      " 10%|▉         | 19/192 [01:31<15:20,  5.32s/it]   INFO ->  [+] sample data, frac=0.2891976131248519\n",
      " 10%|█         | 20/192 [01:36<15:04,  5.26s/it]   INFO ->  [+] sample data, frac=0.2891976131248519\n",
      " 11%|█         | 21/192 [01:42<15:12,  5.33s/it]   INFO ->  [+] sample data, frac=0.2891976131248519\n",
      " 11%|█▏        | 22/192 [01:48<15:29,  5.47s/it]   INFO ->  [+] sample data, frac=0.2891976131248519\n",
      " 12%|█▏        | 23/192 [01:53<15:32,  5.52s/it]   INFO ->  [+] sample data, frac=0.2891976131248519\n",
      " 12%|█▎        | 24/192 [01:59<15:15,  5.45s/it]   INFO ->  [+] sample data, frac=0.2891976131248519\n",
      " 13%|█▎        | 25/192 [02:04<15:05,  5.42s/it]   INFO ->  [+] sample data, frac=0.2891976131248519\n",
      " 14%|█▎        | 26/192 [02:09<14:58,  5.41s/it]   INFO ->  [+] sample data, frac=0.2891976131248519\n",
      " 14%|█▍        | 27/192 [02:15<15:07,  5.50s/it]   INFO ->  [+] sample data, frac=0.2891976131248519\n",
      " 15%|█▍        | 28/192 [02:21<15:06,  5.53s/it]   INFO ->  [+] sample data, frac=0.2891976131248519\n",
      " 15%|█▌        | 29/192 [02:26<15:11,  5.59s/it]   INFO ->  [+] sample data, frac=0.2891976131248519\n",
      " 16%|█▌        | 30/192 [02:32<15:09,  5.62s/it]   INFO ->  [+] sample data, frac=0.2891976131248519\n",
      " 16%|█▌        | 31/192 [02:38<15:22,  5.73s/it]   INFO ->  [+] sample data, frac=0.2891976131248519\n",
      " 17%|█▋        | 32/192 [02:44<15:26,  5.79s/it]   INFO ->  [+] sample data, frac=0.2891976131248519\n",
      " 17%|█▋        | 33/192 [02:50<15:38,  5.90s/it]   INFO ->  [+] sample data, frac=0.2891976131248519\n",
      " 18%|█▊        | 34/192 [02:56<15:42,  5.97s/it]   INFO ->  [+] sample data, frac=0.2891976131248519\n",
      " 18%|█▊        | 35/192 [03:02<15:41,  6.00s/it]   INFO ->  [+] sample data, frac=0.2891976131248519\n",
      " 19%|█▉        | 36/192 [03:08<15:40,  6.03s/it]   INFO ->  [+] sample data, frac=0.2891976131248519\n",
      " 19%|█▉        | 37/192 [03:15<15:43,  6.08s/it]   INFO ->  [+] sample data, frac=0.2891976131248519\n",
      " 20%|█▉        | 38/192 [03:21<15:50,  6.17s/it]   INFO ->  [+] sample data, frac=0.2891976131248519\n",
      " 20%|██        | 39/192 [03:27<15:53,  6.23s/it]   INFO ->  [+] sample data, frac=0.2891976131248519\n",
      " 21%|██        | 40/192 [03:34<15:54,  6.28s/it]   INFO ->  [+] sample data, frac=0.2891976131248519\n",
      " 21%|██▏       | 41/192 [03:40<16:03,  6.38s/it]   INFO ->  [+] sample data, frac=0.2891976131248519\n",
      " 22%|██▏       | 42/192 [03:47<16:13,  6.49s/it]   INFO ->  [+] sample data, frac=0.2891976131248519\n",
      " 22%|██▏       | 43/192 [03:54<16:20,  6.58s/it]   INFO ->  [+] sample data, frac=0.2891976131248519\n",
      " 23%|██▎       | 44/192 [04:01<16:22,  6.64s/it]   INFO ->  [+] sample data, frac=0.2891976131248519\n",
      " 23%|██▎       | 45/192 [04:08<16:25,  6.70s/it]   INFO ->  [+] sample data, frac=0.2891976131248519\n",
      " 24%|██▍       | 46/192 [04:14<16:28,  6.77s/it]   INFO ->  [+] sample data, frac=0.2891976131248519\n",
      " 24%|██▍       | 47/192 [04:21<16:30,  6.83s/it]   INFO ->  [+] sample data, frac=0.2891976131248519\n",
      " 25%|██▌       | 48/192 [04:28<16:29,  6.87s/it]   INFO ->  [+] sample data, frac=0.2891976131248519\n",
      " 26%|██▌       | 49/192 [04:35<16:31,  6.93s/it]   INFO ->  [+] sample data, frac=0.2891976131248519\n",
      " 26%|██▌       | 50/192 [04:43<16:32,  6.99s/it]   INFO ->  [+] sample data, frac=0.2891976131248519\n",
      " 27%|██▋       | 51/192 [04:50<16:41,  7.11s/it]   INFO ->  [+] sample data, frac=0.2891976131248519\n",
      " 27%|██▋       | 52/192 [04:57<16:52,  7.23s/it]   INFO ->  [+] sample data, frac=0.2891976131248519\n",
      " 28%|██▊       | 53/192 [05:05<16:55,  7.31s/it]   INFO ->  [+] sample data, frac=0.2891976131248519\n",
      " 28%|██▊       | 54/192 [05:12<16:55,  7.36s/it]   INFO ->  [+] sample data, frac=0.2891976131248519\n",
      " 29%|██▊       | 55/192 [05:20<16:54,  7.41s/it]   INFO ->  [+] sample data, frac=0.2891976131248519\n",
      " 29%|██▉       | 56/192 [05:28<16:55,  7.47s/it]   INFO ->  [+] sample data, frac=0.2891976131248519\n",
      " 30%|██▉       | 57/192 [05:35<16:57,  7.54s/it]   INFO ->  [+] sample data, frac=0.2891976131248519\n",
      " 30%|███       | 58/192 [05:43<17:07,  7.67s/it]   INFO ->  [+] sample data, frac=0.2891976131248519\n",
      " 31%|███       | 59/192 [05:51<17:05,  7.71s/it]   INFO ->  [+] sample data, frac=0.2891976131248519\n",
      " 31%|███▏      | 60/192 [05:59<16:56,  7.70s/it]   INFO ->  [+] sample data, frac=0.2891976131248519\n",
      " 32%|███▏      | 61/192 [06:07<16:57,  7.77s/it]   INFO ->  [+] sample data, frac=0.2891976131248519\n",
      " 32%|███▏      | 62/192 [06:15<17:00,  7.85s/it]   INFO ->  [+] sample data, frac=0.2891976131248519\n",
      " 33%|███▎      | 63/192 [06:23<17:02,  7.92s/it]   INFO ->  [+] sample data, frac=0.2891976131248519\n",
      " 33%|███▎      | 64/192 [06:31<17:02,  7.99s/it]   INFO ->  [+] sample data, frac=0.2891976131248519\n",
      " 34%|███▍      | 65/192 [06:39<16:54,  7.99s/it]   INFO ->  [+] sample data, frac=0.2891976131248519\n",
      " 34%|███▍      | 66/192 [06:47<16:53,  8.04s/it]   INFO ->  [+] sample data, frac=0.2891976131248519\n",
      " 35%|███▍      | 67/192 [06:55<16:54,  8.12s/it]   INFO ->  [+] sample data, frac=0.2891976131248519\n",
      " 35%|███▌      | 68/192 [07:04<16:55,  8.19s/it]   INFO ->  [+] sample data, frac=0.2891976131248519\n",
      " 36%|███▌      | 69/192 [07:12<16:57,  8.27s/it]   INFO ->  [+] sample data, frac=0.2891976131248519\n",
      " 36%|███▋      | 70/192 [07:21<16:53,  8.31s/it]   INFO ->  [+] sample data, frac=0.2891976131248519\n",
      " 37%|███▋      | 71/192 [07:29<17:01,  8.44s/it]   INFO ->  [+] sample data, frac=0.2891976131248519\n",
      " 38%|███▊      | 72/192 [07:38<16:53,  8.45s/it]   INFO ->  [+] sample data, frac=0.2891976131248519\n",
      " 38%|███▊      | 73/192 [07:46<16:51,  8.50s/it]   INFO ->  [+] sample data, frac=0.2891976131248519\n",
      " 39%|███▊      | 74/192 [07:55<16:58,  8.63s/it]   INFO ->  [+] sample data, frac=0.2891976131248519\n",
      " 39%|███▉      | 75/192 [08:04<16:58,  8.71s/it]   INFO ->  [+] sample data, frac=0.2891976131248519\n",
      " 40%|███▉      | 76/192 [08:13<16:58,  8.78s/it]   INFO ->  [+] sample data, frac=0.2891976131248519\n",
      " 40%|████      | 77/192 [08:22<17:03,  8.90s/it]   INFO ->  [+] sample data, frac=0.2891976131248519\n",
      " 41%|████      | 78/192 [08:31<16:59,  8.95s/it]   INFO ->  [+] sample data, frac=0.2891976131248519\n",
      " 41%|████      | 79/192 [08:41<17:00,  9.03s/it]   INFO ->  [+] sample data, frac=0.2891976131248519\n",
      " 42%|████▏     | 80/192 [08:50<17:01,  9.12s/it]   INFO ->  [+] sample data, frac=0.2891976131248519\n",
      " 42%|████▏     | 81/192 [08:59<17:04,  9.23s/it]   INFO ->  [+] sample data, frac=0.2891976131248519\n",
      " 43%|████▎     | 82/192 [09:09<17:01,  9.28s/it]   INFO ->  [+] sample data, frac=0.2891976131248519\n",
      " 43%|████▎     | 83/192 [09:18<16:57,  9.34s/it]   INFO ->  [+] sample data, frac=0.2891976131248519\n",
      " 44%|████▍     | 84/192 [09:28<16:46,  9.32s/it]   INFO ->  [+] sample data, frac=0.2891976131248519\n",
      " 44%|████▍     | 85/192 [09:37<16:47,  9.42s/it]   INFO ->  [+] sample data, frac=0.2891976131248519\n",
      " 45%|████▍     | 86/192 [09:47<16:44,  9.47s/it]   INFO ->  [+] sample data, frac=0.2891976131248519\n",
      " 45%|████▌     | 87/192 [09:57<17:05,  9.77s/it]   INFO ->  [+] sample data, frac=0.2891976131248519\n",
      " 46%|████▌     | 88/192 [10:08<17:13,  9.94s/it]   INFO ->  [+] sample data, frac=0.2891976131248519\n",
      " 46%|████▋     | 89/192 [10:18<17:14, 10.05s/it]   INFO ->  [+] sample data, frac=0.2891976131248519\n",
      " 47%|████▋     | 90/192 [10:29<17:22, 10.22s/it]   INFO ->  [+] sample data, frac=0.2891976131248519\n",
      " 47%|████▋     | 91/192 [10:38<16:57, 10.07s/it]   INFO ->  [+] sample data, frac=0.2891976131248519\n",
      " 48%|████▊     | 92/192 [10:48<16:45, 10.06s/it]   INFO ->  [+] sample data, frac=0.2891976131248519\n",
      " 48%|████▊     | 93/192 [10:59<16:45, 10.16s/it]   INFO ->  [+] sample data, frac=0.2891976131248519\n",
      " 49%|████▉     | 94/192 [11:09<16:40, 10.21s/it]   INFO ->  [+] sample data, frac=0.2891976131248519\n",
      " 49%|████▉     | 95/192 [11:19<16:27, 10.18s/it]   INFO ->  [+] sample data, frac=0.2891976131248519\n",
      " 50%|█████     | 96/192 [11:30<16:23, 10.25s/it]   INFO ->  [+] sample data, frac=0.2891976131248519\n",
      " 51%|█████     | 97/192 [11:40<16:15, 10.27s/it]   INFO ->  [+] sample data, frac=0.2891976131248519\n",
      " 51%|█████     | 98/192 [11:50<16:10, 10.33s/it]   INFO ->  [+] sample data, frac=0.2891976131248519\n",
      " 52%|█████▏    | 99/192 [12:01<16:08, 10.42s/it]   INFO ->  [+] sample data, frac=0.2891976131248519\n",
      " 52%|█████▏    | 100/192 [12:12<16:05, 10.49s/it]   INFO ->  [+] sample data, frac=0.2891976131248519\n",
      " 53%|█████▎    | 101/192 [12:22<15:57, 10.52s/it]   INFO ->  [+] sample data, frac=0.2891976131248519\n",
      " 53%|█████▎    | 102/192 [12:33<16:00, 10.67s/it]   INFO ->  [+] sample data, frac=0.2891976131248519\n",
      " 54%|█████▎    | 103/192 [12:44<15:54, 10.73s/it]   INFO ->  [+] sample data, frac=0.2891976131248519\n",
      " 54%|█████▍    | 104/192 [12:55<15:49, 10.79s/it]   INFO ->  [+] sample data, frac=0.2891976131248519\n",
      " 55%|█████▍    | 105/192 [13:06<15:49, 10.92s/it]   INFO ->  [+] sample data, frac=0.2891976131248519\n",
      " 55%|█████▌    | 106/192 [13:18<15:48, 11.02s/it]   INFO ->  [+] sample data, frac=0.2891976131248519\n",
      " 56%|█████▌    | 107/192 [13:28<15:31, 10.95s/it]   INFO ->  [+] sample data, frac=0.2891976131248519\n",
      " 56%|█████▋    | 108/192 [13:40<15:30, 11.08s/it]   INFO ->  [+] sample data, frac=0.2891976131248519\n",
      " 57%|█████▋    | 109/192 [13:51<15:21, 11.11s/it]   INFO ->  [+] sample data, frac=0.2891976131248519\n",
      " 57%|█████▋    | 110/192 [14:02<15:12, 11.13s/it]   INFO ->  [+] sample data, frac=0.2891976131248519\n",
      " 58%|█████▊    | 111/192 [14:14<15:12, 11.27s/it]   INFO ->  [+] sample data, frac=0.2891976131248519\n",
      " 58%|█████▊    | 112/192 [14:25<15:05, 11.31s/it]   INFO ->  [+] sample data, frac=0.2891976131248519\n",
      " 59%|█████▉    | 113/192 [14:36<14:51, 11.29s/it]   INFO ->  [+] sample data, frac=0.2891976131248519\n",
      " 59%|█████▉    | 114/192 [14:48<14:56, 11.50s/it]   INFO ->  [+] sample data, frac=0.2891976131248519\n",
      " 60%|█████▉    | 115/192 [15:00<14:48, 11.54s/it]   INFO ->  [+] sample data, frac=0.2891976131248519\n",
      " 60%|██████    | 116/192 [15:12<14:39, 11.58s/it]   INFO ->  [+] sample data, frac=0.2891976131248519\n",
      " 61%|██████    | 117/192 [15:24<14:44, 11.80s/it]   INFO ->  [+] sample data, frac=0.2891976131248519\n",
      " 61%|██████▏   | 118/192 [15:36<14:29, 11.75s/it]   INFO ->  [+] sample data, frac=0.2891976131248519\n",
      " 62%|██████▏   | 119/192 [15:47<14:17, 11.74s/it]   INFO ->  [+] sample data, frac=0.2891976131248519\n",
      " 62%|██████▎   | 120/192 [15:59<14:15, 11.88s/it]   INFO ->  [+] sample data, frac=0.2891976131248519\n",
      " 63%|██████▎   | 121/192 [16:11<14:01, 11.85s/it]   INFO ->  [+] sample data, frac=0.2891976131248519\n",
      " 64%|██████▎   | 122/192 [16:24<14:00, 12.01s/it]   INFO ->  [+] sample data, frac=0.2891976131248519\n",
      " 64%|██████▍   | 123/192 [16:36<13:47, 12.00s/it]   INFO ->  [+] sample data, frac=0.2891976131248519\n",
      " 65%|██████▍   | 124/192 [16:48<13:37, 12.02s/it]   INFO ->  [+] sample data, frac=0.2891976131248519\n",
      " 65%|██████▌   | 125/192 [17:00<13:37, 12.20s/it]   INFO ->  [+] sample data, frac=0.2891976131248519\n",
      " 66%|██████▌   | 126/192 [17:13<13:30, 12.28s/it]   INFO ->  [+] sample data, frac=0.2891976131248519\n",
      " 66%|██████▌   | 127/192 [17:26<13:31, 12.49s/it]   INFO ->  [+] sample data, frac=0.2891976131248519\n",
      " 67%|██████▋   | 128/192 [17:38<13:18, 12.48s/it]   INFO ->  [+] sample data, frac=0.2891976131248519\n",
      " 67%|██████▋   | 129/192 [17:50<13:02, 12.42s/it]   INFO ->  [+] sample data, frac=0.2891976131248519\n",
      " 68%|██████▊   | 130/192 [18:04<13:01, 12.60s/it]   INFO ->  [+] sample data, frac=0.2891976131248519\n",
      " 68%|██████▊   | 131/192 [18:16<12:46, 12.56s/it]   INFO ->  [+] sample data, frac=0.2891976131248519\n",
      " 69%|██████▉   | 132/192 [18:29<12:47, 12.80s/it]   INFO ->  [+] sample data, frac=0.2891976131248519\n",
      " 69%|██████▉   | 133/192 [18:42<12:38, 12.85s/it]   INFO ->  [+] sample data, frac=0.2891976131248519\n",
      " 70%|██████▉   | 134/192 [18:55<12:21, 12.78s/it]   INFO ->  [+] sample data, frac=0.2891976131248519\n",
      " 70%|███████   | 135/192 [19:08<12:18, 12.96s/it]   INFO ->  [+] sample data, frac=0.2891976131248519\n",
      " 71%|███████   | 136/192 [19:21<12:06, 12.98s/it]   INFO ->  [+] sample data, frac=0.2891976131248519\n",
      " 71%|███████▏  | 137/192 [19:35<12:10, 13.28s/it]   INFO ->  [+] sample data, frac=0.2891976131248519\n",
      " 72%|███████▏  | 138/192 [19:48<11:55, 13.26s/it]   INFO ->  [+] sample data, frac=0.2891976131248519\n",
      " 72%|███████▏  | 139/192 [20:02<11:40, 13.22s/it]   INFO ->  [+] sample data, frac=0.2891976131248519\n",
      " 73%|███████▎  | 140/192 [20:15<11:33, 13.34s/it]   INFO ->  [+] sample data, frac=0.2891976131248519\n",
      " 73%|███████▎  | 141/192 [20:28<11:16, 13.26s/it]   INFO ->  [+] sample data, frac=0.2891976131248519\n",
      " 74%|███████▍  | 142/192 [20:42<11:15, 13.51s/it]   INFO ->  [+] sample data, frac=0.2891976131248519\n",
      " 74%|███████▍  | 143/192 [20:56<11:04, 13.56s/it]   INFO ->  [+] sample data, frac=0.2891976131248519\n",
      " 75%|███████▌  | 144/192 [21:09<10:46, 13.46s/it]   INFO ->  [+] sample data, frac=0.2891976131248519\n",
      " 76%|███████▌  | 145/192 [21:23<10:38, 13.58s/it]   INFO ->  [+] sample data, frac=0.2891976131248519\n",
      " 76%|███████▌  | 146/192 [21:37<10:26, 13.61s/it]   INFO ->  [+] sample data, frac=0.2891976131248519\n",
      " 77%|███████▋  | 147/192 [21:51<10:26, 13.91s/it]   INFO ->  [+] sample data, frac=0.2891976131248519\n",
      " 77%|███████▋  | 148/192 [22:06<10:15, 13.99s/it]   INFO ->  [+] sample data, frac=0.2891976131248519\n",
      " 78%|███████▊  | 149/192 [22:23<10:47, 15.07s/it]   INFO ->  [+] sample data, frac=0.2891976131248519\n",
      " 78%|███████▊  | 150/192 [22:41<11:03, 15.79s/it]   INFO ->  [+] sample data, frac=0.2891976131248519\n",
      " 79%|███████▊  | 151/192 [22:58<11:06, 16.26s/it]   INFO ->  [+] sample data, frac=0.2891976131248519\n",
      " 79%|███████▉  | 152/192 [23:15<11:04, 16.61s/it]   INFO ->  [+] sample data, frac=0.2891976131248519\n",
      " 80%|███████▉  | 153/192 [23:32<10:45, 16.56s/it]   INFO ->  [+] sample data, frac=0.2891976131248519\n",
      " 80%|████████  | 154/192 [23:46<10:00, 15.79s/it]   INFO ->  [+] sample data, frac=0.2891976131248519\n",
      " 81%|████████  | 155/192 [24:01<09:32, 15.46s/it]   INFO ->  [+] sample data, frac=0.2891976131248519\n",
      " 81%|████████▏ | 156/192 [24:15<09:01, 15.04s/it]   INFO ->  [+] sample data, frac=0.2891976131248519\n",
      " 82%|████████▏ | 157/192 [24:29<08:41, 14.90s/it]   INFO ->  [+] sample data, frac=0.2891976131248519\n",
      " 82%|████████▏ | 158/192 [24:44<08:22, 14.77s/it]   INFO ->  [+] sample data, frac=0.2891976131248519\n",
      " 83%|████████▎ | 159/192 [24:59<08:08, 14.81s/it]   INFO ->  [+] sample data, frac=0.2891976131248519\n",
      " 83%|████████▎ | 160/192 [25:13<07:49, 14.68s/it]   INFO ->  [+] sample data, frac=0.2891976131248519\n",
      " 84%|████████▍ | 161/192 [25:28<07:38, 14.79s/it]   INFO ->  [+] sample data, frac=0.2891976131248519\n",
      " 84%|████████▍ | 162/192 [25:43<07:23, 14.78s/it]   INFO ->  [+] sample data, frac=0.2891976131248519\n",
      " 85%|████████▍ | 163/192 [25:58<07:10, 14.84s/it]   INFO ->  [+] sample data, frac=0.2891976131248519\n",
      " 85%|████████▌ | 164/192 [26:13<06:56, 14.86s/it]   INFO ->  [+] sample data, frac=0.2891976131248519\n",
      " 86%|████████▌ | 165/192 [26:29<06:51, 15.23s/it]   INFO ->  [+] sample data, frac=0.2891976131248519\n",
      " 86%|████████▋ | 166/192 [26:44<06:37, 15.27s/it]   INFO ->  [+] sample data, frac=0.2891976131248519\n",
      " 87%|████████▋ | 167/192 [26:59<06:18, 15.16s/it]   INFO ->  [+] sample data, frac=0.2891976131248519\n",
      " 88%|████████▊ | 168/192 [27:15<06:07, 15.30s/it]   INFO ->  [+] sample data, frac=0.2891976131248519\n",
      " 88%|████████▊ | 169/192 [27:30<05:50, 15.24s/it]   INFO ->  [+] sample data, frac=0.2891976131248519\n",
      " 89%|████████▊ | 170/192 [27:46<05:44, 15.65s/it]   INFO ->  [+] sample data, frac=0.2891976131248519\n",
      " 89%|████████▉ | 171/192 [28:02<05:27, 15.61s/it]   INFO ->  [+] sample data, frac=0.2891976131248519\n",
      " 90%|████████▉ | 172/192 [28:17<05:08, 15.44s/it]   INFO ->  [+] sample data, frac=0.2891976131248519\n",
      " 90%|█████████ | 173/192 [28:36<05:15, 16.58s/it]   INFO ->  [+] sample data, frac=0.2891976131248519\n",
      " 91%|█████████ | 174/192 [28:56<05:16, 17.60s/it]   INFO ->  [+] sample data, frac=0.2891976131248519\n",
      " 91%|█████████ | 175/192 [29:16<05:11, 18.29s/it]   INFO ->  [+] sample data, frac=0.2891976131248519\n",
      " 92%|█████████▏| 176/192 [29:34<04:51, 18.22s/it]   INFO ->  [+] sample data, frac=0.2891976131248519\n",
      " 92%|█████████▏| 177/192 [29:50<04:21, 17.41s/it]   INFO ->  [+] sample data, frac=0.2891976131248519\n",
      " 93%|█████████▎| 178/192 [30:06<04:00, 17.15s/it]   INFO ->  [+] sample data, frac=0.2891976131248519\n",
      " 93%|█████████▎| 179/192 [30:22<03:38, 16.81s/it]   INFO ->  [+] sample data, frac=0.2891976131248519\n",
      " 94%|█████████▍| 180/192 [30:39<03:20, 16.70s/it]   INFO ->  [+] sample data, frac=0.2891976131248519\n",
      " 94%|█████████▍| 181/192 [30:55<03:01, 16.51s/it]   INFO ->  [+] sample data, frac=0.2891976131248519\n",
      " 95%|█████████▍| 182/192 [31:12<02:47, 16.78s/it]   INFO ->  [+] sample data, frac=0.2891976131248519\n",
      " 95%|█████████▌| 183/192 [31:28<02:29, 16.64s/it]   INFO ->  [+] sample data, frac=0.2891976131248519\n",
      " 96%|█████████▌| 184/192 [31:44<02:11, 16.38s/it]   INFO ->  [+] sample data, frac=0.2891976131248519\n",
      " 96%|█████████▋| 185/192 [32:01<01:55, 16.46s/it]   INFO ->  [+] sample data, frac=0.2891976131248519\n",
      " 97%|█████████▋| 186/192 [32:17<01:38, 16.34s/it]   INFO ->  [+] sample data, frac=0.2891976131248519\n",
      " 97%|█████████▋| 187/192 [32:34<01:22, 16.49s/it]   INFO ->  [+] sample data, frac=0.2891976131248519\n",
      " 98%|█████████▊| 188/192 [32:50<01:05, 16.49s/it]   INFO ->  [+] sample data, frac=0.2891976131248519\n",
      " 98%|█████████▊| 189/192 [33:07<00:49, 16.62s/it]   INFO ->  [+] sample data, frac=0.2891976131248519\n",
      " 99%|█████████▉| 190/192 [33:24<00:33, 16.64s/it]   INFO ->  [+] sample data, frac=0.2891976131248519\n",
      " 99%|█████████▉| 191/192 [33:41<00:16, 16.78s/it]   INFO ->  [+] sample data, frac=0.2891976131248519\n",
      "100%|██████████| 192/192 [33:57<00:00, 10.61s/it]\n",
      "   INFO ->  [+] fe_time_add\n",
      "   INFO ->  [+] fe_time_add\n",
      "   INFO ->  [+] feature_filter\n",
      "100%|██████████| 375/375 [00:28<00:00, 13.18it/s]\n",
      "   INFO ->  [+] train model\n"
     ]
    },
    {
     "name": "stdout",
     "output_type": "stream",
     "text": [
      "not_used: ['t2_quarter', 't2_is_month_end', 't1_year', 't1_quarter', 't2_year', 't2_day', 't1', 't1_is_month_end', 't2', 't2_month', 't1_month', 'y']\n",
      "2020-01-01 00:15:00 2020-01-06 00:00:00\n",
      "2020-01-06 00:15:00 2020-01-07 23:45:00\n",
      "(4281886, 375) (718178, 375)\n",
      "used_features: ['TurbID', 'Wspd', 'Wdir', 'Etmp', 'Itmp', 'Ndir', 'Pab1', 'Pab2', 'Pab3', 'Prtv', 'Patv', 'TurbID__Wspd__4__mean', 'TurbID__Wspd__4__std', 'TurbID__Wspd__4__median', 'TurbID__Wspd__4__max', 'TurbID__Wspd__4__min', 'TurbID__Wspd__4__kurt', 'TurbID__Wspd__4__skew', 'TurbID__Wdir__4__mean', 'TurbID__Wdir__4__std', 'TurbID__Wdir__4__median', 'TurbID__Wdir__4__max', 'TurbID__Wdir__4__min', 'TurbID__Wdir__4__kurt', 'TurbID__Wdir__4__skew', 'TurbID__Etmp__4__mean', 'TurbID__Etmp__4__std', 'TurbID__Etmp__4__median', 'TurbID__Etmp__4__max', 'TurbID__Etmp__4__min', 'TurbID__Etmp__4__kurt', 'TurbID__Etmp__4__skew', 'TurbID__Itmp__4__mean', 'TurbID__Itmp__4__std', 'TurbID__Itmp__4__median', 'TurbID__Itmp__4__max', 'TurbID__Itmp__4__min', 'TurbID__Itmp__4__kurt', 'TurbID__Itmp__4__skew', 'TurbID__Ndir__4__mean', 'TurbID__Ndir__4__std', 'TurbID__Ndir__4__median', 'TurbID__Ndir__4__max', 'TurbID__Ndir__4__min', 'TurbID__Ndir__4__kurt', 'TurbID__Ndir__4__skew', 'TurbID__Pab1__4__mean', 'TurbID__Pab1__4__std', 'TurbID__Pab1__4__median', 'TurbID__Pab1__4__max', 'TurbID__Pab1__4__min', 'TurbID__Pab1__4__kurt', 'TurbID__Pab1__4__skew', 'TurbID__Pab2__4__mean', 'TurbID__Pab2__4__std', 'TurbID__Pab2__4__median', 'TurbID__Pab2__4__max', 'TurbID__Pab2__4__min', 'TurbID__Pab2__4__kurt', 'TurbID__Pab2__4__skew', 'TurbID__Pab3__4__mean', 'TurbID__Pab3__4__std', 'TurbID__Pab3__4__median', 'TurbID__Pab3__4__max', 'TurbID__Pab3__4__min', 'TurbID__Pab3__4__kurt', 'TurbID__Pab3__4__skew', 'TurbID__Prtv__4__mean', 'TurbID__Prtv__4__std', 'TurbID__Prtv__4__median', 'TurbID__Prtv__4__max', 'TurbID__Prtv__4__min', 'TurbID__Prtv__4__kurt', 'TurbID__Prtv__4__skew', 'TurbID__Patv__4__mean', 'TurbID__Patv__4__std', 'TurbID__Patv__4__median', 'TurbID__Patv__4__max', 'TurbID__Patv__4__min', 'TurbID__Patv__4__kurt', 'TurbID__Patv__4__skew', 'TurbID__Wspd__16__mean', 'TurbID__Wspd__16__std', 'TurbID__Wspd__16__median', 'TurbID__Wspd__16__max', 'TurbID__Wspd__16__min', 'TurbID__Wspd__16__kurt', 'TurbID__Wspd__16__skew', 'TurbID__Wdir__16__mean', 'TurbID__Wdir__16__std', 'TurbID__Wdir__16__median', 'TurbID__Wdir__16__max', 'TurbID__Wdir__16__min', 'TurbID__Wdir__16__kurt', 'TurbID__Wdir__16__skew', 'TurbID__Etmp__16__mean', 'TurbID__Etmp__16__std', 'TurbID__Etmp__16__median', 'TurbID__Etmp__16__max', 'TurbID__Etmp__16__min', 'TurbID__Etmp__16__kurt', 'TurbID__Etmp__16__skew', 'TurbID__Itmp__16__mean', 'TurbID__Itmp__16__std', 'TurbID__Itmp__16__median', 'TurbID__Itmp__16__max', 'TurbID__Itmp__16__min', 'TurbID__Itmp__16__kurt', 'TurbID__Itmp__16__skew', 'TurbID__Ndir__16__mean', 'TurbID__Ndir__16__std', 'TurbID__Ndir__16__median', 'TurbID__Ndir__16__max', 'TurbID__Ndir__16__min', 'TurbID__Ndir__16__kurt', 'TurbID__Ndir__16__skew', 'TurbID__Pab1__16__mean', 'TurbID__Pab1__16__std', 'TurbID__Pab1__16__median', 'TurbID__Pab1__16__max', 'TurbID__Pab1__16__min', 'TurbID__Pab1__16__kurt', 'TurbID__Pab1__16__skew', 'TurbID__Pab2__16__mean', 'TurbID__Pab2__16__std', 'TurbID__Pab2__16__median', 'TurbID__Pab2__16__max', 'TurbID__Pab2__16__min', 'TurbID__Pab2__16__kurt', 'TurbID__Pab2__16__skew', 'TurbID__Pab3__16__mean', 'TurbID__Pab3__16__std', 'TurbID__Pab3__16__median', 'TurbID__Pab3__16__max', 'TurbID__Pab3__16__min', 'TurbID__Pab3__16__kurt', 'TurbID__Pab3__16__skew', 'TurbID__Prtv__16__mean', 'TurbID__Prtv__16__std', 'TurbID__Prtv__16__median', 'TurbID__Prtv__16__max', 'TurbID__Prtv__16__min', 'TurbID__Prtv__16__kurt', 'TurbID__Prtv__16__skew', 'TurbID__Patv__16__mean', 'TurbID__Patv__16__std', 'TurbID__Patv__16__median', 'TurbID__Patv__16__max', 'TurbID__Patv__16__min', 'TurbID__Patv__16__kurt', 'TurbID__Patv__16__skew', 'TurbID__Wspd__64__mean', 'TurbID__Wspd__64__std', 'TurbID__Wspd__64__median', 'TurbID__Wspd__64__max', 'TurbID__Wspd__64__min', 'TurbID__Wspd__64__kurt', 'TurbID__Wspd__64__skew', 'TurbID__Wdir__64__mean', 'TurbID__Wdir__64__std', 'TurbID__Wdir__64__median', 'TurbID__Wdir__64__max', 'TurbID__Wdir__64__min', 'TurbID__Wdir__64__kurt', 'TurbID__Wdir__64__skew', 'TurbID__Etmp__64__mean', 'TurbID__Etmp__64__std', 'TurbID__Etmp__64__median', 'TurbID__Etmp__64__max', 'TurbID__Etmp__64__min', 'TurbID__Etmp__64__kurt', 'TurbID__Etmp__64__skew', 'TurbID__Itmp__64__mean', 'TurbID__Itmp__64__std', 'TurbID__Itmp__64__median', 'TurbID__Itmp__64__max', 'TurbID__Itmp__64__min', 'TurbID__Itmp__64__kurt', 'TurbID__Itmp__64__skew', 'TurbID__Ndir__64__mean', 'TurbID__Ndir__64__std', 'TurbID__Ndir__64__median', 'TurbID__Ndir__64__max', 'TurbID__Ndir__64__min', 'TurbID__Ndir__64__kurt', 'TurbID__Ndir__64__skew', 'TurbID__Pab1__64__mean', 'TurbID__Pab1__64__std', 'TurbID__Pab1__64__median', 'TurbID__Pab1__64__max', 'TurbID__Pab1__64__min', 'TurbID__Pab1__64__kurt', 'TurbID__Pab1__64__skew', 'TurbID__Pab2__64__mean', 'TurbID__Pab2__64__std', 'TurbID__Pab2__64__median', 'TurbID__Pab2__64__max', 'TurbID__Pab2__64__min', 'TurbID__Pab2__64__kurt', 'TurbID__Pab2__64__skew', 'TurbID__Pab3__64__mean', 'TurbID__Pab3__64__std', 'TurbID__Pab3__64__median', 'TurbID__Pab3__64__max', 'TurbID__Pab3__64__min', 'TurbID__Pab3__64__kurt', 'TurbID__Pab3__64__skew', 'TurbID__Prtv__64__mean', 'TurbID__Prtv__64__std', 'TurbID__Prtv__64__median', 'TurbID__Prtv__64__max', 'TurbID__Prtv__64__min', 'TurbID__Prtv__64__kurt', 'TurbID__Prtv__64__skew', 'TurbID__Patv__64__mean', 'TurbID__Patv__64__std', 'TurbID__Patv__64__median', 'TurbID__Patv__64__max', 'TurbID__Patv__64__min', 'TurbID__Patv__64__kurt', 'TurbID__Patv__64__skew', 'TurbID__Wspd__256__mean', 'TurbID__Wspd__256__std', 'TurbID__Wspd__256__median', 'TurbID__Wspd__256__max', 'TurbID__Wspd__256__min', 'TurbID__Wspd__256__kurt', 'TurbID__Wspd__256__skew', 'TurbID__Wdir__256__mean', 'TurbID__Wdir__256__std', 'TurbID__Wdir__256__median', 'TurbID__Wdir__256__max', 'TurbID__Wdir__256__min', 'TurbID__Wdir__256__kurt', 'TurbID__Wdir__256__skew', 'TurbID__Etmp__256__mean', 'TurbID__Etmp__256__std', 'TurbID__Etmp__256__median', 'TurbID__Etmp__256__max', 'TurbID__Etmp__256__min', 'TurbID__Etmp__256__kurt', 'TurbID__Etmp__256__skew', 'TurbID__Itmp__256__mean', 'TurbID__Itmp__256__std', 'TurbID__Itmp__256__median', 'TurbID__Itmp__256__max', 'TurbID__Itmp__256__min', 'TurbID__Itmp__256__kurt', 'TurbID__Itmp__256__skew', 'TurbID__Ndir__256__mean', 'TurbID__Ndir__256__std', 'TurbID__Ndir__256__median', 'TurbID__Ndir__256__max', 'TurbID__Ndir__256__min', 'TurbID__Ndir__256__kurt', 'TurbID__Ndir__256__skew', 'TurbID__Pab1__256__mean', 'TurbID__Pab1__256__std', 'TurbID__Pab1__256__median', 'TurbID__Pab1__256__max', 'TurbID__Pab1__256__min', 'TurbID__Pab1__256__kurt', 'TurbID__Pab1__256__skew', 'TurbID__Pab2__256__mean', 'TurbID__Pab2__256__std', 'TurbID__Pab2__256__median', 'TurbID__Pab2__256__max', 'TurbID__Pab2__256__min', 'TurbID__Pab2__256__kurt', 'TurbID__Pab2__256__skew', 'TurbID__Pab3__256__mean', 'TurbID__Pab3__256__std', 'TurbID__Pab3__256__median', 'TurbID__Pab3__256__max', 'TurbID__Pab3__256__min', 'TurbID__Pab3__256__kurt', 'TurbID__Pab3__256__skew', 'TurbID__Prtv__256__mean', 'TurbID__Prtv__256__std', 'TurbID__Prtv__256__median', 'TurbID__Prtv__256__max', 'TurbID__Prtv__256__min', 'TurbID__Prtv__256__kurt', 'TurbID__Prtv__256__skew', 'TurbID__Patv__256__mean', 'TurbID__Patv__256__std', 'TurbID__Patv__256__median', 'TurbID__Patv__256__max', 'TurbID__Patv__256__min', 'TurbID__Patv__256__kurt', 'TurbID__Patv__256__skew', 'TurbID__Wspd__lag__1', 'TurbID__Wspd__lag__2', 'TurbID__Wspd__lag__3', 'TurbID__Wdir__lag__1', 'TurbID__Wdir__lag__2', 'TurbID__Wdir__lag__3', 'TurbID__Etmp__lag__1', 'TurbID__Etmp__lag__2', 'TurbID__Etmp__lag__3', 'TurbID__Itmp__lag__1', 'TurbID__Itmp__lag__2', 'TurbID__Itmp__lag__3', 'TurbID__Ndir__lag__1', 'TurbID__Ndir__lag__2', 'TurbID__Ndir__lag__3', 'TurbID__Pab1__lag__1', 'TurbID__Pab1__lag__2', 'TurbID__Pab1__lag__3', 'TurbID__Pab2__lag__1', 'TurbID__Pab2__lag__2', 'TurbID__Pab2__lag__3', 'TurbID__Pab3__lag__1', 'TurbID__Pab3__lag__2', 'TurbID__Pab3__lag__3', 'TurbID__Prtv__lag__1', 'TurbID__Prtv__lag__2', 'TurbID__Prtv__lag__3', 'TurbID__Patv__lag__1', 'TurbID__Patv__lag__2', 'TurbID__Patv__lag__3', 'TurbID__Wspd__diff__1', 'TurbID__Wspd__diff__2', 'TurbID__Wspd__diff__3', 'TurbID__Wdir__diff__1', 'TurbID__Wdir__diff__2', 'TurbID__Wdir__diff__3', 'TurbID__Etmp__diff__1', 'TurbID__Etmp__diff__2', 'TurbID__Etmp__diff__3', 'TurbID__Itmp__diff__1', 'TurbID__Itmp__diff__2', 'TurbID__Itmp__diff__3', 'TurbID__Ndir__diff__1', 'TurbID__Ndir__diff__2', 'TurbID__Ndir__diff__3', 'TurbID__Pab1__diff__1', 'TurbID__Pab1__diff__2', 'TurbID__Pab1__diff__3', 'TurbID__Pab2__diff__1', 'TurbID__Pab2__diff__2', 'TurbID__Pab2__diff__3', 'TurbID__Pab3__diff__1', 'TurbID__Pab3__diff__2', 'TurbID__Pab3__diff__3', 'TurbID__Prtv__diff__1', 'TurbID__Prtv__diff__2', 'TurbID__Prtv__diff__3', 'TurbID__Patv__diff__1', 'TurbID__Patv__diff__2', 'TurbID__Patv__diff__3', 't1_day', 't1_hour', 't1_weekofyear', 't1_dayofweek', 't1_is_wknd', 't1_is_month_start', 'k_step', 't2_hour', 't2_weekofyear', 't2_dayofweek', 't2_is_wknd', 't2_is_month_start']\n",
      "363\n"
     ]
    },
    {
     "name": "stderr",
     "output_type": "stream",
     "text": [
      "  0%|          | 0/1 [00:00<?, ?it/s]"
     ]
    },
    {
     "name": "stdout",
     "output_type": "stream",
     "text": [
      "Training on model 1\n",
      "Training until validation scores don't improve for 150 rounds.\n",
      "[100]\ttraining's rmse: 168.666\tvalid_1's rmse: 269.257\n",
      "Early stopping, best iteration is:\n",
      "[20]\ttraining's rmse: 252.801\tvalid_1's rmse: 242.914\n",
      "rmse: 242.91365327141008\n",
      "ReTraining on all data\n"
     ]
    },
    {
     "name": "stderr",
     "output_type": "stream",
     "text": [
      "100%|██████████| 1/1 [06:54<00:00, 414.11s/it]"
     ]
    },
    {
     "name": "stdout",
     "output_type": "stream",
     "text": [
      "Model 1 finished in 0:06:54.104682\n"
     ]
    },
    {
     "name": "stderr",
     "output_type": "stream",
     "text": [
      "\n"
     ]
    }
   ],
   "source": [
    "sub = autots.get_result()"
   ]
  },
  {
   "cell_type": "markdown",
   "metadata": {},
   "source": [
    "## 查看特征重要性"
   ]
  },
  {
   "cell_type": "code",
   "execution_count": 6,
   "metadata": {
    "ExecuteTime": {
     "end_time": "2022-03-31T09:36:24.405123Z",
     "start_time": "2022-03-31T09:36:24.389839Z"
    },
    "scrolled": false
   },
   "outputs": [
    {
     "data": {
      "text/html": [
       "<div>\n",
       "<style scoped>\n",
       "    .dataframe tbody tr th:only-of-type {\n",
       "        vertical-align: middle;\n",
       "    }\n",
       "\n",
       "    .dataframe tbody tr th {\n",
       "        vertical-align: top;\n",
       "    }\n",
       "\n",
       "    .dataframe thead th {\n",
       "        text-align: right;\n",
       "    }\n",
       "</style>\n",
       "<table border=\"1\" class=\"dataframe\">\n",
       "  <thead>\n",
       "    <tr style=\"text-align: right;\">\n",
       "      <th></th>\n",
       "      <th>feature</th>\n",
       "      <th>model_1</th>\n",
       "      <th>average</th>\n",
       "    </tr>\n",
       "  </thead>\n",
       "  <tbody>\n",
       "    <tr>\n",
       "      <th>0</th>\n",
       "      <td>TurbID</td>\n",
       "      <td>192</td>\n",
       "      <td>192.0</td>\n",
       "    </tr>\n",
       "    <tr>\n",
       "      <th>1</th>\n",
       "      <td>t2_hour</td>\n",
       "      <td>150</td>\n",
       "      <td>150.0</td>\n",
       "    </tr>\n",
       "    <tr>\n",
       "      <th>2</th>\n",
       "      <td>k_step</td>\n",
       "      <td>92</td>\n",
       "      <td>92.0</td>\n",
       "    </tr>\n",
       "    <tr>\n",
       "      <th>3</th>\n",
       "      <td>t2_dayofweek</td>\n",
       "      <td>33</td>\n",
       "      <td>33.0</td>\n",
       "    </tr>\n",
       "    <tr>\n",
       "      <th>4</th>\n",
       "      <td>TurbID__Prtv__64__min</td>\n",
       "      <td>27</td>\n",
       "      <td>27.0</td>\n",
       "    </tr>\n",
       "    <tr>\n",
       "      <th>5</th>\n",
       "      <td>TurbID__Prtv__64__max</td>\n",
       "      <td>22</td>\n",
       "      <td>22.0</td>\n",
       "    </tr>\n",
       "    <tr>\n",
       "      <th>6</th>\n",
       "      <td>t1_day</td>\n",
       "      <td>22</td>\n",
       "      <td>22.0</td>\n",
       "    </tr>\n",
       "    <tr>\n",
       "      <th>7</th>\n",
       "      <td>t1_dayofweek</td>\n",
       "      <td>21</td>\n",
       "      <td>21.0</td>\n",
       "    </tr>\n",
       "    <tr>\n",
       "      <th>8</th>\n",
       "      <td>TurbID__Wspd__64__mean</td>\n",
       "      <td>20</td>\n",
       "      <td>20.0</td>\n",
       "    </tr>\n",
       "    <tr>\n",
       "      <th>9</th>\n",
       "      <td>t1_hour</td>\n",
       "      <td>19</td>\n",
       "      <td>19.0</td>\n",
       "    </tr>\n",
       "  </tbody>\n",
       "</table>\n",
       "</div>"
      ],
      "text/plain": [
       "                  feature  model_1  average\n",
       "0                  TurbID      192    192.0\n",
       "1                 t2_hour      150    150.0\n",
       "2                  k_step       92     92.0\n",
       "3            t2_dayofweek       33     33.0\n",
       "4   TurbID__Prtv__64__min       27     27.0\n",
       "5   TurbID__Prtv__64__max       22     22.0\n",
       "6                  t1_day       22     22.0\n",
       "7            t1_dayofweek       21     21.0\n",
       "8  TurbID__Wspd__64__mean       20     20.0\n",
       "9                 t1_hour       19     19.0"
      ]
     },
     "execution_count": 6,
     "metadata": {},
     "output_type": "execute_result"
    }
   ],
   "source": [
    "autots.feature_importances.head(10)"
   ]
  },
  {
   "cell_type": "markdown",
   "metadata": {},
   "source": [
    "## 输出结果"
   ]
  },
  {
   "cell_type": "code",
   "execution_count": 7,
   "metadata": {
    "ExecuteTime": {
     "end_time": "2022-03-31T09:36:25.701738Z",
     "start_time": "2022-03-31T09:36:25.565291Z"
    }
   },
   "outputs": [],
   "source": [
    "sub.to_csv(\"./autox_kdd.csv\", index=False)"
   ]
  },
  {
   "cell_type": "markdown",
   "metadata": {},
   "source": [
    "## 画图"
   ]
  },
  {
   "cell_type": "code",
   "execution_count": 8,
   "metadata": {
    "ExecuteTime": {
     "end_time": "2022-03-31T09:36:27.004889Z",
     "start_time": "2022-03-31T09:36:26.758621Z"
    },
    "scrolled": true
   },
   "outputs": [
    {
     "data": {
      "text/plain": [
       "[<matplotlib.lines.Line2D at 0x7fef0273a7b8>]"
      ]
     },
     "execution_count": 8,
     "metadata": {},
     "output_type": "execute_result"
    },
    {
     "data": {
      "image/png": "[encoded data removed]",
      "text/plain": [
       "<Figure size 432x288 with 1 Axes>"
      ]
     },
     "metadata": {
      "needs_background": "light"
     },
     "output_type": "display_data"
    }
   ],
   "source": [
    "cur_TurbID = 1\n",
    "\n",
    "plt.plot(df.loc[df['TurbID'] == cur_TurbID, 't1'], df.loc[df['TurbID'] == cur_TurbID, 'Patv'], color = 'b')\n",
    "plt.plot(sub.loc[sub['TurbID'] == cur_TurbID, 't2'], sub.loc[sub['TurbID'] == cur_TurbID, 'y_mean'], color = 'r')"
   ]
  },
  {
   "cell_type": "code",
   "execution_count": 10,
   "metadata": {
    "ExecuteTime": {
     "end_time": "2022-03-31T09:36:29.636579Z",
     "start_time": "2022-03-31T09:36:29.423585Z"
    },
    "scrolled": true
   },
   "outputs": [
    {
     "data": {
      "text/plain": [
       "[<matplotlib.lines.Line2D at 0x7fef01dafd30>]"
      ]
     },
     "execution_count": 10,
     "metadata": {},
     "output_type": "execute_result"
    },
    {
     "data": {
      "image/png": "[encoded data removed]",
      "text/plain": [
       "<Figure size 432x288 with 1 Axes>"
      ]
     },
     "metadata": {
      "needs_background": "light"
     },
     "output_type": "display_data"
    }
   ],
   "source": [
    "cur_TurbID = 3\n",
    "\n",
    "plt.plot(df.loc[df['TurbID'] == cur_TurbID, 't1'], df.loc[df['TurbID'] == cur_TurbID, 'Patv'], color = 'b')\n",
    "plt.plot(sub.loc[sub['TurbID'] == cur_TurbID, 't2'], sub.loc[sub['TurbID'] == cur_TurbID, 'y_mean'], color = 'r')"
   ]
  },
  {
   "cell_type": "code",
   "execution_count": null,
   "metadata": {},
   "outputs": [],
   "source": []
  },
  {
   "cell_type": "code",
   "execution_count": null,
   "metadata": {},
   "outputs": [],
   "source": []
  }
 ],
 "metadata": {
  "kernelspec": {
   "display_name": "Python 3",
   "language": "python",
   "name": "python3"
  },
  "language_info": {
   "codemirror_mode": {
    "name": "ipython",
    "version": 3
   },
   "file_extension": ".py",
   "mimetype": "text/x-python",
   "name": "python",
   "nbconvert_exporter": "python",
   "pygments_lexer": "ipython3",
   "version": "3.7.3"
  },
  "toc": {
   "base_numbering": 1,
   "nav_menu": {},
   "number_sections": true,
   "sideBar": true,
   "skip_h1_title": false,
   "title_cell": "Table of Contents",
   "title_sidebar": "Contents",
   "toc_cell": false,
   "toc_position": {
    "height": "calc(100% - 180px)",
    "left": "10px",
    "top": "150px",
    "width": "191px"
   },
   "toc_section_display": true,
   "toc_window_display": true
  },
  "varInspector": {
   "cols": {
    "lenName": 16,
    "lenType": 16,
    "lenVar": 40
   },
   "kernels_config": {
    "python": {
     "delete_cmd_postfix": "",
     "delete_cmd_prefix": "del ",
     "library": "var_list.py",
     "varRefreshCmd": "print(var_dic_list())"
    },
    "r": {
     "delete_cmd_postfix": ") ",
     "delete_cmd_prefix": "rm(",
     "library": "var_list.r",
     "varRefreshCmd": "cat(var_dic_list()) "
    }
   },
   "types_to_exclude": [
    "module",
    "function",
    "builtin_function_or_method",
    "instance",
    "_Feature"
   ],
   "window_display": false
  }
 },
 "nbformat": 4,
 "nbformat_minor": 5
}
