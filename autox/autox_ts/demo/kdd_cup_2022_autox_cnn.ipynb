{
 "cells": [
  {
   "cell_type": "markdown",
   "metadata": {},
   "source": [
    "## import 包"
   ]
  },
  {
   "cell_type": "code",
   "execution_count": 1,
   "metadata": {
    "ExecuteTime": {
     "end_time": "2022-04-08T08:17:09.378463Z",
     "start_time": "2022-04-08T08:17:08.765669Z"
    }
   },
   "outputs": [],
   "source": [
    "import warnings\n",
    "warnings.filterwarnings('ignore')\n",
    "import pandas as pd\n",
    "import numpy as np\n",
    "import os\n",
    "from tqdm import tqdm\n",
    "from datetime import datetime, timedelta\n",
    "import matplotlib.pyplot as plt"
   ]
  },
  {
   "cell_type": "markdown",
   "metadata": {},
   "source": [
    "## 读数据，预处理"
   ]
  },
  {
   "cell_type": "code",
   "execution_count": 2,
   "metadata": {
    "ExecuteTime": {
     "end_time": "2022-04-08T08:17:10.833328Z",
     "start_time": "2022-04-08T08:17:09.380948Z"
    },
    "scrolled": true
   },
   "outputs": [],
   "source": [
    "df = pd.read_csv('~/KDD_CUP_2022/input/sdwpf134_initial_kddcup.csv')\n",
    "\n",
    "def get_date(k):\n",
    "    cur_date = \"2020-01-01\"\n",
    "    one_day = timedelta(days=k-1)\n",
    "    return str(datetime.strptime(cur_date, '%Y-%m-%d') + one_day)[:10]\n",
    "\n",
    "df['Day'] = df['Day'].apply(lambda x: get_date(x))\n",
    "\n",
    "def cols_concat(df, con_list):\n",
    "    name = 't1'\n",
    "    df[name] = df[con_list[0]].astype(str)\n",
    "    for item in con_list[1:]:\n",
    "        df[name] = df[name] + ' ' + df[item].astype(str)\n",
    "    return df\n",
    "\n",
    "df = cols_concat(df, [\"Day\", \"Tmstamp\"])\n",
    "\n",
    "df = df[['TurbID', 't1', 'Wspd', 'Wdir', 'Etmp', 'Itmp', 'Ndir', 'Pab1', 'Pab2', 'Pab3', 'Prtv', 'Patv']]\n",
    "df['t1'] = pd.to_datetime(df['t1'])"
   ]
  },
  {
   "cell_type": "code",
   "execution_count": 3,
   "metadata": {
    "ExecuteTime": {
     "end_time": "2022-04-08T08:17:10.865630Z",
     "start_time": "2022-04-08T08:17:10.835897Z"
    },
    "scrolled": true
   },
   "outputs": [
    {
     "data": {
      "text/html": [
       "<div>\n",
       "<style scoped>\n",
       "    .dataframe tbody tr th:only-of-type {\n",
       "        vertical-align: middle;\n",
       "    }\n",
       "\n",
       "    .dataframe tbody tr th {\n",
       "        vertical-align: top;\n",
       "    }\n",
       "\n",
       "    .dataframe thead th {\n",
       "        text-align: right;\n",
       "    }\n",
       "</style>\n",
       "<table border=\"1\" class=\"dataframe\">\n",
       "  <thead>\n",
       "    <tr style=\"text-align: right;\">\n",
       "      <th></th>\n",
       "      <th>TurbID</th>\n",
       "      <th>t1</th>\n",
       "      <th>Wspd</th>\n",
       "      <th>Wdir</th>\n",
       "      <th>Etmp</th>\n",
       "      <th>Itmp</th>\n",
       "      <th>Ndir</th>\n",
       "      <th>Pab1</th>\n",
       "      <th>Pab2</th>\n",
       "      <th>Pab3</th>\n",
       "      <th>Prtv</th>\n",
       "      <th>Patv</th>\n",
       "    </tr>\n",
       "  </thead>\n",
       "  <tbody>\n",
       "    <tr>\n",
       "      <th>0</th>\n",
       "      <td>1</td>\n",
       "      <td>2020-01-01 00:00:00</td>\n",
       "      <td>2.81</td>\n",
       "      <td>-2.00</td>\n",
       "      <td>16.61</td>\n",
       "      <td>30.95</td>\n",
       "      <td>148.0</td>\n",
       "      <td>0.03</td>\n",
       "      <td>0.03</td>\n",
       "      <td>0.03</td>\n",
       "      <td>-19.38</td>\n",
       "      <td>111.13</td>\n",
       "    </tr>\n",
       "    <tr>\n",
       "      <th>1</th>\n",
       "      <td>1</td>\n",
       "      <td>2020-01-01 00:15:00</td>\n",
       "      <td>2.48</td>\n",
       "      <td>-4.30</td>\n",
       "      <td>16.38</td>\n",
       "      <td>30.83</td>\n",
       "      <td>148.0</td>\n",
       "      <td>0.03</td>\n",
       "      <td>0.03</td>\n",
       "      <td>0.03</td>\n",
       "      <td>-15.69</td>\n",
       "      <td>75.30</td>\n",
       "    </tr>\n",
       "    <tr>\n",
       "      <th>2</th>\n",
       "      <td>1</td>\n",
       "      <td>2020-01-01 00:30:00</td>\n",
       "      <td>1.16</td>\n",
       "      <td>9.28</td>\n",
       "      <td>16.62</td>\n",
       "      <td>31.05</td>\n",
       "      <td>135.0</td>\n",
       "      <td>0.03</td>\n",
       "      <td>0.03</td>\n",
       "      <td>0.03</td>\n",
       "      <td>-2.50</td>\n",
       "      <td>9.54</td>\n",
       "    </tr>\n",
       "    <tr>\n",
       "      <th>3</th>\n",
       "      <td>1</td>\n",
       "      <td>2020-01-01 00:45:00</td>\n",
       "      <td>0.92</td>\n",
       "      <td>14.38</td>\n",
       "      <td>16.13</td>\n",
       "      <td>31.20</td>\n",
       "      <td>148.0</td>\n",
       "      <td>0.04</td>\n",
       "      <td>0.04</td>\n",
       "      <td>0.03</td>\n",
       "      <td>-0.70</td>\n",
       "      <td>0.00</td>\n",
       "    </tr>\n",
       "    <tr>\n",
       "      <th>4</th>\n",
       "      <td>1</td>\n",
       "      <td>2020-01-01 01:00:00</td>\n",
       "      <td>1.38</td>\n",
       "      <td>-4.28</td>\n",
       "      <td>15.12</td>\n",
       "      <td>29.52</td>\n",
       "      <td>148.0</td>\n",
       "      <td>89.68</td>\n",
       "      <td>89.69</td>\n",
       "      <td>89.50</td>\n",
       "      <td>-0.30</td>\n",
       "      <td>0.00</td>\n",
       "    </tr>\n",
       "    <tr>\n",
       "      <th>...</th>\n",
       "      <td>...</td>\n",
       "      <td>...</td>\n",
       "      <td>...</td>\n",
       "      <td>...</td>\n",
       "      <td>...</td>\n",
       "      <td>...</td>\n",
       "      <td>...</td>\n",
       "      <td>...</td>\n",
       "      <td>...</td>\n",
       "      <td>...</td>\n",
       "      <td>...</td>\n",
       "      <td>...</td>\n",
       "    </tr>\n",
       "    <tr>\n",
       "      <th>90043</th>\n",
       "      <td>134</td>\n",
       "      <td>2020-01-07 22:45:00</td>\n",
       "      <td>9.94</td>\n",
       "      <td>1.90</td>\n",
       "      <td>22.75</td>\n",
       "      <td>22.63</td>\n",
       "      <td>181.0</td>\n",
       "      <td>90.40</td>\n",
       "      <td>90.39</td>\n",
       "      <td>90.00</td>\n",
       "      <td>-0.30</td>\n",
       "      <td>0.00</td>\n",
       "    </tr>\n",
       "    <tr>\n",
       "      <th>90044</th>\n",
       "      <td>134</td>\n",
       "      <td>2020-01-07 23:00:00</td>\n",
       "      <td>9.94</td>\n",
       "      <td>1.90</td>\n",
       "      <td>22.75</td>\n",
       "      <td>22.63</td>\n",
       "      <td>181.0</td>\n",
       "      <td>90.40</td>\n",
       "      <td>90.39</td>\n",
       "      <td>90.00</td>\n",
       "      <td>-0.30</td>\n",
       "      <td>0.00</td>\n",
       "    </tr>\n",
       "    <tr>\n",
       "      <th>90045</th>\n",
       "      <td>134</td>\n",
       "      <td>2020-01-07 23:15:00</td>\n",
       "      <td>9.94</td>\n",
       "      <td>1.90</td>\n",
       "      <td>22.75</td>\n",
       "      <td>22.63</td>\n",
       "      <td>181.0</td>\n",
       "      <td>90.40</td>\n",
       "      <td>90.39</td>\n",
       "      <td>90.00</td>\n",
       "      <td>-0.30</td>\n",
       "      <td>0.00</td>\n",
       "    </tr>\n",
       "    <tr>\n",
       "      <th>90046</th>\n",
       "      <td>134</td>\n",
       "      <td>2020-01-07 23:30:00</td>\n",
       "      <td>9.94</td>\n",
       "      <td>1.90</td>\n",
       "      <td>22.75</td>\n",
       "      <td>22.63</td>\n",
       "      <td>181.0</td>\n",
       "      <td>90.40</td>\n",
       "      <td>90.39</td>\n",
       "      <td>90.00</td>\n",
       "      <td>-0.30</td>\n",
       "      <td>0.00</td>\n",
       "    </tr>\n",
       "    <tr>\n",
       "      <th>90047</th>\n",
       "      <td>134</td>\n",
       "      <td>2020-01-07 23:45:00</td>\n",
       "      <td>9.94</td>\n",
       "      <td>1.90</td>\n",
       "      <td>22.75</td>\n",
       "      <td>22.63</td>\n",
       "      <td>181.0</td>\n",
       "      <td>90.40</td>\n",
       "      <td>90.39</td>\n",
       "      <td>90.00</td>\n",
       "      <td>-0.30</td>\n",
       "      <td>0.00</td>\n",
       "    </tr>\n",
       "  </tbody>\n",
       "</table>\n",
       "<p>90048 rows × 12 columns</p>\n",
       "</div>"
      ],
      "text/plain": [
       "       TurbID                  t1  Wspd   Wdir   Etmp   Itmp   Ndir   Pab1  \\\n",
       "0           1 2020-01-01 00:00:00  2.81  -2.00  16.61  30.95  148.0   0.03   \n",
       "1           1 2020-01-01 00:15:00  2.48  -4.30  16.38  30.83  148.0   0.03   \n",
       "2           1 2020-01-01 00:30:00  1.16   9.28  16.62  31.05  135.0   0.03   \n",
       "3           1 2020-01-01 00:45:00  0.92  14.38  16.13  31.20  148.0   0.04   \n",
       "4           1 2020-01-01 01:00:00  1.38  -4.28  15.12  29.52  148.0  89.68   \n",
       "...       ...                 ...   ...    ...    ...    ...    ...    ...   \n",
       "90043     134 2020-01-07 22:45:00  9.94   1.90  22.75  22.63  181.0  90.40   \n",
       "90044     134 2020-01-07 23:00:00  9.94   1.90  22.75  22.63  181.0  90.40   \n",
       "90045     134 2020-01-07 23:15:00  9.94   1.90  22.75  22.63  181.0  90.40   \n",
       "90046     134 2020-01-07 23:30:00  9.94   1.90  22.75  22.63  181.0  90.40   \n",
       "90047     134 2020-01-07 23:45:00  9.94   1.90  22.75  22.63  181.0  90.40   \n",
       "\n",
       "        Pab2   Pab3   Prtv    Patv  \n",
       "0       0.03   0.03 -19.38  111.13  \n",
       "1       0.03   0.03 -15.69   75.30  \n",
       "2       0.03   0.03  -2.50    9.54  \n",
       "3       0.04   0.03  -0.70    0.00  \n",
       "4      89.69  89.50  -0.30    0.00  \n",
       "...      ...    ...    ...     ...  \n",
       "90043  90.39  90.00  -0.30    0.00  \n",
       "90044  90.39  90.00  -0.30    0.00  \n",
       "90045  90.39  90.00  -0.30    0.00  \n",
       "90046  90.39  90.00  -0.30    0.00  \n",
       "90047  90.39  90.00  -0.30    0.00  \n",
       "\n",
       "[90048 rows x 12 columns]"
      ]
     },
     "execution_count": 3,
     "metadata": {},
     "output_type": "execute_result"
    }
   ],
   "source": [
    "df"
   ]
  },
  {
   "cell_type": "markdown",
   "metadata": {},
   "source": [
    "## 一键运行"
   ]
  },
  {
   "cell_type": "code",
   "execution_count": 4,
   "metadata": {
    "ExecuteTime": {
     "end_time": "2022-04-08T08:19:06.963796Z",
     "start_time": "2022-04-08T08:17:10.867667Z"
    },
    "scrolled": true
   },
   "outputs": [
    {
     "name": "stderr",
     "output_type": "stream",
     "text": [
      "/home/caihengxing/anaconda3/lib/python3.7/site-packages/sklearn/linear_model/least_angle.py:30: DeprecationWarning: `np.float` is a deprecated alias for the builtin `float`. To silence this warning, use `float` by itself. Doing this will not modify any behavior and is safe. If you specifically wanted the numpy scalar type, use `np.float64` here.\n",
      "Deprecated in NumPy 1.20; for more details and guidance: https://numpy.org/devdocs/release/1.20.0-notes.html#deprecations\n",
      "  method='lar', copy_X=True, eps=np.finfo(np.float).eps,\n",
      "/home/caihengxing/anaconda3/lib/python3.7/site-packages/sklearn/linear_model/least_angle.py:167: DeprecationWarning: `np.float` is a deprecated alias for the builtin `float`. To silence this warning, use `float` by itself. Doing this will not modify any behavior and is safe. If you specifically wanted the numpy scalar type, use `np.float64` here.\n",
      "Deprecated in NumPy 1.20; for more details and guidance: https://numpy.org/devdocs/release/1.20.0-notes.html#deprecations\n",
      "  method='lar', copy_X=True, eps=np.finfo(np.float).eps,\n",
      "/home/caihengxing/anaconda3/lib/python3.7/site-packages/sklearn/linear_model/least_angle.py:284: DeprecationWarning: `np.float` is a deprecated alias for the builtin `float`. To silence this warning, use `float` by itself. Doing this will not modify any behavior and is safe. If you specifically wanted the numpy scalar type, use `np.float64` here.\n",
      "Deprecated in NumPy 1.20; for more details and guidance: https://numpy.org/devdocs/release/1.20.0-notes.html#deprecations\n",
      "  eps=np.finfo(np.float).eps, copy_Gram=True, verbose=0,\n",
      "/home/caihengxing/anaconda3/lib/python3.7/site-packages/sklearn/linear_model/least_angle.py:862: DeprecationWarning: `np.float` is a deprecated alias for the builtin `float`. To silence this warning, use `float` by itself. Doing this will not modify any behavior and is safe. If you specifically wanted the numpy scalar type, use `np.float64` here.\n",
      "Deprecated in NumPy 1.20; for more details and guidance: https://numpy.org/devdocs/release/1.20.0-notes.html#deprecations\n",
      "  eps=np.finfo(np.float).eps, copy_X=True, fit_path=True,\n",
      "/home/caihengxing/anaconda3/lib/python3.7/site-packages/sklearn/linear_model/least_angle.py:1101: DeprecationWarning: `np.float` is a deprecated alias for the builtin `float`. To silence this warning, use `float` by itself. Doing this will not modify any behavior and is safe. If you specifically wanted the numpy scalar type, use `np.float64` here.\n",
      "Deprecated in NumPy 1.20; for more details and guidance: https://numpy.org/devdocs/release/1.20.0-notes.html#deprecations\n",
      "  eps=np.finfo(np.float).eps, copy_X=True, fit_path=True,\n",
      "/home/caihengxing/anaconda3/lib/python3.7/site-packages/sklearn/linear_model/least_angle.py:1127: DeprecationWarning: `np.float` is a deprecated alias for the builtin `float`. To silence this warning, use `float` by itself. Doing this will not modify any behavior and is safe. If you specifically wanted the numpy scalar type, use `np.float64` here.\n",
      "Deprecated in NumPy 1.20; for more details and guidance: https://numpy.org/devdocs/release/1.20.0-notes.html#deprecations\n",
      "  eps=np.finfo(np.float).eps, positive=False):\n",
      "/home/caihengxing/anaconda3/lib/python3.7/site-packages/sklearn/linear_model/least_angle.py:1362: DeprecationWarning: `np.float` is a deprecated alias for the builtin `float`. To silence this warning, use `float` by itself. Doing this will not modify any behavior and is safe. If you specifically wanted the numpy scalar type, use `np.float64` here.\n",
      "Deprecated in NumPy 1.20; for more details and guidance: https://numpy.org/devdocs/release/1.20.0-notes.html#deprecations\n",
      "  max_n_alphas=1000, n_jobs=None, eps=np.finfo(np.float).eps,\n",
      "/home/caihengxing/anaconda3/lib/python3.7/site-packages/sklearn/linear_model/least_angle.py:1602: DeprecationWarning: `np.float` is a deprecated alias for the builtin `float`. To silence this warning, use `float` by itself. Doing this will not modify any behavior and is safe. If you specifically wanted the numpy scalar type, use `np.float64` here.\n",
      "Deprecated in NumPy 1.20; for more details and guidance: https://numpy.org/devdocs/release/1.20.0-notes.html#deprecations\n",
      "  max_n_alphas=1000, n_jobs=None, eps=np.finfo(np.float).eps,\n",
      "/home/caihengxing/anaconda3/lib/python3.7/site-packages/sklearn/linear_model/least_angle.py:1738: DeprecationWarning: `np.float` is a deprecated alias for the builtin `float`. To silence this warning, use `float` by itself. Doing this will not modify any behavior and is safe. If you specifically wanted the numpy scalar type, use `np.float64` here.\n",
      "Deprecated in NumPy 1.20; for more details and guidance: https://numpy.org/devdocs/release/1.20.0-notes.html#deprecations\n",
      "  eps=np.finfo(np.float).eps, copy_X=True, positive=False):\n",
      "/home/caihengxing/anaconda3/lib/python3.7/site-packages/sklearn/decomposition/online_lda.py:29: DeprecationWarning: `np.float` is a deprecated alias for the builtin `float`. To silence this warning, use `float` by itself. Doing this will not modify any behavior and is safe. If you specifically wanted the numpy scalar type, use `np.float64` here.\n",
      "Deprecated in NumPy 1.20; for more details and guidance: https://numpy.org/devdocs/release/1.20.0-notes.html#deprecations\n",
      "  EPS = np.finfo(np.float).eps\n",
      "/home/caihengxing/anaconda3/lib/python3.7/site-packages/sklearn/feature_extraction/image.py:167: DeprecationWarning: `np.int` is a deprecated alias for the builtin `int`. To silence this warning, use `int` by itself. Doing this will not modify any behavior and is safe. When replacing `np.int`, you may wish to use e.g. `np.int64` or `np.int32` to specify the precision. If you wish to review your current use, check the release note link for additional information.\n",
      "Deprecated in NumPy 1.20; for more details and guidance: https://numpy.org/devdocs/release/1.20.0-notes.html#deprecations\n",
      "  dtype=np.int):\n",
      "   INFO ->  [+] feature engineer\n",
      "   INFO ->  [+] fe_time\n",
      "   INFO ->  [+] fe_onehot\n",
      "   INFO ->  [+] feature combination\n",
      "100%|██████████| 2/2 [00:00<00:00, 49.69it/s]\n",
      "   INFO ->  [+] normalization\n",
      "   INFO ->  [+] build data\n",
      "100%|██████████| 134/134 [01:05<00:00,  2.04it/s]\n",
      "   INFO ->  [+] training model\n"
     ]
    },
    {
     "name": "stdout",
     "output_type": "stream",
     "text": [
      "Model: \"model_1\"\n",
      "__________________________________________________________________________________________________\n",
      " Layer (type)                   Output Shape         Param #     Connected to                     \n",
      "==================================================================================================\n",
      " input_1 (InputLayer)           [(None, 48, 10)]     0           []                               \n",
      "                                                                                                  \n",
      " conv1d (Conv1D)                (None, 48, 50)       1050        ['input_1[0][0]']                \n",
      "                                                                                                  \n",
      " conv1d_1 (Conv1D)              (None, 48, 50)       5050        ['conv1d[0][0]']                 \n",
      "                                                                                                  \n",
      " dense (Dense)                  (None, 48, 1)        51          ['conv1d_1[0][0]']               \n",
      "                                                                                                  \n",
      " flatten (Flatten)              (None, 48)           0           ['dense[0][0]']                  \n",
      "                                                                                                  \n",
      " input_2 (InputLayer)           [(None, 155)]        0           []                               \n",
      "                                                                                                  \n",
      " concatenate (Concatenate)      (None, 203)          0           ['flatten[0][0]',                \n",
      "                                                                  'input_2[0][0]']                \n",
      "                                                                                                  \n",
      " dense_1 (Dense)                (None, 128)          26112       ['concatenate[0][0]']            \n",
      "                                                                                                  \n",
      " dense_2 (Dense)                (None, 48)           6192        ['dense_1[0][0]']                \n",
      "                                                                                                  \n",
      "==================================================================================================\n",
      "Total params: 38,455\n",
      "Trainable params: 38,455\n",
      "Non-trainable params: 0\n",
      "__________________________________________________________________________________________________\n",
      "Epoch 1/10\n",
      "554/554 [==============================] - 6s 8ms/step - loss: 251.3934 - mae: 251.3934 - val_loss: 241.6864 - val_mae: 241.6864\n",
      "Epoch 2/10\n",
      "554/554 [==============================] - 5s 8ms/step - loss: 232.8703 - mae: 232.8703 - val_loss: 191.5022 - val_mae: 191.5022\n",
      "Epoch 3/10\n",
      "554/554 [==============================] - 4s 8ms/step - loss: 222.7262 - mae: 222.7262 - val_loss: 176.0770 - val_mae: 176.0770\n",
      "Epoch 4/10\n",
      "554/554 [==============================] - 4s 8ms/step - loss: 217.5700 - mae: 217.5700 - val_loss: 191.6797 - val_mae: 191.6797\n",
      "Epoch 5/10\n",
      "554/554 [==============================] - 4s 8ms/step - loss: 215.3098 - mae: 215.3098 - val_loss: 206.5388 - val_mae: 206.5388\n"
     ]
    },
    {
     "name": "stderr",
     "output_type": "stream",
     "text": [
      "   INFO ->  [+] predict\n",
      "100%|██████████| 134/134 [00:18<00:00,  7.42it/s]\n"
     ]
    }
   ],
   "source": [
    "from autox import AutoTS\n",
    "autots = AutoTS(df = df,\n",
    "                id_col = 'TurbID',\n",
    "                time_col = 't1',\n",
    "                target_col = 'Patv',\n",
    "                time_varying_cols = ['Wspd', 'Wdir', 'Etmp', 'Itmp', 'Ndir', 'Pab1', 'Pab2', 'Pab3', 'Prtv', 'Patv'],\n",
    "                time_interval_num = 15,\n",
    "                time_interval_unit = 'minute',\n",
    "                forecast_period = 4 * 12,\n",
    "                mode = 'cnn',\n",
    "                metric = 'mae')\n",
    "\n",
    "sub = autots.get_result()\n",
    "sub.to_csv(\"./autox_kdd_cnn.csv\", index=False)"
   ]
  },
  {
   "cell_type": "code",
   "execution_count": 5,
   "metadata": {
    "ExecuteTime": {
     "end_time": "2022-04-08T08:19:06.981694Z",
     "start_time": "2022-04-08T08:19:06.966553Z"
    },
    "scrolled": true
   },
   "outputs": [
    {
     "data": {
      "text/html": [
       "<div>\n",
       "<style scoped>\n",
       "    .dataframe tbody tr th:only-of-type {\n",
       "        vertical-align: middle;\n",
       "    }\n",
       "\n",
       "    .dataframe tbody tr th {\n",
       "        vertical-align: top;\n",
       "    }\n",
       "\n",
       "    .dataframe thead th {\n",
       "        text-align: right;\n",
       "    }\n",
       "</style>\n",
       "<table border=\"1\" class=\"dataframe\">\n",
       "  <thead>\n",
       "    <tr style=\"text-align: right;\">\n",
       "      <th></th>\n",
       "      <th>TurbID</th>\n",
       "      <th>t1</th>\n",
       "      <th>Patv</th>\n",
       "    </tr>\n",
       "  </thead>\n",
       "  <tbody>\n",
       "    <tr>\n",
       "      <th>0</th>\n",
       "      <td>1</td>\n",
       "      <td>2020-01-08 00:00:00</td>\n",
       "      <td>175.349411</td>\n",
       "    </tr>\n",
       "    <tr>\n",
       "      <th>1</th>\n",
       "      <td>1</td>\n",
       "      <td>2020-01-08 00:15:00</td>\n",
       "      <td>191.652649</td>\n",
       "    </tr>\n",
       "    <tr>\n",
       "      <th>2</th>\n",
       "      <td>1</td>\n",
       "      <td>2020-01-08 00:30:00</td>\n",
       "      <td>218.996948</td>\n",
       "    </tr>\n",
       "    <tr>\n",
       "      <th>3</th>\n",
       "      <td>1</td>\n",
       "      <td>2020-01-08 00:45:00</td>\n",
       "      <td>223.673462</td>\n",
       "    </tr>\n",
       "    <tr>\n",
       "      <th>4</th>\n",
       "      <td>1</td>\n",
       "      <td>2020-01-08 01:00:00</td>\n",
       "      <td>266.733063</td>\n",
       "    </tr>\n",
       "    <tr>\n",
       "      <th>...</th>\n",
       "      <td>...</td>\n",
       "      <td>...</td>\n",
       "      <td>...</td>\n",
       "    </tr>\n",
       "    <tr>\n",
       "      <th>43</th>\n",
       "      <td>134</td>\n",
       "      <td>2020-01-08 10:45:00</td>\n",
       "      <td>366.377686</td>\n",
       "    </tr>\n",
       "    <tr>\n",
       "      <th>44</th>\n",
       "      <td>134</td>\n",
       "      <td>2020-01-08 11:00:00</td>\n",
       "      <td>390.563629</td>\n",
       "    </tr>\n",
       "    <tr>\n",
       "      <th>45</th>\n",
       "      <td>134</td>\n",
       "      <td>2020-01-08 11:15:00</td>\n",
       "      <td>401.626404</td>\n",
       "    </tr>\n",
       "    <tr>\n",
       "      <th>46</th>\n",
       "      <td>134</td>\n",
       "      <td>2020-01-08 11:30:00</td>\n",
       "      <td>396.145386</td>\n",
       "    </tr>\n",
       "    <tr>\n",
       "      <th>47</th>\n",
       "      <td>134</td>\n",
       "      <td>2020-01-08 11:45:00</td>\n",
       "      <td>404.451630</td>\n",
       "    </tr>\n",
       "  </tbody>\n",
       "</table>\n",
       "<p>6432 rows × 3 columns</p>\n",
       "</div>"
      ],
      "text/plain": [
       "    TurbID                  t1        Patv\n",
       "0        1 2020-01-08 00:00:00  175.349411\n",
       "1        1 2020-01-08 00:15:00  191.652649\n",
       "2        1 2020-01-08 00:30:00  218.996948\n",
       "3        1 2020-01-08 00:45:00  223.673462\n",
       "4        1 2020-01-08 01:00:00  266.733063\n",
       "..     ...                 ...         ...\n",
       "43     134 2020-01-08 10:45:00  366.377686\n",
       "44     134 2020-01-08 11:00:00  390.563629\n",
       "45     134 2020-01-08 11:15:00  401.626404\n",
       "46     134 2020-01-08 11:30:00  396.145386\n",
       "47     134 2020-01-08 11:45:00  404.451630\n",
       "\n",
       "[6432 rows x 3 columns]"
      ]
     },
     "execution_count": 5,
     "metadata": {},
     "output_type": "execute_result"
    }
   ],
   "source": [
    "sub"
   ]
  },
  {
   "cell_type": "code",
   "execution_count": 18,
   "metadata": {
    "ExecuteTime": {
     "end_time": "2022-04-08T08:20:31.405025Z",
     "start_time": "2022-04-08T08:20:31.198776Z"
    },
    "scrolled": false
   },
   "outputs": [
    {
     "data": {
      "image/png": "[encoded data removed]",
      "text/plain": [
       "<Figure size 432x288 with 1 Axes>"
      ]
     },
     "metadata": {
      "needs_background": "light"
     },
     "output_type": "display_data"
    }
   ],
   "source": [
    "cur_TurbID = 40\n",
    "\n",
    "plt.plot(df.loc[df['TurbID'] == cur_TurbID, 't1'], df.loc[df['TurbID'] == cur_TurbID, 'Patv'], color = 'b')\n",
    "plt.plot(sub.loc[sub['TurbID'] == cur_TurbID, 't1'], sub.loc[sub['TurbID'] == cur_TurbID, 'Patv'], color = 'r')\n",
    "plt.gcf().autofmt_xdate()\n",
    "plt.show()"
   ]
  },
  {
   "cell_type": "code",
   "execution_count": 42,
   "metadata": {
    "ExecuteTime": {
     "end_time": "2022-04-08T08:23:19.086638Z",
     "start_time": "2022-04-08T08:23:18.900556Z"
    },
    "scrolled": true
   },
   "outputs": [
    {
     "data": {
      "image/png": "[encoded data removed]",
      "text/plain": [
       "<Figure size 432x288 with 1 Axes>"
      ]
     },
     "metadata": {
      "needs_background": "light"
     },
     "output_type": "display_data"
    }
   ],
   "source": [
    "cur_TurbID = 33\n",
    "\n",
    "plt.plot(df.loc[df['TurbID'] == cur_TurbID, 't1'], df.loc[df['TurbID'] == cur_TurbID, 'Patv'], color = 'b')\n",
    "plt.plot(sub.loc[sub['TurbID'] == cur_TurbID, 't1'], sub.loc[sub['TurbID'] == cur_TurbID, 'Patv'], color = 'r')\n",
    "plt.gcf().autofmt_xdate()\n",
    "plt.show()"
   ]
  },
  {
   "cell_type": "code",
   "execution_count": null,
   "metadata": {},
   "outputs": [],
   "source": []
  }
 ],
 "metadata": {
  "kernelspec": {
   "display_name": "Python 3",
   "language": "python",
   "name": "python3"
  },
  "toc": {
   "base_numbering": 1,
   "nav_menu": {},
   "number_sections": true,
   "sideBar": true,
   "skip_h1_title": false,
   "title_cell": "Table of Contents",
   "title_sidebar": "Contents",
   "toc_cell": false,
   "toc_position": {
    "height": "calc(100% - 180px)",
    "left": "10px",
    "top": "150px",
    "width": "191px"
   },
   "toc_section_display": true,
   "toc_window_display": true
  },
  "varInspector": {
   "cols": {
    "lenName": 16,
    "lenType": 16,
    "lenVar": 40
   },
   "kernels_config": {
    "python": {
     "delete_cmd_postfix": "",
     "delete_cmd_prefix": "del ",
     "library": "var_list.py",
     "varRefreshCmd": "print(var_dic_list())"
    },
    "r": {
     "delete_cmd_postfix": ") ",
     "delete_cmd_prefix": "rm(",
     "library": "var_list.r",
     "varRefreshCmd": "cat(var_dic_list()) "
    }
   },
   "types_to_exclude": [
    "module",
    "function",
    "builtin_function_or_method",
    "instance",
    "_Feature"
   ],
   "window_display": false
  }
 },
 "nbformat": 4,
 "nbformat_minor": 5
}
