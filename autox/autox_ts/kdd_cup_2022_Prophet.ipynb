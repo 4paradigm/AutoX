{
  "nbformat": 4,
  "nbformat_minor": 0,
  "metadata": {
    "colab": {
      "name": "kdd_cup_2022_Prophet.ipynb",
      "provenance": []
    },
    "kernelspec": {
      "name": "python3",
      "display_name": "Python 3"
    },
    "language_info": {
      "name": "python"
    }
  },
  "cells": [
    {
      "cell_type": "code",
      "source": [
        "import warnings\n",
        "warnings.filterwarnings('ignore')\n",
        "import pandas as pd\n",
        "import numpy as np\n",
        "import os\n",
        "from tqdm import tqdm\n",
        "from datetime import datetime, timedelta\n",
        "import matplotlib.pyplot as plt"
      ],
      "metadata": {
        "id": "iIesvyWYf7Jc"
      },
      "execution_count": 1,
      "outputs": []
    },
    {
      "cell_type": "code",
      "source": [
        "df = pd.read_csv('/content/sdwpf134_initial_kddcup.csv')\n",
        "\n",
        "def get_date(k):\n",
        "    cur_date = \"2020-01-01\"\n",
        "    one_day = timedelta(days=k-1)\n",
        "    return str(datetime.strptime(cur_date, '%Y-%m-%d') + one_day)[:10]\n",
        "\n",
        "df['Day'] = df['Day'].apply(lambda x: get_date(x))\n",
        "\n",
        "def cols_concat(df, con_list):\n",
        "    name = 't1'\n",
        "    df[name] = df[con_list[0]].astype(str)\n",
        "    for item in con_list[1:]:\n",
        "        df[name] = df[name] + ' ' + df[item].astype(str)\n",
        "    return df\n",
        "\n",
        "df = cols_concat(df, [\"Day\", \"Tmstamp\"])\n",
        "\n",
        "df = df[['TurbID', 't1', 'Wspd', 'Wdir', 'Etmp', 'Itmp', 'Ndir', 'Pab1', 'Pab2', 'Pab3', 'Prtv', 'Patv']]\n",
        "df['t1'] = pd.to_datetime(df['t1'])"
      ],
      "metadata": {
        "id": "gP-GhJ0Tf4dS"
      },
      "execution_count": 2,
      "outputs": []
    },
    {
      "cell_type": "code",
      "source": [
        "from fbprophet import Prophet\n",
        "\n",
        "cur_TurbID = 110\n",
        "Prophet_df = df.loc[df['TurbID'] == cur_TurbID, ['t1', 'Patv']]\n",
        "Prophet_df.columns = ['ds', 'y']\n",
        "Prophet_df.index = range(len(Prophet_df))\n",
        "Prophet_df['ds'] = pd.to_datetime(Prophet_df['ds'])\n",
        "\n",
        "m = Prophet()\n",
        "m.fit(Prophet_df)"
      ],
      "metadata": {
        "colab": {
          "base_uri": "https://localhost:8080/"
        },
        "id": "skNOxz9nfrkU",
        "outputId": "0427e4f6-2a89-4348-f3af-44f38e7e7c28"
      },
      "execution_count": 9,
      "outputs": [
        {
          "output_type": "stream",
          "name": "stderr",
          "text": [
            "INFO:fbprophet:Disabling yearly seasonality. Run prophet with yearly_seasonality=True to override this.\n",
            "INFO:fbprophet:Disabling weekly seasonality. Run prophet with weekly_seasonality=True to override this.\n"
          ]
        },
        {
          "output_type": "execute_result",
          "data": {
            "text/plain": [
              "<fbprophet.forecaster.Prophet at 0x7f0ebd6b16d0>"
            ]
          },
          "metadata": {},
          "execution_count": 9
        }
      ]
    },
    {
      "cell_type": "code",
      "source": [
        "future = m.make_future_dataframe(periods=4*24, freq = '15min')\n",
        "forecast = m.predict(future)"
      ],
      "metadata": {
        "id": "Y6NQRBiwgCF9"
      },
      "execution_count": 10,
      "outputs": []
    },
    {
      "cell_type": "code",
      "source": [
        "plt.plot(df.loc[df['TurbID'] == cur_TurbID, 't1'], df.loc[df['TurbID'] == cur_TurbID, 'Patv'], color = 'b')\n",
        "plt.plot(forecast.loc[forecast['ds'] > '2020-01-07 23:45:00', 'ds'], forecast.loc[forecast['ds'] > '2020-01-07 23:45:00', 'yhat'], color = 'r')"
      ],
      "metadata": {
        "colab": {
          "base_uri": "https://localhost:8080/",
          "height": 283
        },
        "id": "C1ucwwF_ixDR",
        "outputId": "12f384a4-ed89-4609-df20-f679dc4347fc"
      },
      "execution_count": 11,
      "outputs": [
        {
          "output_type": "execute_result",
          "data": {
            "text/plain": [
              "[<matplotlib.lines.Line2D at 0x7f0ebd62d4d0>]"
            ]
          },
          "metadata": {},
          "execution_count": 11
        },
        {
          "output_type": "display_data",
          "data": {
            "text/plain": [
              "<Figure size 432x288 with 1 Axes>"
            ],
            "image/png": "[encoded data removed]"
          },
          "metadata": {
            "needs_background": "light"
          }
        }
      ]
    },
    {
      "cell_type": "code",
      "source": [
        ""
      ],
      "metadata": {
        "id": "k_n5kRW4mLPW"
      },
      "execution_count": 11,
      "outputs": []
    }
  ]
}