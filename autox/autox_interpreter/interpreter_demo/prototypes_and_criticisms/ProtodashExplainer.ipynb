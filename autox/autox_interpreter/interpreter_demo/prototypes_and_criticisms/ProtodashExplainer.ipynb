{
  "nbformat": 4,
  "nbformat_minor": 0,
  "metadata": {
    "colab": {
      "name": "ProtodashExplainer_for_ prototypes.ipynb",
      "provenance": [],
      "collapsed_sections": []
    },
    "kernelspec": {
      "name": "python3",
      "display_name": "Python 3"
    },
    "language_info": {
      "name": "python"
    }
  },
  "cells": [
    {
      "cell_type": "code",
      "metadata": {
        "id": "-TxigLTfkJYh"
      },
      "source": [
        "# !pip install aix360"
      ],
      "execution_count": 1,
      "outputs": []
    },
    {
      "cell_type": "code",
      "metadata": {
        "colab": {
          "base_uri": "https://localhost:8080/"
        },
        "id": "-XdrZbsAiksz",
        "outputId": "ed053d10-57ce-45f2-e80c-6b034079d8b3"
      },
      "source": [
        "import warnings\n",
        "warnings.filterwarnings('ignore')\n",
        "\n",
        "import pandas as pd\n",
        "import numpy as np\n",
        "import tensorflow as tf\n",
        "from keras.models import Sequential, Model, load_model, model_from_json\n",
        "from keras.layers import Dense\n",
        "import matplotlib.pyplot as plt\n",
        "from IPython.core.display import display, HTML\n",
        "import pandas as pd\n",
        "import numpy as np\n",
        "import os\n",
        "from tqdm import tqdm\n",
        "from sklearn.preprocessing import StandardScaler\n",
        "from sklearn import preprocessing\n",
        "from tqdm import tqdm_notebook\n",
        "import torch\n",
        "\n",
        "from aix360.algorithms.contrastive import CEMExplainer, KerasClassifier\n",
        "from aix360.algorithms.protodash import ProtodashExplainer\n",
        "from aix360.datasets.heloc_dataset import HELOCDataset"
      ],
      "execution_count": 2,
      "outputs": [
        {
          "output_type": "stream",
          "name": "stderr",
          "text": [
            "Using TensorFlow backend.\n"
          ]
        }
      ]
    },
    {
      "cell_type": "code",
      "metadata": {
        "id": "qHjoIf0xkIso"
      },
      "source": [
        "def load_data(path, target):\n",
        "    df = pd.read_csv(path)\n",
        "    df_origin = df.copy()\n",
        "    \n",
        "    num_cols = []\n",
        "    cat_cols = []\n",
        "\n",
        "    for col in df.columns:\n",
        "        if col in [target]:\n",
        "            continue\n",
        "        if (df[col].dtype == 'object'):\n",
        "            cat_cols.append(col)\n",
        "        else:\n",
        "            num_cols.append(col)\n",
        "    \n",
        "    for col in num_cols:\n",
        "        scaler = StandardScaler()\n",
        "        scaler.fit(df[col].values.reshape(-1, 1))\n",
        "\n",
        "        df[col] = scaler.transform(df[col].values.reshape(-1, 1))\n",
        "    \n",
        "    \n",
        "    for f in cat_cols:\n",
        "        lbl = preprocessing.LabelEncoder()\n",
        "        print(f, df[f].nunique())\n",
        "        lbl.fit(df[f])\n",
        "        df[f] = lbl.transform(list(df[f].astype(str)))\n",
        "    \n",
        "    not_used = [target]\n",
        "    used_features = [x for x in df.columns if x not in not_used]\n",
        "    X = df[used_features]\n",
        "    y = df[target]\n",
        "    \n",
        "    X = torch.tensor(np.array(X), dtype=torch.float)\n",
        "    y = torch.tensor(np.array(y), dtype=torch.long)\n",
        "    \n",
        "    return X, y, df_origin"
      ],
      "execution_count": 3,
      "outputs": []
    },
    {
      "cell_type": "code",
      "metadata": {
        "colab": {
          "base_uri": "https://localhost:8080/"
        },
        "id": "ZYCrCaUzlhDy",
        "outputId": "05761750-76d1-4ef5-a72d-75a098f19c44"
      },
      "source": [
        "path = '../../demo_data/adult.csv'\n",
        "target = 'income'\n",
        "\n",
        "X, y, df = load_data(path, target)"
      ],
      "execution_count": 4,
      "outputs": [
        {
          "output_type": "stream",
          "name": "stdout",
          "text": [
            "workclass 9\n",
            "education 16\n",
            "marital.status 7\n",
            "occupation 15\n",
            "relationship 6\n",
            "race 5\n",
            "sex 2\n",
            "native.country 42\n"
          ]
        }
      ]
    },
    {
      "cell_type": "code",
      "metadata": {
        "colab": {
          "base_uri": "https://localhost:8080/"
        },
        "id": "eboBeTptlkDQ",
        "outputId": "22cfed27-4d79-4c1b-f934-c24cfc6d82c7"
      },
      "source": [
        "X.shape, y.shape, df.shape"
      ],
      "execution_count": 5,
      "outputs": [
        {
          "output_type": "execute_result",
          "data": {
            "text/plain": [
              "(torch.Size([32561, 14]), torch.Size([32561]), (32561, 15))"
            ]
          },
          "metadata": {},
          "execution_count": 5
        }
      ]
    },
    {
      "cell_type": "code",
      "metadata": {
        "id": "GhCwPiIRlxMf"
      },
      "source": [
        "used = [x for x in df.columns if x != target]\n",
        "from sklearn.model_selection import train_test_split\n",
        "\n",
        "xn_train, xn_test, y_train, y_test = train_test_split(X, y, test_size=0.2, random_state=42)  # normalized data\n",
        "x_train, x_test = train_test_split(df[used], test_size=0.2, random_state=42) \n",
        "x_train.index = range(len(x_train))\n",
        "x_test.index = range(len(x_test))"
      ],
      "execution_count": 6,
      "outputs": []
    },
    {
      "cell_type": "code",
      "metadata": {
        "id": "rOSPQRd-m7B3"
      },
      "source": [
        "# nn with no softmax\n",
        "def nn_small():\n",
        "    model = Sequential()\n",
        "    model.add(Dense(10, input_dim=len(used), activation='relu'))\n",
        "    model.add(Dense(1, activation='sigmoid'))  \n",
        "    model.compile(loss='binary_crossentropy', optimizer='adam', metrics=['accuracy'])  \n",
        "    return model"
      ],
      "execution_count": 7,
      "outputs": []
    },
    {
      "cell_type": "code",
      "metadata": {
        "colab": {
          "base_uri": "https://localhost:8080/"
        },
        "id": "72-MBnJ-o7ac",
        "outputId": "7c9ab2f4-dd5a-4918-b29e-57d8a59d5630"
      },
      "source": [
        "# Set random seeds for repeatability\n",
        "np.random.seed(1) \n",
        "tf.set_random_seed(2) \n",
        "\n",
        "class_names = ['income<50', 'incode>=50']\n",
        "\n",
        "# compile and print model summary\n",
        "nn = nn_small()\n",
        "nn.summary()\n",
        "\n",
        "# train model or load a trained model\n",
        "TRAIN_MODEL = False\n",
        "\n",
        "nn.fit(xn_train, y_train, batch_size=128, epochs=10, verbose=1, shuffle=False)\n",
        "        \n",
        "# evaluate model accuracy        \n",
        "score = nn.evaluate(xn_train, y_train, verbose=0) #Compute training set accuracy\n",
        "#print('Train loss:', score[0])\n",
        "print('Train accuracy:', score[1])\n",
        "\n",
        "score = nn.evaluate(xn_test, y_test, verbose=0) #Compute test set accuracy\n",
        "#print('Test loss:', score[0])\n",
        "print('Test accuracy:', score[1])"
      ],
      "execution_count": 8,
      "outputs": [
        {
          "output_type": "stream",
          "name": "stdout",
          "text": [
            "WARNING:tensorflow:From /usr/local/lib/python3.7/dist-packages/tensorflow/python/ops/nn_impl.py:180: add_dispatch_support.<locals>.wrapper (from tensorflow.python.ops.array_ops) is deprecated and will be removed in a future version.\n",
            "Instructions for updating:\n",
            "Use tf.where in 2.0, which has the same broadcast rule as np.where\n",
            "Model: \"sequential_1\"\n",
            "_________________________________________________________________\n",
            "Layer (type)                 Output Shape              Param #   \n",
            "=================================================================\n",
            "dense_1 (Dense)              (None, 10)                150       \n",
            "_________________________________________________________________\n",
            "dense_2 (Dense)              (None, 1)                 11        \n",
            "=================================================================\n",
            "Total params: 161\n",
            "Trainable params: 161\n",
            "Non-trainable params: 0\n",
            "_________________________________________________________________\n",
            "WARNING:tensorflow:From /usr/local/lib/python3.7/dist-packages/keras/backend/tensorflow_backend.py:422: The name tf.global_variables is deprecated. Please use tf.compat.v1.global_variables instead.\n",
            "\n",
            "Epoch 1/10\n",
            "26048/26048 [==============================] - 0s 13us/step - loss: 0.8865 - accuracy: 0.7448\n",
            "Epoch 2/10\n",
            "26048/26048 [==============================] - 0s 10us/step - loss: 0.4324 - accuracy: 0.7955\n",
            "Epoch 3/10\n",
            "26048/26048 [==============================] - 0s 10us/step - loss: 0.4041 - accuracy: 0.8158\n",
            "Epoch 4/10\n",
            "26048/26048 [==============================] - 0s 10us/step - loss: 0.3963 - accuracy: 0.8201\n",
            "Epoch 5/10\n",
            "26048/26048 [==============================] - 0s 10us/step - loss: 0.3927 - accuracy: 0.8213\n",
            "Epoch 6/10\n",
            "26048/26048 [==============================] - 0s 10us/step - loss: 0.3904 - accuracy: 0.8225\n",
            "Epoch 7/10\n",
            "26048/26048 [==============================] - 0s 10us/step - loss: 0.3889 - accuracy: 0.8236\n",
            "Epoch 8/10\n",
            "26048/26048 [==============================] - 0s 10us/step - loss: 0.3878 - accuracy: 0.8239\n",
            "Epoch 9/10\n",
            "26048/26048 [==============================] - 0s 10us/step - loss: 0.3870 - accuracy: 0.8245\n",
            "Epoch 10/10\n",
            "26048/26048 [==============================] - 0s 10us/step - loss: 0.3863 - accuracy: 0.8247\n",
            "Train accuracy: 0.8257063627243042\n",
            "Test accuracy: 0.8220481872558594\n"
          ]
        }
      ]
    },
    {
      "cell_type": "code",
      "metadata": {
        "id": "7i_GwxkJpkVs"
      },
      "source": [
        "p_train = nn.predict_classes(xn_train) # Use trained neural network to predict train points\n",
        "p_train = p_train.reshape((p_train.shape[0],1))\n",
        "\n",
        "z_train = np.hstack((xn_train, p_train)) # Store (normalized) instances that were predicted as Good\n",
        "z_train_good = z_train[z_train[:,-1]==1, :]\n",
        "\n",
        "zun_train = np.hstack((x_train, p_train)) # Store (unnormalized) instances that were predicted as Good \n",
        "zun_train_good = zun_train[zun_train[:,-1]==1, :]"
      ],
      "execution_count": 9,
      "outputs": []
    },
    {
      "cell_type": "markdown",
      "source": [
        "Obtain similar samples as explanations(for a example income>=50) "
      ],
      "metadata": {
        "id": "46DYZRz1OihV"
      }
    },
    {
      "cell_type": "code",
      "metadata": {
        "colab": {
          "base_uri": "https://localhost:8080/"
        },
        "id": "zfbuI6dnqlQE",
        "outputId": "3c4cdb54-bea1-4f28-99f8-b89afc030f1e"
      },
      "source": [
        "idx = 39\n",
        "\n",
        "X = xn_test[idx].reshape((1,) + xn_test[idx].shape)\n",
        "\n",
        "print(\"Chosen Sample:\", idx)\n",
        "if nn.predict_proba(X) <= 0.5:\n",
        "  print(\"Prediction made by the model:\", class_names[0])\n",
        "else:\n",
        "  print(\"Prediction made by the model:\", class_names[1])\n",
        "print(\"Prediction probabilities:\", nn.predict_proba(X))\n",
        "print(\"\")\n",
        "\n",
        "# attach the prediction made by the model to X\n",
        "X = np.hstack((X, nn.predict_classes(X).reshape((1,1))))"
      ],
      "execution_count": 10,
      "outputs": [
        {
          "output_type": "stream",
          "name": "stdout",
          "text": [
            "Chosen Sample: 39\n",
            "Prediction made by the model: incode>=50\n",
            "Prediction probabilities: [[0.87907875]]\n",
            "\n"
          ]
        }
      ]
    },
    {
      "cell_type": "code",
      "metadata": {
        "colab": {
          "base_uri": "https://localhost:8080/"
        },
        "id": "4iqUwoeos76y",
        "outputId": "503304ca-e98d-4d92-b986-80a39ceb801d"
      },
      "source": [
        "x_test.iloc[idx]"
      ],
      "execution_count": 11,
      "outputs": [
        {
          "output_type": "execute_result",
          "data": {
            "text/plain": [
              "age                               39\n",
              "workclass               Self-emp-inc\n",
              "fnlwgt                        283338\n",
              "education                  Bachelors\n",
              "education.num                     13\n",
              "marital.status    Married-civ-spouse\n",
              "occupation           Exec-managerial\n",
              "relationship                 Husband\n",
              "race                           White\n",
              "sex                             Male\n",
              "capital.gain                    7298\n",
              "capital.loss                       0\n",
              "hours.per.week                    40\n",
              "native.country         United-States\n",
              "Name: 39, dtype: object"
            ]
          },
          "metadata": {},
          "execution_count": 11
        }
      ]
    },
    {
      "cell_type": "code",
      "metadata": {
        "id": "8A0GRVxZm7KI"
      },
      "source": [
        "explainer = ProtodashExplainer()\n",
        "(W, S, setValues) = explainer.explain(X, z_train_good, m=5)"
      ],
      "execution_count": 12,
      "outputs": []
    },
    {
      "cell_type": "code",
      "source": [
        "dfs = pd.DataFrame.from_records(zun_train_good[S, 0:-1])\n",
        "RP=[]\n",
        "for i in range(S.shape[0]):\n",
        "    RP.append(class_names[int(z_train_good[S[i], -1])]) # Append class names"
      ],
      "metadata": {
        "id": "LyQLCQxBLFdH"
      },
      "execution_count": 13,
      "outputs": []
    },
    {
      "cell_type": "code",
      "metadata": {
        "colab": {
          "base_uri": "https://localhost:8080/",
          "height": 551
        },
        "id": "1iNj6dMIm7Qf",
        "outputId": "018b9d95-b2de-44c7-b8fb-08ee9833cd79"
      },
      "source": [
        "dfs[dfs.shape[1]+1] = RP\n",
        "dfs.columns = df.columns  \n",
        "dfs[\"Weight\"] = np.around(W, 5)/np.sum(np.around(W, 5)) # Calculate normalized importance weights\n",
        "dfs.transpose()"
      ],
      "execution_count": 14,
      "outputs": [
        {
          "output_type": "execute_result",
          "data": {
            "text/html": [
              "<div>\n",
              "<style scoped>\n",
              "    .dataframe tbody tr th:only-of-type {\n",
              "        vertical-align: middle;\n",
              "    }\n",
              "\n",
              "    .dataframe tbody tr th {\n",
              "        vertical-align: top;\n",
              "    }\n",
              "\n",
              "    .dataframe thead th {\n",
              "        text-align: right;\n",
              "    }\n",
              "</style>\n",
              "<table border=\"1\" class=\"dataframe\">\n",
              "  <thead>\n",
              "    <tr style=\"text-align: right;\">\n",
              "      <th></th>\n",
              "      <th>0</th>\n",
              "      <th>1</th>\n",
              "      <th>2</th>\n",
              "      <th>3</th>\n",
              "      <th>4</th>\n",
              "    </tr>\n",
              "  </thead>\n",
              "  <tbody>\n",
              "    <tr>\n",
              "      <th>age</th>\n",
              "      <td>41</td>\n",
              "      <td>35</td>\n",
              "      <td>31</td>\n",
              "      <td>42</td>\n",
              "      <td>21</td>\n",
              "    </tr>\n",
              "    <tr>\n",
              "      <th>workclass</th>\n",
              "      <td>Self-emp-inc</td>\n",
              "      <td>Private</td>\n",
              "      <td>Private</td>\n",
              "      <td>State-gov</td>\n",
              "      <td>Private</td>\n",
              "    </tr>\n",
              "    <tr>\n",
              "      <th>fnlwgt</th>\n",
              "      <td>220821</td>\n",
              "      <td>1226583</td>\n",
              "      <td>1033222</td>\n",
              "      <td>222884</td>\n",
              "      <td>34310</td>\n",
              "    </tr>\n",
              "    <tr>\n",
              "      <th>education</th>\n",
              "      <td>Bachelors</td>\n",
              "      <td>Bachelors</td>\n",
              "      <td>Bachelors</td>\n",
              "      <td>Bachelors</td>\n",
              "      <td>Assoc-voc</td>\n",
              "    </tr>\n",
              "    <tr>\n",
              "      <th>education.num</th>\n",
              "      <td>13</td>\n",
              "      <td>13</td>\n",
              "      <td>13</td>\n",
              "      <td>13</td>\n",
              "      <td>11</td>\n",
              "    </tr>\n",
              "    <tr>\n",
              "      <th>marital.status</th>\n",
              "      <td>Married-civ-spouse</td>\n",
              "      <td>Married-civ-spouse</td>\n",
              "      <td>Never-married</td>\n",
              "      <td>Divorced</td>\n",
              "      <td>Married-civ-spouse</td>\n",
              "    </tr>\n",
              "    <tr>\n",
              "      <th>occupation</th>\n",
              "      <td>Exec-managerial</td>\n",
              "      <td>Sales</td>\n",
              "      <td>Adm-clerical</td>\n",
              "      <td>Adm-clerical</td>\n",
              "      <td>Craft-repair</td>\n",
              "    </tr>\n",
              "    <tr>\n",
              "      <th>relationship</th>\n",
              "      <td>Husband</td>\n",
              "      <td>Husband</td>\n",
              "      <td>Not-in-family</td>\n",
              "      <td>Not-in-family</td>\n",
              "      <td>Husband</td>\n",
              "    </tr>\n",
              "    <tr>\n",
              "      <th>race</th>\n",
              "      <td>White</td>\n",
              "      <td>White</td>\n",
              "      <td>White</td>\n",
              "      <td>White</td>\n",
              "      <td>White</td>\n",
              "    </tr>\n",
              "    <tr>\n",
              "      <th>sex</th>\n",
              "      <td>Male</td>\n",
              "      <td>Male</td>\n",
              "      <td>Male</td>\n",
              "      <td>Male</td>\n",
              "      <td>Male</td>\n",
              "    </tr>\n",
              "    <tr>\n",
              "      <th>capital.gain</th>\n",
              "      <td>7688</td>\n",
              "      <td>0</td>\n",
              "      <td>8614</td>\n",
              "      <td>0</td>\n",
              "      <td>0</td>\n",
              "    </tr>\n",
              "    <tr>\n",
              "      <th>capital.loss</th>\n",
              "      <td>0</td>\n",
              "      <td>0</td>\n",
              "      <td>0</td>\n",
              "      <td>0</td>\n",
              "      <td>2603</td>\n",
              "    </tr>\n",
              "    <tr>\n",
              "      <th>hours.per.week</th>\n",
              "      <td>40</td>\n",
              "      <td>52</td>\n",
              "      <td>40</td>\n",
              "      <td>40</td>\n",
              "      <td>40</td>\n",
              "    </tr>\n",
              "    <tr>\n",
              "      <th>native.country</th>\n",
              "      <td>United-States</td>\n",
              "      <td>United-States</td>\n",
              "      <td>United-States</td>\n",
              "      <td>United-States</td>\n",
              "      <td>United-States</td>\n",
              "    </tr>\n",
              "    <tr>\n",
              "      <th>income</th>\n",
              "      <td>incode&gt;=50</td>\n",
              "      <td>incode&gt;=50</td>\n",
              "      <td>incode&gt;=50</td>\n",
              "      <td>incode&gt;=50</td>\n",
              "      <td>incode&gt;=50</td>\n",
              "    </tr>\n",
              "    <tr>\n",
              "      <th>Weight</th>\n",
              "      <td>0.894362</td>\n",
              "      <td>0.0285394</td>\n",
              "      <td>0.0418592</td>\n",
              "      <td>0.0310394</td>\n",
              "      <td>0.00419992</td>\n",
              "    </tr>\n",
              "  </tbody>\n",
              "</table>\n",
              "</div>"
            ],
            "text/plain": [
              "                                 0  ...                   4\n",
              "age                             41  ...                  21\n",
              "workclass             Self-emp-inc  ...             Private\n",
              "fnlwgt                      220821  ...               34310\n",
              "education                Bachelors  ...           Assoc-voc\n",
              "education.num                   13  ...                  11\n",
              "marital.status  Married-civ-spouse  ...  Married-civ-spouse\n",
              "occupation         Exec-managerial  ...        Craft-repair\n",
              "relationship               Husband  ...             Husband\n",
              "race                         White  ...               White\n",
              "sex                           Male  ...                Male\n",
              "capital.gain                  7688  ...                   0\n",
              "capital.loss                     0  ...                2603\n",
              "hours.per.week                  40  ...                  40\n",
              "native.country       United-States  ...       United-States\n",
              "income                  incode>=50  ...          incode>=50\n",
              "Weight                    0.894362  ...          0.00419992\n",
              "\n",
              "[16 rows x 5 columns]"
            ]
          },
          "metadata": {},
          "execution_count": 14
        }
      ]
    },
    {
      "cell_type": "code",
      "metadata": {
        "colab": {
          "base_uri": "https://localhost:8080/",
          "height": 488
        },
        "id": "Ns-EuJwIm7TR",
        "outputId": "4b5e7fd8-3648-4db4-aaf7-37bd847044bf"
      },
      "source": [
        "z = z_train_good[S, 0:-1] # Store chosen prototypes\n",
        "eps = 1e-10 # Small constant defined to eliminate divide-by-zero errors\n",
        "fwt = np.zeros(z.shape)\n",
        "for i in range (z.shape[0]):\n",
        "    for j in range(z.shape[1]):\n",
        "        fwt[i, j] = np.exp(-1 * abs(X[0, j] - z[i,j])/(np.std(z[:, j])+eps)) # Compute feature similarity in [0,1]\n",
        "                \n",
        "# move wts to a dataframe to display\n",
        "dfw = pd.DataFrame.from_records(np.around(fwt.astype('double'), 2))\n",
        "dfw.columns = df.columns[:-1]\n",
        "dfw.transpose()"
      ],
      "execution_count": 15,
      "outputs": [
        {
          "output_type": "execute_result",
          "data": {
            "text/html": [
              "<div>\n",
              "<style scoped>\n",
              "    .dataframe tbody tr th:only-of-type {\n",
              "        vertical-align: middle;\n",
              "    }\n",
              "\n",
              "    .dataframe tbody tr th {\n",
              "        vertical-align: top;\n",
              "    }\n",
              "\n",
              "    .dataframe thead th {\n",
              "        text-align: right;\n",
              "    }\n",
              "</style>\n",
              "<table border=\"1\" class=\"dataframe\">\n",
              "  <thead>\n",
              "    <tr style=\"text-align: right;\">\n",
              "      <th></th>\n",
              "      <th>0</th>\n",
              "      <th>1</th>\n",
              "      <th>2</th>\n",
              "      <th>3</th>\n",
              "      <th>4</th>\n",
              "    </tr>\n",
              "  </thead>\n",
              "  <tbody>\n",
              "    <tr>\n",
              "      <th>age</th>\n",
              "      <td>0.77</td>\n",
              "      <td>0.59</td>\n",
              "      <td>0.35</td>\n",
              "      <td>0.68</td>\n",
              "      <td>0.09</td>\n",
              "    </tr>\n",
              "    <tr>\n",
              "      <th>workclass</th>\n",
              "      <td>1.00</td>\n",
              "      <td>0.42</td>\n",
              "      <td>0.42</td>\n",
              "      <td>0.18</td>\n",
              "      <td>0.42</td>\n",
              "    </tr>\n",
              "    <tr>\n",
              "      <th>fnlwgt</th>\n",
              "      <td>0.88</td>\n",
              "      <td>0.14</td>\n",
              "      <td>0.21</td>\n",
              "      <td>0.88</td>\n",
              "      <td>0.60</td>\n",
              "    </tr>\n",
              "    <tr>\n",
              "      <th>education</th>\n",
              "      <td>1.00</td>\n",
              "      <td>1.00</td>\n",
              "      <td>1.00</td>\n",
              "      <td>1.00</td>\n",
              "      <td>0.08</td>\n",
              "    </tr>\n",
              "    <tr>\n",
              "      <th>education.num</th>\n",
              "      <td>1.00</td>\n",
              "      <td>1.00</td>\n",
              "      <td>1.00</td>\n",
              "      <td>1.00</td>\n",
              "      <td>0.08</td>\n",
              "    </tr>\n",
              "    <tr>\n",
              "      <th>marital.status</th>\n",
              "      <td>1.00</td>\n",
              "      <td>1.00</td>\n",
              "      <td>0.21</td>\n",
              "      <td>0.21</td>\n",
              "      <td>1.00</td>\n",
              "    </tr>\n",
              "    <tr>\n",
              "      <th>occupation</th>\n",
              "      <td>1.00</td>\n",
              "      <td>0.14</td>\n",
              "      <td>0.48</td>\n",
              "      <td>0.48</td>\n",
              "      <td>0.78</td>\n",
              "    </tr>\n",
              "    <tr>\n",
              "      <th>relationship</th>\n",
              "      <td>1.00</td>\n",
              "      <td>1.00</td>\n",
              "      <td>0.13</td>\n",
              "      <td>0.13</td>\n",
              "      <td>1.00</td>\n",
              "    </tr>\n",
              "    <tr>\n",
              "      <th>race</th>\n",
              "      <td>1.00</td>\n",
              "      <td>1.00</td>\n",
              "      <td>1.00</td>\n",
              "      <td>1.00</td>\n",
              "      <td>1.00</td>\n",
              "    </tr>\n",
              "    <tr>\n",
              "      <th>sex</th>\n",
              "      <td>1.00</td>\n",
              "      <td>1.00</td>\n",
              "      <td>1.00</td>\n",
              "      <td>1.00</td>\n",
              "      <td>1.00</td>\n",
              "    </tr>\n",
              "    <tr>\n",
              "      <th>capital.gain</th>\n",
              "      <td>0.91</td>\n",
              "      <td>0.16</td>\n",
              "      <td>0.72</td>\n",
              "      <td>0.16</td>\n",
              "      <td>0.16</td>\n",
              "    </tr>\n",
              "    <tr>\n",
              "      <th>capital.loss</th>\n",
              "      <td>1.00</td>\n",
              "      <td>1.00</td>\n",
              "      <td>1.00</td>\n",
              "      <td>1.00</td>\n",
              "      <td>0.08</td>\n",
              "    </tr>\n",
              "    <tr>\n",
              "      <th>hours.per.week</th>\n",
              "      <td>1.00</td>\n",
              "      <td>0.08</td>\n",
              "      <td>1.00</td>\n",
              "      <td>1.00</td>\n",
              "      <td>1.00</td>\n",
              "    </tr>\n",
              "    <tr>\n",
              "      <th>native.country</th>\n",
              "      <td>1.00</td>\n",
              "      <td>1.00</td>\n",
              "      <td>1.00</td>\n",
              "      <td>1.00</td>\n",
              "      <td>1.00</td>\n",
              "    </tr>\n",
              "  </tbody>\n",
              "</table>\n",
              "</div>"
            ],
            "text/plain": [
              "                   0     1     2     3     4\n",
              "age             0.77  0.59  0.35  0.68  0.09\n",
              "workclass       1.00  0.42  0.42  0.18  0.42\n",
              "fnlwgt          0.88  0.14  0.21  0.88  0.60\n",
              "education       1.00  1.00  1.00  1.00  0.08\n",
              "education.num   1.00  1.00  1.00  1.00  0.08\n",
              "marital.status  1.00  1.00  0.21  0.21  1.00\n",
              "occupation      1.00  0.14  0.48  0.48  0.78\n",
              "relationship    1.00  1.00  0.13  0.13  1.00\n",
              "race            1.00  1.00  1.00  1.00  1.00\n",
              "sex             1.00  1.00  1.00  1.00  1.00\n",
              "capital.gain    0.91  0.16  0.72  0.16  0.16\n",
              "capital.loss    1.00  1.00  1.00  1.00  0.08\n",
              "hours.per.week  1.00  0.08  1.00  1.00  1.00\n",
              "native.country  1.00  1.00  1.00  1.00  1.00"
            ]
          },
          "metadata": {},
          "execution_count": 15
        }
      ]
    },
    {
      "cell_type": "code",
      "metadata": {
        "id": "foszoU3Xusbs"
      },
      "source": [
        "z_train_bad = z_train[z_train[:,-1]==0, :]\n",
        "zun_train_bad = zun_train[zun_train[:,-1]==0, :]"
      ],
      "execution_count": 16,
      "outputs": []
    },
    {
      "cell_type": "markdown",
      "source": [
        "Obtain similar samples as explanations(for a example income<50) "
      ],
      "metadata": {
        "id": "Vh98li6vOnBz"
      }
    },
    {
      "cell_type": "code",
      "metadata": {
        "colab": {
          "base_uri": "https://localhost:8080/"
        },
        "id": "UltgJvswutkB",
        "outputId": "819fc467-c0bf-4eca-eb30-715cfbfa0564"
      },
      "source": [
        "idx = 8\n",
        "\n",
        "X = xn_test[idx].reshape((1,) + xn_test[idx].shape)\n",
        "print(\"Chosen Sample:\", idx)\n",
        "if nn.predict_proba(X) <= 0.5:\n",
        "  print(\"Prediction made by the model:\", class_names[0])\n",
        "else:\n",
        "  print(\"Prediction made by the model:\", class_names[1])\n",
        "print(\"Prediction probabilities:\", nn.predict_proba(X))\n",
        "print(\"\")\n",
        "\n",
        "X = np.hstack((X, nn.predict_classes(X).reshape((1,1))))"
      ],
      "execution_count": 17,
      "outputs": [
        {
          "output_type": "stream",
          "name": "stdout",
          "text": [
            "Chosen Sample: 8\n",
            "Prediction made by the model: income<50\n",
            "Prediction probabilities: [[0.14873022]]\n",
            "\n"
          ]
        }
      ]
    },
    {
      "cell_type": "code",
      "metadata": {
        "colab": {
          "base_uri": "https://localhost:8080/"
        },
        "id": "mYN-9CsWvX7r",
        "outputId": "417e82c6-3628-4883-e2a2-28187cead391"
      },
      "source": [
        "x_test.iloc[idx]"
      ],
      "execution_count": 18,
      "outputs": [
        {
          "output_type": "execute_result",
          "data": {
            "text/plain": [
              "age                               28\n",
              "workclass                    Private\n",
              "fnlwgt                        166481\n",
              "education                    7th-8th\n",
              "education.num                      4\n",
              "marital.status    Married-civ-spouse\n",
              "occupation         Handlers-cleaners\n",
              "relationship                 Husband\n",
              "race                           Other\n",
              "sex                             Male\n",
              "capital.gain                       0\n",
              "capital.loss                    2179\n",
              "hours.per.week                    40\n",
              "native.country           Puerto-Rico\n",
              "Name: 8, dtype: object"
            ]
          },
          "metadata": {},
          "execution_count": 18
        }
      ]
    },
    {
      "cell_type": "code",
      "metadata": {
        "id": "zQ7Dk4vvviX3"
      },
      "source": [
        "(W, S, setValues) = explainer.explain(X, z_train_bad, m=5) # Return weights W, Prototypes S and objective function values"
      ],
      "execution_count": 19,
      "outputs": []
    },
    {
      "cell_type": "code",
      "metadata": {
        "colab": {
          "base_uri": "https://localhost:8080/",
          "height": 551
        },
        "id": "Wj1tgljKvsTL",
        "outputId": "417eee4f-2364-4c69-8623-767ba48302ad"
      },
      "source": [
        "# move samples to a dataframe to display\n",
        "dfs = pd.DataFrame.from_records(zun_train_bad[S, 0:-1])\n",
        "RP=[]\n",
        "for i in range(S.shape[0]):\n",
        "    RP.append(class_names[int(z_train_bad[S[i], -1])]) # Append class names\n",
        "dfs[dfs.shape[1]+1] = RP\n",
        "dfs.columns = df.columns  \n",
        "dfs[\"Weight\"] = np.around(W, 5)/np.sum(np.around(W, 5)) # Compute normalized importance weights for prototypes\n",
        "dfs.transpose()"
      ],
      "execution_count": 20,
      "outputs": [
        {
          "output_type": "execute_result",
          "data": {
            "text/html": [
              "<div>\n",
              "<style scoped>\n",
              "    .dataframe tbody tr th:only-of-type {\n",
              "        vertical-align: middle;\n",
              "    }\n",
              "\n",
              "    .dataframe tbody tr th {\n",
              "        vertical-align: top;\n",
              "    }\n",
              "\n",
              "    .dataframe thead th {\n",
              "        text-align: right;\n",
              "    }\n",
              "</style>\n",
              "<table border=\"1\" class=\"dataframe\">\n",
              "  <thead>\n",
              "    <tr style=\"text-align: right;\">\n",
              "      <th></th>\n",
              "      <th>0</th>\n",
              "      <th>1</th>\n",
              "      <th>2</th>\n",
              "      <th>3</th>\n",
              "      <th>4</th>\n",
              "    </tr>\n",
              "  </thead>\n",
              "  <tbody>\n",
              "    <tr>\n",
              "      <th>age</th>\n",
              "      <td>29</td>\n",
              "      <td>35</td>\n",
              "      <td>37</td>\n",
              "      <td>22</td>\n",
              "      <td>46</td>\n",
              "    </tr>\n",
              "    <tr>\n",
              "      <th>workclass</th>\n",
              "      <td>Private</td>\n",
              "      <td>Private</td>\n",
              "      <td>Self-emp-inc</td>\n",
              "      <td>Private</td>\n",
              "      <td>Private</td>\n",
              "    </tr>\n",
              "    <tr>\n",
              "      <th>fnlwgt</th>\n",
              "      <td>202878</td>\n",
              "      <td>163392</td>\n",
              "      <td>107164</td>\n",
              "      <td>119592</td>\n",
              "      <td>147640</td>\n",
              "    </tr>\n",
              "    <tr>\n",
              "      <th>education</th>\n",
              "      <td>7th-8th</td>\n",
              "      <td>Some-college</td>\n",
              "      <td>10th</td>\n",
              "      <td>Assoc-acdm</td>\n",
              "      <td>5th-6th</td>\n",
              "    </tr>\n",
              "    <tr>\n",
              "      <th>education.num</th>\n",
              "      <td>4</td>\n",
              "      <td>10</td>\n",
              "      <td>6</td>\n",
              "      <td>12</td>\n",
              "      <td>3</td>\n",
              "    </tr>\n",
              "    <tr>\n",
              "      <th>marital.status</th>\n",
              "      <td>Married-civ-spouse</td>\n",
              "      <td>Married-civ-spouse</td>\n",
              "      <td>Never-married</td>\n",
              "      <td>Never-married</td>\n",
              "      <td>Married-civ-spouse</td>\n",
              "    </tr>\n",
              "    <tr>\n",
              "      <th>occupation</th>\n",
              "      <td>Farming-fishing</td>\n",
              "      <td>Transport-moving</td>\n",
              "      <td>Transport-moving</td>\n",
              "      <td>Handlers-cleaners</td>\n",
              "      <td>Transport-moving</td>\n",
              "    </tr>\n",
              "    <tr>\n",
              "      <th>relationship</th>\n",
              "      <td>Husband</td>\n",
              "      <td>Husband</td>\n",
              "      <td>Not-in-family</td>\n",
              "      <td>Not-in-family</td>\n",
              "      <td>Husband</td>\n",
              "    </tr>\n",
              "    <tr>\n",
              "      <th>race</th>\n",
              "      <td>White</td>\n",
              "      <td>Asian-Pac-Islander</td>\n",
              "      <td>White</td>\n",
              "      <td>Black</td>\n",
              "      <td>Amer-Indian-Eskimo</td>\n",
              "    </tr>\n",
              "    <tr>\n",
              "      <th>sex</th>\n",
              "      <td>Male</td>\n",
              "      <td>Male</td>\n",
              "      <td>Male</td>\n",
              "      <td>Male</td>\n",
              "      <td>Male</td>\n",
              "    </tr>\n",
              "    <tr>\n",
              "      <th>capital.gain</th>\n",
              "      <td>0</td>\n",
              "      <td>0</td>\n",
              "      <td>0</td>\n",
              "      <td>0</td>\n",
              "      <td>0</td>\n",
              "    </tr>\n",
              "    <tr>\n",
              "      <th>capital.loss</th>\n",
              "      <td>2042</td>\n",
              "      <td>0</td>\n",
              "      <td>2559</td>\n",
              "      <td>2824</td>\n",
              "      <td>1902</td>\n",
              "    </tr>\n",
              "    <tr>\n",
              "      <th>hours.per.week</th>\n",
              "      <td>40</td>\n",
              "      <td>40</td>\n",
              "      <td>50</td>\n",
              "      <td>40</td>\n",
              "      <td>40</td>\n",
              "    </tr>\n",
              "    <tr>\n",
              "      <th>native.country</th>\n",
              "      <td>United-States</td>\n",
              "      <td>?</td>\n",
              "      <td>United-States</td>\n",
              "      <td>?</td>\n",
              "      <td>United-States</td>\n",
              "    </tr>\n",
              "    <tr>\n",
              "      <th>income</th>\n",
              "      <td>income&lt;50</td>\n",
              "      <td>income&lt;50</td>\n",
              "      <td>income&lt;50</td>\n",
              "      <td>income&lt;50</td>\n",
              "      <td>income&lt;50</td>\n",
              "    </tr>\n",
              "    <tr>\n",
              "      <th>Weight</th>\n",
              "      <td>0.746053</td>\n",
              "      <td>0.000225122</td>\n",
              "      <td>1.02328e-05</td>\n",
              "      <td>0.133292</td>\n",
              "      <td>0.12042</td>\n",
              "    </tr>\n",
              "  </tbody>\n",
              "</table>\n",
              "</div>"
            ],
            "text/plain": [
              "                                 0  ...                   4\n",
              "age                             29  ...                  46\n",
              "workclass                  Private  ...             Private\n",
              "fnlwgt                      202878  ...              147640\n",
              "education                  7th-8th  ...             5th-6th\n",
              "education.num                    4  ...                   3\n",
              "marital.status  Married-civ-spouse  ...  Married-civ-spouse\n",
              "occupation         Farming-fishing  ...    Transport-moving\n",
              "relationship               Husband  ...             Husband\n",
              "race                         White  ...  Amer-Indian-Eskimo\n",
              "sex                           Male  ...                Male\n",
              "capital.gain                     0  ...                   0\n",
              "capital.loss                  2042  ...                1902\n",
              "hours.per.week                  40  ...                  40\n",
              "native.country       United-States  ...       United-States\n",
              "income                   income<50  ...           income<50\n",
              "Weight                    0.746053  ...             0.12042\n",
              "\n",
              "[16 rows x 5 columns]"
            ]
          },
          "metadata": {},
          "execution_count": 20
        }
      ]
    },
    {
      "cell_type": "code",
      "metadata": {
        "colab": {
          "base_uri": "https://localhost:8080/",
          "height": 488
        },
        "id": "Q_8OqtV4vvbN",
        "outputId": "f6d7bd97-a43c-486e-9881-80d5745f4430"
      },
      "source": [
        "z = z_train_bad[S, 0:-1] # Store the prototypes\n",
        "eps = 1e-10 # Small constant to guard against divide by zero errors\n",
        "fwt = np.zeros(z.shape)\n",
        "for i in range (z.shape[0]): # Compute feature similarity for each prototype\n",
        "    for j in range(z.shape[1]):\n",
        "        fwt[i, j] = np.exp(-1 * abs(X[0, j] - z[i,j])/(np.std(z[:, j])+eps))\n",
        "                \n",
        "# move wts to a dataframe to display\n",
        "dfw = pd.DataFrame.from_records(np.around(fwt.astype('double'), 2))\n",
        "dfw.columns = df.columns[:-1]\n",
        "dfw.transpose()"
      ],
      "execution_count": 21,
      "outputs": [
        {
          "output_type": "execute_result",
          "data": {
            "text/html": [
              "<div>\n",
              "<style scoped>\n",
              "    .dataframe tbody tr th:only-of-type {\n",
              "        vertical-align: middle;\n",
              "    }\n",
              "\n",
              "    .dataframe tbody tr th {\n",
              "        vertical-align: top;\n",
              "    }\n",
              "\n",
              "    .dataframe thead th {\n",
              "        text-align: right;\n",
              "    }\n",
              "</style>\n",
              "<table border=\"1\" class=\"dataframe\">\n",
              "  <thead>\n",
              "    <tr style=\"text-align: right;\">\n",
              "      <th></th>\n",
              "      <th>0</th>\n",
              "      <th>1</th>\n",
              "      <th>2</th>\n",
              "      <th>3</th>\n",
              "      <th>4</th>\n",
              "    </tr>\n",
              "  </thead>\n",
              "  <tbody>\n",
              "    <tr>\n",
              "      <th>age</th>\n",
              "      <td>0.88</td>\n",
              "      <td>0.42</td>\n",
              "      <td>0.33</td>\n",
              "      <td>0.47</td>\n",
              "      <td>0.11</td>\n",
              "    </tr>\n",
              "    <tr>\n",
              "      <th>workclass</th>\n",
              "      <td>1.00</td>\n",
              "      <td>1.00</td>\n",
              "      <td>0.08</td>\n",
              "      <td>1.00</td>\n",
              "      <td>1.00</td>\n",
              "    </tr>\n",
              "    <tr>\n",
              "      <th>fnlwgt</th>\n",
              "      <td>0.34</td>\n",
              "      <td>0.91</td>\n",
              "      <td>0.17</td>\n",
              "      <td>0.25</td>\n",
              "      <td>0.57</td>\n",
              "    </tr>\n",
              "    <tr>\n",
              "      <th>education</th>\n",
              "      <td>1.00</td>\n",
              "      <td>0.13</td>\n",
              "      <td>0.36</td>\n",
              "      <td>0.67</td>\n",
              "      <td>0.82</td>\n",
              "    </tr>\n",
              "    <tr>\n",
              "      <th>education.num</th>\n",
              "      <td>1.00</td>\n",
              "      <td>0.18</td>\n",
              "      <td>0.56</td>\n",
              "      <td>0.10</td>\n",
              "      <td>0.75</td>\n",
              "    </tr>\n",
              "    <tr>\n",
              "      <th>marital.status</th>\n",
              "      <td>1.00</td>\n",
              "      <td>1.00</td>\n",
              "      <td>0.13</td>\n",
              "      <td>0.13</td>\n",
              "      <td>1.00</td>\n",
              "    </tr>\n",
              "    <tr>\n",
              "      <th>occupation</th>\n",
              "      <td>0.79</td>\n",
              "      <td>0.15</td>\n",
              "      <td>0.15</td>\n",
              "      <td>1.00</td>\n",
              "      <td>0.15</td>\n",
              "    </tr>\n",
              "    <tr>\n",
              "      <th>relationship</th>\n",
              "      <td>1.00</td>\n",
              "      <td>1.00</td>\n",
              "      <td>0.13</td>\n",
              "      <td>0.13</td>\n",
              "      <td>1.00</td>\n",
              "    </tr>\n",
              "    <tr>\n",
              "      <th>race</th>\n",
              "      <td>0.54</td>\n",
              "      <td>0.29</td>\n",
              "      <td>0.54</td>\n",
              "      <td>0.54</td>\n",
              "      <td>0.15</td>\n",
              "    </tr>\n",
              "    <tr>\n",
              "      <th>sex</th>\n",
              "      <td>1.00</td>\n",
              "      <td>1.00</td>\n",
              "      <td>1.00</td>\n",
              "      <td>1.00</td>\n",
              "      <td>1.00</td>\n",
              "    </tr>\n",
              "    <tr>\n",
              "      <th>capital.gain</th>\n",
              "      <td>1.00</td>\n",
              "      <td>1.00</td>\n",
              "      <td>1.00</td>\n",
              "      <td>1.00</td>\n",
              "      <td>1.00</td>\n",
              "    </tr>\n",
              "    <tr>\n",
              "      <th>capital.loss</th>\n",
              "      <td>0.87</td>\n",
              "      <td>0.11</td>\n",
              "      <td>0.68</td>\n",
              "      <td>0.52</td>\n",
              "      <td>0.76</td>\n",
              "    </tr>\n",
              "    <tr>\n",
              "      <th>hours.per.week</th>\n",
              "      <td>1.00</td>\n",
              "      <td>1.00</td>\n",
              "      <td>0.08</td>\n",
              "      <td>1.00</td>\n",
              "      <td>1.00</td>\n",
              "    </tr>\n",
              "    <tr>\n",
              "      <th>native.country</th>\n",
              "      <td>0.73</td>\n",
              "      <td>0.18</td>\n",
              "      <td>0.73</td>\n",
              "      <td>0.18</td>\n",
              "      <td>0.73</td>\n",
              "    </tr>\n",
              "  </tbody>\n",
              "</table>\n",
              "</div>"
            ],
            "text/plain": [
              "                   0     1     2     3     4\n",
              "age             0.88  0.42  0.33  0.47  0.11\n",
              "workclass       1.00  1.00  0.08  1.00  1.00\n",
              "fnlwgt          0.34  0.91  0.17  0.25  0.57\n",
              "education       1.00  0.13  0.36  0.67  0.82\n",
              "education.num   1.00  0.18  0.56  0.10  0.75\n",
              "marital.status  1.00  1.00  0.13  0.13  1.00\n",
              "occupation      0.79  0.15  0.15  1.00  0.15\n",
              "relationship    1.00  1.00  0.13  0.13  1.00\n",
              "race            0.54  0.29  0.54  0.54  0.15\n",
              "sex             1.00  1.00  1.00  1.00  1.00\n",
              "capital.gain    1.00  1.00  1.00  1.00  1.00\n",
              "capital.loss    0.87  0.11  0.68  0.52  0.76\n",
              "hours.per.week  1.00  1.00  0.08  1.00  1.00\n",
              "native.country  0.73  0.18  0.73  0.18  0.73"
            ]
          },
          "metadata": {},
          "execution_count": 21
        }
      ]
    },
    {
      "cell_type": "markdown",
      "source": [
        "ref: [HELOC.ipynb](https://github.com/Trusted-AI/AIX360/blob/master/examples/tutorials/HELOC.ipynb)"
      ],
      "metadata": {
        "id": "AYJFNG6QK1Kg"
      }
    },
    {
      "cell_type": "code",
      "source": [
        ""
      ],
      "metadata": {
        "id": "WdzI0awcK1nB"
      },
      "execution_count": 21,
      "outputs": []
    }
  ]
}