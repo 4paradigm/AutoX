{
 "cells": [
  {
   "cell_type": "markdown",
   "metadata": {},
   "source": [
    "## import包"
   ]
  },
  {
   "cell_type": "code",
   "execution_count": 1,
   "metadata": {
    "_cell_guid": "046298b9-7ef7-4e68-aef2-a1fe316be5a0",
    "_uuid": "3bc39967a41f9ec3989f971c49916b822b0806b7",
    "execution": {
     "iopub.execute_input": "2022-05-18T07:53:21.065906Z",
     "iopub.status.busy": "2022-05-18T07:53:21.065452Z",
     "iopub.status.idle": "2022-05-18T07:53:21.322508Z",
     "shell.execute_reply": "2022-05-18T07:53:21.321592Z",
     "shell.execute_reply.started": "2022-05-18T07:53:21.065861Z"
    }
   },
   "outputs": [],
   "source": [
    "import pandas as pd\n",
    "import numpy as np\n",
    "import datetime\n",
    "import gc\n",
    "import os"
   ]
  },
  {
   "cell_type": "markdown",
   "metadata": {
    "_cell_guid": "be4477f1-7a11-48f4-8147-262a6198609f",
    "_uuid": "665b9a4bceca7bb318e39f1a5825170b18c6cc63"
   },
   "source": [
    "## 处理后的数据包含:\n",
    "1. 交互表(必须, user-item的交互记录, 包括训练集和测试集, 测试集中所有记录的时间都在训练集之后);"
   ]
  },
  {
   "cell_type": "markdown",
   "metadata": {},
   "source": [
    "## 读数据\n",
    "数据地址：https://www.kaggle.com/datasets/netflix-inc/netflix-prize-data"
   ]
  },
  {
   "cell_type": "code",
   "execution_count": 2,
   "metadata": {
    "execution": {
     "iopub.execute_input": "2022-05-18T07:54:49.811603Z",
     "iopub.status.busy": "2022-05-18T07:54:49.811030Z",
     "iopub.status.idle": "2022-05-18T07:54:49.873897Z",
     "shell.execute_reply": "2022-05-18T07:54:49.873229Z",
     "shell.execute_reply.started": "2022-05-18T07:54:49.811531Z"
    }
   },
   "outputs": [
    {
     "data": {
      "text/plain": [
       "['combined_data_3.txt',\n",
       " 'movie_titles.csv',\n",
       " 'combined_data_4.txt',\n",
       " 'combined_data_1.txt',\n",
       " 'README',\n",
       " 'probe.txt',\n",
       " 'combined_data_2.txt',\n",
       " 'qualifying.txt']"
      ]
     },
     "execution_count": 2,
     "metadata": {},
     "output_type": "execute_result"
    }
   ],
   "source": [
    "path = './netflix'\n",
    "os.listdir(path)"
   ]
  },
  {
   "cell_type": "code",
   "execution_count": 3,
   "metadata": {
    "_cell_guid": "0343ba37-0654-469c-98e5-812ecbaca528",
    "_uuid": "2a5476e11ee4539c129f2da35fccdacf2c296765",
    "execution": {
     "iopub.execute_input": "2022-05-18T07:56:19.833956Z",
     "iopub.status.busy": "2022-05-18T07:56:19.833414Z",
     "iopub.status.idle": "2022-05-18T07:58:03.409003Z",
     "shell.execute_reply": "2022-05-18T07:58:03.408022Z",
     "shell.execute_reply.started": "2022-05-18T07:56:19.833877Z"
    }
   },
   "outputs": [],
   "source": [
    "col_names = ['userId', 'rating', 'time']\n",
    "ratings1 = pd.read_csv(f'{path}/combined_data_1.txt', header = None, names = col_names)\n",
    "ratings2 = pd.read_csv(f'{path}/combined_data_2.txt', header = None, names = col_names)\n",
    "ratings3 = pd.read_csv(f'{path}/combined_data_3.txt', header = None, names = col_names)\n",
    "ratings4 = pd.read_csv(f'{path}/combined_data_4.txt', header = None, names = col_names)"
   ]
  },
  {
   "cell_type": "markdown",
   "metadata": {},
   "source": [
    "## 数据处理\n",
    "### 交互表"
   ]
  },
  {
   "cell_type": "code",
   "execution_count": 4,
   "metadata": {
    "execution": {
     "iopub.execute_input": "2022-05-18T07:58:03.411808Z",
     "iopub.status.busy": "2022-05-18T07:58:03.411445Z",
     "iopub.status.idle": "2022-05-18T07:58:16.509577Z",
     "shell.execute_reply": "2022-05-18T07:58:16.508647Z",
     "shell.execute_reply.started": "2022-05-18T07:58:03.411748Z"
    }
   },
   "outputs": [],
   "source": [
    "ratings = pd.concat([ratings1, ratings2, ratings3, ratings4])"
   ]
  },
  {
   "cell_type": "code",
   "execution_count": 5,
   "metadata": {},
   "outputs": [
    {
     "data": {
      "text/plain": [
       "11"
      ]
     },
     "execution_count": 5,
     "metadata": {},
     "output_type": "execute_result"
    }
   ],
   "source": [
    "del ratings1, ratings2, ratings3, ratings4\n",
    "gc.collect()"
   ]
  },
  {
   "cell_type": "code",
   "execution_count": 6,
   "metadata": {
    "execution": {
     "iopub.execute_input": "2022-05-18T07:59:55.595784Z",
     "iopub.status.busy": "2022-05-18T07:59:55.595414Z",
     "iopub.status.idle": "2022-05-18T07:59:55.607908Z",
     "shell.execute_reply": "2022-05-18T07:59:55.607042Z",
     "shell.execute_reply.started": "2022-05-18T07:59:55.595714Z"
    }
   },
   "outputs": [
    {
     "data": {
      "text/html": [
       "<div>\n",
       "<style scoped>\n",
       "    .dataframe tbody tr th:only-of-type {\n",
       "        vertical-align: middle;\n",
       "    }\n",
       "\n",
       "    .dataframe tbody tr th {\n",
       "        vertical-align: top;\n",
       "    }\n",
       "\n",
       "    .dataframe thead th {\n",
       "        text-align: right;\n",
       "    }\n",
       "</style>\n",
       "<table border=\"1\" class=\"dataframe\">\n",
       "  <thead>\n",
       "    <tr style=\"text-align: right;\">\n",
       "      <th></th>\n",
       "      <th>userId</th>\n",
       "      <th>rating</th>\n",
       "      <th>time</th>\n",
       "    </tr>\n",
       "  </thead>\n",
       "  <tbody>\n",
       "    <tr>\n",
       "      <td>0</td>\n",
       "      <td>1:</td>\n",
       "      <td>NaN</td>\n",
       "      <td>NaN</td>\n",
       "    </tr>\n",
       "    <tr>\n",
       "      <td>1</td>\n",
       "      <td>1488844</td>\n",
       "      <td>3.0</td>\n",
       "      <td>2005-09-06</td>\n",
       "    </tr>\n",
       "    <tr>\n",
       "      <td>2</td>\n",
       "      <td>822109</td>\n",
       "      <td>5.0</td>\n",
       "      <td>2005-05-13</td>\n",
       "    </tr>\n",
       "    <tr>\n",
       "      <td>3</td>\n",
       "      <td>885013</td>\n",
       "      <td>4.0</td>\n",
       "      <td>2005-10-19</td>\n",
       "    </tr>\n",
       "    <tr>\n",
       "      <td>4</td>\n",
       "      <td>30878</td>\n",
       "      <td>4.0</td>\n",
       "      <td>2005-12-26</td>\n",
       "    </tr>\n",
       "  </tbody>\n",
       "</table>\n",
       "</div>"
      ],
      "text/plain": [
       "    userId  rating        time\n",
       "0       1:     NaN         NaN\n",
       "1  1488844     3.0  2005-09-06\n",
       "2   822109     5.0  2005-05-13\n",
       "3   885013     4.0  2005-10-19\n",
       "4    30878     4.0  2005-12-26"
      ]
     },
     "execution_count": 6,
     "metadata": {},
     "output_type": "execute_result"
    }
   ],
   "source": [
    "ratings.head()"
   ]
  },
  {
   "cell_type": "code",
   "execution_count": 7,
   "metadata": {
    "execution": {
     "iopub.status.busy": "2022-05-18T07:59:22.823709Z",
     "iopub.status.idle": "2022-05-18T07:59:22.824654Z"
    }
   },
   "outputs": [
    {
     "data": {
      "text/plain": [
       "((100498277, 3), (23168232, 3))"
      ]
     },
     "execution_count": 7,
     "metadata": {},
     "output_type": "execute_result"
    }
   ],
   "source": [
    "ratings.shape, ratings.loc[ratings['rating'] == 5].shape"
   ]
  },
  {
   "cell_type": "code",
   "execution_count": 8,
   "metadata": {
    "execution": {
     "iopub.status.busy": "2022-05-18T07:59:22.826357Z",
     "iopub.status.idle": "2022-05-18T07:59:22.826999Z"
    }
   },
   "outputs": [],
   "source": [
    "ratings = ratings.loc[(ratings['rating'].isnull()) | (ratings['rating']==5)]"
   ]
  },
  {
   "cell_type": "code",
   "execution_count": 9,
   "metadata": {
    "execution": {
     "iopub.status.busy": "2022-05-18T07:59:22.828583Z",
     "iopub.status.idle": "2022-05-18T07:59:22.829194Z"
    }
   },
   "outputs": [],
   "source": [
    "ratings.drop('rating', axis=1, inplace=True)"
   ]
  },
  {
   "cell_type": "code",
   "execution_count": 10,
   "metadata": {
    "execution": {
     "iopub.status.busy": "2022-05-18T07:59:22.831182Z",
     "iopub.status.idle": "2022-05-18T07:59:22.831757Z"
    }
   },
   "outputs": [],
   "source": [
    "ratings['movieId'] = ratings['userId'].apply(lambda x: x.replace(':', '') if ':' in x else np.nan)\n",
    "ratings['movieId'].fillna(method='ffill', inplace=True)\n",
    "ratings.dropna(inplace=True)"
   ]
  },
  {
   "cell_type": "code",
   "execution_count": 11,
   "metadata": {
    "execution": {
     "iopub.status.busy": "2022-05-18T07:59:22.833212Z",
     "iopub.status.idle": "2022-05-18T07:59:22.833882Z"
    }
   },
   "outputs": [
    {
     "data": {
      "text/html": [
       "<div>\n",
       "<style scoped>\n",
       "    .dataframe tbody tr th:only-of-type {\n",
       "        vertical-align: middle;\n",
       "    }\n",
       "\n",
       "    .dataframe tbody tr th {\n",
       "        vertical-align: top;\n",
       "    }\n",
       "\n",
       "    .dataframe thead th {\n",
       "        text-align: right;\n",
       "    }\n",
       "</style>\n",
       "<table border=\"1\" class=\"dataframe\">\n",
       "  <thead>\n",
       "    <tr style=\"text-align: right;\">\n",
       "      <th></th>\n",
       "      <th>userId</th>\n",
       "      <th>time</th>\n",
       "      <th>movieId</th>\n",
       "    </tr>\n",
       "  </thead>\n",
       "  <tbody>\n",
       "    <tr>\n",
       "      <td>2</td>\n",
       "      <td>822109</td>\n",
       "      <td>2005-05-13</td>\n",
       "      <td>1</td>\n",
       "    </tr>\n",
       "    <tr>\n",
       "      <td>12</td>\n",
       "      <td>2207774</td>\n",
       "      <td>2005-06-06</td>\n",
       "      <td>1</td>\n",
       "    </tr>\n",
       "    <tr>\n",
       "      <td>20</td>\n",
       "      <td>372233</td>\n",
       "      <td>2005-11-23</td>\n",
       "      <td>1</td>\n",
       "    </tr>\n",
       "    <tr>\n",
       "      <td>28</td>\n",
       "      <td>814701</td>\n",
       "      <td>2005-09-29</td>\n",
       "      <td>1</td>\n",
       "    </tr>\n",
       "    <tr>\n",
       "      <td>30</td>\n",
       "      <td>662870</td>\n",
       "      <td>2005-08-24</td>\n",
       "      <td>1</td>\n",
       "    </tr>\n",
       "  </tbody>\n",
       "</table>\n",
       "</div>"
      ],
      "text/plain": [
       "     userId        time movieId\n",
       "2    822109  2005-05-13       1\n",
       "12  2207774  2005-06-06       1\n",
       "20   372233  2005-11-23       1\n",
       "28   814701  2005-09-29       1\n",
       "30   662870  2005-08-24       1"
      ]
     },
     "execution_count": 11,
     "metadata": {},
     "output_type": "execute_result"
    }
   ],
   "source": [
    "ratings.head()"
   ]
  },
  {
   "cell_type": "code",
   "execution_count": 12,
   "metadata": {
    "execution": {
     "iopub.status.busy": "2022-05-18T07:59:22.835514Z",
     "iopub.status.idle": "2022-05-18T07:59:22.836247Z"
    }
   },
   "outputs": [],
   "source": [
    "ratings['time'] = pd.to_datetime(ratings['time'])"
   ]
  },
  {
   "cell_type": "code",
   "execution_count": 13,
   "metadata": {
    "execution": {
     "iopub.status.busy": "2022-05-18T07:59:22.837713Z",
     "iopub.status.idle": "2022-05-18T07:59:22.838392Z"
    }
   },
   "outputs": [
    {
     "data": {
      "text/plain": [
       "(Timestamp('1999-11-11 00:00:00'), Timestamp('2005-12-31 00:00:00'))"
      ]
     },
     "execution_count": 13,
     "metadata": {},
     "output_type": "execute_result"
    }
   ],
   "source": [
    "ratings['time'].min(), ratings['time'].max()"
   ]
  },
  {
   "cell_type": "code",
   "execution_count": 14,
   "metadata": {
    "execution": {
     "iopub.status.busy": "2022-05-18T07:59:22.839821Z",
     "iopub.status.idle": "2022-05-18T07:59:22.840647Z"
    }
   },
   "outputs": [],
   "source": [
    "data_used_time = datetime.datetime.strptime('2005-12-25 00:00:00', '%Y-%m-%d %H:%M:%S')\n",
    "\n",
    "train = ratings.loc[ratings['time'] < data_used_time]\n",
    "test = ratings.loc[ratings['time'] >= data_used_time]"
   ]
  },
  {
   "cell_type": "code",
   "execution_count": 15,
   "metadata": {
    "execution": {
     "iopub.status.busy": "2022-05-18T07:59:22.843293Z",
     "iopub.status.idle": "2022-05-18T07:59:22.844059Z"
    }
   },
   "outputs": [
    {
     "data": {
      "text/plain": [
       "(Timestamp('1999-11-11 00:00:00'), Timestamp('2005-12-24 00:00:00'))"
      ]
     },
     "execution_count": 15,
     "metadata": {},
     "output_type": "execute_result"
    }
   ],
   "source": [
    "train['time'].min(), train['time'].max()"
   ]
  },
  {
   "cell_type": "code",
   "execution_count": 16,
   "metadata": {
    "execution": {
     "iopub.status.busy": "2022-05-18T07:59:22.845333Z",
     "iopub.status.idle": "2022-05-18T07:59:22.845950Z"
    }
   },
   "outputs": [
    {
     "data": {
      "text/plain": [
       "(Timestamp('2005-12-25 00:00:00'), Timestamp('2005-12-31 00:00:00'))"
      ]
     },
     "execution_count": 16,
     "metadata": {},
     "output_type": "execute_result"
    }
   ],
   "source": [
    "test['time'].min(), test['time'].max()"
   ]
  },
  {
   "cell_type": "markdown",
   "metadata": {},
   "source": [
    "## 存档"
   ]
  },
  {
   "cell_type": "code",
   "execution_count": 17,
   "metadata": {
    "execution": {
     "iopub.status.busy": "2022-05-18T07:59:22.852245Z",
     "iopub.status.idle": "2022-05-18T07:59:22.852845Z"
    }
   },
   "outputs": [],
   "source": [
    "output_path = './Netflix_AutoX/'\n",
    "os.makedirs(output_path, exist_ok = True)"
   ]
  },
  {
   "cell_type": "code",
   "execution_count": 18,
   "metadata": {
    "execution": {
     "iopub.status.busy": "2022-05-18T07:59:22.854201Z",
     "iopub.status.idle": "2022-05-18T07:59:22.854767Z"
    }
   },
   "outputs": [],
   "source": [
    "train.to_csv(output_path + 'inter_df.csv', index = False)\n",
    "test.to_csv(output_path + 'test.csv', index = False)"
   ]
  }
 ],
 "metadata": {
  "kernelspec": {
   "display_name": "Python 3",
   "language": "python",
   "name": "python3"
  },
  "language_info": {
   "codemirror_mode": {
    "name": "ipython",
    "version": 3
   },
   "file_extension": ".py",
   "mimetype": "text/x-python",
   "name": "python",
   "nbconvert_exporter": "python",
   "pygments_lexer": "ipython3",
   "version": "3.6.6"
  }
 },
 "nbformat": 4,
 "nbformat_minor": 4
}
