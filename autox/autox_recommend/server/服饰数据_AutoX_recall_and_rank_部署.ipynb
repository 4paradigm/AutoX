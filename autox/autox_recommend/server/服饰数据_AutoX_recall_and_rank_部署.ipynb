{
 "cells": [
  {
   "cell_type": "code",
   "execution_count": 1,
   "metadata": {
    "ExecuteTime": {
     "end_time": "2022-05-19T03:44:56.769845Z",
     "start_time": "2022-05-19T03:44:56.766907Z"
    }
   },
   "outputs": [],
   "source": [
    "import sys\n",
    "sys.path.append('../AutoX')"
   ]
  },
  {
   "cell_type": "code",
   "execution_count": 2,
   "metadata": {
    "ExecuteTime": {
     "end_time": "2022-05-19T03:45:01.870998Z",
     "start_time": "2022-05-19T03:44:56.772132Z"
    },
    "scrolled": true
   },
   "outputs": [
    {
     "name": "stderr",
     "output_type": "stream",
     "text": [
      "/home/caihengxing/anaconda3/lib/python3.7/site-packages/pandas/compat/_optional.py:138: UserWarning: Pandas requires version '2.7.0' or newer of 'numexpr' (version '2.6.9' currently installed).\n",
      "  warnings.warn(msg, UserWarning)\n",
      "/home/caihengxing/anaconda3/lib/python3.7/site-packages/sklearn/linear_model/least_angle.py:30: DeprecationWarning: `np.float` is a deprecated alias for the builtin `float`. To silence this warning, use `float` by itself. Doing this will not modify any behavior and is safe. If you specifically wanted the numpy scalar type, use `np.float64` here.\n",
      "Deprecated in NumPy 1.20; for more details and guidance: https://numpy.org/devdocs/release/1.20.0-notes.html#deprecations\n",
      "  method='lar', copy_X=True, eps=np.finfo(np.float).eps,\n",
      "/home/caihengxing/anaconda3/lib/python3.7/site-packages/sklearn/linear_model/least_angle.py:167: DeprecationWarning: `np.float` is a deprecated alias for the builtin `float`. To silence this warning, use `float` by itself. Doing this will not modify any behavior and is safe. If you specifically wanted the numpy scalar type, use `np.float64` here.\n",
      "Deprecated in NumPy 1.20; for more details and guidance: https://numpy.org/devdocs/release/1.20.0-notes.html#deprecations\n",
      "  method='lar', copy_X=True, eps=np.finfo(np.float).eps,\n",
      "/home/caihengxing/anaconda3/lib/python3.7/site-packages/sklearn/linear_model/least_angle.py:284: DeprecationWarning: `np.float` is a deprecated alias for the builtin `float`. To silence this warning, use `float` by itself. Doing this will not modify any behavior and is safe. If you specifically wanted the numpy scalar type, use `np.float64` here.\n",
      "Deprecated in NumPy 1.20; for more details and guidance: https://numpy.org/devdocs/release/1.20.0-notes.html#deprecations\n",
      "  eps=np.finfo(np.float).eps, copy_Gram=True, verbose=0,\n",
      "/home/caihengxing/anaconda3/lib/python3.7/site-packages/sklearn/linear_model/least_angle.py:862: DeprecationWarning: `np.float` is a deprecated alias for the builtin `float`. To silence this warning, use `float` by itself. Doing this will not modify any behavior and is safe. If you specifically wanted the numpy scalar type, use `np.float64` here.\n",
      "Deprecated in NumPy 1.20; for more details and guidance: https://numpy.org/devdocs/release/1.20.0-notes.html#deprecations\n",
      "  eps=np.finfo(np.float).eps, copy_X=True, fit_path=True,\n",
      "/home/caihengxing/anaconda3/lib/python3.7/site-packages/sklearn/linear_model/least_angle.py:1101: DeprecationWarning: `np.float` is a deprecated alias for the builtin `float`. To silence this warning, use `float` by itself. Doing this will not modify any behavior and is safe. If you specifically wanted the numpy scalar type, use `np.float64` here.\n",
      "Deprecated in NumPy 1.20; for more details and guidance: https://numpy.org/devdocs/release/1.20.0-notes.html#deprecations\n",
      "  eps=np.finfo(np.float).eps, copy_X=True, fit_path=True,\n",
      "/home/caihengxing/anaconda3/lib/python3.7/site-packages/sklearn/linear_model/least_angle.py:1127: DeprecationWarning: `np.float` is a deprecated alias for the builtin `float`. To silence this warning, use `float` by itself. Doing this will not modify any behavior and is safe. If you specifically wanted the numpy scalar type, use `np.float64` here.\n",
      "Deprecated in NumPy 1.20; for more details and guidance: https://numpy.org/devdocs/release/1.20.0-notes.html#deprecations\n",
      "  eps=np.finfo(np.float).eps, positive=False):\n",
      "/home/caihengxing/anaconda3/lib/python3.7/site-packages/sklearn/linear_model/least_angle.py:1362: DeprecationWarning: `np.float` is a deprecated alias for the builtin `float`. To silence this warning, use `float` by itself. Doing this will not modify any behavior and is safe. If you specifically wanted the numpy scalar type, use `np.float64` here.\n",
      "Deprecated in NumPy 1.20; for more details and guidance: https://numpy.org/devdocs/release/1.20.0-notes.html#deprecations\n",
      "  max_n_alphas=1000, n_jobs=None, eps=np.finfo(np.float).eps,\n",
      "/home/caihengxing/anaconda3/lib/python3.7/site-packages/sklearn/linear_model/least_angle.py:1602: DeprecationWarning: `np.float` is a deprecated alias for the builtin `float`. To silence this warning, use `float` by itself. Doing this will not modify any behavior and is safe. If you specifically wanted the numpy scalar type, use `np.float64` here.\n",
      "Deprecated in NumPy 1.20; for more details and guidance: https://numpy.org/devdocs/release/1.20.0-notes.html#deprecations\n",
      "  max_n_alphas=1000, n_jobs=None, eps=np.finfo(np.float).eps,\n",
      "/home/caihengxing/anaconda3/lib/python3.7/site-packages/sklearn/linear_model/least_angle.py:1738: DeprecationWarning: `np.float` is a deprecated alias for the builtin `float`. To silence this warning, use `float` by itself. Doing this will not modify any behavior and is safe. If you specifically wanted the numpy scalar type, use `np.float64` here.\n",
      "Deprecated in NumPy 1.20; for more details and guidance: https://numpy.org/devdocs/release/1.20.0-notes.html#deprecations\n",
      "  eps=np.finfo(np.float).eps, copy_X=True, positive=False):\n",
      "/home/caihengxing/anaconda3/lib/python3.7/site-packages/sklearn/decomposition/online_lda.py:29: DeprecationWarning: `np.float` is a deprecated alias for the builtin `float`. To silence this warning, use `float` by itself. Doing this will not modify any behavior and is safe. If you specifically wanted the numpy scalar type, use `np.float64` here.\n",
      "Deprecated in NumPy 1.20; for more details and guidance: https://numpy.org/devdocs/release/1.20.0-notes.html#deprecations\n",
      "  EPS = np.finfo(np.float).eps\n",
      "/home/caihengxing/anaconda3/lib/python3.7/site-packages/sklearn/feature_extraction/image.py:167: DeprecationWarning: `np.int` is a deprecated alias for the builtin `int`. To silence this warning, use `int` by itself. Doing this will not modify any behavior and is safe. When replacing `np.int`, you may wish to use e.g. `np.int64` or `np.int32` to specify the precision. If you wish to review your current use, check the release note link for additional information.\n",
      "Deprecated in NumPy 1.20; for more details and guidance: https://numpy.org/devdocs/release/1.20.0-notes.html#deprecations\n",
      "  dtype=np.int):\n"
     ]
    }
   ],
   "source": [
    "from autox import AutoXRecommend"
   ]
  },
  {
   "cell_type": "code",
   "execution_count": 3,
   "metadata": {
    "ExecuteTime": {
     "end_time": "2022-05-19T03:45:01.876578Z",
     "start_time": "2022-05-19T03:45:01.873801Z"
    }
   },
   "outputs": [],
   "source": [
    "import pandas as pd\n",
    "import numpy as np\n",
    "import os\n",
    "from tqdm import tqdm"
   ]
  },
  {
   "cell_type": "code",
   "execution_count": 4,
   "metadata": {
    "ExecuteTime": {
     "end_time": "2022-05-19T03:45:01.930590Z",
     "start_time": "2022-05-19T03:45:01.878594Z"
    }
   },
   "outputs": [],
   "source": [
    "path = '~/data/客户数据_慕尚/autox_recommend_temp/'"
   ]
  },
  {
   "cell_type": "code",
   "execution_count": 5,
   "metadata": {
    "ExecuteTime": {
     "end_time": "2022-05-19T03:45:11.223388Z",
     "start_time": "2022-05-19T03:45:01.932607Z"
    },
    "scrolled": true
   },
   "outputs": [],
   "source": [
    "inter_df = pd.read_csv(path + 'inter_df.csv')\n",
    "user_df = pd.read_csv(path + 'user_df.csv')\n",
    "item_df = pd.read_csv(path + 'item_df.csv')\n",
    "test = pd.read_csv(path + 'test.csv')"
   ]
  },
  {
   "cell_type": "code",
   "execution_count": 6,
   "metadata": {
    "ExecuteTime": {
     "end_time": "2022-05-19T03:45:11.245611Z",
     "start_time": "2022-05-19T03:45:11.225793Z"
    },
    "scrolled": true
   },
   "outputs": [
    {
     "data": {
      "text/html": [
       "<div>\n",
       "<style scoped>\n",
       "    .dataframe tbody tr th:only-of-type {\n",
       "        vertical-align: middle;\n",
       "    }\n",
       "\n",
       "    .dataframe tbody tr th {\n",
       "        vertical-align: top;\n",
       "    }\n",
       "\n",
       "    .dataframe thead th {\n",
       "        text-align: right;\n",
       "    }\n",
       "</style>\n",
       "<table border=\"1\" class=\"dataframe\">\n",
       "  <thead>\n",
       "    <tr style=\"text-align: right;\">\n",
       "      <th></th>\n",
       "      <th>商品类型</th>\n",
       "      <th>price_max</th>\n",
       "      <th>price_min</th>\n",
       "      <th>price_median</th>\n",
       "      <th>price_mean</th>\n",
       "      <th>price_std</th>\n",
       "      <th>color_count</th>\n",
       "    </tr>\n",
       "  </thead>\n",
       "  <tbody>\n",
       "    <tr>\n",
       "      <th>0</th>\n",
       "      <td>[01]单西</td>\n",
       "      <td>3442.00</td>\n",
       "      <td>0.0000</td>\n",
       "      <td>596.84</td>\n",
       "      <td>648.920190</td>\n",
       "      <td>331.100986</td>\n",
       "      <td>18394</td>\n",
       "    </tr>\n",
       "    <tr>\n",
       "      <th>1</th>\n",
       "      <td>[02]裤（长裤）</td>\n",
       "      <td>4050.00</td>\n",
       "      <td>-1.2900</td>\n",
       "      <td>291.00</td>\n",
       "      <td>326.717095</td>\n",
       "      <td>159.983925</td>\n",
       "      <td>972258</td>\n",
       "    </tr>\n",
       "    <tr>\n",
       "      <th>2</th>\n",
       "      <td>[03]衬衫（长袖）</td>\n",
       "      <td>36198.67</td>\n",
       "      <td>-0.2000</td>\n",
       "      <td>287.66</td>\n",
       "      <td>320.355620</td>\n",
       "      <td>175.394367</td>\n",
       "      <td>312622</td>\n",
       "    </tr>\n",
       "    <tr>\n",
       "      <th>3</th>\n",
       "      <td>[04]针织</td>\n",
       "      <td>599.00</td>\n",
       "      <td>599.0000</td>\n",
       "      <td>599.00</td>\n",
       "      <td>599.000000</td>\n",
       "      <td>NaN</td>\n",
       "      <td>1</td>\n",
       "    </tr>\n",
       "    <tr>\n",
       "      <th>4</th>\n",
       "      <td>[05]牛仔（长裤）</td>\n",
       "      <td>42998.67</td>\n",
       "      <td>-0.0129</td>\n",
       "      <td>317.77</td>\n",
       "      <td>345.009627</td>\n",
       "      <td>173.603361</td>\n",
       "      <td>401982</td>\n",
       "    </tr>\n",
       "    <tr>\n",
       "      <th>...</th>\n",
       "      <td>...</td>\n",
       "      <td>...</td>\n",
       "      <td>...</td>\n",
       "      <td>...</td>\n",
       "      <td>...</td>\n",
       "      <td>...</td>\n",
       "      <td>...</td>\n",
       "    </tr>\n",
       "    <tr>\n",
       "      <th>110</th>\n",
       "      <td>[U8]马甲</td>\n",
       "      <td>999.00</td>\n",
       "      <td>799.0000</td>\n",
       "      <td>939.00</td>\n",
       "      <td>919.000000</td>\n",
       "      <td>97.979590</td>\n",
       "      <td>4</td>\n",
       "    </tr>\n",
       "    <tr>\n",
       "      <th>111</th>\n",
       "      <td>[W0]运动文胸</td>\n",
       "      <td>33.93</td>\n",
       "      <td>33.9300</td>\n",
       "      <td>33.93</td>\n",
       "      <td>33.930000</td>\n",
       "      <td>NaN</td>\n",
       "      <td>1</td>\n",
       "    </tr>\n",
       "    <tr>\n",
       "      <th>112</th>\n",
       "      <td>[X3]吊带衫</td>\n",
       "      <td>269.00</td>\n",
       "      <td>268.9895</td>\n",
       "      <td>269.00</td>\n",
       "      <td>268.997375</td>\n",
       "      <td>0.005250</td>\n",
       "      <td>4</td>\n",
       "    </tr>\n",
       "    <tr>\n",
       "      <th>113</th>\n",
       "      <td>[YH]小饰品</td>\n",
       "      <td>NaN</td>\n",
       "      <td>NaN</td>\n",
       "      <td>NaN</td>\n",
       "      <td>NaN</td>\n",
       "      <td>NaN</td>\n",
       "      <td>10</td>\n",
       "    </tr>\n",
       "    <tr>\n",
       "      <th>114</th>\n",
       "      <td>[Z1]赠品</td>\n",
       "      <td>10.00</td>\n",
       "      <td>0.0100</td>\n",
       "      <td>0.01</td>\n",
       "      <td>0.026933</td>\n",
       "      <td>0.409797</td>\n",
       "      <td>4692</td>\n",
       "    </tr>\n",
       "  </tbody>\n",
       "</table>\n",
       "<p>115 rows × 7 columns</p>\n",
       "</div>"
      ],
      "text/plain": [
       "           商品类型  price_max  price_min  price_median  price_mean   price_std  \\\n",
       "0        [01]单西    3442.00     0.0000        596.84  648.920190  331.100986   \n",
       "1     [02]裤（长裤）    4050.00    -1.2900        291.00  326.717095  159.983925   \n",
       "2    [03]衬衫（长袖）   36198.67    -0.2000        287.66  320.355620  175.394367   \n",
       "3        [04]针织     599.00   599.0000        599.00  599.000000         NaN   \n",
       "4    [05]牛仔（长裤）   42998.67    -0.0129        317.77  345.009627  173.603361   \n",
       "..          ...        ...        ...           ...         ...         ...   \n",
       "110      [U8]马甲     999.00   799.0000        939.00  919.000000   97.979590   \n",
       "111    [W0]运动文胸      33.93    33.9300         33.93   33.930000         NaN   \n",
       "112     [X3]吊带衫     269.00   268.9895        269.00  268.997375    0.005250   \n",
       "113     [YH]小饰品        NaN        NaN           NaN         NaN         NaN   \n",
       "114      [Z1]赠品      10.00     0.0100          0.01    0.026933    0.409797   \n",
       "\n",
       "     color_count  \n",
       "0          18394  \n",
       "1         972258  \n",
       "2         312622  \n",
       "3              1  \n",
       "4         401982  \n",
       "..           ...  \n",
       "110            4  \n",
       "111            1  \n",
       "112            4  \n",
       "113           10  \n",
       "114         4692  \n",
       "\n",
       "[115 rows x 7 columns]"
      ]
     },
     "execution_count": 6,
     "metadata": {},
     "output_type": "execute_result"
    }
   ],
   "source": [
    "item_df"
   ]
  },
  {
   "cell_type": "code",
   "execution_count": 7,
   "metadata": {
    "ExecuteTime": {
     "end_time": "2022-05-19T03:45:11.288151Z",
     "start_time": "2022-05-19T03:45:11.247406Z"
    }
   },
   "outputs": [],
   "source": [
    "uid = '会员id'\n",
    "iid = '商品类型'\n",
    "time_col = '订单时间'\n",
    "recall_num = 100"
   ]
  },
  {
   "cell_type": "code",
   "execution_count": 8,
   "metadata": {
    "ExecuteTime": {
     "end_time": "2022-05-19T03:45:12.304071Z",
     "start_time": "2022-05-19T03:45:11.290927Z"
    }
   },
   "outputs": [
    {
     "data": {
      "text/plain": [
       "('2020-01-01 00:00:43', '2022-04-06 23:59:05')"
      ]
     },
     "execution_count": 8,
     "metadata": {},
     "output_type": "execute_result"
    }
   ],
   "source": [
    "inter_df[time_col].min(), inter_df[time_col].max()"
   ]
  },
  {
   "cell_type": "code",
   "execution_count": 9,
   "metadata": {
    "ExecuteTime": {
     "end_time": "2022-05-19T03:45:12.316068Z",
     "start_time": "2022-05-19T03:45:12.307332Z"
    }
   },
   "outputs": [
    {
     "data": {
      "text/plain": [
       "('2022-04-07 00:00:49', '2022-04-13 19:19:02')"
      ]
     },
     "execution_count": 9,
     "metadata": {},
     "output_type": "execute_result"
    }
   ],
   "source": [
    "test[time_col].min(), test[time_col].max()"
   ]
  },
  {
   "cell_type": "code",
   "execution_count": 10,
   "metadata": {
    "ExecuteTime": {
     "end_time": "2022-05-19T03:45:12.590210Z",
     "start_time": "2022-05-19T03:45:12.318232Z"
    }
   },
   "outputs": [
    {
     "name": "stderr",
     "output_type": "stream",
     "text": [
      "9037it [00:00, 194581.67it/s]"
     ]
    },
    {
     "name": "stdout",
     "output_type": "stream",
     "text": [
      "Total users in testidation: 9037\n"
     ]
    },
    {
     "name": "stderr",
     "output_type": "stream",
     "text": [
      "\n"
     ]
    }
   ],
   "source": [
    "positive_items_test = test.groupby([uid])[iid].apply(list)\n",
    "test_users = positive_items_test.keys()\n",
    "test_items = []\n",
    "\n",
    "for i, user in tqdm(enumerate(test_users)):\n",
    "    test_items.append(positive_items_test[user])\n",
    "    \n",
    "print(\"Total users in testidation:\", len(test_users))"
   ]
  },
  {
   "cell_type": "code",
   "execution_count": 11,
   "metadata": {
    "ExecuteTime": {
     "end_time": "2022-05-19T03:45:17.081363Z",
     "start_time": "2022-05-19T03:45:12.593210Z"
    }
   },
   "outputs": [],
   "source": [
    "inter_df[time_col] = pd.to_datetime(inter_df[time_col])"
   ]
  },
  {
   "cell_type": "code",
   "execution_count": 12,
   "metadata": {
    "ExecuteTime": {
     "end_time": "2022-05-19T03:47:23.275407Z",
     "start_time": "2022-05-19T03:45:17.083970Z"
    },
    "scrolled": true
   },
   "outputs": [
    {
     "name": "stdout",
     "output_type": "stream",
     "text": [
      "\n",
      "popular_recall\n",
      "train\n",
      "2022-03-24 00:00:06 2022-03-30 23:58:54\n"
     ]
    },
    {
     "name": "stderr",
     "output_type": "stream",
     "text": [
      "100%|██████████| 10722/10722 [00:00<00:00, 11868.07it/s]\n"
     ]
    },
    {
     "name": "stdout",
     "output_type": "stream",
     "text": [
      "HIT:  0.8462593591321527\n",
      "valid\n",
      "2022-03-31 00:00:07 2022-04-06 23:59:05\n"
     ]
    },
    {
     "name": "stderr",
     "output_type": "stream",
     "text": [
      "100%|██████████| 10393/10393 [00:00<00:00, 12518.84it/s]\n"
     ]
    },
    {
     "name": "stdout",
     "output_type": "stream",
     "text": [
      "HIT:  0.8464689376089789\n",
      "\n",
      "history_recall\n",
      "train\n",
      "2022-03-24 00:00:06 2022-03-30 23:58:54\n"
     ]
    },
    {
     "name": "stderr",
     "output_type": "stream",
     "text": [
      "100%|██████████| 6521/6521 [00:00<00:00, 144719.94it/s]\n"
     ]
    },
    {
     "name": "stdout",
     "output_type": "stream",
     "text": [
      "valid\n",
      "2022-03-31 00:00:07 2022-04-06 23:59:05\n"
     ]
    },
    {
     "name": "stderr",
     "output_type": "stream",
     "text": [
      "100%|██████████| 5618/5618 [00:00<00:00, 143730.44it/s]\n"
     ]
    },
    {
     "name": "stdout",
     "output_type": "stream",
     "text": [
      "\n",
      "itemcf_recall\n",
      "train\n",
      "valid\n",
      "\n",
      "binary_recall\n",
      "train\n",
      "valid\n",
      "\n",
      "merge recalls\n",
      "train\n",
      "valid\n",
      "\n",
      "feature engineer\n",
      "train\n",
      "valid\n",
      "train_fe shape: (907101, 41)\n",
      "valid_fe shape: (855009, 41)\n",
      "\n",
      "ranker\n",
      "Training until validation scores don't improve for 100 rounds.\n",
      "[100]\tvalid_0's map@12: 0.537345\n",
      "[200]\tvalid_0's map@12: 0.537606\n",
      "[300]\tvalid_0's map@12: 0.538347\n",
      "[400]\tvalid_0's map@12: 0.538993\n",
      "[500]\tvalid_0's map@12: 0.539925\n",
      "[600]\tvalid_0's map@12: 0.540377\n",
      "[700]\tvalid_0's map@12: 0.540593\n",
      "[800]\tvalid_0's map@12: 0.540454\n",
      "Early stopping, best iteration is:\n",
      "[727]\tvalid_0's map@12: 0.540822\n",
      "defaultdict(<class 'dict'>, {'valid_0': {'map@12': 0.5408222638227921}})\n",
      "                        feature  importance\n",
      "28  purchase_corr_item_max_time        2593\n",
      "37                     商品类型_idx        2572\n",
      "22                  price_max_y        1483\n",
      "36     latest_purchase_time_sub        1068\n",
      "29       purchase_corr_item_cnt        1064\n",
      "27                  color_count        1028\n",
      "23                  price_min_y         930\n",
      "0                  itemcf_score         856\n",
      "18                    首次注册的渠道类型         855\n",
      "21                    入会时间_diff         796\n",
      "6                  price_mean_x         761\n",
      "8                price_median_x         674\n",
      "7                   price_std_x         652\n",
      "1                  binary_score         640\n",
      "9                     price_sum         560\n",
      "24               price_median_y         533\n",
      "4                   price_min_x         516\n",
      "5                   price_max_x         454\n",
      "26                  price_std_y         433\n",
      "32   user_item_last_month_count         424\n",
      "\n",
      "local result calculation\n",
      "2022-03-31 00:00:07 2022-04-06 23:59:05\n",
      "mAP Score on Validation set: 0.445304411911088\n",
      "##############################\n",
      "retrain\n",
      "\n",
      "popular_recall\n",
      "2022-03-31 00:00:07 2022-04-06 23:59:05\n"
     ]
    },
    {
     "name": "stderr",
     "output_type": "stream",
     "text": [
      "100%|██████████| 10393/10393 [00:00<00:00, 11272.92it/s]\n"
     ]
    },
    {
     "name": "stdout",
     "output_type": "stream",
     "text": [
      "HIT:  0.8464689376089789\n",
      "\n",
      "history_recall\n",
      "2022-03-31 00:00:07 2022-04-06 23:59:05\n"
     ]
    },
    {
     "name": "stderr",
     "output_type": "stream",
     "text": [
      "100%|██████████| 5618/5618 [00:00<00:00, 23310.96it/s]\n"
     ]
    },
    {
     "name": "stdout",
     "output_type": "stream",
     "text": [
      "\n",
      "itemcf_recall\n",
      "\n",
      "binary_recall\n",
      "\n",
      "merge recalls\n",
      "\n",
      "feature engineer\n",
      "train_fe shape: (855009, 41)\n",
      "\n",
      "ranker\n",
      "[100]\tvalid_0's map@12: 0.536026\n",
      "[200]\tvalid_0's map@12: 0.540378\n",
      "[300]\tvalid_0's map@12: 0.543684\n",
      "[400]\tvalid_0's map@12: 0.545884\n",
      "[500]\tvalid_0's map@12: 0.55053\n",
      "[600]\tvalid_0's map@12: 0.552374\n",
      "[700]\tvalid_0's map@12: 0.55481\n",
      "defaultdict(<class 'dict'>, {'valid_0': {'map@12': 0.5555553620505647}})\n",
      "                        feature  importance\n",
      "28  purchase_corr_item_max_time        2443\n",
      "37                     商品类型_idx        2375\n",
      "22                  price_max_y        1618\n",
      "27                  color_count        1401\n",
      "18                    首次注册的渠道类型        1233\n",
      "23                  price_min_y         965\n",
      "29       purchase_corr_item_cnt         947\n",
      "36     latest_purchase_time_sub         940\n",
      "0                  itemcf_score         798\n",
      "21                    入会时间_diff         785\n",
      "24               price_median_y         730\n",
      "8                price_median_x         658\n",
      "6                  price_mean_x         619\n",
      "1                  binary_score         582\n",
      "7                   price_std_x         573\n",
      "4                   price_min_x         535\n",
      "9                     price_sum         479\n",
      "26                  price_std_y         477\n",
      "5                   price_max_x         438\n",
      "25                 price_mean_y         400\n"
     ]
    }
   ],
   "source": [
    "autoXRecommend = AutoXRecommend()\n",
    "\n",
    "autoXRecommend.fit(inter_df = inter_df, user_df = user_df, item_df = item_df,\n",
    "                  uid = uid, iid = iid, time_col = time_col,\n",
    "                  recall_num = recall_num,\n",
    "                  debug = True, debug_save_path = './temp_ms6')"
   ]
  },
  {
   "cell_type": "code",
   "execution_count": 13,
   "metadata": {
    "ExecuteTime": {
     "end_time": "2022-05-19T03:47:57.003369Z",
     "start_time": "2022-05-19T03:47:23.277571Z"
    },
    "scrolled": true
   },
   "outputs": [
    {
     "name": "stdout",
     "output_type": "stream",
     "text": [
      "\n",
      "popular recall, test\n",
      "2022-03-31 00:00:07 2022-04-06 23:59:05\n"
     ]
    },
    {
     "name": "stderr",
     "output_type": "stream",
     "text": [
      "100%|██████████| 9037/9037 [00:00<00:00, 14281.47it/s]\n"
     ]
    },
    {
     "name": "stdout",
     "output_type": "stream",
     "text": [
      "\n",
      "history recall, test\n",
      "\n",
      "itemcf recall, test\n",
      "\n",
      "binary recall, test\n",
      "\n",
      "merge recalls\n",
      "\n",
      "feature engineer\n",
      "customer feature engineer\n",
      "num_cols: ['price', 'sales_channel_id']\n",
      "cat_cols: []\n",
      "interact feature engineer\n",
      "test_fe shape: (742298, 40)\n",
      "\n",
      "inference\n",
      "[1/1]\n",
      "(742298, 40)\n"
     ]
    }
   ],
   "source": [
    "res = autoXRecommend.transform(test_users)"
   ]
  },
  {
   "cell_type": "code",
   "execution_count": 14,
   "metadata": {
    "ExecuteTime": {
     "end_time": "2022-05-19T03:47:57.012075Z",
     "start_time": "2022-05-19T03:47:57.005501Z"
    }
   },
   "outputs": [],
   "source": [
    "def apk(actual, predicted, k=12):\n",
    "    if len(predicted)>k:\n",
    "        predicted = predicted[:k]\n",
    "\n",
    "    score = 0.0\n",
    "    num_hits = 0.0\n",
    "\n",
    "    for i,p in enumerate(predicted):\n",
    "        if p in actual and p not in predicted[:i]:\n",
    "            num_hits += 1.0\n",
    "            score += num_hits / (i+1.0)\n",
    "\n",
    "    if not actual:\n",
    "        return 0.0\n",
    "\n",
    "    return score / min(len(actual), k)\n",
    "\n",
    "def mapk(actual, predicted, k=12):\n",
    "    return np.mean([apk(a,p,k) for a,p in zip(actual, predicted)])"
   ]
  },
  {
   "cell_type": "code",
   "execution_count": 15,
   "metadata": {
    "ExecuteTime": {
     "end_time": "2022-05-19T03:47:57.094102Z",
     "start_time": "2022-05-19T03:47:57.014120Z"
    }
   },
   "outputs": [
    {
     "name": "stdout",
     "output_type": "stream",
     "text": [
      "mAP Score on Validation set: 0.4718946600598702\n"
     ]
    }
   ],
   "source": [
    "outputs = res['prediction']\n",
    "print(\"mAP Score on Validation set:\", mapk(test_items, outputs))"
   ]
  },
  {
   "cell_type": "code",
   "execution_count": null,
   "metadata": {},
   "outputs": [],
   "source": []
  },
  {
   "cell_type": "code",
   "execution_count": 80,
   "metadata": {
    "ExecuteTime": {
     "end_time": "2022-05-19T07:03:11.145872Z",
     "start_time": "2022-05-19T07:03:11.143208Z"
    }
   },
   "outputs": [],
   "source": [
    "# res.to_csv('./recall_and_rank.csv', index = False)"
   ]
  },
  {
   "cell_type": "code",
   "execution_count": 61,
   "metadata": {
    "ExecuteTime": {
     "end_time": "2022-05-19T06:55:31.383604Z",
     "start_time": "2022-05-19T06:55:30.550694Z"
    },
    "scrolled": true
   },
   "outputs": [],
   "source": [
    "rank_dict = res.set_index('会员id').T.to_dict('list')"
   ]
  },
  {
   "cell_type": "code",
   "execution_count": 64,
   "metadata": {
    "ExecuteTime": {
     "end_time": "2022-05-19T06:56:38.037328Z",
     "start_time": "2022-05-19T06:56:38.033511Z"
    }
   },
   "outputs": [],
   "source": [
    "import pickle\n",
    "def save_obj(obj, name):\n",
    "    with open(f'{name}.pkl', 'wb') as f:\n",
    "        pickle.dump(obj, f, pickle.HIGHEST_PROTOCOL)"
   ]
  },
  {
   "cell_type": "code",
   "execution_count": 65,
   "metadata": {
    "ExecuteTime": {
     "end_time": "2022-05-19T06:56:40.380166Z",
     "start_time": "2022-05-19T06:56:40.339774Z"
    }
   },
   "outputs": [],
   "source": [
    "save_obj(rank_dict, 'recall_and_rank')"
   ]
  },
  {
   "cell_type": "code",
   "execution_count": 66,
   "metadata": {
    "ExecuteTime": {
     "end_time": "2022-05-19T06:56:57.477373Z",
     "start_time": "2022-05-19T06:56:57.473545Z"
    }
   },
   "outputs": [],
   "source": [
    "def load_obj(name):\n",
    "    with open(f'{name}.pkl', 'rb') as f:\n",
    "        return pickle.load(f)"
   ]
  },
  {
   "cell_type": "code",
   "execution_count": 68,
   "metadata": {
    "ExecuteTime": {
     "end_time": "2022-05-19T06:57:25.126159Z",
     "start_time": "2022-05-19T06:57:25.096555Z"
    },
    "scrolled": true
   },
   "outputs": [],
   "source": [
    "recall_and_rank = load_obj('recall_and_rank')"
   ]
  },
  {
   "cell_type": "code",
   "execution_count": null,
   "metadata": {},
   "outputs": [],
   "source": []
  },
  {
   "cell_type": "code",
   "execution_count": 23,
   "metadata": {
    "ExecuteTime": {
     "end_time": "2022-05-19T06:45:51.792819Z",
     "start_time": "2022-05-19T06:45:51.790124Z"
    }
   },
   "outputs": [],
   "source": [
    "uid = '00f73578e4cc11e8840998039b46e950'"
   ]
  },
  {
   "cell_type": "code",
   "execution_count": 76,
   "metadata": {
    "ExecuteTime": {
     "end_time": "2022-05-19T06:59:00.496606Z",
     "start_time": "2022-05-19T06:59:00.493245Z"
    }
   },
   "outputs": [],
   "source": [
    "popular_item = ['[44]',\n",
    "                 '[02]',\n",
    "                 '[21]',\n",
    "                 '[24]',\n",
    "                 '[05]',\n",
    "                 '[27]',\n",
    "                 '[31]',\n",
    "                 '[03]',\n",
    "                 '[23]',\n",
    "                 '[99]',\n",
    "                 '[22]',\n",
    "                 '[74]']"
   ]
  },
  {
   "cell_type": "code",
   "execution_count": 77,
   "metadata": {
    "ExecuteTime": {
     "end_time": "2022-05-19T06:59:11.929475Z",
     "start_time": "2022-05-19T06:59:11.925488Z"
    },
    "scrolled": true
   },
   "outputs": [],
   "source": [
    "if uid in recall_and_rank:\n",
    "    cur_res = recall_and_rank[uid][0][:12]\n",
    "    cur_res = [x[:4] for x in cur_res]\n",
    "else:\n",
    "    cur_res = popular_item"
   ]
  },
  {
   "cell_type": "code",
   "execution_count": 79,
   "metadata": {
    "ExecuteTime": {
     "end_time": "2022-05-19T07:01:04.830421Z",
     "start_time": "2022-05-19T07:01:04.824501Z"
    },
    "scrolled": true
   },
   "outputs": [
    {
     "data": {
      "text/plain": [
       "['[44]',\n",
       " '[02]',\n",
       " '[21]',\n",
       " '[05]',\n",
       " '[31]',\n",
       " '[03]',\n",
       " '[24]',\n",
       " '[27]',\n",
       " '[23]',\n",
       " '[22]',\n",
       " '[50]',\n",
       " '[34]']"
      ]
     },
     "execution_count": 79,
     "metadata": {},
     "output_type": "execute_result"
    }
   ],
   "source": [
    "cur_res"
   ]
  },
  {
   "cell_type": "code",
   "execution_count": 83,
   "metadata": {
    "ExecuteTime": {
     "end_time": "2022-05-19T07:09:14.270353Z",
     "start_time": "2022-05-19T07:09:14.252730Z"
    },
    "scrolled": true
   },
   "outputs": [
    {
     "data": {
      "text/html": [
       "<div>\n",
       "<style scoped>\n",
       "    .dataframe tbody tr th:only-of-type {\n",
       "        vertical-align: middle;\n",
       "    }\n",
       "\n",
       "    .dataframe tbody tr th {\n",
       "        vertical-align: top;\n",
       "    }\n",
       "\n",
       "    .dataframe thead th {\n",
       "        text-align: right;\n",
       "    }\n",
       "</style>\n",
       "<table border=\"1\" class=\"dataframe\">\n",
       "  <thead>\n",
       "    <tr style=\"text-align: right;\">\n",
       "      <th></th>\n",
       "      <th>会员id</th>\n",
       "      <th>prediction</th>\n",
       "    </tr>\n",
       "  </thead>\n",
       "  <tbody>\n",
       "    <tr>\n",
       "      <th>0</th>\n",
       "      <td>00aa3029e4cd11e8840998039b46e950</td>\n",
       "      <td>[[44]短袖针织, [02]裤（长裤）, [21]夹克外套, [05]牛仔（长裤）, [2...</td>\n",
       "    </tr>\n",
       "    <tr>\n",
       "      <th>1</th>\n",
       "      <td>00f73578e4cc11e8840998039b46e950</td>\n",
       "      <td>[[44]短袖针织, [02]裤（长裤）, [21]夹克外套, [05]牛仔（长裤）, [3...</td>\n",
       "    </tr>\n",
       "    <tr>\n",
       "      <th>2</th>\n",
       "      <td>0156a90de4ce11e8840998039b46e950</td>\n",
       "      <td>[[44]短袖针织, [02]裤（长裤）, [21]夹克外套, [05]牛仔（长裤）, [2...</td>\n",
       "    </tr>\n",
       "    <tr>\n",
       "      <th>3</th>\n",
       "      <td>016c92a4e4ce11e8840998039b46e950</td>\n",
       "      <td>[[44]短袖针织, [02]裤（长裤）, [21]夹克外套, [99]物料, [24]PO...</td>\n",
       "    </tr>\n",
       "    <tr>\n",
       "      <th>4</th>\n",
       "      <td>0174f217e4ca11e8840998039b46e950</td>\n",
       "      <td>[[44]短袖针织, [02]裤（长裤）, [21]夹克外套, [05]牛仔（长裤）, [3...</td>\n",
       "    </tr>\n",
       "    <tr>\n",
       "      <th>...</th>\n",
       "      <td>...</td>\n",
       "      <td>...</td>\n",
       "    </tr>\n",
       "    <tr>\n",
       "      <th>9032</th>\n",
       "      <td>ff15e7a6e4ca11e8840998039b46e950</td>\n",
       "      <td>[[44]短袖针织, [02]裤（长裤）, [21]夹克外套, [05]牛仔（长裤）, [2...</td>\n",
       "    </tr>\n",
       "    <tr>\n",
       "      <th>9033</th>\n",
       "      <td>ff20eca5e4ca11e8840998039b46e950</td>\n",
       "      <td>[[44]短袖针织, [02]裤（长裤）, [21]夹克外套, [05]牛仔（长裤）, [2...</td>\n",
       "    </tr>\n",
       "    <tr>\n",
       "      <th>9034</th>\n",
       "      <td>ff840c42e4c811e8840998039b46e950</td>\n",
       "      <td>[[44]短袖针织, [02]裤（长裤）, [21]夹克外套, [05]牛仔（长裤）, [3...</td>\n",
       "    </tr>\n",
       "    <tr>\n",
       "      <th>9035</th>\n",
       "      <td>ffb64c3de4c811e8840998039b46e950</td>\n",
       "      <td>[[44]短袖针织, [02]裤（长裤）, [21]夹克外套, [05]牛仔（长裤）, [3...</td>\n",
       "    </tr>\n",
       "    <tr>\n",
       "      <th>9036</th>\n",
       "      <td>fff48b2ee4cc11e8840998039b46e950</td>\n",
       "      <td>[[44]短袖针织, [02]裤（长裤）, [21]夹克外套, [05]牛仔（长裤）, [3...</td>\n",
       "    </tr>\n",
       "  </tbody>\n",
       "</table>\n",
       "<p>9037 rows × 2 columns</p>\n",
       "</div>"
      ],
      "text/plain": [
       "                                  会员id  \\\n",
       "0     00aa3029e4cd11e8840998039b46e950   \n",
       "1     00f73578e4cc11e8840998039b46e950   \n",
       "2     0156a90de4ce11e8840998039b46e950   \n",
       "3     016c92a4e4ce11e8840998039b46e950   \n",
       "4     0174f217e4ca11e8840998039b46e950   \n",
       "...                                ...   \n",
       "9032  ff15e7a6e4ca11e8840998039b46e950   \n",
       "9033  ff20eca5e4ca11e8840998039b46e950   \n",
       "9034  ff840c42e4c811e8840998039b46e950   \n",
       "9035  ffb64c3de4c811e8840998039b46e950   \n",
       "9036  fff48b2ee4cc11e8840998039b46e950   \n",
       "\n",
       "                                             prediction  \n",
       "0     [[44]短袖针织, [02]裤（长裤）, [21]夹克外套, [05]牛仔（长裤）, [2...  \n",
       "1     [[44]短袖针织, [02]裤（长裤）, [21]夹克外套, [05]牛仔（长裤）, [3...  \n",
       "2     [[44]短袖针织, [02]裤（长裤）, [21]夹克外套, [05]牛仔（长裤）, [2...  \n",
       "3     [[44]短袖针织, [02]裤（长裤）, [21]夹克外套, [99]物料, [24]PO...  \n",
       "4     [[44]短袖针织, [02]裤（长裤）, [21]夹克外套, [05]牛仔（长裤）, [3...  \n",
       "...                                                 ...  \n",
       "9032  [[44]短袖针织, [02]裤（长裤）, [21]夹克外套, [05]牛仔（长裤）, [2...  \n",
       "9033  [[44]短袖针织, [02]裤（长裤）, [21]夹克外套, [05]牛仔（长裤）, [2...  \n",
       "9034  [[44]短袖针织, [02]裤（长裤）, [21]夹克外套, [05]牛仔（长裤）, [3...  \n",
       "9035  [[44]短袖针织, [02]裤（长裤）, [21]夹克外套, [05]牛仔（长裤）, [3...  \n",
       "9036  [[44]短袖针织, [02]裤（长裤）, [21]夹克外套, [05]牛仔（长裤）, [3...  \n",
       "\n",
       "[9037 rows x 2 columns]"
      ]
     },
     "execution_count": 83,
     "metadata": {},
     "output_type": "execute_result"
    }
   ],
   "source": [
    "res"
   ]
  },
  {
   "cell_type": "code",
   "execution_count": 81,
   "metadata": {
    "ExecuteTime": {
     "end_time": "2022-05-19T07:05:22.775800Z",
     "start_time": "2022-05-19T07:05:22.772298Z"
    }
   },
   "outputs": [],
   "source": [
    "# 终端执行:\n",
    "#     python app.py\n",
    "\n",
    "# 终端调用:\n",
    "\n",
    "# curl -X GET http://127.0.0.1:5000/ -d uid='016c92a4e4ce11e8840998039b46e950'\n",
    "\n",
    "# curl -X GET http://127.0.0.1:5000/ -d uid='00f73578e4cc11e8840998039b46e950'"
   ]
  },
  {
   "cell_type": "code",
   "execution_count": null,
   "metadata": {},
   "outputs": [],
   "source": []
  }
 ],
 "metadata": {
  "kernelspec": {
   "display_name": "Python 3",
   "language": "python",
   "name": "python3"
  },
  "language_info": {
   "codemirror_mode": {
    "name": "ipython",
    "version": 3
   },
   "file_extension": ".py",
   "mimetype": "text/x-python",
   "name": "python",
   "nbconvert_exporter": "python",
   "pygments_lexer": "ipython3",
   "version": "3.7.3"
  },
  "toc": {
   "base_numbering": 1,
   "nav_menu": {},
   "number_sections": true,
   "sideBar": true,
   "skip_h1_title": false,
   "title_cell": "Table of Contents",
   "title_sidebar": "Contents",
   "toc_cell": false,
   "toc_position": {},
   "toc_section_display": true,
   "toc_window_display": false
  },
  "varInspector": {
   "cols": {
    "lenName": 16,
    "lenType": 16,
    "lenVar": 40
   },
   "kernels_config": {
    "python": {
     "delete_cmd_postfix": "",
     "delete_cmd_prefix": "del ",
     "library": "var_list.py",
     "varRefreshCmd": "print(var_dic_list())"
    },
    "r": {
     "delete_cmd_postfix": ") ",
     "delete_cmd_prefix": "rm(",
     "library": "var_list.r",
     "varRefreshCmd": "cat(var_dic_list()) "
    }
   },
   "types_to_exclude": [
    "module",
    "function",
    "builtin_function_or_method",
    "instance",
    "_Feature"
   ],
   "window_display": false
  }
 },
 "nbformat": 4,
 "nbformat_minor": 2
}
