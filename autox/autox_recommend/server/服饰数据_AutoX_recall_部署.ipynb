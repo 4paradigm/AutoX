{
 "cells": [
  {
   "cell_type": "code",
   "execution_count": 1,
   "metadata": {
    "ExecuteTime": {
     "end_time": "2022-05-18T12:26:15.221591Z",
     "start_time": "2022-05-18T12:26:15.216739Z"
    }
   },
   "outputs": [],
   "source": [
    "import sys\n",
    "sys.path.append('../AutoX')"
   ]
  },
  {
   "cell_type": "code",
   "execution_count": 2,
   "metadata": {
    "ExecuteTime": {
     "end_time": "2022-05-18T12:26:21.033677Z",
     "start_time": "2022-05-18T12:26:15.825971Z"
    },
    "scrolled": true
   },
   "outputs": [
    {
     "name": "stderr",
     "output_type": "stream",
     "text": [
      "Using TensorFlow backend.\n"
     ]
    }
   ],
   "source": [
    "from autox import AutoXRecommend"
   ]
  },
  {
   "cell_type": "code",
   "execution_count": 3,
   "metadata": {
    "ExecuteTime": {
     "end_time": "2022-05-18T12:26:21.043518Z",
     "start_time": "2022-05-18T12:26:21.036472Z"
    }
   },
   "outputs": [],
   "source": [
    "import pandas as pd\n",
    "import numpy as np\n",
    "import os\n",
    "from tqdm import tqdm"
   ]
  },
  {
   "cell_type": "code",
   "execution_count": 4,
   "metadata": {
    "ExecuteTime": {
     "end_time": "2022-05-18T12:26:21.048065Z",
     "start_time": "2022-05-18T12:26:21.045699Z"
    }
   },
   "outputs": [],
   "source": [
    "path = '~/慕尚/autox_recommend_temp/'"
   ]
  },
  {
   "cell_type": "code",
   "execution_count": 5,
   "metadata": {
    "ExecuteTime": {
     "end_time": "2022-05-18T12:26:31.296727Z",
     "start_time": "2022-05-18T12:26:21.049844Z"
    },
    "scrolled": true
   },
   "outputs": [],
   "source": [
    "inter_df = pd.read_csv(path + 'inter_df.csv')\n",
    "user_df = pd.read_csv(path + 'user_df.csv')\n",
    "item_df = pd.read_csv(path + 'item_df.csv')\n",
    "test = pd.read_csv(path + 'test.csv')"
   ]
  },
  {
   "cell_type": "code",
   "execution_count": 6,
   "metadata": {
    "ExecuteTime": {
     "end_time": "2022-05-18T12:26:31.302821Z",
     "start_time": "2022-05-18T12:26:31.299439Z"
    }
   },
   "outputs": [],
   "source": [
    "uid = '会员id'\n",
    "iid = '商品类型'\n",
    "time_col = '订单时间'\n",
    "recall_num = 12"
   ]
  },
  {
   "cell_type": "code",
   "execution_count": 7,
   "metadata": {
    "ExecuteTime": {
     "end_time": "2022-05-18T12:26:32.508702Z",
     "start_time": "2022-05-18T12:26:31.305966Z"
    }
   },
   "outputs": [
    {
     "data": {
      "text/plain": [
       "('2020-01-01 00:00:43', '2022-04-06 23:59:05')"
      ]
     },
     "execution_count": 7,
     "metadata": {},
     "output_type": "execute_result"
    }
   ],
   "source": [
    "inter_df[time_col].min(), inter_df[time_col].max()"
   ]
  },
  {
   "cell_type": "code",
   "execution_count": 8,
   "metadata": {
    "ExecuteTime": {
     "end_time": "2022-05-18T12:26:32.520059Z",
     "start_time": "2022-05-18T12:26:32.511641Z"
    }
   },
   "outputs": [
    {
     "data": {
      "text/plain": [
       "('2022-04-07 00:00:49', '2022-04-13 19:19:02')"
      ]
     },
     "execution_count": 8,
     "metadata": {},
     "output_type": "execute_result"
    }
   ],
   "source": [
    "test[time_col].min(), test[time_col].max()"
   ]
  },
  {
   "cell_type": "code",
   "execution_count": 9,
   "metadata": {
    "ExecuteTime": {
     "end_time": "2022-05-18T12:26:33.741155Z",
     "start_time": "2022-05-18T12:26:32.521732Z"
    }
   },
   "outputs": [
    {
     "name": "stderr",
     "output_type": "stream",
     "text": [
      "9037it [00:00, 66993.87it/s]"
     ]
    },
    {
     "name": "stdout",
     "output_type": "stream",
     "text": [
      "Total users in testidation: 9037\n"
     ]
    },
    {
     "name": "stderr",
     "output_type": "stream",
     "text": [
      "\n"
     ]
    }
   ],
   "source": [
    "positive_items_test = test.groupby([uid])[iid].apply(list)\n",
    "test_users = positive_items_test.keys()\n",
    "test_items = []\n",
    "\n",
    "for i, user in tqdm(enumerate(test_users)):\n",
    "    test_items.append(positive_items_test[user])\n",
    "    \n",
    "print(\"Total users in testidation:\", len(test_users))"
   ]
  },
  {
   "cell_type": "code",
   "execution_count": 10,
   "metadata": {
    "ExecuteTime": {
     "end_time": "2022-05-18T12:26:35.798504Z",
     "start_time": "2022-05-18T12:26:33.743320Z"
    }
   },
   "outputs": [],
   "source": [
    "inter_df[time_col] = pd.to_datetime(inter_df[time_col])"
   ]
  },
  {
   "cell_type": "code",
   "execution_count": 11,
   "metadata": {
    "ExecuteTime": {
     "end_time": "2022-05-18T12:26:35.956732Z",
     "start_time": "2022-05-18T12:26:35.801446Z"
    },
    "scrolled": true
   },
   "outputs": [],
   "source": [
    "autoXRecommend = AutoXRecommend()\n",
    "\n",
    "autoXRecommend.fit(inter_df = inter_df, user_df = user_df, item_df = item_df,\n",
    "                  uid = uid, iid = iid, time_col = time_col,\n",
    "                  recall_num = recall_num, \n",
    "                  mode = 'recalls', recall_method = 'popular')"
   ]
  },
  {
   "cell_type": "code",
   "execution_count": 12,
   "metadata": {
    "ExecuteTime": {
     "end_time": "2022-05-18T12:26:37.441270Z",
     "start_time": "2022-05-18T12:26:35.960490Z"
    },
    "scrolled": false
   },
   "outputs": [
    {
     "name": "stderr",
     "output_type": "stream",
     "text": [
      "100%|██████████| 9037/9037 [00:00<00:00, 28404.86it/s]\n"
     ]
    }
   ],
   "source": [
    "res = autoXRecommend.transform(test_users)"
   ]
  },
  {
   "cell_type": "code",
   "execution_count": 13,
   "metadata": {
    "ExecuteTime": {
     "end_time": "2022-05-18T12:26:37.481190Z",
     "start_time": "2022-05-18T12:26:37.443614Z"
    }
   },
   "outputs": [
    {
     "data": {
      "text/html": [
       "<div>\n",
       "<style scoped>\n",
       "    .dataframe tbody tr th:only-of-type {\n",
       "        vertical-align: middle;\n",
       "    }\n",
       "\n",
       "    .dataframe tbody tr th {\n",
       "        vertical-align: top;\n",
       "    }\n",
       "\n",
       "    .dataframe thead th {\n",
       "        text-align: right;\n",
       "    }\n",
       "</style>\n",
       "<table border=\"1\" class=\"dataframe\">\n",
       "  <thead>\n",
       "    <tr style=\"text-align: right;\">\n",
       "      <th></th>\n",
       "      <th>会员id</th>\n",
       "      <th>prediction</th>\n",
       "    </tr>\n",
       "  </thead>\n",
       "  <tbody>\n",
       "    <tr>\n",
       "      <th>0</th>\n",
       "      <td>00aa3029e4cd11e8840998039b46e950</td>\n",
       "      <td>[[44]短袖针织, [02]裤（长裤）, [21]夹克外套, [24]POLO衫, [05...</td>\n",
       "    </tr>\n",
       "    <tr>\n",
       "      <th>1</th>\n",
       "      <td>00f73578e4cc11e8840998039b46e950</td>\n",
       "      <td>[[44]短袖针织, [02]裤（长裤）, [21]夹克外套, [24]POLO衫, [05...</td>\n",
       "    </tr>\n",
       "    <tr>\n",
       "      <th>2</th>\n",
       "      <td>0156a90de4ce11e8840998039b46e950</td>\n",
       "      <td>[[44]短袖针织, [02]裤（长裤）, [21]夹克外套, [24]POLO衫, [05...</td>\n",
       "    </tr>\n",
       "    <tr>\n",
       "      <th>3</th>\n",
       "      <td>016c92a4e4ce11e8840998039b46e950</td>\n",
       "      <td>[[44]短袖针织, [02]裤（长裤）, [21]夹克外套, [24]POLO衫, [05...</td>\n",
       "    </tr>\n",
       "    <tr>\n",
       "      <th>4</th>\n",
       "      <td>0174f217e4ca11e8840998039b46e950</td>\n",
       "      <td>[[44]短袖针织, [02]裤（长裤）, [21]夹克外套, [24]POLO衫, [05...</td>\n",
       "    </tr>\n",
       "    <tr>\n",
       "      <th>5</th>\n",
       "      <td>01a43e3be4cd11e8840998039b46e950</td>\n",
       "      <td>[[44]短袖针织, [02]裤（长裤）, [21]夹克外套, [24]POLO衫, [05...</td>\n",
       "    </tr>\n",
       "    <tr>\n",
       "      <th>6</th>\n",
       "      <td>01f4db93e4ce11e8840998039b46e950</td>\n",
       "      <td>[[44]短袖针织, [02]裤（长裤）, [21]夹克外套, [24]POLO衫, [05...</td>\n",
       "    </tr>\n",
       "    <tr>\n",
       "      <th>7</th>\n",
       "      <td>01fdce1fe4cd11e8840998039b46e950</td>\n",
       "      <td>[[44]短袖针织, [02]裤（长裤）, [21]夹克外套, [24]POLO衫, [05...</td>\n",
       "    </tr>\n",
       "    <tr>\n",
       "      <th>8</th>\n",
       "      <td>02536589e4ca11e8840998039b46e950</td>\n",
       "      <td>[[44]短袖针织, [02]裤（长裤）, [21]夹克外套, [24]POLO衫, [05...</td>\n",
       "    </tr>\n",
       "    <tr>\n",
       "      <th>9</th>\n",
       "      <td>02937fc9e4ce11e8840998039b46e950</td>\n",
       "      <td>[[44]短袖针织, [02]裤（长裤）, [21]夹克外套, [24]POLO衫, [05...</td>\n",
       "    </tr>\n",
       "    <tr>\n",
       "      <th>10</th>\n",
       "      <td>0352418be4ce11e8840998039b46e950</td>\n",
       "      <td>[[44]短袖针织, [02]裤（长裤）, [21]夹克外套, [24]POLO衫, [05...</td>\n",
       "    </tr>\n",
       "    <tr>\n",
       "      <th>11</th>\n",
       "      <td>03fc7933e4ce11e8840998039b46e950</td>\n",
       "      <td>[[44]短袖针织, [02]裤（长裤）, [21]夹克外套, [24]POLO衫, [05...</td>\n",
       "    </tr>\n",
       "    <tr>\n",
       "      <th>12</th>\n",
       "      <td>04239698e4c911e8840998039b46e950</td>\n",
       "      <td>[[44]短袖针织, [02]裤（长裤）, [21]夹克外套, [24]POLO衫, [05...</td>\n",
       "    </tr>\n",
       "    <tr>\n",
       "      <th>13</th>\n",
       "      <td>0453849ce4cb11e8840998039b46e950</td>\n",
       "      <td>[[44]短袖针织, [02]裤（长裤）, [21]夹克外套, [24]POLO衫, [05...</td>\n",
       "    </tr>\n",
       "    <tr>\n",
       "      <th>14</th>\n",
       "      <td>04874cf4e4ce11e8840998039b46e950</td>\n",
       "      <td>[[44]短袖针织, [02]裤（长裤）, [21]夹克外套, [24]POLO衫, [05...</td>\n",
       "    </tr>\n",
       "    <tr>\n",
       "      <th>15</th>\n",
       "      <td>0489dbf0b3774332818cad5eb24053a4</td>\n",
       "      <td>[[44]短袖针织, [02]裤（长裤）, [21]夹克外套, [24]POLO衫, [05...</td>\n",
       "    </tr>\n",
       "    <tr>\n",
       "      <th>16</th>\n",
       "      <td>04b29df1e4cb11e8840998039b46e950</td>\n",
       "      <td>[[44]短袖针织, [02]裤（长裤）, [21]夹克外套, [24]POLO衫, [05...</td>\n",
       "    </tr>\n",
       "    <tr>\n",
       "      <th>17</th>\n",
       "      <td>04c23e2ae4cd11e8840998039b46e950</td>\n",
       "      <td>[[44]短袖针织, [02]裤（长裤）, [21]夹克外套, [24]POLO衫, [05...</td>\n",
       "    </tr>\n",
       "    <tr>\n",
       "      <th>18</th>\n",
       "      <td>0517f06ce4ce11e8840998039b46e950</td>\n",
       "      <td>[[44]短袖针织, [02]裤（长裤）, [21]夹克外套, [24]POLO衫, [05...</td>\n",
       "    </tr>\n",
       "    <tr>\n",
       "      <th>19</th>\n",
       "      <td>053fc83c00e849c0a1e5b033576ce7b3</td>\n",
       "      <td>[[44]短袖针织, [02]裤（长裤）, [21]夹克外套, [24]POLO衫, [05...</td>\n",
       "    </tr>\n",
       "    <tr>\n",
       "      <th>20</th>\n",
       "      <td>054b4563e4cb11e8840998039b46e950</td>\n",
       "      <td>[[44]短袖针织, [02]裤（长裤）, [21]夹克外套, [24]POLO衫, [05...</td>\n",
       "    </tr>\n",
       "    <tr>\n",
       "      <th>21</th>\n",
       "      <td>055904e7e4c911e8840998039b46e950</td>\n",
       "      <td>[[44]短袖针织, [02]裤（长裤）, [21]夹克外套, [24]POLO衫, [05...</td>\n",
       "    </tr>\n",
       "    <tr>\n",
       "      <th>22</th>\n",
       "      <td>05666ced9efd4982b9deb6adb0485f1e</td>\n",
       "      <td>[[44]短袖针织, [02]裤（长裤）, [21]夹克外套, [24]POLO衫, [05...</td>\n",
       "    </tr>\n",
       "    <tr>\n",
       "      <th>23</th>\n",
       "      <td>05a71d40e4ca11e8840998039b46e950</td>\n",
       "      <td>[[44]短袖针织, [02]裤（长裤）, [21]夹克外套, [24]POLO衫, [05...</td>\n",
       "    </tr>\n",
       "    <tr>\n",
       "      <th>24</th>\n",
       "      <td>0668bc21e4ce11e8840998039b46e950</td>\n",
       "      <td>[[44]短袖针织, [02]裤（长裤）, [21]夹克外套, [24]POLO衫, [05...</td>\n",
       "    </tr>\n",
       "    <tr>\n",
       "      <th>25</th>\n",
       "      <td>06a35b19e4cb11e8840998039b46e950</td>\n",
       "      <td>[[44]短袖针织, [02]裤（长裤）, [21]夹克外套, [24]POLO衫, [05...</td>\n",
       "    </tr>\n",
       "    <tr>\n",
       "      <th>26</th>\n",
       "      <td>06b80ecfe4cb11e8840998039b46e950</td>\n",
       "      <td>[[44]短袖针织, [02]裤（长裤）, [21]夹克外套, [24]POLO衫, [05...</td>\n",
       "    </tr>\n",
       "    <tr>\n",
       "      <th>27</th>\n",
       "      <td>07268b7ae4ca11e8840998039b46e950</td>\n",
       "      <td>[[44]短袖针织, [02]裤（长裤）, [21]夹克外套, [24]POLO衫, [05...</td>\n",
       "    </tr>\n",
       "    <tr>\n",
       "      <th>28</th>\n",
       "      <td>0743ad182f2645679b2be777566f70ee</td>\n",
       "      <td>[[44]短袖针织, [02]裤（长裤）, [21]夹克外套, [24]POLO衫, [05...</td>\n",
       "    </tr>\n",
       "    <tr>\n",
       "      <th>29</th>\n",
       "      <td>076479b1e4cb11e8840998039b46e950</td>\n",
       "      <td>[[44]短袖针织, [02]裤（长裤）, [21]夹克外套, [24]POLO衫, [05...</td>\n",
       "    </tr>\n",
       "    <tr>\n",
       "      <th>...</th>\n",
       "      <td>...</td>\n",
       "      <td>...</td>\n",
       "    </tr>\n",
       "    <tr>\n",
       "      <th>9007</th>\n",
       "      <td>f92e5bd2e4cd11e8840998039b46e950</td>\n",
       "      <td>[[44]短袖针织, [02]裤（长裤）, [21]夹克外套, [24]POLO衫, [05...</td>\n",
       "    </tr>\n",
       "    <tr>\n",
       "      <th>9008</th>\n",
       "      <td>f9783c5ae4c811e8840998039b46e950</td>\n",
       "      <td>[[44]短袖针织, [02]裤（长裤）, [21]夹克外套, [24]POLO衫, [05...</td>\n",
       "    </tr>\n",
       "    <tr>\n",
       "      <th>9009</th>\n",
       "      <td>f9bb846be4ca11e8840998039b46e950</td>\n",
       "      <td>[[44]短袖针织, [02]裤（长裤）, [21]夹克外套, [24]POLO衫, [05...</td>\n",
       "    </tr>\n",
       "    <tr>\n",
       "      <th>9010</th>\n",
       "      <td>f9ce8c58e4cc11e8840998039b46e950</td>\n",
       "      <td>[[44]短袖针织, [02]裤（长裤）, [21]夹克外套, [24]POLO衫, [05...</td>\n",
       "    </tr>\n",
       "    <tr>\n",
       "      <th>9011</th>\n",
       "      <td>fa34d297e4cd11e8840998039b46e950</td>\n",
       "      <td>[[44]短袖针织, [02]裤（长裤）, [21]夹克外套, [24]POLO衫, [05...</td>\n",
       "    </tr>\n",
       "    <tr>\n",
       "      <th>9012</th>\n",
       "      <td>faa2e095e4cc11e8840998039b46e950</td>\n",
       "      <td>[[44]短袖针织, [02]裤（长裤）, [21]夹克外套, [24]POLO衫, [05...</td>\n",
       "    </tr>\n",
       "    <tr>\n",
       "      <th>9013</th>\n",
       "      <td>facbb902e4ca11e8840998039b46e950</td>\n",
       "      <td>[[44]短袖针织, [02]裤（长裤）, [21]夹克外套, [24]POLO衫, [05...</td>\n",
       "    </tr>\n",
       "    <tr>\n",
       "      <th>9014</th>\n",
       "      <td>fb04b1cae4cd11e8840998039b46e950</td>\n",
       "      <td>[[44]短袖针织, [02]裤（长裤）, [21]夹克外套, [24]POLO衫, [05...</td>\n",
       "    </tr>\n",
       "    <tr>\n",
       "      <th>9015</th>\n",
       "      <td>fb1947e07cca44f293354313bb962b1d</td>\n",
       "      <td>[[44]短袖针织, [02]裤（长裤）, [21]夹克外套, [24]POLO衫, [05...</td>\n",
       "    </tr>\n",
       "    <tr>\n",
       "      <th>9016</th>\n",
       "      <td>fb372bb7e4cd11e8840998039b46e950</td>\n",
       "      <td>[[44]短袖针织, [02]裤（长裤）, [21]夹克外套, [24]POLO衫, [05...</td>\n",
       "    </tr>\n",
       "    <tr>\n",
       "      <th>9017</th>\n",
       "      <td>fb429492e4cc11e8840998039b46e950</td>\n",
       "      <td>[[44]短袖针织, [02]裤（长裤）, [21]夹克外套, [24]POLO衫, [05...</td>\n",
       "    </tr>\n",
       "    <tr>\n",
       "      <th>9018</th>\n",
       "      <td>fb61489be4cd11e8840998039b46e950</td>\n",
       "      <td>[[44]短袖针织, [02]裤（长裤）, [21]夹克外套, [24]POLO衫, [05...</td>\n",
       "    </tr>\n",
       "    <tr>\n",
       "      <th>9019</th>\n",
       "      <td>fb9bcd0be4cd11e8840998039b46e950</td>\n",
       "      <td>[[44]短袖针织, [02]裤（长裤）, [21]夹克外套, [24]POLO衫, [05...</td>\n",
       "    </tr>\n",
       "    <tr>\n",
       "      <th>9020</th>\n",
       "      <td>fbafb707e4c911e8840998039b46e950</td>\n",
       "      <td>[[44]短袖针织, [02]裤（长裤）, [21]夹克外套, [24]POLO衫, [05...</td>\n",
       "    </tr>\n",
       "    <tr>\n",
       "      <th>9021</th>\n",
       "      <td>fbf7b062e4cd11e8840998039b46e950</td>\n",
       "      <td>[[44]短袖针织, [02]裤（长裤）, [21]夹克外套, [24]POLO衫, [05...</td>\n",
       "    </tr>\n",
       "    <tr>\n",
       "      <th>9022</th>\n",
       "      <td>fc8673f5e4ca11e8840998039b46e950</td>\n",
       "      <td>[[44]短袖针织, [02]裤（长裤）, [21]夹克外套, [24]POLO衫, [05...</td>\n",
       "    </tr>\n",
       "    <tr>\n",
       "      <th>9023</th>\n",
       "      <td>fcee8068e4cb11e8840998039b46e950</td>\n",
       "      <td>[[44]短袖针织, [02]裤（长裤）, [21]夹克外套, [24]POLO衫, [05...</td>\n",
       "    </tr>\n",
       "    <tr>\n",
       "      <th>9024</th>\n",
       "      <td>fcfec1b7e4cc11e8840998039b46e950</td>\n",
       "      <td>[[44]短袖针织, [02]裤（长裤）, [21]夹克外套, [24]POLO衫, [05...</td>\n",
       "    </tr>\n",
       "    <tr>\n",
       "      <th>9025</th>\n",
       "      <td>fd3120a0a0614f24b8a6ffbaa2742aa4</td>\n",
       "      <td>[[44]短袖针织, [02]裤（长裤）, [21]夹克外套, [24]POLO衫, [05...</td>\n",
       "    </tr>\n",
       "    <tr>\n",
       "      <th>9026</th>\n",
       "      <td>fd6e422de4cd11e8840998039b46e950</td>\n",
       "      <td>[[44]短袖针织, [02]裤（长裤）, [21]夹克外套, [24]POLO衫, [05...</td>\n",
       "    </tr>\n",
       "    <tr>\n",
       "      <th>9027</th>\n",
       "      <td>fd861f44e4cd11e8840998039b46e950</td>\n",
       "      <td>[[44]短袖针织, [02]裤（长裤）, [21]夹克外套, [24]POLO衫, [05...</td>\n",
       "    </tr>\n",
       "    <tr>\n",
       "      <th>9028</th>\n",
       "      <td>fe490f96e4cc11e8840998039b46e950</td>\n",
       "      <td>[[44]短袖针织, [02]裤（长裤）, [21]夹克外套, [24]POLO衫, [05...</td>\n",
       "    </tr>\n",
       "    <tr>\n",
       "      <th>9029</th>\n",
       "      <td>febce0ebe4c911e8840998039b46e950</td>\n",
       "      <td>[[44]短袖针织, [02]裤（长裤）, [21]夹克外套, [24]POLO衫, [05...</td>\n",
       "    </tr>\n",
       "    <tr>\n",
       "      <th>9030</th>\n",
       "      <td>fed440d7e4cc11e8840998039b46e950</td>\n",
       "      <td>[[44]短袖针织, [02]裤（长裤）, [21]夹克外套, [24]POLO衫, [05...</td>\n",
       "    </tr>\n",
       "    <tr>\n",
       "      <th>9031</th>\n",
       "      <td>feeeb877e4c811e8840998039b46e950</td>\n",
       "      <td>[[44]短袖针织, [02]裤（长裤）, [21]夹克外套, [24]POLO衫, [05...</td>\n",
       "    </tr>\n",
       "    <tr>\n",
       "      <th>9032</th>\n",
       "      <td>ff15e7a6e4ca11e8840998039b46e950</td>\n",
       "      <td>[[44]短袖针织, [02]裤（长裤）, [21]夹克外套, [24]POLO衫, [05...</td>\n",
       "    </tr>\n",
       "    <tr>\n",
       "      <th>9033</th>\n",
       "      <td>ff20eca5e4ca11e8840998039b46e950</td>\n",
       "      <td>[[44]短袖针织, [02]裤（长裤）, [21]夹克外套, [24]POLO衫, [05...</td>\n",
       "    </tr>\n",
       "    <tr>\n",
       "      <th>9034</th>\n",
       "      <td>ff840c42e4c811e8840998039b46e950</td>\n",
       "      <td>[[44]短袖针织, [02]裤（长裤）, [21]夹克外套, [24]POLO衫, [05...</td>\n",
       "    </tr>\n",
       "    <tr>\n",
       "      <th>9035</th>\n",
       "      <td>ffb64c3de4c811e8840998039b46e950</td>\n",
       "      <td>[[44]短袖针织, [02]裤（长裤）, [21]夹克外套, [24]POLO衫, [05...</td>\n",
       "    </tr>\n",
       "    <tr>\n",
       "      <th>9036</th>\n",
       "      <td>fff48b2ee4cc11e8840998039b46e950</td>\n",
       "      <td>[[44]短袖针织, [02]裤（长裤）, [21]夹克外套, [24]POLO衫, [05...</td>\n",
       "    </tr>\n",
       "  </tbody>\n",
       "</table>\n",
       "<p>9037 rows × 2 columns</p>\n",
       "</div>"
      ],
      "text/plain": [
       "                                  会员id  \\\n",
       "0     00aa3029e4cd11e8840998039b46e950   \n",
       "1     00f73578e4cc11e8840998039b46e950   \n",
       "2     0156a90de4ce11e8840998039b46e950   \n",
       "3     016c92a4e4ce11e8840998039b46e950   \n",
       "4     0174f217e4ca11e8840998039b46e950   \n",
       "5     01a43e3be4cd11e8840998039b46e950   \n",
       "6     01f4db93e4ce11e8840998039b46e950   \n",
       "7     01fdce1fe4cd11e8840998039b46e950   \n",
       "8     02536589e4ca11e8840998039b46e950   \n",
       "9     02937fc9e4ce11e8840998039b46e950   \n",
       "10    0352418be4ce11e8840998039b46e950   \n",
       "11    03fc7933e4ce11e8840998039b46e950   \n",
       "12    04239698e4c911e8840998039b46e950   \n",
       "13    0453849ce4cb11e8840998039b46e950   \n",
       "14    04874cf4e4ce11e8840998039b46e950   \n",
       "15    0489dbf0b3774332818cad5eb24053a4   \n",
       "16    04b29df1e4cb11e8840998039b46e950   \n",
       "17    04c23e2ae4cd11e8840998039b46e950   \n",
       "18    0517f06ce4ce11e8840998039b46e950   \n",
       "19    053fc83c00e849c0a1e5b033576ce7b3   \n",
       "20    054b4563e4cb11e8840998039b46e950   \n",
       "21    055904e7e4c911e8840998039b46e950   \n",
       "22    05666ced9efd4982b9deb6adb0485f1e   \n",
       "23    05a71d40e4ca11e8840998039b46e950   \n",
       "24    0668bc21e4ce11e8840998039b46e950   \n",
       "25    06a35b19e4cb11e8840998039b46e950   \n",
       "26    06b80ecfe4cb11e8840998039b46e950   \n",
       "27    07268b7ae4ca11e8840998039b46e950   \n",
       "28    0743ad182f2645679b2be777566f70ee   \n",
       "29    076479b1e4cb11e8840998039b46e950   \n",
       "...                                ...   \n",
       "9007  f92e5bd2e4cd11e8840998039b46e950   \n",
       "9008  f9783c5ae4c811e8840998039b46e950   \n",
       "9009  f9bb846be4ca11e8840998039b46e950   \n",
       "9010  f9ce8c58e4cc11e8840998039b46e950   \n",
       "9011  fa34d297e4cd11e8840998039b46e950   \n",
       "9012  faa2e095e4cc11e8840998039b46e950   \n",
       "9013  facbb902e4ca11e8840998039b46e950   \n",
       "9014  fb04b1cae4cd11e8840998039b46e950   \n",
       "9015  fb1947e07cca44f293354313bb962b1d   \n",
       "9016  fb372bb7e4cd11e8840998039b46e950   \n",
       "9017  fb429492e4cc11e8840998039b46e950   \n",
       "9018  fb61489be4cd11e8840998039b46e950   \n",
       "9019  fb9bcd0be4cd11e8840998039b46e950   \n",
       "9020  fbafb707e4c911e8840998039b46e950   \n",
       "9021  fbf7b062e4cd11e8840998039b46e950   \n",
       "9022  fc8673f5e4ca11e8840998039b46e950   \n",
       "9023  fcee8068e4cb11e8840998039b46e950   \n",
       "9024  fcfec1b7e4cc11e8840998039b46e950   \n",
       "9025  fd3120a0a0614f24b8a6ffbaa2742aa4   \n",
       "9026  fd6e422de4cd11e8840998039b46e950   \n",
       "9027  fd861f44e4cd11e8840998039b46e950   \n",
       "9028  fe490f96e4cc11e8840998039b46e950   \n",
       "9029  febce0ebe4c911e8840998039b46e950   \n",
       "9030  fed440d7e4cc11e8840998039b46e950   \n",
       "9031  feeeb877e4c811e8840998039b46e950   \n",
       "9032  ff15e7a6e4ca11e8840998039b46e950   \n",
       "9033  ff20eca5e4ca11e8840998039b46e950   \n",
       "9034  ff840c42e4c811e8840998039b46e950   \n",
       "9035  ffb64c3de4c811e8840998039b46e950   \n",
       "9036  fff48b2ee4cc11e8840998039b46e950   \n",
       "\n",
       "                                             prediction  \n",
       "0     [[44]短袖针织, [02]裤（长裤）, [21]夹克外套, [24]POLO衫, [05...  \n",
       "1     [[44]短袖针织, [02]裤（长裤）, [21]夹克外套, [24]POLO衫, [05...  \n",
       "2     [[44]短袖针织, [02]裤（长裤）, [21]夹克外套, [24]POLO衫, [05...  \n",
       "3     [[44]短袖针织, [02]裤（长裤）, [21]夹克外套, [24]POLO衫, [05...  \n",
       "4     [[44]短袖针织, [02]裤（长裤）, [21]夹克外套, [24]POLO衫, [05...  \n",
       "5     [[44]短袖针织, [02]裤（长裤）, [21]夹克外套, [24]POLO衫, [05...  \n",
       "6     [[44]短袖针织, [02]裤（长裤）, [21]夹克外套, [24]POLO衫, [05...  \n",
       "7     [[44]短袖针织, [02]裤（长裤）, [21]夹克外套, [24]POLO衫, [05...  \n",
       "8     [[44]短袖针织, [02]裤（长裤）, [21]夹克外套, [24]POLO衫, [05...  \n",
       "9     [[44]短袖针织, [02]裤（长裤）, [21]夹克外套, [24]POLO衫, [05...  \n",
       "10    [[44]短袖针织, [02]裤（长裤）, [21]夹克外套, [24]POLO衫, [05...  \n",
       "11    [[44]短袖针织, [02]裤（长裤）, [21]夹克外套, [24]POLO衫, [05...  \n",
       "12    [[44]短袖针织, [02]裤（长裤）, [21]夹克外套, [24]POLO衫, [05...  \n",
       "13    [[44]短袖针织, [02]裤（长裤）, [21]夹克外套, [24]POLO衫, [05...  \n",
       "14    [[44]短袖针织, [02]裤（长裤）, [21]夹克外套, [24]POLO衫, [05...  \n",
       "15    [[44]短袖针织, [02]裤（长裤）, [21]夹克外套, [24]POLO衫, [05...  \n",
       "16    [[44]短袖针织, [02]裤（长裤）, [21]夹克外套, [24]POLO衫, [05...  \n",
       "17    [[44]短袖针织, [02]裤（长裤）, [21]夹克外套, [24]POLO衫, [05...  \n",
       "18    [[44]短袖针织, [02]裤（长裤）, [21]夹克外套, [24]POLO衫, [05...  \n",
       "19    [[44]短袖针织, [02]裤（长裤）, [21]夹克外套, [24]POLO衫, [05...  \n",
       "20    [[44]短袖针织, [02]裤（长裤）, [21]夹克外套, [24]POLO衫, [05...  \n",
       "21    [[44]短袖针织, [02]裤（长裤）, [21]夹克外套, [24]POLO衫, [05...  \n",
       "22    [[44]短袖针织, [02]裤（长裤）, [21]夹克外套, [24]POLO衫, [05...  \n",
       "23    [[44]短袖针织, [02]裤（长裤）, [21]夹克外套, [24]POLO衫, [05...  \n",
       "24    [[44]短袖针织, [02]裤（长裤）, [21]夹克外套, [24]POLO衫, [05...  \n",
       "25    [[44]短袖针织, [02]裤（长裤）, [21]夹克外套, [24]POLO衫, [05...  \n",
       "26    [[44]短袖针织, [02]裤（长裤）, [21]夹克外套, [24]POLO衫, [05...  \n",
       "27    [[44]短袖针织, [02]裤（长裤）, [21]夹克外套, [24]POLO衫, [05...  \n",
       "28    [[44]短袖针织, [02]裤（长裤）, [21]夹克外套, [24]POLO衫, [05...  \n",
       "29    [[44]短袖针织, [02]裤（长裤）, [21]夹克外套, [24]POLO衫, [05...  \n",
       "...                                                 ...  \n",
       "9007  [[44]短袖针织, [02]裤（长裤）, [21]夹克外套, [24]POLO衫, [05...  \n",
       "9008  [[44]短袖针织, [02]裤（长裤）, [21]夹克外套, [24]POLO衫, [05...  \n",
       "9009  [[44]短袖针织, [02]裤（长裤）, [21]夹克外套, [24]POLO衫, [05...  \n",
       "9010  [[44]短袖针织, [02]裤（长裤）, [21]夹克外套, [24]POLO衫, [05...  \n",
       "9011  [[44]短袖针织, [02]裤（长裤）, [21]夹克外套, [24]POLO衫, [05...  \n",
       "9012  [[44]短袖针织, [02]裤（长裤）, [21]夹克外套, [24]POLO衫, [05...  \n",
       "9013  [[44]短袖针织, [02]裤（长裤）, [21]夹克外套, [24]POLO衫, [05...  \n",
       "9014  [[44]短袖针织, [02]裤（长裤）, [21]夹克外套, [24]POLO衫, [05...  \n",
       "9015  [[44]短袖针织, [02]裤（长裤）, [21]夹克外套, [24]POLO衫, [05...  \n",
       "9016  [[44]短袖针织, [02]裤（长裤）, [21]夹克外套, [24]POLO衫, [05...  \n",
       "9017  [[44]短袖针织, [02]裤（长裤）, [21]夹克外套, [24]POLO衫, [05...  \n",
       "9018  [[44]短袖针织, [02]裤（长裤）, [21]夹克外套, [24]POLO衫, [05...  \n",
       "9019  [[44]短袖针织, [02]裤（长裤）, [21]夹克外套, [24]POLO衫, [05...  \n",
       "9020  [[44]短袖针织, [02]裤（长裤）, [21]夹克外套, [24]POLO衫, [05...  \n",
       "9021  [[44]短袖针织, [02]裤（长裤）, [21]夹克外套, [24]POLO衫, [05...  \n",
       "9022  [[44]短袖针织, [02]裤（长裤）, [21]夹克外套, [24]POLO衫, [05...  \n",
       "9023  [[44]短袖针织, [02]裤（长裤）, [21]夹克外套, [24]POLO衫, [05...  \n",
       "9024  [[44]短袖针织, [02]裤（长裤）, [21]夹克外套, [24]POLO衫, [05...  \n",
       "9025  [[44]短袖针织, [02]裤（长裤）, [21]夹克外套, [24]POLO衫, [05...  \n",
       "9026  [[44]短袖针织, [02]裤（长裤）, [21]夹克外套, [24]POLO衫, [05...  \n",
       "9027  [[44]短袖针织, [02]裤（长裤）, [21]夹克外套, [24]POLO衫, [05...  \n",
       "9028  [[44]短袖针织, [02]裤（长裤）, [21]夹克外套, [24]POLO衫, [05...  \n",
       "9029  [[44]短袖针织, [02]裤（长裤）, [21]夹克外套, [24]POLO衫, [05...  \n",
       "9030  [[44]短袖针织, [02]裤（长裤）, [21]夹克外套, [24]POLO衫, [05...  \n",
       "9031  [[44]短袖针织, [02]裤（长裤）, [21]夹克外套, [24]POLO衫, [05...  \n",
       "9032  [[44]短袖针织, [02]裤（长裤）, [21]夹克外套, [24]POLO衫, [05...  \n",
       "9033  [[44]短袖针织, [02]裤（长裤）, [21]夹克外套, [24]POLO衫, [05...  \n",
       "9034  [[44]短袖针织, [02]裤（长裤）, [21]夹克外套, [24]POLO衫, [05...  \n",
       "9035  [[44]短袖针织, [02]裤（长裤）, [21]夹克外套, [24]POLO衫, [05...  \n",
       "9036  [[44]短袖针织, [02]裤（长裤）, [21]夹克外套, [24]POLO衫, [05...  \n",
       "\n",
       "[9037 rows x 2 columns]"
      ]
     },
     "execution_count": 13,
     "metadata": {},
     "output_type": "execute_result"
    }
   ],
   "source": [
    "res"
   ]
  },
  {
   "cell_type": "code",
   "execution_count": 14,
   "metadata": {
    "ExecuteTime": {
     "end_time": "2022-05-18T12:26:41.629299Z",
     "start_time": "2022-05-18T12:26:41.621180Z"
    }
   },
   "outputs": [],
   "source": [
    "def apk(actual, predicted, k=12):\n",
    "    if len(predicted)>k:\n",
    "        predicted = predicted[:k]\n",
    "\n",
    "    score = 0.0\n",
    "    num_hits = 0.0\n",
    "\n",
    "    for i,p in enumerate(predicted):\n",
    "        if p in actual and p not in predicted[:i]:\n",
    "            num_hits += 1.0\n",
    "            score += num_hits / (i+1.0)\n",
    "\n",
    "    if not actual:\n",
    "        return 0.0\n",
    "\n",
    "    return score / min(len(actual), k)\n",
    "\n",
    "def mapk(actual, predicted, k=12):\n",
    "    return np.mean([apk(a,p,k) for a,p in zip(actual, predicted)])"
   ]
  },
  {
   "cell_type": "code",
   "execution_count": 15,
   "metadata": {
    "ExecuteTime": {
     "end_time": "2022-05-18T12:26:43.023455Z",
     "start_time": "2022-05-18T12:26:42.970019Z"
    },
    "scrolled": true
   },
   "outputs": [
    {
     "name": "stdout",
     "output_type": "stream",
     "text": [
      "mAP Score on Validation set: 0.462428414661256\n"
     ]
    }
   ],
   "source": [
    "outputs = res['prediction']\n",
    "print(\"mAP Score on Validation set:\", mapk(test_items, outputs))"
   ]
  },
  {
   "cell_type": "code",
   "execution_count": 16,
   "metadata": {
    "ExecuteTime": {
     "end_time": "2022-05-18T12:26:44.488234Z",
     "start_time": "2022-05-18T12:26:44.481808Z"
    }
   },
   "outputs": [
    {
     "data": {
      "text/plain": [
       "['[44]短袖针织',\n",
       " '[02]裤（长裤）',\n",
       " '[21]夹克外套',\n",
       " '[24]POLO衫',\n",
       " '[05]牛仔（长裤）',\n",
       " '[27]内裤',\n",
       " '[31]卫衣',\n",
       " '[03]衬衫（长袖）',\n",
       " '[23]短袖衬衫',\n",
       " '[99]物料',\n",
       " '[22]短裤',\n",
       " '[74]伞']"
      ]
     },
     "execution_count": 16,
     "metadata": {},
     "output_type": "execute_result"
    }
   ],
   "source": [
    "popular_item = res.loc[0, 'prediction']\n",
    "popular_item"
   ]
  },
  {
   "cell_type": "code",
   "execution_count": 17,
   "metadata": {
    "ExecuteTime": {
     "end_time": "2022-05-18T12:26:45.904286Z",
     "start_time": "2022-05-18T12:26:45.899980Z"
    },
    "scrolled": true
   },
   "outputs": [
    {
     "data": {
      "text/plain": [
       "['[44]',\n",
       " '[02]',\n",
       " '[21]',\n",
       " '[24]',\n",
       " '[05]',\n",
       " '[27]',\n",
       " '[31]',\n",
       " '[03]',\n",
       " '[23]',\n",
       " '[99]',\n",
       " '[22]',\n",
       " '[74]']"
      ]
     },
     "execution_count": 17,
     "metadata": {},
     "output_type": "execute_result"
    }
   ],
   "source": [
    "[x[:4] for x in popular_item]"
   ]
  },
  {
   "cell_type": "code",
   "execution_count": 19,
   "metadata": {
    "ExecuteTime": {
     "end_time": "2022-05-18T12:27:13.252496Z",
     "start_time": "2022-05-18T12:27:13.245929Z"
    }
   },
   "outputs": [
    {
     "data": {
      "text/plain": [
       "12"
      ]
     },
     "execution_count": 19,
     "metadata": {},
     "output_type": "execute_result"
    }
   ],
   "source": [
    "len([x[:4] for x in popular_item])"
   ]
  },
  {
   "cell_type": "code",
   "execution_count": 18,
   "metadata": {
    "ExecuteTime": {
     "end_time": "2022-05-18T12:26:48.940787Z",
     "start_time": "2022-05-18T12:26:48.938625Z"
    }
   },
   "outputs": [],
   "source": [
    "# 终端执行:\n",
    "#     python app.py\n",
    "\n",
    "# 终端调用:\n",
    "# curl -X GET http://127.0.0.1:5000/ -d uids='00aa3029e4cd11e8840998039b46e950 00f73578e4cc11e8840998039b46e950'\n"
   ]
  },
  {
   "cell_type": "code",
   "execution_count": null,
   "metadata": {},
   "outputs": [],
   "source": []
  }
 ],
 "metadata": {
  "kernelspec": {
   "display_name": "Python 3",
   "language": "python",
   "name": "python3"
  },
  "language_info": {
   "codemirror_mode": {
    "name": "ipython",
    "version": 3
   },
   "file_extension": ".py",
   "mimetype": "text/x-python",
   "name": "python",
   "nbconvert_exporter": "python",
   "pygments_lexer": "ipython3",
   "version": "3.7.3"
  },
  "toc": {
   "base_numbering": 1,
   "nav_menu": {},
   "number_sections": true,
   "sideBar": true,
   "skip_h1_title": false,
   "title_cell": "Table of Contents",
   "title_sidebar": "Contents",
   "toc_cell": false,
   "toc_position": {},
   "toc_section_display": true,
   "toc_window_display": false
  },
  "varInspector": {
   "cols": {
    "lenName": 16,
    "lenType": 16,
    "lenVar": 40
   },
   "kernels_config": {
    "python": {
     "delete_cmd_postfix": "",
     "delete_cmd_prefix": "del ",
     "library": "var_list.py",
     "varRefreshCmd": "print(var_dic_list())"
    },
    "r": {
     "delete_cmd_postfix": ") ",
     "delete_cmd_prefix": "rm(",
     "library": "var_list.r",
     "varRefreshCmd": "cat(var_dic_list()) "
    }
   },
   "types_to_exclude": [
    "module",
    "function",
    "builtin_function_or_method",
    "instance",
    "_Feature"
   ],
   "window_display": false
  }
 },
 "nbformat": 4,
 "nbformat_minor": 2
}
