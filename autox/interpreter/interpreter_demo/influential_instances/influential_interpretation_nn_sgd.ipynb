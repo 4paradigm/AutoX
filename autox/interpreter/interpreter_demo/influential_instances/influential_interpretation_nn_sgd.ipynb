{
 "cells": [
  {
   "cell_type": "markdown",
   "metadata": {},
   "source": [
    "influential_interpretation_nn.ipynb## load data"
   ]
  },
  {
   "cell_type": "code",
   "execution_count": 1,
   "metadata": {
    "ExecuteTime": {
     "end_time": "2021-12-13T07:04:54.996703Z",
     "start_time": "2021-12-13T07:04:54.994025Z"
    }
   },
   "outputs": [],
   "source": [
    "import sys\n",
    "sys.path.append('../../')"
   ]
  },
  {
   "cell_type": "code",
   "execution_count": 2,
   "metadata": {
    "ExecuteTime": {
     "end_time": "2021-12-13T07:04:55.899308Z",
     "start_time": "2021-12-13T07:04:54.998581Z"
    }
   },
   "outputs": [],
   "source": [
    "import json\n",
    "import pandas as pd\n",
    "from mlinterpreter.util import preprocess_data"
   ]
  },
  {
   "cell_type": "code",
   "execution_count": 3,
   "metadata": {
    "ExecuteTime": {
     "end_time": "2021-12-13T07:04:56.006179Z",
     "start_time": "2021-12-13T07:04:55.901912Z"
    }
   },
   "outputs": [],
   "source": [
    "# 读入数据 和 schema\n",
    "data_path = \"../../demo_data/adult.data\"\n",
    "schema_path = \"../../demo_data/schema.json\"\n",
    "df = pd.read_csv(data_path, header=None)\n",
    "df.columns = [\"age\",\"workclass\",\"fnlwgt\",\"education\",\"education-num\",\"marital-status\",\"occupation\",\"relationship\",\"race\",\"sex\",\n",
    "                 \"capital-gain\",\"capital-loss\",\"hours-per-week\",\"native-country\",\"income\"]\n",
    "with open(schema_path, \"r\") as f:\n",
    "    schema = json.load(f)"
   ]
  },
  {
   "cell_type": "markdown",
   "metadata": {},
   "source": [
    "## preprocess data"
   ]
  },
  {
   "cell_type": "code",
   "execution_count": 4,
   "metadata": {
    "ExecuteTime": {
     "end_time": "2021-12-13T07:04:56.152902Z",
     "start_time": "2021-12-13T07:04:56.008512Z"
    }
   },
   "outputs": [],
   "source": [
    "# 预处理数据\n",
    "preprocess_df, preprocess_dict = preprocess_data(df=df, schema=schema, process_label=True)"
   ]
  },
  {
   "cell_type": "markdown",
   "metadata": {},
   "source": [
    "## influential instances"
   ]
  },
  {
   "cell_type": "markdown",
   "metadata": {},
   "source": [
    "获取最有影响样本\n",
    "    \n",
    "算法说明：\n",
    "   - 将数据集切分成 train 和 valid\n",
    "   - 在train上训练NN模型\n",
    "   - 计算将train中某个样本剔除后，valid上loss的变化大小\n",
    "       - 这里都是用近似估计的方式计算valid上loss的变化\n",
    " \n",
    " \n",
    "算法(get_influential_instances_nn_sgd)\n",
    "[Data Cleansing for Models Trained with SGD.(NeurIPS'19]\n",
    "   - 通过一阶泰勒展开和类似反向梯度传播的方法计算train样本对valid loss的影响，适用于基于SGD的训练方法"
   ]
  },
  {
   "cell_type": "code",
   "execution_count": 5,
   "metadata": {
    "ExecuteTime": {
     "end_time": "2021-12-13T07:04:58.381885Z",
     "start_time": "2021-12-13T07:04:56.155070Z"
    }
   },
   "outputs": [],
   "source": [
    "from mlinterpreter.instance.influence import get_influential_instances_nn_sgd"
   ]
  },
  {
   "cell_type": "code",
   "execution_count": 6,
   "metadata": {
    "ExecuteTime": {
     "end_time": "2021-12-13T07:08:19.454684Z",
     "start_time": "2021-12-13T07:04:58.384150Z"
    },
    "scrolled": true
   },
   "outputs": [
    {
     "name": "stdout",
     "output_type": "stream",
     "text": [
      "Epoch 1/10\n",
      "2/2 [==============================] - 4s 854ms/step - loss: 0.6911 - auc: 0.4948 - val_loss: 0.6514 - val_auc: 0.5178\n",
      "Epoch 2/10\n",
      "2/2 [==============================] - 0s 64ms/step - loss: 0.6408 - auc: 0.5179 - val_loss: 0.6054 - val_auc: 0.5778\n",
      "Epoch 3/10\n",
      "2/2 [==============================] - 0s 44ms/step - loss: 0.6048 - auc: 0.5494 - val_loss: 0.5703 - val_auc: 0.6181\n",
      "Epoch 4/10\n",
      "2/2 [==============================] - 0s 47ms/step - loss: 0.5773 - auc: 0.5813 - val_loss: 0.5427 - val_auc: 0.6646\n",
      "Epoch 5/10\n",
      "1/2 [==============>...............] - ETA: 0s - loss: 0.5633 - auc: 0.6112WARNING:tensorflow:Callback method `on_train_batch_end` is slow compared to the batch time (batch time: 0.0033s vs `on_train_batch_end` time: 0.0047s). Check your callbacks.\n",
      "2/2 [==============================] - 0s 48ms/step - loss: 0.5558 - auc: 0.6157 - val_loss: 0.5210 - val_auc: 0.7098\n",
      "Epoch 6/10\n",
      "2/2 [==============================] - 0s 63ms/step - loss: 0.5389 - auc: 0.6526 - val_loss: 0.5040 - val_auc: 0.7495\n",
      "Epoch 7/10\n",
      "2/2 [==============================] - 0s 45ms/step - loss: 0.5258 - auc: 0.6848 - val_loss: 0.4907 - val_auc: 0.7734\n",
      "Epoch 8/10\n",
      "2/2 [==============================] - 0s 43ms/step - loss: 0.5152 - auc: 0.7064 - val_loss: 0.4800 - val_auc: 0.7932\n",
      "Epoch 9/10\n",
      "2/2 [==============================] - 0s 51ms/step - loss: 0.5065 - auc: 0.7253 - val_loss: 0.4712 - val_auc: 0.8092\n",
      "Epoch 10/10\n",
      "2/2 [==============================] - 0s 44ms/step - loss: 0.4992 - auc: 0.7417 - val_loss: 0.4637 - val_auc: 0.8204\n"
     ]
    },
    {
     "name": "stderr",
     "output_type": "stream",
     "text": [
      "100%|██████████| 20/20 [03:16<00:00,  9.81s/it]\n"
     ]
    }
   ],
   "source": [
    "top10_influential_instances, influence = get_influential_instances_nn_sgd(\n",
    "    preprocess_df[:500], \n",
    "    df_display=df[:500], \n",
    "    schema=schema, \n",
    "    split=0.2, \n",
    "    topk=10)"
   ]
  },
  {
   "cell_type": "code",
   "execution_count": 7,
   "metadata": {
    "ExecuteTime": {
     "end_time": "2021-12-13T07:08:19.467211Z",
     "start_time": "2021-12-13T07:08:19.456954Z"
    },
    "scrolled": true
   },
   "outputs": [
    {
     "name": "stdout",
     "output_type": "stream",
     "text": [
      "     age          workclass  fnlwgt      education  education-num  \\\n",
      "387   44            Private  162028   Some-college             10   \n",
      "183   40            Private  286370        7th-8th              4   \n",
      "214   54       Self-emp-inc  125417        7th-8th              4   \n",
      "469   30            Private  118551      Bachelors             13   \n",
      "189   58          State-gov  109567      Doctorate             16   \n",
      "215   37            Private  635913      Bachelors             13   \n",
      "433   30            Private   29662     Assoc-acdm             12   \n",
      "37    19            Private  544091        HS-grad              9   \n",
      "80    18            Private  446839        HS-grad              9   \n",
      "272   50   Self-emp-not-inc   30653        Masters             14   \n",
      "\n",
      "          marital-status          occupation    relationship    race      sex  \\\n",
      "387   Married-civ-spouse        Adm-clerical            Wife   White   Female   \n",
      "183   Married-civ-spouse   Machine-op-inspct         Husband   White     Male   \n",
      "214   Married-civ-spouse   Machine-op-inspct         Husband   White     Male   \n",
      "469   Married-civ-spouse        Tech-support            Wife   White   Female   \n",
      "189   Married-civ-spouse      Prof-specialty         Husband   White     Male   \n",
      "215        Never-married     Exec-managerial   Not-in-family   Black     Male   \n",
      "433   Married-civ-spouse       Other-service            Wife   White   Female   \n",
      "37     Married-AF-spouse        Adm-clerical            Wife   White   Female   \n",
      "80         Never-married               Sales   Not-in-family   White     Male   \n",
      "272   Married-civ-spouse     Farming-fishing         Husband   White     Male   \n",
      "\n",
      "     capital-gain  capital-loss  hours-per-week  native-country  income  \n",
      "387             0          2415               6   United-States    >50K  \n",
      "183             0             0              40          Mexico    >50K  \n",
      "214             0             0              40   United-States    >50K  \n",
      "469             0             0              16   United-States    >50K  \n",
      "189             0             0               1   United-States    >50K  \n",
      "215             0             0              60   United-States    >50K  \n",
      "433             0             0              25   United-States    >50K  \n",
      "37              0             0              25   United-States   <=50K  \n",
      "80              0             0              30   United-States   <=50K  \n",
      "272          2407             0              98   United-States   <=50K  \n"
     ]
    }
   ],
   "source": [
    "print(top10_influential_instances)"
   ]
  },
  {
   "cell_type": "code",
   "execution_count": null,
   "metadata": {},
   "outputs": [],
   "source": []
  }
 ],
 "metadata": {
  "kernelspec": {
   "display_name": "Python 3",
   "language": "python",
   "name": "python3"
  },
  "language_info": {
   "codemirror_mode": {
    "name": "ipython",
    "version": 3
   },
   "file_extension": ".py",
   "mimetype": "text/x-python",
   "name": "python",
   "nbconvert_exporter": "python",
   "pygments_lexer": "ipython3",
   "version": "3.7.3"
  },
  "toc": {
   "base_numbering": 1,
   "nav_menu": {},
   "number_sections": true,
   "sideBar": true,
   "skip_h1_title": false,
   "title_cell": "Table of Contents",
   "title_sidebar": "Contents",
   "toc_cell": false,
   "toc_position": {},
   "toc_section_display": true,
   "toc_window_display": false
  },
  "varInspector": {
   "cols": {
    "lenName": 16,
    "lenType": 16,
    "lenVar": 40
   },
   "kernels_config": {
    "python": {
     "delete_cmd_postfix": "",
     "delete_cmd_prefix": "del ",
     "library": "var_list.py",
     "varRefreshCmd": "print(var_dic_list())"
    },
    "r": {
     "delete_cmd_postfix": ") ",
     "delete_cmd_prefix": "rm(",
     "library": "var_list.r",
     "varRefreshCmd": "cat(var_dic_list()) "
    }
   },
   "types_to_exclude": [
    "module",
    "function",
    "builtin_function_or_method",
    "instance",
    "_Feature"
   ],
   "window_display": false
  },
  "pycharm": {
   "stem_cell": {
    "cell_type": "raw",
    "source": [],
    "metadata": {
     "collapsed": false
    }
   }
  }
 },
 "nbformat": 4,
 "nbformat_minor": 5
}