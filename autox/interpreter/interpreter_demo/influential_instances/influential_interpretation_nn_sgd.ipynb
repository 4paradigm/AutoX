{
 "cells": [
  {
   "cell_type": "markdown",
   "metadata": {},
   "source": [
    "## load data"
   ]
  },
  {
   "cell_type": "code",
   "execution_count": 1,
   "metadata": {
    "ExecuteTime": {
     "end_time": "2021-12-13T06:38:37.585108Z",
     "start_time": "2021-12-13T06:38:36.743700Z"
    }
   },
   "outputs": [],
   "source": [
    "import json\n",
    "import pandas as pd\n",
    "from mlinterpreter.util import preprocess_data"
   ]
  },
  {
   "cell_type": "code",
   "execution_count": 2,
   "metadata": {
    "ExecuteTime": {
     "end_time": "2021-12-13T06:38:37.681392Z",
     "start_time": "2021-12-13T06:38:37.587677Z"
    }
   },
   "outputs": [],
   "source": [
    "# 读入数据 和 schema\n",
    "data_path = \"./data/adult.data\"\n",
    "schema_path = \"./data/schema.json\"\n",
    "df = pd.read_csv(data_path, header=None)\n",
    "df.columns = [\"age\",\"workclass\",\"fnlwgt\",\"education\",\"education-num\",\"marital-status\",\"occupation\",\"relationship\",\"race\",\"sex\",\n",
    "                 \"capital-gain\",\"capital-loss\",\"hours-per-week\",\"native-country\",\"income\"]\n",
    "with open(schema_path, \"r\") as f:\n",
    "    schema = json.load(f)"
   ]
  },
  {
   "cell_type": "markdown",
   "metadata": {},
   "source": [
    "## preprocess data"
   ]
  },
  {
   "cell_type": "code",
   "execution_count": 3,
   "metadata": {
    "ExecuteTime": {
     "end_time": "2021-12-13T06:38:37.801056Z",
     "start_time": "2021-12-13T06:38:37.683709Z"
    }
   },
   "outputs": [],
   "source": [
    "# 预处理数据\n",
    "preprocess_df, preprocess_dict = preprocess_data(df=df, schema=schema, process_label=True)"
   ]
  },
  {
   "cell_type": "markdown",
   "metadata": {},
   "source": [
    "## influential instances"
   ]
  },
  {
   "cell_type": "markdown",
   "metadata": {},
   "source": [
    "获取最有影响样本\n",
    "    \n",
    "算法说明：\n",
    "   - 将数据集切分成 train 和 valid\n",
    "   - 在train上训练NN模型\n",
    "   - 计算将train中某个样本剔除后，valid上loss的变化大小\n",
    "       - 这里都是用近似估计的方式计算valid上loss的变化\n",
    " \n",
    " \n",
    "算法(get_influential_instances_nn_sgd)\n",
    "[Data Cleansing for Models Trained with SGD.(NeurIPS'19]\n",
    "   - 通过一阶泰勒展开和类似反向梯度传播的方法计算train样本对valid loss的影响，适用于基于SGD的训练方法"
   ]
  },
  {
   "cell_type": "code",
   "execution_count": 4,
   "metadata": {
    "ExecuteTime": {
     "end_time": "2021-12-13T06:38:39.951888Z",
     "start_time": "2021-12-13T06:38:37.803402Z"
    }
   },
   "outputs": [],
   "source": [
    "from mlinterpreter.instance.influence import get_influential_instances_nn_sgd"
   ]
  },
  {
   "cell_type": "code",
   "execution_count": null,
   "metadata": {
    "ExecuteTime": {
     "start_time": "2021-12-13T06:38:36.749Z"
    },
    "scrolled": true
   },
   "outputs": [
    {
     "name": "stdout",
     "output_type": "stream",
     "text": [
      "Epoch 1/10\n",
      "2/2 [==============================] - 3s 743ms/step - loss: 0.6911 - auc: 0.4948 - val_loss: 0.6514 - val_auc: 0.5178\n",
      "Epoch 2/10\n",
      "2/2 [==============================] - 0s 45ms/step - loss: 0.6408 - auc: 0.5179 - val_loss: 0.6054 - val_auc: 0.5778\n",
      "Epoch 3/10\n",
      "2/2 [==============================] - 0s 45ms/step - loss: 0.6048 - auc: 0.5494 - val_loss: 0.5703 - val_auc: 0.6181\n",
      "Epoch 4/10\n",
      "2/2 [==============================] - 0s 45ms/step - loss: 0.5773 - auc: 0.5813 - val_loss: 0.5427 - val_auc: 0.6646\n",
      "Epoch 5/10\n",
      "1/2 [==============>...............] - ETA: 0s - loss: 0.5633 - auc: 0.6112WARNING:tensorflow:Callback method `on_train_batch_end` is slow compared to the batch time (batch time: 0.0037s vs `on_train_batch_end` time: 0.0040s). Check your callbacks.\n",
      "2/2 [==============================] - 0s 45ms/step - loss: 0.5558 - auc: 0.6157 - val_loss: 0.5210 - val_auc: 0.7098\n",
      "Epoch 6/10\n",
      "2/2 [==============================] - 0s 45ms/step - loss: 0.5389 - auc: 0.6526 - val_loss: 0.5040 - val_auc: 0.7495\n",
      "Epoch 7/10\n",
      "2/2 [==============================] - 0s 46ms/step - loss: 0.5258 - auc: 0.6848 - val_loss: 0.4907 - val_auc: 0.7734\n",
      "Epoch 8/10\n",
      "2/2 [==============================] - 0s 42ms/step - loss: 0.5152 - auc: 0.7064 - val_loss: 0.4800 - val_auc: 0.7932\n",
      "Epoch 9/10\n",
      "2/2 [==============================] - 0s 44ms/step - loss: 0.5065 - auc: 0.7253 - val_loss: 0.4712 - val_auc: 0.8092\n",
      "Epoch 10/10\n",
      "2/2 [==============================] - 0s 45ms/step - loss: 0.4992 - auc: 0.7417 - val_loss: 0.4637 - val_auc: 0.8204\n"
     ]
    },
    {
     "name": "stderr",
     "output_type": "stream",
     "text": [
      "  5%|▌         | 1/20 [00:08<02:49,  8.93s/it]"
     ]
    }
   ],
   "source": [
    "top10_influential_instances, influence = get_influential_instances_nn_sgd(\n",
    "    preprocess_df[:500], \n",
    "    df_display=df[:500], \n",
    "    schema=schema, \n",
    "    split=0.2, \n",
    "    topk=10)"
   ]
  },
  {
   "cell_type": "code",
   "execution_count": null,
   "metadata": {
    "ExecuteTime": {
     "start_time": "2021-12-13T06:38:36.751Z"
    },
    "scrolled": true
   },
   "outputs": [],
   "source": [
    "print(top10_influential_instances)"
   ]
  },
  {
   "cell_type": "code",
   "execution_count": null,
   "metadata": {},
   "outputs": [],
   "source": []
  }
 ],
 "metadata": {
  "kernelspec": {
   "display_name": "Python 3",
   "language": "python",
   "name": "python3"
  },
  "language_info": {
   "codemirror_mode": {
    "name": "ipython",
    "version": 3
   },
   "file_extension": ".py",
   "mimetype": "text/x-python",
   "name": "python",
   "nbconvert_exporter": "python",
   "pygments_lexer": "ipython3",
   "version": "3.7.3"
  },
  "toc": {
   "base_numbering": 1,
   "nav_menu": {},
   "number_sections": true,
   "sideBar": true,
   "skip_h1_title": false,
   "title_cell": "Table of Contents",
   "title_sidebar": "Contents",
   "toc_cell": false,
   "toc_position": {},
   "toc_section_display": true,
   "toc_window_display": false
  },
  "varInspector": {
   "cols": {
    "lenName": 16,
    "lenType": 16,
    "lenVar": 40
   },
   "kernels_config": {
    "python": {
     "delete_cmd_postfix": "",
     "delete_cmd_prefix": "del ",
     "library": "var_list.py",
     "varRefreshCmd": "print(var_dic_list())"
    },
    "r": {
     "delete_cmd_postfix": ") ",
     "delete_cmd_prefix": "rm(",
     "library": "var_list.r",
     "varRefreshCmd": "cat(var_dic_list()) "
    }
   },
   "types_to_exclude": [
    "module",
    "function",
    "builtin_function_or_method",
    "instance",
    "_Feature"
   ],
   "window_display": false
  }
 },
 "nbformat": 4,
 "nbformat_minor": 5
}
