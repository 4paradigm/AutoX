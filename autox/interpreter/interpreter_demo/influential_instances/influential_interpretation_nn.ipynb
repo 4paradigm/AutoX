{
 "cells": [
  {
   "cell_type": "markdown",
   "metadata": {},
   "source": [
    "## load data"
   ]
  },
  {
   "cell_type": "code",
   "execution_count": 1,
   "metadata": {
    "ExecuteTime": {
     "end_time": "2021-12-13T07:04:33.488181Z",
     "start_time": "2021-12-13T07:04:33.485276Z"
    }
   },
   "outputs": [],
   "source": [
    "import sys\n",
    "sys.path.append('../../')"
   ]
  },
  {
   "cell_type": "code",
   "execution_count": 2,
   "metadata": {
    "ExecuteTime": {
     "end_time": "2021-12-13T07:04:34.430913Z",
     "start_time": "2021-12-13T07:04:33.490339Z"
    }
   },
   "outputs": [],
   "source": [
    "import json\n",
    "import pandas as pd\n",
    "from mlinterpreter.util import preprocess_data"
   ]
  },
  {
   "cell_type": "code",
   "execution_count": 3,
   "metadata": {
    "ExecuteTime": {
     "end_time": "2021-12-13T07:04:34.540496Z",
     "start_time": "2021-12-13T07:04:34.435473Z"
    }
   },
   "outputs": [],
   "source": [
    "# 读入数据 和 schema\n",
    "data_path = \"../../demo_data/adult.data\"\n",
    "schema_path = \"../../demo_data/schema.json\"\n",
    "df = pd.read_csv(data_path, header=None)\n",
    "df.columns = [\"age\",\"workclass\",\"fnlwgt\",\"education\",\"education-num\",\"marital-status\",\"occupation\",\"relationship\",\"race\",\"sex\",\n",
    "                 \"capital-gain\",\"capital-loss\",\"hours-per-week\",\"native-country\",\"income\"]\n",
    "with open(schema_path, \"r\") as f:\n",
    "    schema = json.load(f)"
   ]
  },
  {
   "cell_type": "markdown",
   "metadata": {},
   "source": [
    "## preprocess data"
   ]
  },
  {
   "cell_type": "code",
   "execution_count": 4,
   "metadata": {
    "ExecuteTime": {
     "end_time": "2021-12-13T07:04:34.670740Z",
     "start_time": "2021-12-13T07:04:34.543035Z"
    }
   },
   "outputs": [],
   "source": [
    "# 预处理数据\n",
    "preprocess_df, preprocess_dict = preprocess_data(df=df, schema=schema, process_label=True)"
   ]
  },
  {
   "cell_type": "markdown",
   "metadata": {},
   "source": [
    "## influential instances"
   ]
  },
  {
   "cell_type": "markdown",
   "metadata": {},
   "source": [
    "获取最有影响样本\n",
    "    \n",
    "算法说明：\n",
    "   - 将数据集切分成 train 和 valid\n",
    "   - 在train上训练NN模型\n",
    "   - 计算将train中某个样本剔除后，valid上loss的变化大小\n",
    "       - 这里都是用近似估计的方式计算valid上loss的变化\n",
    " \n",
    "算法(get_influential_instances_nn):\n",
    "[Understanding black-box predictions via influence functions,(ICML'17)]\n",
    "   - 通过Upweighting a training point和Stochastic estimation计算train样本对valid loss的影响\n",
    "\n"
   ]
  },
  {
   "cell_type": "code",
   "execution_count": 5,
   "metadata": {
    "ExecuteTime": {
     "end_time": "2021-12-13T07:04:36.844946Z",
     "start_time": "2021-12-13T07:04:34.672914Z"
    }
   },
   "outputs": [],
   "source": [
    "from mlinterpreter.instance.influence import get_influential_instances_nn"
   ]
  },
  {
   "cell_type": "code",
   "execution_count": 6,
   "metadata": {
    "ExecuteTime": {
     "end_time": "2021-12-13T07:15:24.560246Z",
     "start_time": "2021-12-13T07:04:36.847216Z"
    }
   },
   "outputs": [
    {
     "name": "stdout",
     "output_type": "stream",
     "text": [
      "Epoch 1/10\n",
      "2/2 [==============================] - 4s 815ms/step - loss: 10.2580 - auc: 0.4973 - val_loss: 0.4912 - val_auc: 0.5832\n",
      "Epoch 2/10\n",
      "2/2 [==============================] - 0s 43ms/step - loss: 0.6012 - auc: 0.5788 - val_loss: 0.5017 - val_auc: 0.7709\n",
      "Epoch 3/10\n",
      "2/2 [==============================] - 0s 43ms/step - loss: 0.5173 - auc: 0.7487 - val_loss: 0.3581 - val_auc: 0.8538\n",
      "Epoch 4/10\n",
      "2/2 [==============================] - 0s 42ms/step - loss: 0.4024 - auc: 0.8359 - val_loss: 0.3542 - val_auc: 0.8728\n",
      "Epoch 5/10\n",
      "2/2 [==============================] - 0s 41ms/step - loss: 0.3556 - auc: 0.8948 - val_loss: 0.3627 - val_auc: 0.8529\n",
      "Epoch 00005: early stopping\n",
      "Runing calculate inverse hvp with lissa at iter 1/1\n"
     ]
    },
    {
     "name": "stderr",
     "output_type": "stream",
     "text": [
      "100%|██████████| 5000/5000 [10:23<00:00,  8.01it/s]\n"
     ]
    }
   ],
   "source": [
    "top10_influential_instances, influence  = get_influential_instances_nn(\n",
    "    preprocess_df[:500], \n",
    "    df_display=df[:500], \n",
    "    schema=schema, \n",
    "    split=0.2, \n",
    "    topk=10)"
   ]
  },
  {
   "cell_type": "code",
   "execution_count": 7,
   "metadata": {
    "ExecuteTime": {
     "end_time": "2021-12-13T07:15:24.572352Z",
     "start_time": "2021-12-13T07:15:24.562605Z"
    }
   },
   "outputs": [
    {
     "name": "stdout",
     "output_type": "stream",
     "text": [
      "     age     workclass  fnlwgt      education  education-num  \\\n",
      "426   36   Federal-gov  255191        Masters             14   \n",
      "200   26       Private  397317        Masters             14   \n",
      "222   90       Private   51744        HS-grad              9   \n",
      "23    43       Private  117037           11th              7   \n",
      "170   27       Private  124953        HS-grad              9   \n",
      "32    45       Private  386940      Bachelors             13   \n",
      "183   40       Private  286370        7th-8th              4   \n",
      "215   37       Private  635913      Bachelors             13   \n",
      "387   44       Private  162028   Some-college             10   \n",
      "143   45       Private  196584      Assoc-voc             11   \n",
      "\n",
      "          marital-status          occupation    relationship    race      sex  \\\n",
      "426        Never-married      Prof-specialty   Not-in-family   White     Male   \n",
      "200        Never-married      Prof-specialty   Not-in-family   White   Female   \n",
      "222        Never-married       Other-service   Not-in-family   Black     Male   \n",
      "23    Married-civ-spouse    Transport-moving         Husband   White     Male   \n",
      "170        Never-married       Other-service   Not-in-family   White     Male   \n",
      "32              Divorced     Exec-managerial       Own-child   White     Male   \n",
      "183   Married-civ-spouse   Machine-op-inspct         Husband   White     Male   \n",
      "215        Never-married     Exec-managerial   Not-in-family   Black     Male   \n",
      "387   Married-civ-spouse        Adm-clerical            Wife   White   Female   \n",
      "143        Never-married      Prof-specialty   Not-in-family   White   Female   \n",
      "\n",
      "     capital-gain  capital-loss  hours-per-week  native-country  income  \n",
      "426             0          1408              40   United-States   <=50K  \n",
      "200             0          1876              40   United-States   <=50K  \n",
      "222             0          2206              40   United-States   <=50K  \n",
      "23              0          2042              40   United-States   <=50K  \n",
      "170             0          1980              40   United-States   <=50K  \n",
      "32              0          1408              40   United-States   <=50K  \n",
      "183             0             0              40          Mexico    >50K  \n",
      "215             0             0              60   United-States    >50K  \n",
      "387             0          2415               6   United-States    >50K  \n",
      "143             0          1564              40   United-States    >50K  \n"
     ]
    }
   ],
   "source": [
    "print(top10_influential_instances)"
   ]
  },
  {
   "cell_type": "code",
   "execution_count": null,
   "metadata": {},
   "outputs": [],
   "source": []
  }
 ],
 "metadata": {
  "kernelspec": {
   "display_name": "Python 3",
   "language": "python",
   "name": "python3"
  },
  "language_info": {
   "codemirror_mode": {
    "name": "ipython",
    "version": 3
   },
   "file_extension": ".py",
   "mimetype": "text/x-python",
   "name": "python",
   "nbconvert_exporter": "python",
   "pygments_lexer": "ipython3",
   "version": "3.7.3"
  },
  "toc": {
   "base_numbering": 1,
   "nav_menu": {},
   "number_sections": true,
   "sideBar": true,
   "skip_h1_title": false,
   "title_cell": "Table of Contents",
   "title_sidebar": "Contents",
   "toc_cell": false,
   "toc_position": {},
   "toc_section_display": true,
   "toc_window_display": false
  },
  "varInspector": {
   "cols": {
    "lenName": 16,
    "lenType": 16,
    "lenVar": 40
   },
   "kernels_config": {
    "python": {
     "delete_cmd_postfix": "",
     "delete_cmd_prefix": "del ",
     "library": "var_list.py",
     "varRefreshCmd": "print(var_dic_list())"
    },
    "r": {
     "delete_cmd_postfix": ") ",
     "delete_cmd_prefix": "rm(",
     "library": "var_list.r",
     "varRefreshCmd": "cat(var_dic_list()) "
    }
   },
   "types_to_exclude": [
    "module",
    "function",
    "builtin_function_or_method",
    "instance",
    "_Feature"
   ],
   "window_display": false
  }
 },
 "nbformat": 4,
 "nbformat_minor": 5
}
