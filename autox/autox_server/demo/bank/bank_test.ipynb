{
 "cells": [
  {
   "cell_type": "code",
   "execution_count": 1,
   "metadata": {
    "ExecuteTime": {
     "end_time": "2022-01-07T08:40:15.412198Z",
     "start_time": "2022-01-07T08:40:11.481389Z"
    },
    "scrolled": false
   },
   "outputs": [
    {
     "name": "stderr",
     "output_type": "stream",
     "text": [
      "/home/caihengxing/anaconda3/lib/python3.7/site-packages/pandas/compat/_optional.py:138: UserWarning: Pandas requires version '2.7.0' or newer of 'numexpr' (version '2.6.9' currently installed).\n",
      "  warnings.warn(msg, UserWarning)\n"
     ]
    }
   ],
   "source": [
    "from autox import AutoXServer"
   ]
  },
  {
   "cell_type": "code",
   "execution_count": 2,
   "metadata": {
    "ExecuteTime": {
     "end_time": "2022-01-07T08:40:17.470294Z",
     "start_time": "2022-01-07T08:40:15.414792Z"
    }
   },
   "outputs": [],
   "source": [
    "autoxserver = AutoXServer(is_train = False, server_name = 'bank') # 注意server_name需要和训练时一致\n",
    "\n",
    "save_path = './save'\n",
    "autoxserver.load_server(save_path)"
   ]
  },
  {
   "cell_type": "code",
   "execution_count": 3,
   "metadata": {
    "ExecuteTime": {
     "end_time": "2022-01-07T08:40:39.087387Z",
     "start_time": "2022-01-07T08:40:17.473246Z"
    },
    "scrolled": true
   },
   "outputs": [
    {
     "name": "stderr",
     "output_type": "stream",
     "text": [
      "   INFO ->  *** phase: test\n",
      "   INFO ->  *** phase: test\n",
      "   INFO ->  key = overdue, shape = (44476, 4)\n",
      "   INFO ->  key = overdue, shape = (44476, 4)\n",
      "   INFO ->  key = userinfo, shape = (44476, 6)\n",
      "   INFO ->  key = userinfo, shape = (44476, 6)\n",
      "   INFO ->  key = bank, shape = (4791888, 9)\n",
      "   INFO ->  key = bank, shape = (4791888, 9)\n",
      "   INFO ->  key = browse, shape = (18410808, 7)\n",
      "   INFO ->  key = browse, shape = (18410808, 7)\n",
      "   INFO ->  key = bill, shape = (1873185, 29)\n",
      "   INFO ->  key = bill, shape = (1873185, 29)\n",
      "   INFO ->  remain_time: 9999999995.04063 s\n",
      "   INFO ->  remain_time: 9999999995.04063 s\n",
      "   INFO ->  [+] preprocess, delete_row\n",
      "   INFO ->  [+] preprocess, delete_row\n",
      "   INFO ->  [+] preprocess, parsing_time\n",
      "   INFO ->  [+] preprocess, parsing_time\n",
      "   INFO ->  time columns: {}\n",
      "   INFO ->  time columns: {}\n",
      "   INFO ->  remain_time: 9999999995.036678 s\n",
      "   INFO ->  remain_time: 9999999995.036678 s\n",
      "   INFO ->  [+] join simple tables\n",
      "   INFO ->  [+] join simple tables\n",
      "   INFO ->  userinfo\n",
      "   INFO ->  userinfo\n",
      "   INFO ->  remain_time: 9999999994.99544 s\n",
      "   INFO ->  remain_time: 9999999994.99544 s\n",
      "   INFO ->  [+] preprocess_2\n",
      "   INFO ->  [+] preprocess_2\n",
      "   INFO ->  [+] preprocess_2: del invalid features\n",
      "   INFO ->  [+] preprocess_2: del invalid features\n",
      "   INFO ->  remain_time: 9999999994.99096 s\n",
      "   INFO ->  remain_time: 9999999994.99096 s\n",
      "   INFO ->  [+] join indirect 1_to_M tables\n",
      "   INFO ->  [+] join indirect 1_to_M tables\n",
      "   INFO ->  remain_time: 9999999994.990957 s\n",
      "   INFO ->  remain_time: 9999999994.990957 s\n",
      "   INFO ->  [+] preprocess_after_join_indirect_tables\n",
      "   INFO ->  [+] preprocess_after_join_indirect_tables\n",
      "   INFO ->  [+] preprocess_after_join_indirect_tables: rename columns\n",
      "   INFO ->  [+] preprocess_after_join_indirect_tables: rename columns\n",
      "   INFO ->  remain_time: 9999999994.988434 s\n",
      "   INFO ->  remain_time: 9999999994.988434 s\n",
      "   INFO ->  [+] join 1_to_M tables\n",
      "   INFO ->  [+] join 1_to_M tables\n",
      "   INFO ->  process table : bank\n",
      "   INFO ->  process table : bank\n",
      "   INFO ->  process table : browse\n",
      "   INFO ->  process table : browse\n",
      "   INFO ->  process table : bill\n",
      "   INFO ->  process table : bill\n",
      "   INFO ->  remain_time: 9999999979.852364 s\n",
      "   INFO ->  remain_time: 9999999979.852364 s\n",
      "   INFO ->  [+] preprocess_3\n",
      "   INFO ->  [+] preprocess_3\n",
      "   INFO ->  [+] preprocess_3: rename columns\n",
      "   INFO ->  [+] preprocess_3: rename columns\n",
      "   INFO ->  [+] preprocess_3: del invalid features\n",
      "   INFO ->  [+] preprocess_3: del invalid features\n",
      "   INFO ->  [+] preprocess_3: process multi_value features\n",
      "   INFO ->  [+] preprocess_3: process multi_value features\n",
      "   INFO ->  [+] preprocess_3: label encoding\n",
      "   INFO ->  [+] preprocess_3: label encoding\n",
      "   INFO ->  remain_time: 9999999979.687836 s\n",
      "   INFO ->  remain_time: 9999999979.687836 s\n",
      "   INFO ->  [+] base_lgb lightgbm\n",
      "   INFO ->  [+] base_lgb lightgbm\n",
      "   INFO ->  remain_time: 9999999979.567106 s\n",
      "   INFO ->  remain_time: 9999999979.567106 s\n",
      "   INFO ->  [+] feature engineer, generate_concat\n",
      "   INFO ->  [+] feature engineer, generate_concat\n",
      "   INFO ->  remain_time: 9999999979.566154 s\n",
      "   INFO ->  remain_time: 9999999979.566154 s\n",
      "   INFO ->  [+] feature engineer, onehot\n",
      "   INFO ->  [+] feature engineer, onehot\n",
      "   INFO ->  onehot features: []\n",
      "   INFO ->  onehot features: []\n",
      "   INFO ->  remain_time: 9999999979.563116 s\n",
      "   INFO ->  remain_time: 9999999979.563116 s\n",
      "   INFO ->  [+] feature engineer, count\n",
      "   INFO ->  [+] feature engineer, count\n",
      "   INFO ->  remain_time: 9999999979.558277 s\n",
      "   INFO ->  remain_time: 9999999979.558277 s\n",
      "   INFO ->  [+] feature engineer, shift\n",
      "   INFO ->  [+] feature engineer, shift\n",
      "   INFO ->  remain_time: 9999999979.46902 s\n",
      "   INFO ->  remain_time: 9999999979.46902 s\n",
      "   INFO ->  [+] feature engineer, time_diff\n",
      "   INFO ->  [+] feature engineer, time_diff\n",
      "   INFO ->  big_cols_Unix_timestamp: ['flag1']\n",
      "   INFO ->  big_cols_Unix_timestamp: ['flag1']\n",
      "   INFO ->  big_cols_datetime: []\n",
      "   INFO ->  big_cols_datetime: []\n",
      "100%|██████████| 1/1 [00:00<00:00,  3.12it/s]\n",
      "   INFO ->  remain_time: 9999999979.141363 s\n",
      "   INFO ->  remain_time: 9999999979.141363 s\n",
      "   INFO ->  [+] merge_table\n",
      "   INFO ->  [+] merge_table\n",
      "   INFO ->  shape of BIG: (44476, 216)\n",
      "   INFO ->  shape of BIG: (44476, 216)\n",
      "   INFO ->  shape of FE_onehot: (44476, 0)\n",
      "   INFO ->  shape of FE_onehot: (44476, 0)\n",
      "   INFO ->  shape of FE_count: (44476, 0)\n",
      "   INFO ->  shape of FE_count: (44476, 0)\n",
      "   INFO ->  shape of FE_shift: (0, 0)\n",
      "   INFO ->  shape of FE_shift: (0, 0)\n",
      "   INFO ->  shape of FE_cat_time_diff: (44476, 0)\n",
      "   INFO ->  shape of FE_cat_time_diff: (44476, 0)\n",
      "   INFO ->  shape after fe: (44476, 216)\n",
      "   INFO ->  shape after fe: (44476, 216)\n",
      "   INFO ->  remain_time: 9999999978.773258 s\n",
      "   INFO ->  remain_time: 9999999978.773258 s\n",
      "   INFO ->  [+] fe_lgb lightgbm\n",
      "   INFO ->  [+] fe_lgb lightgbm\n",
      "   INFO ->  remain_time: 9999999978.54987 s\n",
      "   INFO ->  remain_time: 9999999978.54987 s\n",
      "   INFO ->  remain_time: 9999999978.442007 s\n",
      "   INFO ->  remain_time: 9999999978.442007 s\n",
      "   INFO ->  remain_time: 9999999978.440344 s\n",
      "   INFO ->  remain_time: 9999999978.440344 s\n"
     ]
    }
   ],
   "source": [
    "test_set_path = './bank/test_data'\n",
    "pred = autoxserver.predict(test_set_path = test_set_path)"
   ]
  },
  {
   "cell_type": "code",
   "execution_count": 4,
   "metadata": {
    "ExecuteTime": {
     "end_time": "2022-01-07T08:40:39.100472Z",
     "start_time": "2022-01-07T08:40:39.089531Z"
    }
   },
   "outputs": [
    {
     "name": "stdout",
     "output_type": "stream",
     "text": [
      "(8645, 2)\n"
     ]
    },
    {
     "data": {
      "text/html": [
       "<div>\n",
       "<style scoped>\n",
       "    .dataframe tbody tr th:only-of-type {\n",
       "        vertical-align: middle;\n",
       "    }\n",
       "\n",
       "    .dataframe tbody tr th {\n",
       "        vertical-align: top;\n",
       "    }\n",
       "\n",
       "    .dataframe thead th {\n",
       "        text-align: right;\n",
       "    }\n",
       "</style>\n",
       "<table border=\"1\" class=\"dataframe\">\n",
       "  <thead>\n",
       "    <tr style=\"text-align: right;\">\n",
       "      <th></th>\n",
       "      <th>new_user_id</th>\n",
       "      <th>label</th>\n",
       "    </tr>\n",
       "  </thead>\n",
       "  <tbody>\n",
       "    <tr>\n",
       "      <th>0</th>\n",
       "      <td>59afc6c5d8a686550a3bed2a5abae72a</td>\n",
       "      <td>0.083009</td>\n",
       "    </tr>\n",
       "    <tr>\n",
       "      <th>1</th>\n",
       "      <td>a568d80fcbdfd62dd6d373adcd494ceb</td>\n",
       "      <td>0.515058</td>\n",
       "    </tr>\n",
       "    <tr>\n",
       "      <th>2</th>\n",
       "      <td>4a1f0f59591e44035a32423a4434047b</td>\n",
       "      <td>0.070041</td>\n",
       "    </tr>\n",
       "    <tr>\n",
       "      <th>3</th>\n",
       "      <td>47ce14589f92969ec38f8c7d25964dd5</td>\n",
       "      <td>0.108744</td>\n",
       "    </tr>\n",
       "    <tr>\n",
       "      <th>4</th>\n",
       "      <td>8363df83cfd5fed0fde965a2435d497c</td>\n",
       "      <td>0.200111</td>\n",
       "    </tr>\n",
       "  </tbody>\n",
       "</table>\n",
       "</div>"
      ],
      "text/plain": [
       "                        new_user_id     label\n",
       "0  59afc6c5d8a686550a3bed2a5abae72a  0.083009\n",
       "1  a568d80fcbdfd62dd6d373adcd494ceb  0.515058\n",
       "2  4a1f0f59591e44035a32423a4434047b  0.070041\n",
       "3  47ce14589f92969ec38f8c7d25964dd5  0.108744\n",
       "4  8363df83cfd5fed0fde965a2435d497c  0.200111"
      ]
     },
     "execution_count": 4,
     "metadata": {},
     "output_type": "execute_result"
    }
   ],
   "source": [
    "print(pred.shape)\n",
    "pred.head()"
   ]
  },
  {
   "cell_type": "code",
   "execution_count": 5,
   "metadata": {
    "ExecuteTime": {
     "end_time": "2022-01-07T08:40:39.122304Z",
     "start_time": "2022-01-07T08:40:39.102196Z"
    },
    "scrolled": false
   },
   "outputs": [
    {
     "data": {
      "text/plain": [
       "0.6990700220969959"
      ]
     },
     "execution_count": 5,
     "metadata": {},
     "output_type": "execute_result"
    }
   ],
   "source": [
    "import pandas as pd\n",
    "from sklearn.metrics import roc_auc_score\n",
    "\n",
    "solution = pd.read_csv('./bank/solution.csv')\n",
    "roc_auc_score(solution['label'], pred['label'])"
   ]
  },
  {
   "cell_type": "code",
   "execution_count": 6,
   "metadata": {
    "ExecuteTime": {
     "end_time": "2022-01-07T08:40:51.650830Z",
     "start_time": "2022-01-07T08:40:51.639811Z"
    }
   },
   "outputs": [
    {
     "data": {
      "text/html": [
       "<div>\n",
       "<style scoped>\n",
       "    .dataframe tbody tr th:only-of-type {\n",
       "        vertical-align: middle;\n",
       "    }\n",
       "\n",
       "    .dataframe tbody tr th {\n",
       "        vertical-align: top;\n",
       "    }\n",
       "\n",
       "    .dataframe thead th {\n",
       "        text-align: right;\n",
       "    }\n",
       "</style>\n",
       "<table border=\"1\" class=\"dataframe\">\n",
       "  <thead>\n",
       "    <tr style=\"text-align: right;\">\n",
       "      <th></th>\n",
       "      <th>new_user_id</th>\n",
       "      <th>label</th>\n",
       "    </tr>\n",
       "  </thead>\n",
       "  <tbody>\n",
       "    <tr>\n",
       "      <th>0</th>\n",
       "      <td>59afc6c5d8a686550a3bed2a5abae72a</td>\n",
       "      <td>0</td>\n",
       "    </tr>\n",
       "    <tr>\n",
       "      <th>1</th>\n",
       "      <td>a568d80fcbdfd62dd6d373adcd494ceb</td>\n",
       "      <td>0</td>\n",
       "    </tr>\n",
       "    <tr>\n",
       "      <th>2</th>\n",
       "      <td>4a1f0f59591e44035a32423a4434047b</td>\n",
       "      <td>0</td>\n",
       "    </tr>\n",
       "    <tr>\n",
       "      <th>3</th>\n",
       "      <td>47ce14589f92969ec38f8c7d25964dd5</td>\n",
       "      <td>0</td>\n",
       "    </tr>\n",
       "    <tr>\n",
       "      <th>4</th>\n",
       "      <td>8363df83cfd5fed0fde965a2435d497c</td>\n",
       "      <td>1</td>\n",
       "    </tr>\n",
       "  </tbody>\n",
       "</table>\n",
       "</div>"
      ],
      "text/plain": [
       "                        new_user_id  label\n",
       "0  59afc6c5d8a686550a3bed2a5abae72a      0\n",
       "1  a568d80fcbdfd62dd6d373adcd494ceb      0\n",
       "2  4a1f0f59591e44035a32423a4434047b      0\n",
       "3  47ce14589f92969ec38f8c7d25964dd5      0\n",
       "4  8363df83cfd5fed0fde965a2435d497c      1"
      ]
     },
     "execution_count": 6,
     "metadata": {},
     "output_type": "execute_result"
    }
   ],
   "source": [
    "solution.head()"
   ]
  },
  {
   "cell_type": "code",
   "execution_count": null,
   "metadata": {},
   "outputs": [],
   "source": []
  }
 ],
 "metadata": {
  "kernelspec": {
   "display_name": "Python 3",
   "language": "python",
   "name": "python3"
  },
  "toc": {
   "base_numbering": 1,
   "nav_menu": {},
   "number_sections": true,
   "sideBar": true,
   "skip_h1_title": false,
   "title_cell": "Table of Contents",
   "title_sidebar": "Contents",
   "toc_cell": false,
   "toc_position": {},
   "toc_section_display": true,
   "toc_window_display": false
  },
  "varInspector": {
   "cols": {
    "lenName": 16,
    "lenType": 16,
    "lenVar": 40
   },
   "kernels_config": {
    "python": {
     "delete_cmd_postfix": "",
     "delete_cmd_prefix": "del ",
     "library": "var_list.py",
     "varRefreshCmd": "print(var_dic_list())"
    },
    "r": {
     "delete_cmd_postfix": ") ",
     "delete_cmd_prefix": "rm(",
     "library": "var_list.r",
     "varRefreshCmd": "cat(var_dic_list()) "
    }
   },
   "types_to_exclude": [
    "module",
    "function",
    "builtin_function_or_method",
    "instance",
    "_Feature"
   ],
   "window_display": false
  }
 },
 "nbformat": 4,
 "nbformat_minor": 2
}
