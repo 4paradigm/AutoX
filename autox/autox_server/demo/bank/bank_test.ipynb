{
 "cells": [
  {
   "cell_type": "code",
   "execution_count": 1,
   "metadata": {
    "ExecuteTime": {
     "end_time": "2021-12-31T06:12:07.158719Z",
     "start_time": "2021-12-31T06:12:07.156296Z"
    }
   },
   "outputs": [],
   "source": [
    "import sys\n",
    "sys.path.append('../')"
   ]
  },
  {
   "cell_type": "code",
   "execution_count": 2,
   "metadata": {
    "ExecuteTime": {
     "end_time": "2021-12-31T06:12:11.269130Z",
     "start_time": "2021-12-31T06:12:07.160489Z"
    },
    "scrolled": false
   },
   "outputs": [
    {
     "name": "stderr",
     "output_type": "stream",
     "text": [
      "/home/caihengxing/anaconda3/lib/python3.7/site-packages/pandas/compat/_optional.py:138: UserWarning: Pandas requires version '2.7.0' or newer of 'numexpr' (version '2.6.9' currently installed).\n",
      "  warnings.warn(msg, UserWarning)\n"
     ]
    }
   ],
   "source": [
    "from autox import AutoXServer"
   ]
  },
  {
   "cell_type": "code",
   "execution_count": 3,
   "metadata": {
    "ExecuteTime": {
     "end_time": "2021-12-31T06:12:13.483919Z",
     "start_time": "2021-12-31T06:12:11.271270Z"
    }
   },
   "outputs": [],
   "source": [
    "autoxserver = AutoXServer(is_train = False, server_name = 'bank_1231')\n",
    "\n",
    "save_path = '/home/caihengxing/automl_for_competition/save'\n",
    "\n",
    "autoxserver.load_server(save_path)"
   ]
  },
  {
   "cell_type": "code",
   "execution_count": 4,
   "metadata": {
    "ExecuteTime": {
     "end_time": "2021-12-31T06:12:13.491772Z",
     "start_time": "2021-12-31T06:12:13.488750Z"
    }
   },
   "outputs": [],
   "source": [
    "# # todo\n",
    "# sub = autoxserver.predict(df = test)"
   ]
  },
  {
   "cell_type": "code",
   "execution_count": 5,
   "metadata": {
    "ExecuteTime": {
     "end_time": "2021-12-31T06:12:38.790723Z",
     "start_time": "2021-12-31T06:12:13.493793Z"
    }
   },
   "outputs": [
    {
     "name": "stderr",
     "output_type": "stream",
     "text": [
      "   INFO ->  *** phase: test\n",
      "   INFO ->  *** phase: test\n",
      "   INFO ->  key = overdue, shape = (44476, 4)\n",
      "   INFO ->  key = overdue, shape = (44476, 4)\n",
      "   INFO ->  key = userinfo, shape = (44476, 6)\n",
      "   INFO ->  key = userinfo, shape = (44476, 6)\n",
      "   INFO ->  key = bank, shape = (4791888, 9)\n",
      "   INFO ->  key = bank, shape = (4791888, 9)\n",
      "   INFO ->  key = browse, shape = (18410808, 7)\n",
      "   INFO ->  key = browse, shape = (18410808, 7)\n",
      "   INFO ->  key = bill, shape = (1873185, 29)\n",
      "   INFO ->  key = bill, shape = (1873185, 29)\n",
      "   INFO ->  remain_time: 9999999994.096806 s\n",
      "   INFO ->  remain_time: 9999999994.096806 s\n",
      "   INFO ->  [+] preprocess, delete_row\n",
      "   INFO ->  [+] preprocess, delete_row\n",
      "   INFO ->  [+] preprocess, parsing_time\n",
      "   INFO ->  [+] preprocess, parsing_time\n",
      "   INFO ->  time columns: {}\n",
      "   INFO ->  time columns: {}\n",
      "   INFO ->  remain_time: 9999999994.093208 s\n",
      "   INFO ->  remain_time: 9999999994.093208 s\n",
      "   INFO ->  [+] join simple tables\n",
      "   INFO ->  [+] join simple tables\n",
      "   INFO ->  userinfo\n",
      "   INFO ->  userinfo\n",
      "   INFO ->  remain_time: 9999999994.05272 s\n",
      "   INFO ->  remain_time: 9999999994.05272 s\n",
      "   INFO ->  [+] preprocess_2\n",
      "   INFO ->  [+] preprocess_2\n",
      "   INFO ->  [+] preprocess_2: del invalid features\n",
      "   INFO ->  [+] preprocess_2: del invalid features\n",
      "   INFO ->  remain_time: 9999999994.048733 s\n",
      "   INFO ->  remain_time: 9999999994.048733 s\n",
      "   INFO ->  [+] join indirect 1_to_M tables\n",
      "   INFO ->  [+] join indirect 1_to_M tables\n",
      "   INFO ->  remain_time: 9999999994.04873 s\n",
      "   INFO ->  remain_time: 9999999994.04873 s\n",
      "   INFO ->  [+] preprocess_after_join_indirect_tables\n",
      "   INFO ->  [+] preprocess_after_join_indirect_tables\n",
      "   INFO ->  [+] preprocess_after_join_indirect_tables: rename columns\n",
      "   INFO ->  [+] preprocess_after_join_indirect_tables: rename columns\n",
      "   INFO ->  remain_time: 9999999994.046661 s\n",
      "   INFO ->  remain_time: 9999999994.046661 s\n",
      "   INFO ->  [+] join 1_to_M tables\n",
      "   INFO ->  [+] join 1_to_M tables\n",
      "   INFO ->  process table : bank\n",
      "   INFO ->  process table : bank\n",
      "   INFO ->  process table : browse\n",
      "   INFO ->  process table : browse\n",
      "   INFO ->  process table : bill\n",
      "   INFO ->  process table : bill\n",
      "   INFO ->  remain_time: 9999999976.187916 s\n",
      "   INFO ->  remain_time: 9999999976.187916 s\n",
      "   INFO ->  [+] preprocess_3\n",
      "   INFO ->  [+] preprocess_3\n",
      "   INFO ->  [+] preprocess_3: rename columns\n",
      "   INFO ->  [+] preprocess_3: rename columns\n",
      "   INFO ->  [+] preprocess_3: del invalid features\n",
      "   INFO ->  [+] preprocess_3: del invalid features\n",
      "   INFO ->  [+] preprocess_3: process multi_value features\n",
      "   INFO ->  [+] preprocess_3: process multi_value features\n",
      "   INFO ->  [+] preprocess_3: label encoding\n",
      "   INFO ->  [+] preprocess_3: label encoding\n",
      "   INFO ->  remain_time: 9999999975.894306 s\n",
      "   INFO ->  remain_time: 9999999975.894306 s\n",
      "   INFO ->  [+] base_lgb lightgbm\n",
      "   INFO ->  [+] base_lgb lightgbm\n",
      "   INFO ->  remain_time: 9999999975.748966 s\n",
      "   INFO ->  remain_time: 9999999975.748966 s\n",
      "   INFO ->  [+] feature engineer, generate_concat\n",
      "   INFO ->  [+] feature engineer, generate_concat\n",
      "   INFO ->  remain_time: 9999999975.747812 s\n",
      "   INFO ->  remain_time: 9999999975.747812 s\n",
      "   INFO ->  [+] feature engineer, onehot\n",
      "   INFO ->  [+] feature engineer, onehot\n",
      "   INFO ->  onehot features: []\n",
      "   INFO ->  onehot features: []\n",
      "   INFO ->  remain_time: 9999999975.744837 s\n",
      "   INFO ->  remain_time: 9999999975.744837 s\n",
      "   INFO ->  [+] feature engineer, count\n",
      "   INFO ->  [+] feature engineer, count\n",
      "   INFO ->  remain_time: 9999999975.743177 s\n",
      "   INFO ->  remain_time: 9999999975.743177 s\n",
      "   INFO ->  [+] feature engineer, shift\n",
      "   INFO ->  [+] feature engineer, shift\n",
      "   INFO ->  remain_time: 9999999975.648283 s\n",
      "   INFO ->  remain_time: 9999999975.648283 s\n",
      "   INFO ->  [+] feature engineer, time_diff\n",
      "   INFO ->  [+] feature engineer, time_diff\n",
      "   INFO ->  big_cols_Unix_timestamp: ['flag1']\n",
      "   INFO ->  big_cols_Unix_timestamp: ['flag1']\n",
      "   INFO ->  big_cols_datetime: []\n",
      "   INFO ->  big_cols_datetime: []\n",
      "100%|██████████| 1/1 [00:00<00:00,  2.95it/s]\n",
      "   INFO ->  remain_time: 9999999975.300554 s\n",
      "   INFO ->  remain_time: 9999999975.300554 s\n",
      "   INFO ->  [+] merge_table\n",
      "   INFO ->  [+] merge_table\n",
      "   INFO ->  shape of BIG: (44476, 217)\n",
      "   INFO ->  shape of BIG: (44476, 217)\n",
      "   INFO ->  shape of FE_onehot: (44476, 0)\n",
      "   INFO ->  shape of FE_onehot: (44476, 0)\n",
      "   INFO ->  shape of FE_count: (44476, 0)\n",
      "   INFO ->  shape of FE_count: (44476, 0)\n",
      "   INFO ->  shape of FE_shift: (0, 0)\n",
      "   INFO ->  shape of FE_shift: (0, 0)\n",
      "   INFO ->  shape of FE_cat_time_diff: (44476, 0)\n",
      "   INFO ->  shape of FE_cat_time_diff: (44476, 0)\n",
      "   INFO ->  shape after fe: (44476, 217)\n",
      "   INFO ->  shape after fe: (44476, 217)\n",
      "   INFO ->  remain_time: 9999999975.01508 s\n",
      "   INFO ->  remain_time: 9999999975.01508 s\n",
      "   INFO ->  [+] fe_lgb lightgbm\n",
      "   INFO ->  [+] fe_lgb lightgbm\n",
      "   INFO ->  remain_time: 9999999974.867857 s\n",
      "   INFO ->  remain_time: 9999999974.867857 s\n",
      "   INFO ->  remain_time: 9999999974.781853 s\n",
      "   INFO ->  remain_time: 9999999974.781853 s\n",
      "   INFO ->  remain_time: 9999999974.780216 s\n",
      "   INFO ->  remain_time: 9999999974.780216 s\n"
     ]
    }
   ],
   "source": [
    "test_set_path = '/home/caihengxing/taac_data/bank/test_data'\n",
    "pred = autoxserver.predict(test_set_path = test_set_path)"
   ]
  },
  {
   "cell_type": "code",
   "execution_count": 6,
   "metadata": {
    "ExecuteTime": {
     "end_time": "2021-12-31T06:12:38.809693Z",
     "start_time": "2021-12-31T06:12:38.793438Z"
    }
   },
   "outputs": [
    {
     "data": {
      "text/plain": [
       "0.696674889127496"
      ]
     },
     "execution_count": 6,
     "metadata": {},
     "output_type": "execute_result"
    }
   ],
   "source": [
    "import pandas as pd\n",
    "solution = pd.read_csv('/home/caihengxing/taac_data/bank/solution.csv')\n",
    "\n",
    "from sklearn.metrics import roc_auc_score\n",
    "roc_auc_score(solution['label'], pred['label'])"
   ]
  },
  {
   "cell_type": "code",
   "execution_count": null,
   "metadata": {},
   "outputs": [],
   "source": []
  }
 ],
 "metadata": {
  "kernelspec": {
   "display_name": "Python 3",
   "language": "python",
   "name": "python3"
  },
  "language_info": {
   "codemirror_mode": {
    "name": "ipython",
    "version": 3
   },
   "file_extension": ".py",
   "mimetype": "text/x-python",
   "name": "python",
   "nbconvert_exporter": "python",
   "pygments_lexer": "ipython3",
   "version": "3.7.3"
  },
  "toc": {
   "base_numbering": 1,
   "nav_menu": {},
   "number_sections": true,
   "sideBar": true,
   "skip_h1_title": false,
   "title_cell": "Table of Contents",
   "title_sidebar": "Contents",
   "toc_cell": false,
   "toc_position": {},
   "toc_section_display": true,
   "toc_window_display": false
  },
  "varInspector": {
   "cols": {
    "lenName": 16,
    "lenType": 16,
    "lenVar": 40
   },
   "kernels_config": {
    "python": {
     "delete_cmd_postfix": "",
     "delete_cmd_prefix": "del ",
     "library": "var_list.py",
     "varRefreshCmd": "print(var_dic_list())"
    },
    "r": {
     "delete_cmd_postfix": ") ",
     "delete_cmd_prefix": "rm(",
     "library": "var_list.r",
     "varRefreshCmd": "cat(var_dic_list()) "
    }
   },
   "types_to_exclude": [
    "module",
    "function",
    "builtin_function_or_method",
    "instance",
    "_Feature"
   ],
   "window_display": false
  }
 },
 "nbformat": 4,
 "nbformat_minor": 2
}
