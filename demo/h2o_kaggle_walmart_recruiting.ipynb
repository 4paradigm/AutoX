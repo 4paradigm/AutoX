{
 "cells": [
  {
   "cell_type": "code",
   "execution_count": 1,
   "id": "bd076d38",
   "metadata": {
    "ExecuteTime": {
     "end_time": "2021-11-12T06:27:51.091356Z",
     "start_time": "2021-11-12T06:27:50.437067Z"
    }
   },
   "outputs": [],
   "source": [
    "import pandas as pd\n",
    "import numpy as np\n",
    "import os\n",
    "import h2o\n",
    "from h2o.automl import H2OAutoML"
   ]
  },
  {
   "cell_type": "code",
   "execution_count": 2,
   "id": "a2315d54",
   "metadata": {
    "ExecuteTime": {
     "end_time": "2021-11-12T06:27:58.318023Z",
     "start_time": "2021-11-12T06:27:51.093581Z"
    },
    "scrolled": true
   },
   "outputs": [
    {
     "name": "stdout",
     "output_type": "stream",
     "text": [
      "Checking whether there is an H2O instance running at http://localhost:54321 ..... not found.\n",
      "Attempting to start a local H2O server...\n",
      "  Java Version: java version \"1.8.0_11\"; Java(TM) SE Runtime Environment (build 1.8.0_11-b12); Java HotSpot(TM) 64-Bit Server VM (build 25.11-b03, mixed mode)\n",
      "  Starting server from /mnt/disk0/home/caihengxing/anaconda3/envs/python37/lib/python3.7/site-packages/h2o/backend/bin/h2o.jar\n",
      "  Ice root: /tmp/tmpse2oe6j0\n",
      "  JVM stdout: /tmp/tmpse2oe6j0/h2o_caihengxing_started_from_python.out\n",
      "  JVM stderr: /tmp/tmpse2oe6j0/h2o_caihengxing_started_from_python.err\n",
      "  Server is running at http://127.0.0.1:54321\n",
      "Connecting to H2O server at http://127.0.0.1:54321 ... successful.\n",
      "Warning: Your H2O cluster version is too old (4 months and 3 days)! Please download and install the latest version from http://h2o.ai/download/\n"
     ]
    },
    {
     "data": {
      "text/html": [
       "<div style=\"overflow:auto\"><table style=\"width:50%\"><tr><td>H2O_cluster_uptime:</td>\n",
       "<td>03 secs</td></tr>\n",
       "<tr><td>H2O_cluster_timezone:</td>\n",
       "<td>Asia/Shanghai</td></tr>\n",
       "<tr><td>H2O_data_parsing_timezone:</td>\n",
       "<td>UTC</td></tr>\n",
       "<tr><td>H2O_cluster_version:</td>\n",
       "<td>3.32.1.4</td></tr>\n",
       "<tr><td>H2O_cluster_version_age:</td>\n",
       "<td>4 months and 3 days !!!</td></tr>\n",
       "<tr><td>H2O_cluster_name:</td>\n",
       "<td>H2O_from_python_caihengxing_p4grmt</td></tr>\n",
       "<tr><td>H2O_cluster_total_nodes:</td>\n",
       "<td>1</td></tr>\n",
       "<tr><td>H2O_cluster_free_memory:</td>\n",
       "<td>26.67 Gb</td></tr>\n",
       "<tr><td>H2O_cluster_total_cores:</td>\n",
       "<td>40</td></tr>\n",
       "<tr><td>H2O_cluster_allowed_cores:</td>\n",
       "<td>40</td></tr>\n",
       "<tr><td>H2O_cluster_status:</td>\n",
       "<td>accepting new members, healthy</td></tr>\n",
       "<tr><td>H2O_connection_url:</td>\n",
       "<td>http://127.0.0.1:54321</td></tr>\n",
       "<tr><td>H2O_connection_proxy:</td>\n",
       "<td>{\"http\": null, \"https\": null}</td></tr>\n",
       "<tr><td>H2O_internal_security:</td>\n",
       "<td>False</td></tr>\n",
       "<tr><td>H2O_API_Extensions:</td>\n",
       "<td>Amazon S3, XGBoost, Algos, AutoML, Core V3, TargetEncoder, Core V4</td></tr>\n",
       "<tr><td>Python_version:</td>\n",
       "<td>3.7.10 final</td></tr></table></div>"
      ],
      "text/plain": [
       "--------------------------  ------------------------------------------------------------------\n",
       "H2O_cluster_uptime:         03 secs\n",
       "H2O_cluster_timezone:       Asia/Shanghai\n",
       "H2O_data_parsing_timezone:  UTC\n",
       "H2O_cluster_version:        3.32.1.4\n",
       "H2O_cluster_version_age:    4 months and 3 days !!!\n",
       "H2O_cluster_name:           H2O_from_python_caihengxing_p4grmt\n",
       "H2O_cluster_total_nodes:    1\n",
       "H2O_cluster_free_memory:    26.67 Gb\n",
       "H2O_cluster_total_cores:    40\n",
       "H2O_cluster_allowed_cores:  40\n",
       "H2O_cluster_status:         accepting new members, healthy\n",
       "H2O_connection_url:         http://127.0.0.1:54321\n",
       "H2O_connection_proxy:       {\"http\": null, \"https\": null}\n",
       "H2O_internal_security:      False\n",
       "H2O_API_Extensions:         Amazon S3, XGBoost, Algos, AutoML, Core V3, TargetEncoder, Core V4\n",
       "Python_version:             3.7.10 final\n",
       "--------------------------  ------------------------------------------------------------------"
      ]
     },
     "metadata": {},
     "output_type": "display_data"
    }
   ],
   "source": [
    "h2o.init()"
   ]
  },
  {
   "cell_type": "code",
   "execution_count": 3,
   "id": "38e00f10",
   "metadata": {
    "ExecuteTime": {
     "end_time": "2021-11-12T06:28:02.516980Z",
     "start_time": "2021-11-12T06:28:02.513616Z"
    }
   },
   "outputs": [],
   "source": [
    "train_path = '../data/walmart_recruiting/train.csv'\n",
    "test_path = '../data/walmart_recruiting/test.csv'"
   ]
  },
  {
   "cell_type": "code",
   "execution_count": 4,
   "id": "041e1995",
   "metadata": {
    "ExecuteTime": {
     "end_time": "2021-11-12T06:28:09.328277Z",
     "start_time": "2021-11-12T06:28:03.696037Z"
    },
    "scrolled": true
   },
   "outputs": [
    {
     "name": "stdout",
     "output_type": "stream",
     "text": [
      "Parse progress: |█████████████████████████████████████████████████████████| 100%\n",
      "Parse progress: |█████████████████████████████████████████████████████████| 100%\n"
     ]
    }
   ],
   "source": [
    "# Load data into H2O\n",
    "train = h2o.import_file(train_path)\n",
    "test  = h2o.import_file(test_path)"
   ]
  },
  {
   "cell_type": "code",
   "execution_count": 5,
   "id": "3dd5ee1e",
   "metadata": {
    "ExecuteTime": {
     "end_time": "2021-11-12T06:28:09.707656Z",
     "start_time": "2021-11-12T06:28:09.330334Z"
    },
    "scrolled": false
   },
   "outputs": [
    {
     "data": {
      "text/html": [
       "<table>\n",
       "<thead>\n",
       "<tr><th style=\"text-align: right;\">  Store</th><th style=\"text-align: right;\">  Dept</th><th>Date               </th><th style=\"text-align: right;\">  Weekly_Sales</th><th>IsHoliday  </th></tr>\n",
       "</thead>\n",
       "<tbody>\n",
       "<tr><td style=\"text-align: right;\">      1</td><td style=\"text-align: right;\">     1</td><td>2010-02-05 00:00:00</td><td style=\"text-align: right;\">       24924.5</td><td>FALSE      </td></tr>\n",
       "<tr><td style=\"text-align: right;\">      1</td><td style=\"text-align: right;\">     1</td><td>2010-02-12 00:00:00</td><td style=\"text-align: right;\">       46039.5</td><td>TRUE       </td></tr>\n",
       "<tr><td style=\"text-align: right;\">      1</td><td style=\"text-align: right;\">     1</td><td>2010-02-19 00:00:00</td><td style=\"text-align: right;\">       41595.6</td><td>FALSE      </td></tr>\n",
       "<tr><td style=\"text-align: right;\">      1</td><td style=\"text-align: right;\">     1</td><td>2010-02-26 00:00:00</td><td style=\"text-align: right;\">       19403.5</td><td>FALSE      </td></tr>\n",
       "<tr><td style=\"text-align: right;\">      1</td><td style=\"text-align: right;\">     1</td><td>2010-03-05 00:00:00</td><td style=\"text-align: right;\">       21827.9</td><td>FALSE      </td></tr>\n",
       "<tr><td style=\"text-align: right;\">      1</td><td style=\"text-align: right;\">     1</td><td>2010-03-12 00:00:00</td><td style=\"text-align: right;\">       21043.4</td><td>FALSE      </td></tr>\n",
       "<tr><td style=\"text-align: right;\">      1</td><td style=\"text-align: right;\">     1</td><td>2010-03-19 00:00:00</td><td style=\"text-align: right;\">       22136.6</td><td>FALSE      </td></tr>\n",
       "<tr><td style=\"text-align: right;\">      1</td><td style=\"text-align: right;\">     1</td><td>2010-03-26 00:00:00</td><td style=\"text-align: right;\">       26229.2</td><td>FALSE      </td></tr>\n",
       "<tr><td style=\"text-align: right;\">      1</td><td style=\"text-align: right;\">     1</td><td>2010-04-02 00:00:00</td><td style=\"text-align: right;\">       57258.4</td><td>FALSE      </td></tr>\n",
       "<tr><td style=\"text-align: right;\">      1</td><td style=\"text-align: right;\">     1</td><td>2010-04-09 00:00:00</td><td style=\"text-align: right;\">       42960.9</td><td>FALSE      </td></tr>\n",
       "</tbody>\n",
       "</table>"
      ]
     },
     "metadata": {},
     "output_type": "display_data"
    },
    {
     "data": {
      "text/plain": []
     },
     "execution_count": 5,
     "metadata": {},
     "output_type": "execute_result"
    }
   ],
   "source": [
    "train.head()"
   ]
  },
  {
   "cell_type": "code",
   "execution_count": 6,
   "id": "47d55d05",
   "metadata": {
    "ExecuteTime": {
     "end_time": "2021-11-12T06:28:09.713170Z",
     "start_time": "2021-11-12T06:28:09.709972Z"
    }
   },
   "outputs": [],
   "source": [
    "y = \"Weekly_Sales\""
   ]
  },
  {
   "cell_type": "code",
   "execution_count": 7,
   "id": "f5bc32f0",
   "metadata": {
    "ExecuteTime": {
     "end_time": "2021-11-12T08:15:52.502908Z",
     "start_time": "2021-11-12T06:28:15.761736Z"
    },
    "scrolled": true
   },
   "outputs": [
    {
     "name": "stdout",
     "output_type": "stream",
     "text": [
      "AutoML progress: |████████████████████████████████████████████████████████| 100%\n"
     ]
    }
   ],
   "source": [
    "aml2 = H2OAutoML(max_runtime_secs = 7200, seed = 1, project_name = \"kaggle_walmart_recruiting\")\n",
    "aml2.train(y = y, training_frame = train)"
   ]
  },
  {
   "cell_type": "code",
   "execution_count": 8,
   "id": "dc204b55",
   "metadata": {
    "ExecuteTime": {
     "end_time": "2021-11-12T08:15:54.642949Z",
     "start_time": "2021-11-12T08:15:52.505496Z"
    },
    "scrolled": false
   },
   "outputs": [
    {
     "name": "stdout",
     "output_type": "stream",
     "text": [
      "stackedensemble prediction progress: |████████████████████████████████████| 100%\n"
     ]
    }
   ],
   "source": [
    "pred = aml2.predict(test)"
   ]
  },
  {
   "cell_type": "code",
   "execution_count": 11,
   "id": "b7416fc2",
   "metadata": {
    "ExecuteTime": {
     "end_time": "2021-11-12T08:37:52.264678Z",
     "start_time": "2021-11-12T08:37:52.189443Z"
    },
    "scrolled": true
   },
   "outputs": [],
   "source": [
    "sub = pd.read_csv(test_path)\n",
    "sub = sub[['Store', 'Dept','Date']]"
   ]
  },
  {
   "cell_type": "code",
   "execution_count": 12,
   "id": "7c77bf3a",
   "metadata": {
    "ExecuteTime": {
     "end_time": "2021-11-12T08:37:56.953031Z",
     "start_time": "2021-11-12T08:37:56.697889Z"
    },
    "scrolled": true
   },
   "outputs": [],
   "source": [
    "pred = h2o.as_list(pred)"
   ]
  },
  {
   "cell_type": "code",
   "execution_count": 13,
   "id": "12c104df",
   "metadata": {
    "ExecuteTime": {
     "end_time": "2021-11-12T08:37:56.959028Z",
     "start_time": "2021-11-12T08:37:56.955024Z"
    },
    "scrolled": true
   },
   "outputs": [],
   "source": [
    "sub[y] = pred['predict']"
   ]
  },
  {
   "cell_type": "code",
   "execution_count": 15,
   "id": "a3ced07b",
   "metadata": {
    "ExecuteTime": {
     "end_time": "2021-11-12T08:38:35.518898Z",
     "start_time": "2021-11-12T08:38:35.242322Z"
    }
   },
   "outputs": [],
   "source": [
    "def cols_concat(df, con_list):\n",
    "    name = \"__\".join(con_list)\n",
    "    df[name] = df[con_list[0]].astype(str)\n",
    "    for item in con_list[1:]:\n",
    "        df[name] = df[name] + '_' + df[item].astype(str)\n",
    "    return df\n",
    "\n",
    "sub = cols_concat(sub, ['Store', 'Dept','Date'])"
   ]
  },
  {
   "cell_type": "code",
   "execution_count": 17,
   "id": "33ad8e9e",
   "metadata": {
    "ExecuteTime": {
     "end_time": "2021-11-12T08:38:55.837336Z",
     "start_time": "2021-11-12T08:38:55.818110Z"
    },
    "scrolled": true
   },
   "outputs": [],
   "source": [
    "del_cols = ['Store', 'Dept','Date']\n",
    "sub.drop(del_cols, axis=1, inplace=True)"
   ]
  },
  {
   "cell_type": "code",
   "execution_count": 21,
   "id": "23311151",
   "metadata": {
    "ExecuteTime": {
     "end_time": "2021-11-12T08:40:10.814240Z",
     "start_time": "2021-11-12T08:40:10.808662Z"
    }
   },
   "outputs": [],
   "source": [
    "sub.rename({'Store__Dept__Date': 'Id'}, axis=1, inplace=True)"
   ]
  },
  {
   "cell_type": "code",
   "execution_count": 22,
   "id": "70fdffcc",
   "metadata": {
    "ExecuteTime": {
     "end_time": "2021-11-12T08:40:11.015616Z",
     "start_time": "2021-11-12T08:40:11.006488Z"
    },
    "scrolled": true
   },
   "outputs": [],
   "source": [
    "sub = sub[['Id', 'Weekly_Sales']]"
   ]
  },
  {
   "cell_type": "code",
   "execution_count": 23,
   "id": "50f9c69c",
   "metadata": {
    "ExecuteTime": {
     "end_time": "2021-11-12T08:40:12.810115Z",
     "start_time": "2021-11-12T08:40:12.436676Z"
    }
   },
   "outputs": [],
   "source": [
    "sub.to_csv(\"./h2o_sub_kaggle_walmart_recruiting.csv\", index = False)"
   ]
  },
  {
   "cell_type": "code",
   "execution_count": null,
   "id": "523d4a1a",
   "metadata": {},
   "outputs": [],
   "source": []
  }
 ],
 "metadata": {
  "kernelspec": {
   "display_name": "Python 3",
   "language": "python",
   "name": "python3"
  },
  "language_info": {
   "codemirror_mode": {
    "name": "ipython",
    "version": 3
   },
   "file_extension": ".py",
   "mimetype": "text/x-python",
   "name": "python",
   "nbconvert_exporter": "python",
   "pygments_lexer": "ipython3",
   "version": "3.7.10"
  },
  "toc": {
   "base_numbering": 1,
   "nav_menu": {},
   "number_sections": true,
   "sideBar": true,
   "skip_h1_title": false,
   "title_cell": "Table of Contents",
   "title_sidebar": "Contents",
   "toc_cell": false,
   "toc_position": {},
   "toc_section_display": true,
   "toc_window_display": false
  },
  "varInspector": {
   "cols": {
    "lenName": 16,
    "lenType": 16,
    "lenVar": 40
   },
   "kernels_config": {
    "python": {
     "delete_cmd_postfix": "",
     "delete_cmd_prefix": "del ",
     "library": "var_list.py",
     "varRefreshCmd": "print(var_dic_list())"
    },
    "r": {
     "delete_cmd_postfix": ") ",
     "delete_cmd_prefix": "rm(",
     "library": "var_list.r",
     "varRefreshCmd": "cat(var_dic_list()) "
    }
   },
   "types_to_exclude": [
    "module",
    "function",
    "builtin_function_or_method",
    "instance",
    "_Feature"
   ],
   "window_display": false
  }
 },
 "nbformat": 4,
 "nbformat_minor": 5
}
