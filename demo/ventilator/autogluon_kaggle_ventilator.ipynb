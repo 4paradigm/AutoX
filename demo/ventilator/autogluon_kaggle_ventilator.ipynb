{
 "cells": [
  {
   "cell_type": "code",
   "execution_count": 1,
   "id": "7ecc7207",
   "metadata": {
    "ExecuteTime": {
     "end_time": "2021-09-27T04:34:42.407222Z",
     "start_time": "2021-09-27T04:34:39.766243Z"
    }
   },
   "outputs": [],
   "source": [
    "from autogluon.tabular import TabularDataset, TabularPredictor"
   ]
  },
  {
   "cell_type": "code",
   "execution_count": 2,
   "id": "4a392ef1",
   "metadata": {
    "ExecuteTime": {
     "end_time": "2021-09-27T04:34:42.431315Z",
     "start_time": "2021-09-27T04:34:42.409837Z"
    }
   },
   "outputs": [
    {
     "name": "stderr",
     "output_type": "stream",
     "text": [
      "/home/caihengxing/anaconda3/envs/python37/lib/python3.7/site-packages/ipykernel/ipkernel.py:287: DeprecationWarning: `should_run_async` will not call `transform_cell` automatically in the future. Please pass the result to `transformed_cell` argument and any exception that happen during thetransform in `preprocessing_exc_tuple` in IPython 7.17 and above.\n",
      "  and should_run_async(code)\n"
     ]
    },
    {
     "data": {
      "text/plain": [
       "['sample_submission.csv', 'train.csv', 'test.csv']"
      ]
     },
     "execution_count": 2,
     "metadata": {},
     "output_type": "execute_result"
    }
   ],
   "source": [
    "import os\n",
    "os.listdir('../autox/data/ventilator')"
   ]
  },
  {
   "cell_type": "code",
   "execution_count": 3,
   "id": "6bc8546b",
   "metadata": {
    "ExecuteTime": {
     "end_time": "2021-09-27T04:34:54.112393Z",
     "start_time": "2021-09-27T04:34:46.114073Z"
    },
    "scrolled": true
   },
   "outputs": [],
   "source": [
    "train_data = TabularDataset('../autox/data/ventilator/train.csv')"
   ]
  },
  {
   "cell_type": "code",
   "execution_count": 4,
   "id": "21370fd8",
   "metadata": {
    "ExecuteTime": {
     "end_time": "2021-09-27T04:34:54.120669Z",
     "start_time": "2021-09-27T04:34:54.116604Z"
    },
    "scrolled": false
   },
   "outputs": [
    {
     "data": {
      "text/plain": [
       "(6036000, 8)"
      ]
     },
     "execution_count": 4,
     "metadata": {},
     "output_type": "execute_result"
    }
   ],
   "source": [
    "train_data.shape"
   ]
  },
  {
   "cell_type": "code",
   "execution_count": 5,
   "id": "4ba99057",
   "metadata": {
    "ExecuteTime": {
     "end_time": "2021-09-27T04:34:54.140146Z",
     "start_time": "2021-09-27T04:34:54.122780Z"
    },
    "scrolled": true
   },
   "outputs": [
    {
     "data": {
      "text/html": [
       "<div>\n",
       "<style scoped>\n",
       "    .dataframe tbody tr th:only-of-type {\n",
       "        vertical-align: middle;\n",
       "    }\n",
       "\n",
       "    .dataframe tbody tr th {\n",
       "        vertical-align: top;\n",
       "    }\n",
       "\n",
       "    .dataframe thead th {\n",
       "        text-align: right;\n",
       "    }\n",
       "</style>\n",
       "<table border=\"1\" class=\"dataframe\">\n",
       "  <thead>\n",
       "    <tr style=\"text-align: right;\">\n",
       "      <th></th>\n",
       "      <th>id</th>\n",
       "      <th>breath_id</th>\n",
       "      <th>R</th>\n",
       "      <th>C</th>\n",
       "      <th>time_step</th>\n",
       "      <th>u_in</th>\n",
       "      <th>u_out</th>\n",
       "      <th>pressure</th>\n",
       "    </tr>\n",
       "  </thead>\n",
       "  <tbody>\n",
       "    <tr>\n",
       "      <th>0</th>\n",
       "      <td>1</td>\n",
       "      <td>1</td>\n",
       "      <td>20</td>\n",
       "      <td>50</td>\n",
       "      <td>0.000000</td>\n",
       "      <td>0.083334</td>\n",
       "      <td>0</td>\n",
       "      <td>5.837492</td>\n",
       "    </tr>\n",
       "    <tr>\n",
       "      <th>1</th>\n",
       "      <td>2</td>\n",
       "      <td>1</td>\n",
       "      <td>20</td>\n",
       "      <td>50</td>\n",
       "      <td>0.033652</td>\n",
       "      <td>18.383041</td>\n",
       "      <td>0</td>\n",
       "      <td>5.907794</td>\n",
       "    </tr>\n",
       "    <tr>\n",
       "      <th>2</th>\n",
       "      <td>3</td>\n",
       "      <td>1</td>\n",
       "      <td>20</td>\n",
       "      <td>50</td>\n",
       "      <td>0.067514</td>\n",
       "      <td>22.509278</td>\n",
       "      <td>0</td>\n",
       "      <td>7.876254</td>\n",
       "    </tr>\n",
       "    <tr>\n",
       "      <th>3</th>\n",
       "      <td>4</td>\n",
       "      <td>1</td>\n",
       "      <td>20</td>\n",
       "      <td>50</td>\n",
       "      <td>0.101542</td>\n",
       "      <td>22.808822</td>\n",
       "      <td>0</td>\n",
       "      <td>11.742872</td>\n",
       "    </tr>\n",
       "    <tr>\n",
       "      <th>4</th>\n",
       "      <td>5</td>\n",
       "      <td>1</td>\n",
       "      <td>20</td>\n",
       "      <td>50</td>\n",
       "      <td>0.135756</td>\n",
       "      <td>25.355850</td>\n",
       "      <td>0</td>\n",
       "      <td>12.234987</td>\n",
       "    </tr>\n",
       "  </tbody>\n",
       "</table>\n",
       "</div>"
      ],
      "text/plain": [
       "   id  breath_id   R   C  time_step       u_in  u_out   pressure\n",
       "0   1          1  20  50   0.000000   0.083334      0   5.837492\n",
       "1   2          1  20  50   0.033652  18.383041      0   5.907794\n",
       "2   3          1  20  50   0.067514  22.509278      0   7.876254\n",
       "3   4          1  20  50   0.101542  22.808822      0  11.742872\n",
       "4   5          1  20  50   0.135756  25.355850      0  12.234987"
      ]
     },
     "execution_count": 5,
     "metadata": {},
     "output_type": "execute_result"
    }
   ],
   "source": [
    "train_data.head()"
   ]
  },
  {
   "cell_type": "code",
   "execution_count": 6,
   "id": "ec3eacc4",
   "metadata": {
    "ExecuteTime": {
     "end_time": "2021-09-27T04:34:54.145389Z",
     "start_time": "2021-09-27T04:34:54.142102Z"
    },
    "scrolled": true
   },
   "outputs": [
    {
     "name": "stderr",
     "output_type": "stream",
     "text": [
      "/home/caihengxing/anaconda3/envs/python37/lib/python3.7/site-packages/ipykernel/ipkernel.py:287: DeprecationWarning: `should_run_async` will not call `transform_cell` automatically in the future. Please pass the result to `transformed_cell` argument and any exception that happen during thetransform in `preprocessing_exc_tuple` in IPython 7.17 and above.\n",
      "  and should_run_async(code)\n"
     ]
    }
   ],
   "source": [
    "label = 'pressure'"
   ]
  },
  {
   "cell_type": "code",
   "execution_count": 7,
   "id": "a225cdb6",
   "metadata": {
    "ExecuteTime": {
     "end_time": "2021-09-27T09:28:59.625002Z",
     "start_time": "2021-09-27T04:34:59.475641Z"
    },
    "scrolled": true
   },
   "outputs": [
    {
     "name": "stderr",
     "output_type": "stream",
     "text": [
      "Warning: Training may take a very long time because `time_limit` was not specified and `train_data` is large (6036000 samples, 386.3 MB).\n",
      "\tConsider setting `time_limit` to ensure training finishes within an expected duration or experiment with a small portion of `train_data` to identify an ideal `presets` and `hyperparameters` configuration.\n",
      "Beginning AutoGluon training ...\n",
      "AutoGluon will save models to \"agModels-kaggle_ventilator/\"\n",
      "AutoGluon Version:  0.2.1b20210716\n",
      "Train Data Rows:    6036000\n",
      "Train Data Columns: 7\n",
      "Preprocessing data ...\n",
      "AutoGluon infers your prediction problem is: 'regression' (because dtype of label-column == float and label-values can't be converted to int).\n",
      "\tLabel info (max, min, mean, stddev): (64.8209917386395, -1.895744294564641, 11.22041, 8.1097)\n",
      "\tIf 'regression' is not the correct problem_type, please manually specify the problem_type argument in fit() (You may specify problem_type as one of: ['binary', 'multiclass', 'regression'])\n",
      "Using Feature Generators to preprocess the data ...\n",
      "Fitting AutoMLPipelineFeatureGenerator...\n",
      "\tAvailable Memory:                    252983.69 MB\n",
      "\tTrain Data (Original)  Memory Usage: 338.02 MB (0.1% of available memory)\n",
      "\tInferring data type of each feature based on column values. Set feature_metadata_in to manually specify special dtypes of the features.\n",
      "\tStage 1 Generators:\n",
      "\t\tFitting AsTypeFeatureGenerator...\n",
      "\tStage 2 Generators:\n",
      "\t\tFitting FillNaFeatureGenerator...\n",
      "\tStage 3 Generators:\n",
      "\t\tFitting IdentityFeatureGenerator...\n",
      "\tStage 4 Generators:\n",
      "\t\tFitting DropUniqueFeatureGenerator...\n",
      "\tTypes of features in original data (raw dtype, special dtypes):\n",
      "\t\t('float', []) : 2 | ['time_step', 'u_in']\n",
      "\t\t('int', [])   : 5 | ['id', 'breath_id', 'R', 'C', 'u_out']\n",
      "\tTypes of features in processed data (raw dtype, special dtypes):\n",
      "\t\t('float', []) : 2 | ['time_step', 'u_in']\n",
      "\t\t('int', [])   : 5 | ['id', 'breath_id', 'R', 'C', 'u_out']\n",
      "\t18.8s = Fit runtime\n",
      "\t7 features in original data used to generate 7 features in processed data.\n",
      "\tTrain Data (Processed) Memory Usage: 338.02 MB (0.1% of available memory)\n",
      "Data preprocessing and feature engineering runtime = 22.93s ...\n",
      "AutoGluon will gauge predictive performance using evaluation metric: 'root_mean_squared_error'\n",
      "\tTo change this, specify the eval_metric argument of fit()\n",
      "Automatically generating train/validation split with holdout_frac=0.01, Train Rows: 5975640, Val Rows: 60360\n",
      "Fitting 11 L1 models ...\n",
      "Fitting model: KNeighborsUnif ...\n",
      "Note: NumExpr detected 40 cores but \"NUMEXPR_MAX_THREADS\" not set, so enforcing safe limit of 8.\n",
      "NumExpr defaulting to 8 threads.\n",
      "\t-2.3436\t = Validation root_mean_squared_error score\n",
      "\t321.25s\t = Training runtime\n",
      "\t0.77s\t = Validation runtime\n",
      "Fitting model: KNeighborsDist ...\n",
      "\t-2.0567\t = Validation root_mean_squared_error score\n",
      "\t339.45s\t = Training runtime\n",
      "\t0.46s\t = Validation runtime\n",
      "Fitting model: LightGBMXT ...\n"
     ]
    },
    {
     "name": "stdout",
     "output_type": "stream",
     "text": [
      "[1000]\ttrain_set's rmse: 4.53343\tvalid_set's rmse: 4.46819\n",
      "[2000]\ttrain_set's rmse: 4.49726\tvalid_set's rmse: 4.43212\n",
      "[3000]\ttrain_set's rmse: 4.47874\tvalid_set's rmse: 4.41414\n",
      "[4000]\ttrain_set's rmse: 4.46591\tvalid_set's rmse: 4.40149\n",
      "[5000]\ttrain_set's rmse: 4.45596\tvalid_set's rmse: 4.39193\n",
      "[6000]\ttrain_set's rmse: 4.44723\tvalid_set's rmse: 4.38413\n",
      "[7000]\ttrain_set's rmse: 4.4404\tvalid_set's rmse: 4.37762\n",
      "[8000]\ttrain_set's rmse: 4.43377\tvalid_set's rmse: 4.3717\n",
      "[9000]\ttrain_set's rmse: 4.42726\tvalid_set's rmse: 4.36583\n",
      "[10000]\ttrain_set's rmse: 4.42171\tvalid_set's rmse: 4.36116\n"
     ]
    },
    {
     "name": "stderr",
     "output_type": "stream",
     "text": [
      "\t-4.3612\t = Validation root_mean_squared_error score\n",
      "\t2098.04s\t = Training runtime\n",
      "\t4.85s\t = Validation runtime\n",
      "Fitting model: LightGBM ...\n"
     ]
    },
    {
     "name": "stdout",
     "output_type": "stream",
     "text": [
      "[1000]\ttrain_set's rmse: 3.92522\tvalid_set's rmse: 3.86517\n",
      "[2000]\ttrain_set's rmse: 3.85832\tvalid_set's rmse: 3.80769\n",
      "[3000]\ttrain_set's rmse: 3.81625\tvalid_set's rmse: 3.77117\n",
      "[4000]\ttrain_set's rmse: 3.78739\tvalid_set's rmse: 3.74923\n",
      "[5000]\ttrain_set's rmse: 3.76431\tvalid_set's rmse: 3.73434\n",
      "[6000]\ttrain_set's rmse: 3.74505\tvalid_set's rmse: 3.72461\n",
      "[7000]\ttrain_set's rmse: 3.73079\tvalid_set's rmse: 3.71629\n",
      "[8000]\ttrain_set's rmse: 3.71653\tvalid_set's rmse: 3.7089\n",
      "[9000]\ttrain_set's rmse: 3.70425\tvalid_set's rmse: 3.70391\n",
      "[10000]\ttrain_set's rmse: 3.69422\tvalid_set's rmse: 3.69903\n"
     ]
    },
    {
     "name": "stderr",
     "output_type": "stream",
     "text": [
      "\t-3.699\t = Validation root_mean_squared_error score\n",
      "\t1051.09s\t = Training runtime\n",
      "\t3.07s\t = Validation runtime\n",
      "Fitting model: RandomForestMSE ...\n",
      "\tWarning: Reducing model 'n_estimators' from 300 -> 84 due to low memory. Expected memory usage reduced from 53.33% -> 15.0% of available memory...\n",
      "\t-3.6898\t = Validation root_mean_squared_error score\n",
      "\t455.03s\t = Training runtime\n",
      "\t3.55s\t = Validation runtime\n",
      "Fitting model: CatBoost ...\n",
      "\t-3.917\t = Validation root_mean_squared_error score\n",
      "\t515.29s\t = Training runtime\n",
      "\t0.07s\t = Validation runtime\n",
      "Fitting model: ExtraTreesMSE ...\n",
      "\tWarning: Reducing model 'n_estimators' from 300 -> 79 due to low memory. Expected memory usage reduced from 56.77% -> 15.0% of available memory...\n",
      "\t-3.6672\t = Validation root_mean_squared_error score\n",
      "\t129.9s\t = Training runtime\n",
      "\t2.96s\t = Validation runtime\n",
      "Fitting model: NeuralNetFastAI ...\n",
      "/home/caihengxing/anaconda3/envs/python37/lib/python3.7/site-packages/torch/cuda/__init__.py:52: UserWarning: CUDA initialization: The NVIDIA driver on your system is too old (found version 10010). Please update your GPU driver by downloading and installing a new version from the URL: http://www.nvidia.com/Download/index.aspx Alternatively, go to: https://pytorch.org to install a PyTorch version that has been compiled with your version of the CUDA driver. (Triggered internally at  /pytorch/c10/cuda/CUDAFunctions.cpp:115.)\n",
      "  return torch._C._cuda_getDeviceCount() > 0\n",
      "No improvement since epoch 0: early stopping\n",
      "\t-4.188\t = Validation root_mean_squared_error score\n",
      "\t7835.28s\t = Training runtime\n",
      "\t1.61s\t = Validation runtime\n",
      "Fitting model: XGBoost ...\n",
      "\t-4.0201\t = Validation root_mean_squared_error score\n",
      "\t3813.27s\t = Training runtime\n",
      "\t0.6s\t = Validation runtime\n",
      "Fitting model: NeuralNetMXNet ...\n",
      "\tWarning: Exception caused NeuralNetMXNet to fail during training... Skipping this model.\n",
      "\t\tLegacy mxnet==1.4.0 detected, some new modules will not work properly. mxnet>=1.6.0 is required. You can use pip to upgrade mxnet `pip install mxnet --upgrade` or `pip install mxnet_cu101 --upgrade`\n",
      "Detailed Traceback:\n",
      "Traceback (most recent call last):\n",
      "  File \"/mnt/disk0/home/caihengxing/software/autogluon-master/tabular/src/autogluon/tabular/trainer/abstract_trainer.py\", line 960, in _train_and_save\n",
      "    model = self._train_single(X, y, model, X_val, y_val, **model_fit_kwargs)\n",
      "  File \"/mnt/disk0/home/caihengxing/software/autogluon-master/tabular/src/autogluon/tabular/trainer/abstract_trainer.py\", line 932, in _train_single\n",
      "    model = model.fit(X=X, y=y, X_val=X_val, y_val=y_val, **model_fit_kwargs)\n",
      "  File \"/mnt/disk0/home/caihengxing/software/autogluon-master/core/src/autogluon/core/models/abstract/abstract_model.py\", line 518, in fit\n",
      "    out = self._fit(**kwargs)\n",
      "  File \"/mnt/disk0/home/caihengxing/software/autogluon-master/tabular/src/autogluon/tabular/models/tabular_nn/tabular_nn_model.py\", line 168, in _fit\n",
      "    try_import_mxnet()\n",
      "  File \"/mnt/disk0/home/caihengxing/software/autogluon-master/core/src/autogluon/core/utils/try_import.py\", line 40, in try_import_mxnet\n",
      "    raise ValueError(msg)\n",
      "ValueError: Legacy mxnet==1.4.0 detected, some new modules will not work properly. mxnet>=1.6.0 is required. You can use pip to upgrade mxnet `pip install mxnet --upgrade` or `pip install mxnet_cu101 --upgrade`\n",
      "Fitting model: LightGBMLarge ...\n"
     ]
    },
    {
     "name": "stdout",
     "output_type": "stream",
     "text": [
      "[1000]\ttrain_set's rmse: 3.82572\tvalid_set's rmse: 3.77874\n",
      "[2000]\ttrain_set's rmse: 3.77053\tvalid_set's rmse: 3.74777\n",
      "[3000]\ttrain_set's rmse: 3.729\tvalid_set's rmse: 3.7314\n",
      "[4000]\ttrain_set's rmse: 3.69627\tvalid_set's rmse: 3.7204\n",
      "[5000]\ttrain_set's rmse: 3.66795\tvalid_set's rmse: 3.71261\n",
      "[6000]\ttrain_set's rmse: 3.64068\tvalid_set's rmse: 3.70561\n",
      "[7000]\ttrain_set's rmse: 3.61563\tvalid_set's rmse: 3.70162\n",
      "[8000]\ttrain_set's rmse: 3.59589\tvalid_set's rmse: 3.69878\n",
      "[9000]\ttrain_set's rmse: 3.5763\tvalid_set's rmse: 3.6953\n",
      "[10000]\ttrain_set's rmse: 3.55834\tvalid_set's rmse: 3.69263\n"
     ]
    },
    {
     "name": "stderr",
     "output_type": "stream",
     "text": [
      "\t-3.6926\t = Validation root_mean_squared_error score\n",
      "\t473.11s\t = Training runtime\n",
      "\t2.84s\t = Validation runtime\n",
      "Fitting model: WeightedEnsemble_L2 ...\n",
      "\t-1.9151\t = Validation root_mean_squared_error score\n",
      "\t1.74s\t = Training runtime\n",
      "\t0.0s\t = Validation runtime\n",
      "AutoGluon training complete, total runtime = 17640.03s ...\n",
      "TabularPredictor saved. To load, use: predictor = TabularPredictor.load(\"agModels-kaggle_ventilator/\")\n"
     ]
    }
   ],
   "source": [
    "save_path = 'agModels-kaggle_ventilator'  # specifies folder to store trained models\n",
    "predictor = TabularPredictor(label=label, path=save_path).fit(train_data)"
   ]
  },
  {
   "cell_type": "code",
   "execution_count": 8,
   "id": "fa84c4eb",
   "metadata": {
    "ExecuteTime": {
     "end_time": "2021-09-27T09:29:04.035040Z",
     "start_time": "2021-09-27T09:28:59.627787Z"
    },
    "scrolled": true
   },
   "outputs": [
    {
     "name": "stderr",
     "output_type": "stream",
     "text": [
      "/home/caihengxing/anaconda3/envs/python37/lib/python3.7/site-packages/ipykernel/ipkernel.py:287: DeprecationWarning: `should_run_async` will not call `transform_cell` automatically in the future. Please pass the result to `transformed_cell` argument and any exception that happen during thetransform in `preprocessing_exc_tuple` in IPython 7.17 and above.\n",
      "  and should_run_async(code)\n",
      "Loaded data from: ../autox/data/ventilator/test.csv | Columns = 7 / 7 | Rows = 4024000 -> 4024000\n"
     ]
    }
   ],
   "source": [
    "test_data_nolab = TabularDataset('../autox/data/ventilator/test.csv')"
   ]
  },
  {
   "cell_type": "code",
   "execution_count": 9,
   "id": "54cce4ce",
   "metadata": {
    "ExecuteTime": {
     "end_time": "2021-09-27T09:37:05.173850Z",
     "start_time": "2021-09-27T09:29:04.038220Z"
    }
   },
   "outputs": [],
   "source": [
    "y_pred = predictor.predict(test_data_nolab)"
   ]
  },
  {
   "cell_type": "code",
   "execution_count": 10,
   "id": "ca6cc9bf",
   "metadata": {
    "ExecuteTime": {
     "end_time": "2021-09-27T09:37:05.188632Z",
     "start_time": "2021-09-27T09:37:05.177514Z"
    },
    "scrolled": false
   },
   "outputs": [
    {
     "name": "stderr",
     "output_type": "stream",
     "text": [
      "/home/caihengxing/anaconda3/envs/python37/lib/python3.7/site-packages/ipykernel/ipkernel.py:287: DeprecationWarning: `should_run_async` will not call `transform_cell` automatically in the future. Please pass the result to `transformed_cell` argument and any exception that happen during thetransform in `preprocessing_exc_tuple` in IPython 7.17 and above.\n",
      "  and should_run_async(code)\n"
     ]
    },
    {
     "data": {
      "text/plain": [
       "0           8.008864\n",
       "1           8.113923\n",
       "2           9.503245\n",
       "3           9.704639\n",
       "4          12.754843\n",
       "             ...    \n",
       "4023995    13.482064\n",
       "4023996    13.507774\n",
       "4023997    13.493657\n",
       "4023998    13.490655\n",
       "4023999    13.513297\n",
       "Name: pressure, Length: 4024000, dtype: float32"
      ]
     },
     "execution_count": 10,
     "metadata": {},
     "output_type": "execute_result"
    }
   ],
   "source": [
    "y_pred"
   ]
  },
  {
   "cell_type": "code",
   "execution_count": 11,
   "id": "240cd16c",
   "metadata": {
    "ExecuteTime": {
     "end_time": "2021-09-27T09:37:05.193506Z",
     "start_time": "2021-09-27T09:37:05.190647Z"
    }
   },
   "outputs": [],
   "source": [
    "id_ = ['id']"
   ]
  },
  {
   "cell_type": "code",
   "execution_count": 12,
   "id": "b4fd354e",
   "metadata": {
    "ExecuteTime": {
     "end_time": "2021-09-27T09:37:07.574422Z",
     "start_time": "2021-09-27T09:37:05.195603Z"
    }
   },
   "outputs": [],
   "source": [
    "sub = test_data_nolab[id_].copy()\n",
    "sub[label] = list(y_pred.values)"
   ]
  },
  {
   "cell_type": "code",
   "execution_count": 13,
   "id": "c59b336a",
   "metadata": {
    "ExecuteTime": {
     "end_time": "2021-09-27T09:37:28.236370Z",
     "start_time": "2021-09-27T09:37:07.576710Z"
    }
   },
   "outputs": [],
   "source": [
    "sub.to_csv(\"./autogluon_sub_kaggle_ventilator.csv\", index = False)"
   ]
  },
  {
   "cell_type": "code",
   "execution_count": 14,
   "id": "c43926aa",
   "metadata": {
    "ExecuteTime": {
     "end_time": "2021-09-27T09:43:44.961888Z",
     "start_time": "2021-09-27T09:43:33.025219Z"
    }
   },
   "outputs": [
    {
     "name": "stdout",
     "output_type": "stream",
     "text": [
      "  adding: autogluon_sub_kaggle_ventilator.csv (deflated 60%)\n"
     ]
    }
   ],
   "source": [
    "!zip -r autogluon_sub_kaggle_ventilator.csv.zip autogluon_sub_kaggle_ventilator.csv"
   ]
  },
  {
   "cell_type": "code",
   "execution_count": null,
   "id": "6b54628e",
   "metadata": {},
   "outputs": [],
   "source": []
  }
 ],
 "metadata": {
  "kernelspec": {
   "display_name": "Python 3",
   "language": "python",
   "name": "python3"
  },
  "language_info": {
   "codemirror_mode": {
    "name": "ipython",
    "version": 3
   },
   "file_extension": ".py",
   "mimetype": "text/x-python",
   "name": "python",
   "nbconvert_exporter": "python",
   "pygments_lexer": "ipython3",
   "version": "3.7.10"
  },
  "toc": {
   "base_numbering": 1,
   "nav_menu": {},
   "number_sections": true,
   "sideBar": true,
   "skip_h1_title": false,
   "title_cell": "Table of Contents",
   "title_sidebar": "Contents",
   "toc_cell": false,
   "toc_position": {},
   "toc_section_display": true,
   "toc_window_display": false
  }
 },
 "nbformat": 4,
 "nbformat_minor": 5
}
