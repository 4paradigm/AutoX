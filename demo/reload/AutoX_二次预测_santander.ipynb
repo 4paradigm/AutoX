{
 "cells": [
  {
   "cell_type": "markdown",
   "metadata": {},
   "source": [
    "# import包"
   ]
  },
  {
   "cell_type": "code",
   "execution_count": 1,
   "metadata": {
    "ExecuteTime": {
     "end_time": "2023-01-21T05:10:55.025239Z",
     "start_time": "2023-01-21T05:10:48.088935Z"
    },
    "scrolled": true
   },
   "outputs": [
    {
     "name": "stderr",
     "output_type": "stream",
     "text": [
      "/home/caihengxing/anaconda3/lib/python3.7/site-packages/pandas/compat/_optional.py:138: UserWarning: Pandas requires version '2.7.0' or newer of 'numexpr' (version '2.6.9' currently installed).\n",
      "  warnings.warn(msg, UserWarning)\n"
     ]
    }
   ],
   "source": [
    "import sys\n",
    "sys.path.append('../AutoX')\n",
    "from autox import AutoX"
   ]
  },
  {
   "cell_type": "code",
   "execution_count": 2,
   "metadata": {
    "ExecuteTime": {
     "end_time": "2023-01-21T05:10:55.033555Z",
     "start_time": "2023-01-21T05:10:55.027620Z"
    }
   },
   "outputs": [],
   "source": [
    "import pandas as pd\n",
    "import numpy as np\n",
    "import os\n",
    "from tqdm import tqdm"
   ]
  },
  {
   "cell_type": "markdown",
   "metadata": {},
   "source": [
    "# 准备数据"
   ]
  },
  {
   "cell_type": "code",
   "execution_count": 3,
   "metadata": {
    "ExecuteTime": {
     "end_time": "2023-01-21T05:10:55.064238Z",
     "start_time": "2023-01-21T05:10:55.035549Z"
    }
   },
   "outputs": [],
   "source": [
    "path = f'../data/santander'"
   ]
  },
  {
   "cell_type": "code",
   "execution_count": 4,
   "metadata": {
    "ExecuteTime": {
     "end_time": "2023-01-21T05:10:55.217304Z",
     "start_time": "2023-01-21T05:10:55.067503Z"
    }
   },
   "outputs": [],
   "source": [
    "train = pd.read_csv(f'{path}/train.csv')\n",
    "test  = pd.read_csv(f'{path}/test.csv')"
   ]
  },
  {
   "cell_type": "markdown",
   "metadata": {},
   "source": [
    "# 执行AutoX"
   ]
  },
  {
   "cell_type": "code",
   "execution_count": 5,
   "metadata": {
    "ExecuteTime": {
     "end_time": "2023-01-21T05:10:55.757632Z",
     "start_time": "2023-01-21T05:10:55.219505Z"
    }
   },
   "outputs": [],
   "source": [
    "autox = AutoX(target = 'target', train_name = 'train', test_name = 'test', \n",
    "               id = ['ID_code'], path = None, dfs = {'train': train, 'test': test})"
   ]
  },
  {
   "cell_type": "code",
   "execution_count": 6,
   "metadata": {
    "ExecuteTime": {
     "end_time": "2023-01-21T05:11:28.102530Z",
     "start_time": "2023-01-21T05:10:55.759370Z"
    },
    "scrolled": true
   },
   "outputs": [
    {
     "name": "stderr",
     "output_type": "stream",
     "text": [
      "   INFO ->  start feature engineer\n",
      "   INFO ->  feature engineer: one2M\n",
      "   INFO ->  featureOne2M ops: {}\n",
      "   INFO ->  ignore featureOne2M\n",
      "   INFO ->  feature engineer: time\n",
      "   INFO ->  featureTime ops: []\n",
      "0it [00:00, ?it/s]\n",
      "   INFO ->  feature engineer: Cumsum\n",
      "0it [00:00, ?it/s]\n",
      "   INFO ->  this cols with inf data, del them: []\n",
      "   INFO ->  featureCumsum ops: {}\n",
      "   INFO ->  feature engineer: Shift\n",
      "0it [00:00, ?it/s]\n",
      "   INFO ->  featureShift ops: {}\n",
      "   INFO ->  feature engineer: Diff\n",
      "0it [00:00, ?it/s]\n",
      "   INFO ->  featureDiff ops: {}\n",
      "   INFO ->  feature engineer: Stat\n",
      "0it [00:00, ?it/s]\n",
      "   INFO ->  featureStat ops: {}\n",
      "   INFO ->  feature engineer: NLP\n",
      "0it [00:00, ?it/s]\n",
      "   INFO ->  featureNlp ops: []\n",
      "   INFO ->  feature engineer: Count\n",
      "0it [00:00, ?it/s]\n",
      "   INFO ->  featureCount ops: []\n",
      "   INFO ->  feature engineer: Rank\n",
      "0it [00:00, ?it/s]\n",
      "   INFO ->  featureRank ops: {}\n",
      "   INFO ->  feature engineer: Image\n",
      "   INFO ->  ignore image feature\n",
      "100%|██████████| 202/202 [00:00<00:00, 43812.67it/s]\n",
      "   INFO ->  label_encoder_list: ['ID_code']\n",
      "   INFO ->  ordinal_encoder_list: []\n",
      "   INFO ->  feature combination\n",
      "100%|██████████| 9/9 [00:00<00:00, 3811.46it/s]\n",
      "   INFO ->  shape of FE_all: (2000, 203), shape of train: (1000, 203), shape of test: (1000, 203)\n",
      "   INFO ->  feature filter\n",
      "100%|██████████| 202/202 [00:00<00:00, 800.61it/s]\n",
      "   INFO ->  filtered features: ['ID_code', 'target', 'ID_code_encoder']\n",
      "   INFO ->  used_features: ['var_0', 'var_1', 'var_2', 'var_3', 'var_4', 'var_5', 'var_6', 'var_7', 'var_8', 'var_9', 'var_10', 'var_11', 'var_12', 'var_13', 'var_14', 'var_15', 'var_16', 'var_17', 'var_18', 'var_19', 'var_20', 'var_21', 'var_22', 'var_23', 'var_24', 'var_25', 'var_26', 'var_27', 'var_28', 'var_29', 'var_30', 'var_31', 'var_32', 'var_33', 'var_34', 'var_35', 'var_36', 'var_37', 'var_38', 'var_39', 'var_40', 'var_41', 'var_42', 'var_43', 'var_44', 'var_45', 'var_46', 'var_47', 'var_48', 'var_49', 'var_50', 'var_51', 'var_52', 'var_53', 'var_54', 'var_55', 'var_56', 'var_57', 'var_58', 'var_59', 'var_60', 'var_61', 'var_62', 'var_63', 'var_64', 'var_65', 'var_66', 'var_67', 'var_68', 'var_69', 'var_70', 'var_71', 'var_72', 'var_73', 'var_74', 'var_75', 'var_76', 'var_77', 'var_78', 'var_79', 'var_80', 'var_81', 'var_82', 'var_83', 'var_84', 'var_85', 'var_86', 'var_87', 'var_88', 'var_89', 'var_90', 'var_91', 'var_92', 'var_93', 'var_94', 'var_95', 'var_96', 'var_97', 'var_98', 'var_99', 'var_100', 'var_101', 'var_102', 'var_103', 'var_104', 'var_105', 'var_106', 'var_107', 'var_108', 'var_109', 'var_110', 'var_111', 'var_112', 'var_113', 'var_114', 'var_115', 'var_116', 'var_117', 'var_118', 'var_119', 'var_120', 'var_121', 'var_122', 'var_123', 'var_124', 'var_125', 'var_126', 'var_127', 'var_128', 'var_129', 'var_130', 'var_131', 'var_132', 'var_133', 'var_134', 'var_135', 'var_136', 'var_137', 'var_138', 'var_139', 'var_140', 'var_141', 'var_142', 'var_143', 'var_144', 'var_145', 'var_146', 'var_147', 'var_148', 'var_149', 'var_150', 'var_151', 'var_152', 'var_153', 'var_154', 'var_155', 'var_156', 'var_157', 'var_158', 'var_159', 'var_160', 'var_161', 'var_162', 'var_163', 'var_164', 'var_165', 'var_166', 'var_167', 'var_168', 'var_169', 'var_170', 'var_171', 'var_172', 'var_173', 'var_174', 'var_175', 'var_176', 'var_177', 'var_178', 'var_179', 'var_180', 'var_181', 'var_182', 'var_183', 'var_184', 'var_185', 'var_186', 'var_187', 'var_188', 'var_189', 'var_190', 'var_191', 'var_192', 'var_193', 'var_194', 'var_195', 'var_196', 'var_197', 'var_198', 'var_199']\n",
      "   INFO ->  start training lightgbm model\n",
      "   INFO ->  (1000, 200)\n"
     ]
    },
    {
     "name": "stdout",
     "output_type": "stream",
     "text": [
      "Training on fold 1\n",
      "Training until validation scores don't improve for 150 rounds\n",
      "[100]\ttraining's auc: 0.999966\tvalid_1's auc: 0.755873\n",
      "Early stopping, best iteration is:\n",
      "[25]\ttraining's auc: 0.995043\tvalid_1's auc: 0.780644\n",
      "AUC: 0.7806435137895812\n",
      "Fold 1 finished in 0:00:00.189139\n",
      "Training on fold 2\n",
      "Training until validation scores don't improve for 150 rounds\n",
      "[100]\ttraining's auc: 0.999983\tvalid_1's auc: 0.789572\n",
      "[200]\ttraining's auc: 1\tvalid_1's auc: 0.785581\n",
      "[300]\ttraining's auc: 1\tvalid_1's auc: 0.785847\n",
      "[400]\ttraining's auc: 1\tvalid_1's auc: 0.780793\n",
      "Early stopping, best iteration is:\n",
      "[252]\ttraining's auc: 1\tvalid_1's auc: 0.795956\n",
      "AUC: 0.7959563713753658\n",
      "Fold 2 finished in 0:00:00.372810\n",
      "Training on fold 3\n",
      "Training until validation scores don't improve for 150 rounds\n",
      "[100]\ttraining's auc: 0.999853\tvalid_1's auc: 0.684211\n",
      "[200]\ttraining's auc: 1\tvalid_1's auc: 0.696133\n",
      "Early stopping, best iteration is:\n",
      "[145]\ttraining's auc: 1\tvalid_1's auc: 0.703984\n",
      "AUC: 0.7039837161965687\n",
      "Fold 3 finished in 0:00:00.248915\n",
      "Training on fold 4\n",
      "Training until validation scores don't improve for 150 rounds\n",
      "[100]\ttraining's auc: 0.999966\tvalid_1's auc: 0.698161\n",
      "Early stopping, best iteration is:\n",
      "[28]\ttraining's auc: 0.979852\tvalid_1's auc: 0.733657\n",
      "AUC: 0.7336567926455567\n",
      "Fold 4 finished in 0:00:00.157127\n",
      "Training on fold 5\n",
      "Training until validation scores don't improve for 150 rounds\n",
      "[100]\ttraining's auc: 0.999834\tvalid_1's auc: 0.732376\n",
      "[200]\ttraining's auc: 1\tvalid_1's auc: 0.741687\n"
     ]
    },
    {
     "name": "stderr",
     "output_type": "stream",
     "text": [
      "   INFO ->  feature importance\n",
      "   INFO ->       feature  fold_1  fold_2  fold_3  fold_4  fold_5  average\n",
      "0    var_170       7     160      18       8      75     53.6\n",
      "1     var_44      10      88      45      20      60     44.6\n",
      "2     var_81       5     102      50       8      34     39.8\n",
      "3      var_6       9      66      66      12      20     34.6\n",
      "4    var_166       3      58      37      15      46     31.8\n",
      "..       ...     ...     ...     ...     ...     ...      ...\n",
      "195  var_189       0       3       1       0       2      1.2\n",
      "196  var_199       0       4       0       0       2      1.2\n",
      "197   var_89       0       1       0       0       4      1.0\n",
      "198  var_131       0       3       2       0       0      1.0\n",
      "199   var_72       0       1       0       0       0      0.2\n",
      "\n",
      "[200 rows x 7 columns]\n",
      "   INFO ->  start training xgboost model\n",
      "   INFO ->  (1000, 200)\n"
     ]
    },
    {
     "name": "stdout",
     "output_type": "stream",
     "text": [
      "[300]\ttraining's auc: 1\tvalid_1's auc: 0.719606\n",
      "Early stopping, best iteration is:\n",
      "[152]\ttraining's auc: 1\tvalid_1's auc: 0.756318\n",
      "AUC: 0.756318169725991\n",
      "Fold 5 finished in 0:00:00.267633\n",
      "Training on fold 1\n",
      "AUC: 0.5190217391304348\n",
      "Fold 1 finished in 0:00:03.236275\n",
      "Training on fold 2\n",
      "AUC: 0.6776556776556777\n",
      "Fold 2 finished in 0:00:03.011329\n",
      "Training on fold 3\n",
      "AUC: 0.6739130434782609\n",
      "Fold 3 finished in 0:00:03.114631\n",
      "Training on fold 4\n",
      "AUC: 0.6996935648621042\n",
      "Fold 4 finished in 0:00:03.156612\n",
      "Training on fold 5\n",
      "AUC: 0.7807250221043325\n",
      "Fold 5 finished in 0:00:02.747779\n",
      "Training on fold 6\n",
      "AUC: 0.6348364279398762\n",
      "Fold 6 finished in 0:00:03.250754\n",
      "Training on fold 7\n",
      "AUC: 0.6455555555555555\n",
      "Fold 7 finished in 0:00:03.027603\n",
      "Training on fold 8\n",
      "AUC: 0.48784313725490197\n",
      "Fold 8 finished in 0:00:02.762935\n",
      "Training on fold 9\n",
      "AUC: 0.7355555555555555\n",
      "Fold 9 finished in 0:00:02.861095\n",
      "Training on fold 10\n"
     ]
    },
    {
     "name": "stderr",
     "output_type": "stream",
     "text": [
      "   INFO ->  Average KFold AUC: 0.6462136680058438\n"
     ]
    },
    {
     "name": "stdout",
     "output_type": "stream",
     "text": [
      "AUC: 0.6073369565217391\n",
      "Fold 10 finished in 0:00:03.175091\n"
     ]
    }
   ],
   "source": [
    "sub = autox.get_submit()"
   ]
  },
  {
   "cell_type": "code",
   "execution_count": 7,
   "metadata": {
    "ExecuteTime": {
     "end_time": "2023-01-21T05:11:28.129710Z",
     "start_time": "2023-01-21T05:11:28.105292Z"
    },
    "scrolled": true
   },
   "outputs": [
    {
     "data": {
      "text/html": [
       "<div>\n",
       "<style scoped>\n",
       "    .dataframe tbody tr th:only-of-type {\n",
       "        vertical-align: middle;\n",
       "    }\n",
       "\n",
       "    .dataframe tbody tr th {\n",
       "        vertical-align: top;\n",
       "    }\n",
       "\n",
       "    .dataframe thead th {\n",
       "        text-align: right;\n",
       "    }\n",
       "</style>\n",
       "<table border=\"1\" class=\"dataframe\">\n",
       "  <thead>\n",
       "    <tr style=\"text-align: right;\">\n",
       "      <th></th>\n",
       "      <th>ID_code</th>\n",
       "      <th>target</th>\n",
       "    </tr>\n",
       "  </thead>\n",
       "  <tbody>\n",
       "    <tr>\n",
       "      <th>0</th>\n",
       "      <td>test_80454</td>\n",
       "      <td>0.126624</td>\n",
       "    </tr>\n",
       "    <tr>\n",
       "      <th>1</th>\n",
       "      <td>test_31903</td>\n",
       "      <td>0.153570</td>\n",
       "    </tr>\n",
       "    <tr>\n",
       "      <th>2</th>\n",
       "      <td>test_39613</td>\n",
       "      <td>0.107384</td>\n",
       "    </tr>\n",
       "    <tr>\n",
       "      <th>3</th>\n",
       "      <td>test_54488</td>\n",
       "      <td>0.188306</td>\n",
       "    </tr>\n",
       "    <tr>\n",
       "      <th>4</th>\n",
       "      <td>test_50595</td>\n",
       "      <td>0.127287</td>\n",
       "    </tr>\n",
       "    <tr>\n",
       "      <th>...</th>\n",
       "      <td>...</td>\n",
       "      <td>...</td>\n",
       "    </tr>\n",
       "    <tr>\n",
       "      <th>995</th>\n",
       "      <td>test_151248</td>\n",
       "      <td>0.197025</td>\n",
       "    </tr>\n",
       "    <tr>\n",
       "      <th>996</th>\n",
       "      <td>test_178201</td>\n",
       "      <td>0.128391</td>\n",
       "    </tr>\n",
       "    <tr>\n",
       "      <th>997</th>\n",
       "      <td>test_160985</td>\n",
       "      <td>0.123935</td>\n",
       "    </tr>\n",
       "    <tr>\n",
       "      <th>998</th>\n",
       "      <td>test_21420</td>\n",
       "      <td>0.129070</td>\n",
       "    </tr>\n",
       "    <tr>\n",
       "      <th>999</th>\n",
       "      <td>test_162165</td>\n",
       "      <td>0.110267</td>\n",
       "    </tr>\n",
       "  </tbody>\n",
       "</table>\n",
       "<p>1000 rows × 2 columns</p>\n",
       "</div>"
      ],
      "text/plain": [
       "         ID_code    target\n",
       "0     test_80454  0.126624\n",
       "1     test_31903  0.153570\n",
       "2     test_39613  0.107384\n",
       "3     test_54488  0.188306\n",
       "4     test_50595  0.127287\n",
       "..           ...       ...\n",
       "995  test_151248  0.197025\n",
       "996  test_178201  0.128391\n",
       "997  test_160985  0.123935\n",
       "998   test_21420  0.129070\n",
       "999  test_162165  0.110267\n",
       "\n",
       "[1000 rows x 2 columns]"
      ]
     },
     "execution_count": 7,
     "metadata": {},
     "output_type": "execute_result"
    }
   ],
   "source": [
    "sub"
   ]
  },
  {
   "cell_type": "markdown",
   "metadata": {},
   "source": [
    "# 保存AutoX"
   ]
  },
  {
   "cell_type": "code",
   "execution_count": 8,
   "metadata": {
    "ExecuteTime": {
     "end_time": "2023-01-21T05:11:28.184584Z",
     "start_time": "2023-01-21T05:11:28.131838Z"
    }
   },
   "outputs": [],
   "source": [
    "import pickle\n",
    "\n",
    "def save_obj(obj, name):\n",
    "    with open('../temp/'+ name + '.pkl', 'wb') as f:\n",
    "        pickle.dump(obj, f, pickle.HIGHEST_PROTOCOL)"
   ]
  },
  {
   "cell_type": "code",
   "execution_count": 9,
   "metadata": {
    "ExecuteTime": {
     "end_time": "2023-01-21T05:11:29.094346Z",
     "start_time": "2023-01-21T05:11:28.188497Z"
    }
   },
   "outputs": [],
   "source": [
    "save_obj(autox, \"autox_santander\")"
   ]
  },
  {
   "cell_type": "code",
   "execution_count": null,
   "metadata": {},
   "outputs": [],
   "source": []
  },
  {
   "cell_type": "code",
   "execution_count": null,
   "metadata": {},
   "outputs": [],
   "source": []
  },
  {
   "cell_type": "markdown",
   "metadata": {},
   "source": [
    "# 重新导入AutoX"
   ]
  },
  {
   "cell_type": "code",
   "execution_count": 1,
   "metadata": {
    "ExecuteTime": {
     "end_time": "2023-01-21T05:11:46.274011Z",
     "start_time": "2023-01-21T05:11:46.268211Z"
    }
   },
   "outputs": [],
   "source": [
    "import pickle\n",
    "\n",
    "def load_obj(name):\n",
    "    with open('../temp/' + name + '.pkl', 'rb') as f:\n",
    "        return pickle.load(f)"
   ]
  },
  {
   "cell_type": "code",
   "execution_count": 2,
   "metadata": {
    "ExecuteTime": {
     "end_time": "2023-01-21T05:11:56.553900Z",
     "start_time": "2023-01-21T05:11:47.756801Z"
    },
    "scrolled": false
   },
   "outputs": [
    {
     "name": "stderr",
     "output_type": "stream",
     "text": [
      "/home/caihengxing/anaconda3/lib/python3.7/site-packages/pandas/compat/_optional.py:138: UserWarning: Pandas requires version '2.7.0' or newer of 'numexpr' (version '2.6.9' currently installed).\n",
      "  warnings.warn(msg, UserWarning)\n"
     ]
    }
   ],
   "source": [
    "import sys\n",
    "sys.path.append('../AutoX')\n",
    "\n",
    "from autox import AutoX\n",
    "from autox import AutoXReload\n",
    "\n",
    "autox_file = load_obj(\"autox_santander\")"
   ]
  },
  {
   "cell_type": "code",
   "execution_count": 3,
   "metadata": {
    "ExecuteTime": {
     "end_time": "2023-01-21T05:11:56.772981Z",
     "start_time": "2023-01-21T05:11:56.730307Z"
    },
    "scrolled": true
   },
   "outputs": [],
   "source": [
    "path = f'../data/santander'\n",
    "\n",
    "autox_reload = AutoXReload(autox_file, test_path = f'{path}/test.csv')"
   ]
  },
  {
   "cell_type": "code",
   "execution_count": 4,
   "metadata": {
    "ExecuteTime": {
     "end_time": "2023-01-21T05:11:57.153145Z",
     "start_time": "2023-01-21T05:11:56.954928Z"
    },
    "scrolled": true
   },
   "outputs": [
    {
     "name": "stderr",
     "output_type": "stream",
     "text": [
      "   INFO ->  start feature engineer\n",
      "   INFO ->  feature engineer: one2M\n",
      "   INFO ->  featureOne2M ops: {}\n",
      "   INFO ->  ignore featureOne2M\n",
      "   INFO ->  feature engineer: time\n",
      "   INFO ->  featureTime ops: []\n",
      "0it [00:00, ?it/s]\n",
      "   INFO ->  feature engineer: Cumsum\n",
      "0it [00:00, ?it/s]\n",
      "   INFO ->  this cols with inf data, del them: []\n",
      "   INFO ->  featureCumsum ops: {}\n",
      "   INFO ->  feature engineer: Shift\n",
      "0it [00:00, ?it/s]\n",
      "   INFO ->  featureShift ops: {}\n",
      "   INFO ->  feature engineer: Diff\n",
      "0it [00:00, ?it/s]\n",
      "   INFO ->  featureDiff ops: {}\n",
      "   INFO ->  feature engineer: Stat\n",
      "0it [00:00, ?it/s]\n",
      "   INFO ->  featureStat ops: {}\n",
      "   INFO ->  feature engineer: NLP\n",
      "0it [00:00, ?it/s]\n",
      "   INFO ->  featureNlp ops: []\n",
      "   INFO ->  feature engineer: Count\n",
      "   INFO ->  featureCount ops: []\n",
      "0it [00:00, ?it/s]\n",
      "   INFO ->  feature engineer: Rank\n",
      "0it [00:00, ?it/s]\n",
      "   INFO ->  featureRank ops: {}\n",
      "   INFO ->  feature engineer: Image\n",
      "   INFO ->  ignore image feature\n",
      "100%|██████████| 202/202 [00:00<00:00, 40472.41it/s]\n",
      "   INFO ->  label_encoder_list: ['ID_code']\n",
      "   INFO ->  ordinal_encoder_list: []\n",
      "   INFO ->  feature combination\n",
      "100%|██████████| 9/9 [00:00<00:00, 8371.86it/s]\n",
      "   INFO ->  shape of FE_all: (2000, 203), shape of train: (1000, 203), shape of test: (1000, 203)\n",
      "   INFO ->  feature filter\n",
      "   INFO ->  used_features: ['var_0', 'var_1', 'var_2', 'var_3', 'var_4', 'var_5', 'var_6', 'var_7', 'var_8', 'var_9', 'var_10', 'var_11', 'var_12', 'var_13', 'var_14', 'var_15', 'var_16', 'var_17', 'var_18', 'var_19', 'var_20', 'var_21', 'var_22', 'var_23', 'var_24', 'var_25', 'var_26', 'var_27', 'var_28', 'var_29', 'var_30', 'var_31', 'var_32', 'var_33', 'var_34', 'var_35', 'var_36', 'var_37', 'var_38', 'var_39', 'var_40', 'var_41', 'var_42', 'var_43', 'var_44', 'var_45', 'var_46', 'var_47', 'var_48', 'var_49', 'var_50', 'var_51', 'var_52', 'var_53', 'var_54', 'var_55', 'var_56', 'var_57', 'var_58', 'var_59', 'var_60', 'var_61', 'var_62', 'var_63', 'var_64', 'var_65', 'var_66', 'var_67', 'var_68', 'var_69', 'var_70', 'var_71', 'var_72', 'var_73', 'var_74', 'var_75', 'var_76', 'var_77', 'var_78', 'var_79', 'var_80', 'var_81', 'var_82', 'var_83', 'var_84', 'var_85', 'var_86', 'var_87', 'var_88', 'var_89', 'var_90', 'var_91', 'var_92', 'var_93', 'var_94', 'var_95', 'var_96', 'var_97', 'var_98', 'var_99', 'var_100', 'var_101', 'var_102', 'var_103', 'var_104', 'var_105', 'var_106', 'var_107', 'var_108', 'var_109', 'var_110', 'var_111', 'var_112', 'var_113', 'var_114', 'var_115', 'var_116', 'var_117', 'var_118', 'var_119', 'var_120', 'var_121', 'var_122', 'var_123', 'var_124', 'var_125', 'var_126', 'var_127', 'var_128', 'var_129', 'var_130', 'var_131', 'var_132', 'var_133', 'var_134', 'var_135', 'var_136', 'var_137', 'var_138', 'var_139', 'var_140', 'var_141', 'var_142', 'var_143', 'var_144', 'var_145', 'var_146', 'var_147', 'var_148', 'var_149', 'var_150', 'var_151', 'var_152', 'var_153', 'var_154', 'var_155', 'var_156', 'var_157', 'var_158', 'var_159', 'var_160', 'var_161', 'var_162', 'var_163', 'var_164', 'var_165', 'var_166', 'var_167', 'var_168', 'var_169', 'var_170', 'var_171', 'var_172', 'var_173', 'var_174', 'var_175', 'var_176', 'var_177', 'var_178', 'var_179', 'var_180', 'var_181', 'var_182', 'var_183', 'var_184', 'var_185', 'var_186', 'var_187', 'var_188', 'var_189', 'var_190', 'var_191', 'var_192', 'var_193', 'var_194', 'var_195', 'var_196', 'var_197', 'var_198', 'var_199']\n",
      "   INFO ->  start training lightgbm model\n",
      "   INFO ->  feature importance\n",
      "   INFO ->       feature  fold_1  fold_2  fold_3  fold_4  fold_5  average\n",
      "0    var_170       7     160      18       8      75     53.6\n",
      "1     var_44      10      88      45      20      60     44.6\n",
      "2     var_81       5     102      50       8      34     39.8\n",
      "3      var_6       9      66      66      12      20     34.6\n",
      "4    var_166       3      58      37      15      46     31.8\n",
      "..       ...     ...     ...     ...     ...     ...      ...\n",
      "195  var_189       0       3       1       0       2      1.2\n",
      "196  var_199       0       4       0       0       2      1.2\n",
      "197   var_89       0       1       0       0       4      1.0\n",
      "198  var_131       0       3       2       0       0      1.0\n",
      "199   var_72       0       1       0       0       0      0.2\n",
      "\n",
      "[200 rows x 7 columns]\n",
      "   INFO ->  start training xgboost model\n"
     ]
    }
   ],
   "source": [
    "sub_reload = autox_reload.get_submit()"
   ]
  },
  {
   "cell_type": "code",
   "execution_count": 5,
   "metadata": {
    "ExecuteTime": {
     "end_time": "2023-01-21T05:11:57.524812Z",
     "start_time": "2023-01-21T05:11:57.510990Z"
    }
   },
   "outputs": [
    {
     "data": {
      "text/html": [
       "<div>\n",
       "<style scoped>\n",
       "    .dataframe tbody tr th:only-of-type {\n",
       "        vertical-align: middle;\n",
       "    }\n",
       "\n",
       "    .dataframe tbody tr th {\n",
       "        vertical-align: top;\n",
       "    }\n",
       "\n",
       "    .dataframe thead th {\n",
       "        text-align: right;\n",
       "    }\n",
       "</style>\n",
       "<table border=\"1\" class=\"dataframe\">\n",
       "  <thead>\n",
       "    <tr style=\"text-align: right;\">\n",
       "      <th></th>\n",
       "      <th>ID_code</th>\n",
       "      <th>target</th>\n",
       "    </tr>\n",
       "  </thead>\n",
       "  <tbody>\n",
       "    <tr>\n",
       "      <th>0</th>\n",
       "      <td>test_80454</td>\n",
       "      <td>0.126624</td>\n",
       "    </tr>\n",
       "    <tr>\n",
       "      <th>1</th>\n",
       "      <td>test_31903</td>\n",
       "      <td>0.153570</td>\n",
       "    </tr>\n",
       "    <tr>\n",
       "      <th>2</th>\n",
       "      <td>test_39613</td>\n",
       "      <td>0.107384</td>\n",
       "    </tr>\n",
       "    <tr>\n",
       "      <th>3</th>\n",
       "      <td>test_54488</td>\n",
       "      <td>0.188306</td>\n",
       "    </tr>\n",
       "    <tr>\n",
       "      <th>4</th>\n",
       "      <td>test_50595</td>\n",
       "      <td>0.127287</td>\n",
       "    </tr>\n",
       "    <tr>\n",
       "      <th>...</th>\n",
       "      <td>...</td>\n",
       "      <td>...</td>\n",
       "    </tr>\n",
       "    <tr>\n",
       "      <th>995</th>\n",
       "      <td>test_151248</td>\n",
       "      <td>0.197025</td>\n",
       "    </tr>\n",
       "    <tr>\n",
       "      <th>996</th>\n",
       "      <td>test_178201</td>\n",
       "      <td>0.128391</td>\n",
       "    </tr>\n",
       "    <tr>\n",
       "      <th>997</th>\n",
       "      <td>test_160985</td>\n",
       "      <td>0.123935</td>\n",
       "    </tr>\n",
       "    <tr>\n",
       "      <th>998</th>\n",
       "      <td>test_21420</td>\n",
       "      <td>0.129070</td>\n",
       "    </tr>\n",
       "    <tr>\n",
       "      <th>999</th>\n",
       "      <td>test_162165</td>\n",
       "      <td>0.110267</td>\n",
       "    </tr>\n",
       "  </tbody>\n",
       "</table>\n",
       "<p>1000 rows × 2 columns</p>\n",
       "</div>"
      ],
      "text/plain": [
       "         ID_code    target\n",
       "0     test_80454  0.126624\n",
       "1     test_31903  0.153570\n",
       "2     test_39613  0.107384\n",
       "3     test_54488  0.188306\n",
       "4     test_50595  0.127287\n",
       "..           ...       ...\n",
       "995  test_151248  0.197025\n",
       "996  test_178201  0.128391\n",
       "997  test_160985  0.123935\n",
       "998   test_21420  0.129070\n",
       "999  test_162165  0.110267\n",
       "\n",
       "[1000 rows x 2 columns]"
      ]
     },
     "execution_count": 5,
     "metadata": {},
     "output_type": "execute_result"
    }
   ],
   "source": [
    "sub_reload"
   ]
  },
  {
   "cell_type": "code",
   "execution_count": null,
   "metadata": {},
   "outputs": [],
   "source": []
  },
  {
   "cell_type": "code",
   "execution_count": null,
   "metadata": {},
   "outputs": [],
   "source": []
  },
  {
   "cell_type": "code",
   "execution_count": null,
   "metadata": {},
   "outputs": [],
   "source": []
  },
  {
   "cell_type": "code",
   "execution_count": null,
   "metadata": {},
   "outputs": [],
   "source": []
  }
 ],
 "metadata": {
  "kernelspec": {
   "display_name": "Python 3",
   "language": "python",
   "name": "python3"
  },
  "language_info": {
   "codemirror_mode": {
    "name": "ipython",
    "version": 3
   },
   "file_extension": ".py",
   "mimetype": "text/x-python",
   "name": "python",
   "nbconvert_exporter": "python",
   "pygments_lexer": "ipython3",
   "version": "3.7.3"
  },
  "toc": {
   "base_numbering": 1,
   "nav_menu": {},
   "number_sections": true,
   "sideBar": true,
   "skip_h1_title": false,
   "title_cell": "Table of Contents",
   "title_sidebar": "Contents",
   "toc_cell": false,
   "toc_position": {},
   "toc_section_display": true,
   "toc_window_display": false
  },
  "varInspector": {
   "cols": {
    "lenName": 16,
    "lenType": 16,
    "lenVar": 40
   },
   "kernels_config": {
    "python": {
     "delete_cmd_postfix": "",
     "delete_cmd_prefix": "del ",
     "library": "var_list.py",
     "varRefreshCmd": "print(var_dic_list())"
    },
    "r": {
     "delete_cmd_postfix": ") ",
     "delete_cmd_prefix": "rm(",
     "library": "var_list.r",
     "varRefreshCmd": "cat(var_dic_list()) "
    }
   },
   "types_to_exclude": [
    "module",
    "function",
    "builtin_function_or_method",
    "instance",
    "_Feature"
   ],
   "window_display": false
  }
 },
 "nbformat": 4,
 "nbformat_minor": 2
}
