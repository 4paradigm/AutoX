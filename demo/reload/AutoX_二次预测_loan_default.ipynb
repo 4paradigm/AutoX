{
 "cells": [
  {
   "cell_type": "markdown",
   "metadata": {},
   "source": [
    "# import包"
   ]
  },
  {
   "cell_type": "code",
   "execution_count": 8,
   "metadata": {
    "ExecuteTime": {
     "end_time": "2023-01-23T12:43:04.856280Z",
     "start_time": "2023-01-23T12:43:04.851382Z"
    },
    "scrolled": true
   },
   "outputs": [],
   "source": [
    "import sys\n",
    "sys.path.append('../AutoX')\n",
    "from autox import AutoX"
   ]
  },
  {
   "cell_type": "code",
   "execution_count": 9,
   "metadata": {
    "ExecuteTime": {
     "end_time": "2023-01-23T12:43:05.320298Z",
     "start_time": "2023-01-23T12:43:05.316387Z"
    }
   },
   "outputs": [],
   "source": [
    "import pandas as pd\n",
    "import numpy as np\n",
    "import os\n",
    "from tqdm import tqdm"
   ]
  },
  {
   "cell_type": "markdown",
   "metadata": {},
   "source": [
    "# 准备数据"
   ]
  },
  {
   "cell_type": "code",
   "execution_count": 10,
   "metadata": {
    "ExecuteTime": {
     "end_time": "2023-01-23T12:43:06.184898Z",
     "start_time": "2023-01-23T12:43:06.181278Z"
    }
   },
   "outputs": [],
   "source": [
    "path = f'../data/loan_default'"
   ]
  },
  {
   "cell_type": "code",
   "execution_count": 11,
   "metadata": {
    "ExecuteTime": {
     "end_time": "2023-01-23T12:43:06.741701Z",
     "start_time": "2023-01-23T12:43:06.687808Z"
    }
   },
   "outputs": [],
   "source": [
    "train = pd.read_csv(f'{path}/train.csv')\n",
    "test  = pd.read_csv(f'{path}/test.csv')"
   ]
  },
  {
   "cell_type": "code",
   "execution_count": 12,
   "metadata": {
    "ExecuteTime": {
     "end_time": "2023-01-23T12:43:07.860984Z",
     "start_time": "2023-01-23T12:43:07.857104Z"
    }
   },
   "outputs": [],
   "source": [
    "test_1 = test.sample(frac = 0.1)\n",
    "test_2 = test.sample(frac = 0.1)"
   ]
  },
  {
   "cell_type": "code",
   "execution_count": 13,
   "metadata": {
    "ExecuteTime": {
     "end_time": "2023-01-23T12:43:09.789465Z",
     "start_time": "2023-01-23T12:43:09.786726Z"
    },
    "scrolled": true
   },
   "outputs": [],
   "source": [
    "test_1.index = range(len(test_1))\n",
    "test_2.index = range(len(test_2))"
   ]
  },
  {
   "cell_type": "markdown",
   "metadata": {},
   "source": [
    "# 执行AutoX"
   ]
  },
  {
   "cell_type": "code",
   "execution_count": 9,
   "metadata": {
    "ExecuteTime": {
     "end_time": "2023-01-23T12:20:35.242037Z",
     "start_time": "2023-01-23T12:20:35.105849Z"
    }
   },
   "outputs": [],
   "source": [
    "autox = AutoX(target = 'Credit Default', train_name = 'train', test_name = 'test', \n",
    "               id = ['Id'], path = None, dfs = {'train': train, 'test': test_1})"
   ]
  },
  {
   "cell_type": "code",
   "execution_count": 10,
   "metadata": {
    "ExecuteTime": {
     "end_time": "2023-01-23T12:20:51.367696Z",
     "start_time": "2023-01-23T12:20:36.966089Z"
    },
    "scrolled": true
   },
   "outputs": [
    {
     "name": "stderr",
     "output_type": "stream",
     "text": [
      "   INFO ->  start feature engineer\n",
      "   INFO ->  feature engineer: one2M\n",
      "   INFO ->  featureOne2M ops: {}\n",
      "   INFO ->  ignore featureOne2M\n",
      "   INFO ->  feature engineer: time\n",
      "   INFO ->  featureTime ops: []\n",
      "0it [00:00, ?it/s]\n",
      "   INFO ->  feature engineer: Cumsum\n",
      "100%|██████████| 2/2 [00:00<00:00, 39.62it/s]\n",
      "   INFO ->  this cols with inf data, del them: ['Years in current job__Annual Income__cumsum', 'Years in current job__Tax Liens__cumsum', 'Years in current job__Number of Open Accounts__cumsum', 'Years in current job__Years of Credit History__cumsum', 'Years in current job__Maximum Open Credit__cumsum', 'Years in current job__Number of Credit Problems__cumsum', 'Years in current job__Months since last delinquent__cumsum', 'Years in current job__Bankruptcies__cumsum', 'Years in current job__Current Loan Amount__cumsum', 'Years in current job__Current Credit Balance__cumsum', 'Years in current job__Monthly Debt__cumsum', 'Years in current job__Credit Score__cumsum', 'Purpose__Annual Income__cumsum', 'Purpose__Tax Liens__cumsum', 'Purpose__Number of Open Accounts__cumsum', 'Purpose__Years of Credit History__cumsum', 'Purpose__Maximum Open Credit__cumsum', 'Purpose__Number of Credit Problems__cumsum', 'Purpose__Months since last delinquent__cumsum', 'Purpose__Bankruptcies__cumsum', 'Purpose__Current Loan Amount__cumsum', 'Purpose__Current Credit Balance__cumsum', 'Purpose__Monthly Debt__cumsum', 'Purpose__Credit Score__cumsum']\n",
      "   INFO ->  featureCumsum ops: {'Years in current job': ['Annual Income', 'Tax Liens', 'Number of Open Accounts', 'Years of Credit History', 'Maximum Open Credit', 'Number of Credit Problems', 'Months since last delinquent', 'Bankruptcies', 'Current Loan Amount', 'Current Credit Balance', 'Monthly Debt', 'Credit Score'], 'Purpose': ['Annual Income', 'Tax Liens', 'Number of Open Accounts', 'Years of Credit History', 'Maximum Open Credit', 'Number of Credit Problems', 'Months since last delinquent', 'Bankruptcies', 'Current Loan Amount', 'Current Credit Balance', 'Monthly Debt', 'Credit Score']}\n",
      "   INFO ->  feature engineer: Shift\n",
      "100%|██████████| 2/2 [00:00<00:00,  5.57it/s]\n",
      "   INFO ->  featureShift ops: {'Years in current job': ['Annual Income', 'Tax Liens', 'Number of Open Accounts', 'Years of Credit History', 'Maximum Open Credit', 'Number of Credit Problems', 'Months since last delinquent', 'Bankruptcies', 'Current Loan Amount', 'Current Credit Balance', 'Monthly Debt', 'Credit Score'], 'Purpose': ['Annual Income', 'Tax Liens', 'Number of Open Accounts', 'Years of Credit History', 'Maximum Open Credit', 'Number of Credit Problems', 'Months since last delinquent', 'Bankruptcies', 'Current Loan Amount', 'Current Credit Balance', 'Monthly Debt', 'Credit Score']}\n",
      "   INFO ->  feature engineer: Diff\n",
      "100%|██████████| 2/2 [00:00<00:00,  3.34it/s]\n",
      "   INFO ->  featureDiff ops: {'Years in current job': ['Annual Income', 'Tax Liens', 'Number of Open Accounts', 'Years of Credit History', 'Maximum Open Credit', 'Number of Credit Problems', 'Months since last delinquent', 'Bankruptcies', 'Current Loan Amount', 'Current Credit Balance', 'Monthly Debt', 'Credit Score'], 'Purpose': ['Annual Income', 'Tax Liens', 'Number of Open Accounts', 'Years of Credit History', 'Maximum Open Credit', 'Number of Credit Problems', 'Months since last delinquent', 'Bankruptcies', 'Current Loan Amount', 'Current Credit Balance', 'Monthly Debt', 'Credit Score']}\n",
      "   INFO ->  feature engineer: Stat\n",
      "100%|██████████| 2/2 [00:00<00:00,  8.70it/s]\n",
      "   INFO ->  featureStat ops: {'Years in current job': {'Home Ownership': ['nunique'], 'Annual Income': ['mean', 'min', 'max', 'median', 'std'], 'Tax Liens': ['mean', 'min', 'max', 'median', 'std'], 'Number of Open Accounts': ['mean', 'min', 'max', 'median', 'std'], 'Years of Credit History': ['mean', 'min', 'max', 'median', 'std'], 'Maximum Open Credit': ['mean', 'min', 'max', 'median', 'std'], 'Number of Credit Problems': ['mean', 'min', 'max', 'median', 'std'], 'Months since last delinquent': ['mean', 'min', 'max', 'median', 'std'], 'Bankruptcies': ['mean', 'min', 'max', 'median', 'std'], 'Purpose': ['nunique'], 'Term': ['nunique'], 'Current Loan Amount': ['mean', 'min', 'max', 'median', 'std'], 'Current Credit Balance': ['mean', 'min', 'max', 'median', 'std'], 'Monthly Debt': ['mean', 'min', 'max', 'median', 'std'], 'Credit Score': ['mean', 'min', 'max', 'median', 'std']}, 'Purpose': {'Home Ownership': ['nunique'], 'Annual Income': ['mean', 'min', 'max', 'median', 'std'], 'Years in current job': ['nunique'], 'Tax Liens': ['mean', 'min', 'max', 'median', 'std'], 'Number of Open Accounts': ['mean', 'min', 'max', 'median', 'std'], 'Years of Credit History': ['mean', 'min', 'max', 'median', 'std'], 'Maximum Open Credit': ['mean', 'min', 'max', 'median', 'std'], 'Number of Credit Problems': ['mean', 'min', 'max', 'median', 'std'], 'Months since last delinquent': ['mean', 'min', 'max', 'median', 'std'], 'Bankruptcies': ['mean', 'min', 'max', 'median', 'std'], 'Term': ['nunique'], 'Current Loan Amount': ['mean', 'min', 'max', 'median', 'std'], 'Current Credit Balance': ['mean', 'min', 'max', 'median', 'std'], 'Monthly Debt': ['mean', 'min', 'max', 'median', 'std'], 'Credit Score': ['mean', 'min', 'max', 'median', 'std']}}\n",
      "   INFO ->  feature engineer: NLP\n",
      "0it [00:00, ?it/s]\n",
      "   INFO ->  featureNlp ops: []\n",
      "   INFO ->  feature engineer: Count\n",
      "100%|██████████| 16/16 [00:00<00:00, 125.82it/s]\n",
      "   INFO ->  featureCount ops: [['Home Ownership', 'Years in current job'], ['Home Ownership', 'Purpose'], ['Home Ownership', 'Term'], ['Years in current job', 'Home Ownership'], ['Years in current job', 'Purpose'], ['Years in current job', 'Term'], ['Purpose', 'Home Ownership'], ['Purpose', 'Years in current job'], ['Purpose', 'Term'], ['Term', 'Home Ownership'], ['Term', 'Years in current job'], ['Term', 'Purpose'], ['Home Ownership'], ['Years in current job'], ['Purpose'], ['Term']]\n",
      "   INFO ->  feature engineer: Rank\n",
      "100%|██████████| 2/2 [00:00<00:00, 37.00it/s]\n",
      "   INFO ->  featureRank ops: {'Years in current job': {'Id': ['rank'], 'Annual Income': ['rank'], 'Tax Liens': ['rank'], 'Number of Open Accounts': ['rank'], 'Years of Credit History': ['rank'], 'Maximum Open Credit': ['rank'], 'Number of Credit Problems': ['rank'], 'Months since last delinquent': ['rank'], 'Bankruptcies': ['rank'], 'Current Loan Amount': ['rank'], 'Current Credit Balance': ['rank'], 'Monthly Debt': ['rank'], 'Credit Score': ['rank'], 'Credit Default': ['rank']}, 'Purpose': {'Id': ['rank'], 'Annual Income': ['rank'], 'Tax Liens': ['rank'], 'Number of Open Accounts': ['rank'], 'Years of Credit History': ['rank'], 'Maximum Open Credit': ['rank'], 'Number of Credit Problems': ['rank'], 'Months since last delinquent': ['rank'], 'Bankruptcies': ['rank'], 'Current Loan Amount': ['rank'], 'Current Credit Balance': ['rank'], 'Monthly Debt': ['rank'], 'Credit Score': ['rank'], 'Credit Default': ['rank']}}\n",
      "   INFO ->  feature engineer: Image\n",
      "   INFO ->  ignore image feature\n",
      "100%|██████████| 18/18 [00:00<00:00, 1639.22it/s]\n",
      "   INFO ->  label_encoder_list: ['Home Ownership', 'Years in current job', 'Purpose', 'Term']\n",
      "   INFO ->  ordinal_encoder_list: []\n",
      "   INFO ->  feature combination\n",
      "100%|██████████| 9/9 [00:00<00:00, 95.52it/s]\n",
      "   INFO ->  shape of FE_all: (7750, 764), shape of train: (7500, 764), shape of test: (250, 764)\n",
      "   INFO ->  feature filter\n",
      "100%|██████████| 760/760 [00:01<00:00, 538.18it/s]\n",
      "   INFO ->  filtered features: ['Id', 'Credit Default', 'Years in current job__Tax Liens__min', 'Years in current job__Tax Liens__median', 'Years in current job__Maximum Open Credit__min', 'Years in current job__Number of Credit Problems__min', 'Years in current job__Number of Credit Problems__median', 'Years in current job__Bankruptcies__min', 'Years in current job__Bankruptcies__median', 'Years in current job__Term__nunique', 'Years in current job__Current Loan Amount__max', 'Years in current job__Current Credit Balance__min', 'Purpose__Tax Liens__min', 'Purpose__Tax Liens__median', 'Purpose__Number of Credit Problems__min', 'Purpose__Number of Credit Problems__median', 'Purpose__Bankruptcies__min', 'Purpose__Bankruptcies__median', 'Purpose__Term__nunique', 'Years in current job__Credit Default__rank', 'Purpose__Credit Default__rank']\n",
      "   INFO ->  used_features: ['Annual Income', 'Tax Liens', 'Number of Open Accounts', 'Years of Credit History', 'Maximum Open Credit', 'Number of Credit Problems', 'Months since last delinquent', 'Bankruptcies', 'Current Loan Amount', 'Current Credit Balance', 'Monthly Debt', 'Credit Score', 'COUNT_Home Ownership__Years in current job', 'COUNT_Home Ownership__Purpose', 'COUNT_Home Ownership__Term', 'COUNT_Years in current job__Home Ownership', 'COUNT_Years in current job__Purpose', 'COUNT_Years in current job__Term', 'COUNT_Purpose__Home Ownership', 'COUNT_Purpose__Years in current job', 'COUNT_Purpose__Term', 'COUNT_Term__Home Ownership', 'COUNT_Term__Years in current job', 'COUNT_Term__Purpose', 'COUNT_Home Ownership', 'COUNT_Years in current job', 'COUNT_Purpose', 'COUNT_Term', 'Years in current job__Home Ownership__nunique', 'Years in current job__Annual Income__mean', 'Years in current job__Annual Income__min', 'Years in current job__Annual Income__max', 'Years in current job__Annual Income__median', 'Years in current job__Annual Income__std', 'Years in current job__Tax Liens__mean', 'Years in current job__Tax Liens__max', 'Years in current job__Tax Liens__std', 'Years in current job__Number of Open Accounts__mean', 'Years in current job__Number of Open Accounts__min', 'Years in current job__Number of Open Accounts__max', 'Years in current job__Number of Open Accounts__median', 'Years in current job__Number of Open Accounts__std', 'Years in current job__Years of Credit History__mean', 'Years in current job__Years of Credit History__min', 'Years in current job__Years of Credit History__max', 'Years in current job__Years of Credit History__median', 'Years in current job__Years of Credit History__std', 'Years in current job__Maximum Open Credit__mean', 'Years in current job__Maximum Open Credit__max', 'Years in current job__Maximum Open Credit__median', 'Years in current job__Maximum Open Credit__std', 'Years in current job__Number of Credit Problems__mean', 'Years in current job__Number of Credit Problems__max', 'Years in current job__Number of Credit Problems__std', 'Years in current job__Months since last delinquent__mean', 'Years in current job__Months since last delinquent__min', 'Years in current job__Months since last delinquent__max', 'Years in current job__Months since last delinquent__median', 'Years in current job__Months since last delinquent__std', 'Years in current job__Bankruptcies__mean', 'Years in current job__Bankruptcies__max', 'Years in current job__Bankruptcies__std', 'Years in current job__Purpose__nunique', 'Years in current job__Current Loan Amount__mean', 'Years in current job__Current Loan Amount__min', 'Years in current job__Current Loan Amount__median', 'Years in current job__Current Loan Amount__std', 'Years in current job__Current Credit Balance__mean', 'Years in current job__Current Credit Balance__max', 'Years in current job__Current Credit Balance__median', 'Years in current job__Current Credit Balance__std', 'Years in current job__Monthly Debt__mean', 'Years in current job__Monthly Debt__min', 'Years in current job__Monthly Debt__max', 'Years in current job__Monthly Debt__median', 'Years in current job__Monthly Debt__std', 'Years in current job__Credit Score__mean', 'Years in current job__Credit Score__min', 'Years in current job__Credit Score__max', 'Years in current job__Credit Score__median', 'Years in current job__Credit Score__std', 'Purpose__Home Ownership__nunique', 'Purpose__Annual Income__mean', 'Purpose__Annual Income__min', 'Purpose__Annual Income__max', 'Purpose__Annual Income__median', 'Purpose__Annual Income__std', 'Purpose__Years in current job__nunique', 'Purpose__Tax Liens__mean', 'Purpose__Tax Liens__max', 'Purpose__Tax Liens__std', 'Purpose__Number of Open Accounts__mean', 'Purpose__Number of Open Accounts__min', 'Purpose__Number of Open Accounts__max', 'Purpose__Number of Open Accounts__median', 'Purpose__Number of Open Accounts__std', 'Purpose__Years of Credit History__mean', 'Purpose__Years of Credit History__min', 'Purpose__Years of Credit History__max', 'Purpose__Years of Credit History__median', 'Purpose__Years of Credit History__std', 'Purpose__Maximum Open Credit__mean', 'Purpose__Maximum Open Credit__min', 'Purpose__Maximum Open Credit__max', 'Purpose__Maximum Open Credit__median', 'Purpose__Maximum Open Credit__std', 'Purpose__Number of Credit Problems__mean', 'Purpose__Number of Credit Problems__max', 'Purpose__Number of Credit Problems__std', 'Purpose__Months since last delinquent__mean', 'Purpose__Months since last delinquent__min', 'Purpose__Months since last delinquent__max', 'Purpose__Months since last delinquent__median', 'Purpose__Months since last delinquent__std', 'Purpose__Bankruptcies__mean', 'Purpose__Bankruptcies__max', 'Purpose__Bankruptcies__std', 'Purpose__Current Loan Amount__mean', 'Purpose__Current Loan Amount__min', 'Purpose__Current Loan Amount__max', 'Purpose__Current Loan Amount__median', 'Purpose__Current Loan Amount__std', 'Purpose__Current Credit Balance__mean', 'Purpose__Current Credit Balance__min', 'Purpose__Current Credit Balance__max', 'Purpose__Current Credit Balance__median', 'Purpose__Current Credit Balance__std', 'Purpose__Monthly Debt__mean', 'Purpose__Monthly Debt__min', 'Purpose__Monthly Debt__max', 'Purpose__Monthly Debt__median', 'Purpose__Monthly Debt__std', 'Purpose__Credit Score__mean', 'Purpose__Credit Score__min', 'Purpose__Credit Score__max', 'Purpose__Credit Score__median', 'Purpose__Credit Score__std', 'Years in current job__Id__rank', 'Years in current job__Annual Income__rank', 'Years in current job__Tax Liens__rank', 'Years in current job__Number of Open Accounts__rank', 'Years in current job__Years of Credit History__rank', 'Years in current job__Maximum Open Credit__rank', 'Years in current job__Number of Credit Problems__rank', 'Years in current job__Months since last delinquent__rank', 'Years in current job__Bankruptcies__rank', 'Years in current job__Current Loan Amount__rank', 'Years in current job__Current Credit Balance__rank', 'Years in current job__Monthly Debt__rank', 'Years in current job__Credit Score__rank', 'Purpose__Id__rank', 'Purpose__Annual Income__rank', 'Purpose__Tax Liens__rank', 'Purpose__Number of Open Accounts__rank', 'Purpose__Years of Credit History__rank', 'Purpose__Maximum Open Credit__rank', 'Purpose__Number of Credit Problems__rank', 'Purpose__Months since last delinquent__rank', 'Purpose__Bankruptcies__rank', 'Purpose__Current Loan Amount__rank', 'Purpose__Current Credit Balance__rank', 'Purpose__Monthly Debt__rank', 'Purpose__Credit Score__rank', 'Years in current job__Annual Income__shift__-30', 'Years in current job__Annual Income__shift__-24', 'Years in current job__Annual Income__shift__-7', 'Years in current job__Annual Income__shift__-3', 'Years in current job__Annual Income__shift__-2', 'Years in current job__Annual Income__shift__-1', 'Years in current job__Annual Income__shift__1', 'Years in current job__Annual Income__shift__2', 'Years in current job__Annual Income__shift__3', 'Years in current job__Annual Income__shift__7', 'Years in current job__Annual Income__shift__24', 'Years in current job__Annual Income__shift__30', 'Years in current job__Tax Liens__shift__-30', 'Years in current job__Tax Liens__shift__-24', 'Years in current job__Tax Liens__shift__-7', 'Years in current job__Tax Liens__shift__-3', 'Years in current job__Tax Liens__shift__-2', 'Years in current job__Tax Liens__shift__-1', 'Years in current job__Tax Liens__shift__1', 'Years in current job__Tax Liens__shift__2', 'Years in current job__Tax Liens__shift__3', 'Years in current job__Tax Liens__shift__7', 'Years in current job__Tax Liens__shift__24', 'Years in current job__Tax Liens__shift__30', 'Years in current job__Number of Open Accounts__shift__-30', 'Years in current job__Number of Open Accounts__shift__-24', 'Years in current job__Number of Open Accounts__shift__-7', 'Years in current job__Number of Open Accounts__shift__-3', 'Years in current job__Number of Open Accounts__shift__-2', 'Years in current job__Number of Open Accounts__shift__-1', 'Years in current job__Number of Open Accounts__shift__1', 'Years in current job__Number of Open Accounts__shift__2', 'Years in current job__Number of Open Accounts__shift__3', 'Years in current job__Number of Open Accounts__shift__7', 'Years in current job__Number of Open Accounts__shift__24', 'Years in current job__Number of Open Accounts__shift__30', 'Years in current job__Years of Credit History__shift__-30', 'Years in current job__Years of Credit History__shift__-24', 'Years in current job__Years of Credit History__shift__-7', 'Years in current job__Years of Credit History__shift__-3', 'Years in current job__Years of Credit History__shift__-2', 'Years in current job__Years of Credit History__shift__-1', 'Years in current job__Years of Credit History__shift__1', 'Years in current job__Years of Credit History__shift__2', 'Years in current job__Years of Credit History__shift__3', 'Years in current job__Years of Credit History__shift__7', 'Years in current job__Years of Credit History__shift__24', 'Years in current job__Years of Credit History__shift__30', 'Years in current job__Maximum Open Credit__shift__-30', 'Years in current job__Maximum Open Credit__shift__-24', 'Years in current job__Maximum Open Credit__shift__-7', 'Years in current job__Maximum Open Credit__shift__-3', 'Years in current job__Maximum Open Credit__shift__-2', 'Years in current job__Maximum Open Credit__shift__-1', 'Years in current job__Maximum Open Credit__shift__1', 'Years in current job__Maximum Open Credit__shift__2', 'Years in current job__Maximum Open Credit__shift__3', 'Years in current job__Maximum Open Credit__shift__7', 'Years in current job__Maximum Open Credit__shift__24', 'Years in current job__Maximum Open Credit__shift__30', 'Years in current job__Number of Credit Problems__shift__-30', 'Years in current job__Number of Credit Problems__shift__-24', 'Years in current job__Number of Credit Problems__shift__-7', 'Years in current job__Number of Credit Problems__shift__-3', 'Years in current job__Number of Credit Problems__shift__-2', 'Years in current job__Number of Credit Problems__shift__-1', 'Years in current job__Number of Credit Problems__shift__1', 'Years in current job__Number of Credit Problems__shift__2', 'Years in current job__Number of Credit Problems__shift__3', 'Years in current job__Number of Credit Problems__shift__7', 'Years in current job__Number of Credit Problems__shift__24', 'Years in current job__Number of Credit Problems__shift__30', 'Years in current job__Months since last delinquent__shift__-30', 'Years in current job__Months since last delinquent__shift__-24', 'Years in current job__Months since last delinquent__shift__-7', 'Years in current job__Months since last delinquent__shift__-3', 'Years in current job__Months since last delinquent__shift__-2', 'Years in current job__Months since last delinquent__shift__-1', 'Years in current job__Months since last delinquent__shift__1', 'Years in current job__Months since last delinquent__shift__2', 'Years in current job__Months since last delinquent__shift__3', 'Years in current job__Months since last delinquent__shift__7', 'Years in current job__Months since last delinquent__shift__24', 'Years in current job__Months since last delinquent__shift__30', 'Years in current job__Bankruptcies__shift__-30', 'Years in current job__Bankruptcies__shift__-24', 'Years in current job__Bankruptcies__shift__-7', 'Years in current job__Bankruptcies__shift__-3', 'Years in current job__Bankruptcies__shift__-2', 'Years in current job__Bankruptcies__shift__-1', 'Years in current job__Bankruptcies__shift__1', 'Years in current job__Bankruptcies__shift__2', 'Years in current job__Bankruptcies__shift__3', 'Years in current job__Bankruptcies__shift__7', 'Years in current job__Bankruptcies__shift__24', 'Years in current job__Bankruptcies__shift__30', 'Years in current job__Current Loan Amount__shift__-30', 'Years in current job__Current Loan Amount__shift__-24', 'Years in current job__Current Loan Amount__shift__-7', 'Years in current job__Current Loan Amount__shift__-3', 'Years in current job__Current Loan Amount__shift__-2', 'Years in current job__Current Loan Amount__shift__-1', 'Years in current job__Current Loan Amount__shift__1', 'Years in current job__Current Loan Amount__shift__2', 'Years in current job__Current Loan Amount__shift__3', 'Years in current job__Current Loan Amount__shift__7', 'Years in current job__Current Loan Amount__shift__24', 'Years in current job__Current Loan Amount__shift__30', 'Years in current job__Current Credit Balance__shift__-30', 'Years in current job__Current Credit Balance__shift__-24', 'Years in current job__Current Credit Balance__shift__-7', 'Years in current job__Current Credit Balance__shift__-3', 'Years in current job__Current Credit Balance__shift__-2', 'Years in current job__Current Credit Balance__shift__-1', 'Years in current job__Current Credit Balance__shift__1', 'Years in current job__Current Credit Balance__shift__2', 'Years in current job__Current Credit Balance__shift__3', 'Years in current job__Current Credit Balance__shift__7', 'Years in current job__Current Credit Balance__shift__24', 'Years in current job__Current Credit Balance__shift__30', 'Years in current job__Monthly Debt__shift__-30', 'Years in current job__Monthly Debt__shift__-24', 'Years in current job__Monthly Debt__shift__-7', 'Years in current job__Monthly Debt__shift__-3', 'Years in current job__Monthly Debt__shift__-2', 'Years in current job__Monthly Debt__shift__-1', 'Years in current job__Monthly Debt__shift__1', 'Years in current job__Monthly Debt__shift__2', 'Years in current job__Monthly Debt__shift__3', 'Years in current job__Monthly Debt__shift__7', 'Years in current job__Monthly Debt__shift__24', 'Years in current job__Monthly Debt__shift__30', 'Years in current job__Credit Score__shift__-30', 'Years in current job__Credit Score__shift__-24', 'Years in current job__Credit Score__shift__-7', 'Years in current job__Credit Score__shift__-3', 'Years in current job__Credit Score__shift__-2', 'Years in current job__Credit Score__shift__-1', 'Years in current job__Credit Score__shift__1', 'Years in current job__Credit Score__shift__2', 'Years in current job__Credit Score__shift__3', 'Years in current job__Credit Score__shift__7', 'Years in current job__Credit Score__shift__24', 'Years in current job__Credit Score__shift__30', 'Purpose__Annual Income__shift__-30', 'Purpose__Annual Income__shift__-24', 'Purpose__Annual Income__shift__-7', 'Purpose__Annual Income__shift__-3', 'Purpose__Annual Income__shift__-2', 'Purpose__Annual Income__shift__-1', 'Purpose__Annual Income__shift__1', 'Purpose__Annual Income__shift__2', 'Purpose__Annual Income__shift__3', 'Purpose__Annual Income__shift__7', 'Purpose__Annual Income__shift__24', 'Purpose__Annual Income__shift__30', 'Purpose__Tax Liens__shift__-30', 'Purpose__Tax Liens__shift__-24', 'Purpose__Tax Liens__shift__-7', 'Purpose__Tax Liens__shift__-3', 'Purpose__Tax Liens__shift__-2', 'Purpose__Tax Liens__shift__-1', 'Purpose__Tax Liens__shift__1', 'Purpose__Tax Liens__shift__2', 'Purpose__Tax Liens__shift__3', 'Purpose__Tax Liens__shift__7', 'Purpose__Tax Liens__shift__24', 'Purpose__Tax Liens__shift__30', 'Purpose__Number of Open Accounts__shift__-30', 'Purpose__Number of Open Accounts__shift__-24', 'Purpose__Number of Open Accounts__shift__-7', 'Purpose__Number of Open Accounts__shift__-3', 'Purpose__Number of Open Accounts__shift__-2', 'Purpose__Number of Open Accounts__shift__-1', 'Purpose__Number of Open Accounts__shift__1', 'Purpose__Number of Open Accounts__shift__2', 'Purpose__Number of Open Accounts__shift__3', 'Purpose__Number of Open Accounts__shift__7', 'Purpose__Number of Open Accounts__shift__24', 'Purpose__Number of Open Accounts__shift__30', 'Purpose__Years of Credit History__shift__-30', 'Purpose__Years of Credit History__shift__-24', 'Purpose__Years of Credit History__shift__-7', 'Purpose__Years of Credit History__shift__-3', 'Purpose__Years of Credit History__shift__-2', 'Purpose__Years of Credit History__shift__-1', 'Purpose__Years of Credit History__shift__1', 'Purpose__Years of Credit History__shift__2', 'Purpose__Years of Credit History__shift__3', 'Purpose__Years of Credit History__shift__7', 'Purpose__Years of Credit History__shift__24', 'Purpose__Years of Credit History__shift__30', 'Purpose__Maximum Open Credit__shift__-30', 'Purpose__Maximum Open Credit__shift__-24', 'Purpose__Maximum Open Credit__shift__-7', 'Purpose__Maximum Open Credit__shift__-3', 'Purpose__Maximum Open Credit__shift__-2', 'Purpose__Maximum Open Credit__shift__-1', 'Purpose__Maximum Open Credit__shift__1', 'Purpose__Maximum Open Credit__shift__2', 'Purpose__Maximum Open Credit__shift__3', 'Purpose__Maximum Open Credit__shift__7', 'Purpose__Maximum Open Credit__shift__24', 'Purpose__Maximum Open Credit__shift__30', 'Purpose__Number of Credit Problems__shift__-30', 'Purpose__Number of Credit Problems__shift__-24', 'Purpose__Number of Credit Problems__shift__-7', 'Purpose__Number of Credit Problems__shift__-3', 'Purpose__Number of Credit Problems__shift__-2', 'Purpose__Number of Credit Problems__shift__-1', 'Purpose__Number of Credit Problems__shift__1', 'Purpose__Number of Credit Problems__shift__2', 'Purpose__Number of Credit Problems__shift__3', 'Purpose__Number of Credit Problems__shift__7', 'Purpose__Number of Credit Problems__shift__24', 'Purpose__Number of Credit Problems__shift__30', 'Purpose__Months since last delinquent__shift__-30', 'Purpose__Months since last delinquent__shift__-24', 'Purpose__Months since last delinquent__shift__-7', 'Purpose__Months since last delinquent__shift__-3', 'Purpose__Months since last delinquent__shift__-2', 'Purpose__Months since last delinquent__shift__-1', 'Purpose__Months since last delinquent__shift__1', 'Purpose__Months since last delinquent__shift__2', 'Purpose__Months since last delinquent__shift__3', 'Purpose__Months since last delinquent__shift__7', 'Purpose__Months since last delinquent__shift__24', 'Purpose__Months since last delinquent__shift__30', 'Purpose__Bankruptcies__shift__-30', 'Purpose__Bankruptcies__shift__-24', 'Purpose__Bankruptcies__shift__-7', 'Purpose__Bankruptcies__shift__-3', 'Purpose__Bankruptcies__shift__-2', 'Purpose__Bankruptcies__shift__-1', 'Purpose__Bankruptcies__shift__1', 'Purpose__Bankruptcies__shift__2', 'Purpose__Bankruptcies__shift__3', 'Purpose__Bankruptcies__shift__7', 'Purpose__Bankruptcies__shift__24', 'Purpose__Bankruptcies__shift__30', 'Purpose__Current Loan Amount__shift__-30', 'Purpose__Current Loan Amount__shift__-24', 'Purpose__Current Loan Amount__shift__-7', 'Purpose__Current Loan Amount__shift__-3', 'Purpose__Current Loan Amount__shift__-2', 'Purpose__Current Loan Amount__shift__-1', 'Purpose__Current Loan Amount__shift__1', 'Purpose__Current Loan Amount__shift__2', 'Purpose__Current Loan Amount__shift__3', 'Purpose__Current Loan Amount__shift__7', 'Purpose__Current Loan Amount__shift__24', 'Purpose__Current Loan Amount__shift__30', 'Purpose__Current Credit Balance__shift__-30', 'Purpose__Current Credit Balance__shift__-24', 'Purpose__Current Credit Balance__shift__-7', 'Purpose__Current Credit Balance__shift__-3', 'Purpose__Current Credit Balance__shift__-2', 'Purpose__Current Credit Balance__shift__-1', 'Purpose__Current Credit Balance__shift__1', 'Purpose__Current Credit Balance__shift__2', 'Purpose__Current Credit Balance__shift__3', 'Purpose__Current Credit Balance__shift__7', 'Purpose__Current Credit Balance__shift__24', 'Purpose__Current Credit Balance__shift__30', 'Purpose__Monthly Debt__shift__-30', 'Purpose__Monthly Debt__shift__-24', 'Purpose__Monthly Debt__shift__-7', 'Purpose__Monthly Debt__shift__-3', 'Purpose__Monthly Debt__shift__-2', 'Purpose__Monthly Debt__shift__-1', 'Purpose__Monthly Debt__shift__1', 'Purpose__Monthly Debt__shift__2', 'Purpose__Monthly Debt__shift__3', 'Purpose__Monthly Debt__shift__7', 'Purpose__Monthly Debt__shift__24', 'Purpose__Monthly Debt__shift__30', 'Purpose__Credit Score__shift__-30', 'Purpose__Credit Score__shift__-24', 'Purpose__Credit Score__shift__-7', 'Purpose__Credit Score__shift__-3', 'Purpose__Credit Score__shift__-2', 'Purpose__Credit Score__shift__-1', 'Purpose__Credit Score__shift__1', 'Purpose__Credit Score__shift__2', 'Purpose__Credit Score__shift__3', 'Purpose__Credit Score__shift__7', 'Purpose__Credit Score__shift__24', 'Purpose__Credit Score__shift__30', 'Years in current job__Annual Income__diff__-30', 'Years in current job__Annual Income__diff__-24', 'Years in current job__Annual Income__diff__-7', 'Years in current job__Annual Income__diff__-3', 'Years in current job__Annual Income__diff__-2', 'Years in current job__Annual Income__diff__-1', 'Years in current job__Annual Income__diff__1', 'Years in current job__Annual Income__diff__2', 'Years in current job__Annual Income__diff__3', 'Years in current job__Annual Income__diff__7', 'Years in current job__Annual Income__diff__24', 'Years in current job__Annual Income__diff__30', 'Years in current job__Tax Liens__diff__-30', 'Years in current job__Tax Liens__diff__-24', 'Years in current job__Tax Liens__diff__-7', 'Years in current job__Tax Liens__diff__-3', 'Years in current job__Tax Liens__diff__-2', 'Years in current job__Tax Liens__diff__-1', 'Years in current job__Tax Liens__diff__1', 'Years in current job__Tax Liens__diff__2', 'Years in current job__Tax Liens__diff__3', 'Years in current job__Tax Liens__diff__7', 'Years in current job__Tax Liens__diff__24', 'Years in current job__Tax Liens__diff__30', 'Years in current job__Number of Open Accounts__diff__-30', 'Years in current job__Number of Open Accounts__diff__-24', 'Years in current job__Number of Open Accounts__diff__-7', 'Years in current job__Number of Open Accounts__diff__-3', 'Years in current job__Number of Open Accounts__diff__-2', 'Years in current job__Number of Open Accounts__diff__-1', 'Years in current job__Number of Open Accounts__diff__1', 'Years in current job__Number of Open Accounts__diff__2', 'Years in current job__Number of Open Accounts__diff__3', 'Years in current job__Number of Open Accounts__diff__7', 'Years in current job__Number of Open Accounts__diff__24', 'Years in current job__Number of Open Accounts__diff__30', 'Years in current job__Years of Credit History__diff__-30', 'Years in current job__Years of Credit History__diff__-24', 'Years in current job__Years of Credit History__diff__-7', 'Years in current job__Years of Credit History__diff__-3', 'Years in current job__Years of Credit History__diff__-2', 'Years in current job__Years of Credit History__diff__-1', 'Years in current job__Years of Credit History__diff__1', 'Years in current job__Years of Credit History__diff__2', 'Years in current job__Years of Credit History__diff__3', 'Years in current job__Years of Credit History__diff__7', 'Years in current job__Years of Credit History__diff__24', 'Years in current job__Years of Credit History__diff__30', 'Years in current job__Maximum Open Credit__diff__-30', 'Years in current job__Maximum Open Credit__diff__-24', 'Years in current job__Maximum Open Credit__diff__-7', 'Years in current job__Maximum Open Credit__diff__-3', 'Years in current job__Maximum Open Credit__diff__-2', 'Years in current job__Maximum Open Credit__diff__-1', 'Years in current job__Maximum Open Credit__diff__1', 'Years in current job__Maximum Open Credit__diff__2', 'Years in current job__Maximum Open Credit__diff__3', 'Years in current job__Maximum Open Credit__diff__7', 'Years in current job__Maximum Open Credit__diff__24', 'Years in current job__Maximum Open Credit__diff__30', 'Years in current job__Number of Credit Problems__diff__-30', 'Years in current job__Number of Credit Problems__diff__-24', 'Years in current job__Number of Credit Problems__diff__-7', 'Years in current job__Number of Credit Problems__diff__-3', 'Years in current job__Number of Credit Problems__diff__-2', 'Years in current job__Number of Credit Problems__diff__-1', 'Years in current job__Number of Credit Problems__diff__1', 'Years in current job__Number of Credit Problems__diff__2', 'Years in current job__Number of Credit Problems__diff__3', 'Years in current job__Number of Credit Problems__diff__7', 'Years in current job__Number of Credit Problems__diff__24', 'Years in current job__Number of Credit Problems__diff__30', 'Years in current job__Months since last delinquent__diff__-30', 'Years in current job__Months since last delinquent__diff__-24', 'Years in current job__Months since last delinquent__diff__-7', 'Years in current job__Months since last delinquent__diff__-3', 'Years in current job__Months since last delinquent__diff__-2', 'Years in current job__Months since last delinquent__diff__-1', 'Years in current job__Months since last delinquent__diff__1', 'Years in current job__Months since last delinquent__diff__2', 'Years in current job__Months since last delinquent__diff__3', 'Years in current job__Months since last delinquent__diff__7', 'Years in current job__Months since last delinquent__diff__24', 'Years in current job__Months since last delinquent__diff__30', 'Years in current job__Bankruptcies__diff__-30', 'Years in current job__Bankruptcies__diff__-24', 'Years in current job__Bankruptcies__diff__-7', 'Years in current job__Bankruptcies__diff__-3', 'Years in current job__Bankruptcies__diff__-2', 'Years in current job__Bankruptcies__diff__-1', 'Years in current job__Bankruptcies__diff__1', 'Years in current job__Bankruptcies__diff__2', 'Years in current job__Bankruptcies__diff__3', 'Years in current job__Bankruptcies__diff__7', 'Years in current job__Bankruptcies__diff__24', 'Years in current job__Bankruptcies__diff__30', 'Years in current job__Current Loan Amount__diff__-30', 'Years in current job__Current Loan Amount__diff__-24', 'Years in current job__Current Loan Amount__diff__-7', 'Years in current job__Current Loan Amount__diff__-3', 'Years in current job__Current Loan Amount__diff__-2', 'Years in current job__Current Loan Amount__diff__-1', 'Years in current job__Current Loan Amount__diff__1', 'Years in current job__Current Loan Amount__diff__2', 'Years in current job__Current Loan Amount__diff__3', 'Years in current job__Current Loan Amount__diff__7', 'Years in current job__Current Loan Amount__diff__24', 'Years in current job__Current Loan Amount__diff__30', 'Years in current job__Current Credit Balance__diff__-30', 'Years in current job__Current Credit Balance__diff__-24', 'Years in current job__Current Credit Balance__diff__-7', 'Years in current job__Current Credit Balance__diff__-3', 'Years in current job__Current Credit Balance__diff__-2', 'Years in current job__Current Credit Balance__diff__-1', 'Years in current job__Current Credit Balance__diff__1', 'Years in current job__Current Credit Balance__diff__2', 'Years in current job__Current Credit Balance__diff__3', 'Years in current job__Current Credit Balance__diff__7', 'Years in current job__Current Credit Balance__diff__24', 'Years in current job__Current Credit Balance__diff__30', 'Years in current job__Monthly Debt__diff__-30', 'Years in current job__Monthly Debt__diff__-24', 'Years in current job__Monthly Debt__diff__-7', 'Years in current job__Monthly Debt__diff__-3', 'Years in current job__Monthly Debt__diff__-2', 'Years in current job__Monthly Debt__diff__-1', 'Years in current job__Monthly Debt__diff__1', 'Years in current job__Monthly Debt__diff__2', 'Years in current job__Monthly Debt__diff__3', 'Years in current job__Monthly Debt__diff__7', 'Years in current job__Monthly Debt__diff__24', 'Years in current job__Monthly Debt__diff__30', 'Years in current job__Credit Score__diff__-30', 'Years in current job__Credit Score__diff__-24', 'Years in current job__Credit Score__diff__-7', 'Years in current job__Credit Score__diff__-3', 'Years in current job__Credit Score__diff__-2', 'Years in current job__Credit Score__diff__-1', 'Years in current job__Credit Score__diff__1', 'Years in current job__Credit Score__diff__2', 'Years in current job__Credit Score__diff__3', 'Years in current job__Credit Score__diff__7', 'Years in current job__Credit Score__diff__24', 'Years in current job__Credit Score__diff__30', 'Purpose__Annual Income__diff__-30', 'Purpose__Annual Income__diff__-24', 'Purpose__Annual Income__diff__-7', 'Purpose__Annual Income__diff__-3', 'Purpose__Annual Income__diff__-2', 'Purpose__Annual Income__diff__-1', 'Purpose__Annual Income__diff__1', 'Purpose__Annual Income__diff__2', 'Purpose__Annual Income__diff__3', 'Purpose__Annual Income__diff__7', 'Purpose__Annual Income__diff__24', 'Purpose__Annual Income__diff__30', 'Purpose__Tax Liens__diff__-30', 'Purpose__Tax Liens__diff__-24', 'Purpose__Tax Liens__diff__-7', 'Purpose__Tax Liens__diff__-3', 'Purpose__Tax Liens__diff__-2', 'Purpose__Tax Liens__diff__-1', 'Purpose__Tax Liens__diff__1', 'Purpose__Tax Liens__diff__2', 'Purpose__Tax Liens__diff__3', 'Purpose__Tax Liens__diff__7', 'Purpose__Tax Liens__diff__24', 'Purpose__Tax Liens__diff__30', 'Purpose__Number of Open Accounts__diff__-30', 'Purpose__Number of Open Accounts__diff__-24', 'Purpose__Number of Open Accounts__diff__-7', 'Purpose__Number of Open Accounts__diff__-3', 'Purpose__Number of Open Accounts__diff__-2', 'Purpose__Number of Open Accounts__diff__-1', 'Purpose__Number of Open Accounts__diff__1', 'Purpose__Number of Open Accounts__diff__2', 'Purpose__Number of Open Accounts__diff__3', 'Purpose__Number of Open Accounts__diff__7', 'Purpose__Number of Open Accounts__diff__24', 'Purpose__Number of Open Accounts__diff__30', 'Purpose__Years of Credit History__diff__-30', 'Purpose__Years of Credit History__diff__-24', 'Purpose__Years of Credit History__diff__-7', 'Purpose__Years of Credit History__diff__-3', 'Purpose__Years of Credit History__diff__-2', 'Purpose__Years of Credit History__diff__-1', 'Purpose__Years of Credit History__diff__1', 'Purpose__Years of Credit History__diff__2', 'Purpose__Years of Credit History__diff__3', 'Purpose__Years of Credit History__diff__7', 'Purpose__Years of Credit History__diff__24', 'Purpose__Years of Credit History__diff__30', 'Purpose__Maximum Open Credit__diff__-30', 'Purpose__Maximum Open Credit__diff__-24', 'Purpose__Maximum Open Credit__diff__-7', 'Purpose__Maximum Open Credit__diff__-3', 'Purpose__Maximum Open Credit__diff__-2', 'Purpose__Maximum Open Credit__diff__-1', 'Purpose__Maximum Open Credit__diff__1', 'Purpose__Maximum Open Credit__diff__2', 'Purpose__Maximum Open Credit__diff__3', 'Purpose__Maximum Open Credit__diff__7', 'Purpose__Maximum Open Credit__diff__24', 'Purpose__Maximum Open Credit__diff__30', 'Purpose__Number of Credit Problems__diff__-30', 'Purpose__Number of Credit Problems__diff__-24', 'Purpose__Number of Credit Problems__diff__-7', 'Purpose__Number of Credit Problems__diff__-3', 'Purpose__Number of Credit Problems__diff__-2', 'Purpose__Number of Credit Problems__diff__-1', 'Purpose__Number of Credit Problems__diff__1', 'Purpose__Number of Credit Problems__diff__2', 'Purpose__Number of Credit Problems__diff__3', 'Purpose__Number of Credit Problems__diff__7', 'Purpose__Number of Credit Problems__diff__24', 'Purpose__Number of Credit Problems__diff__30', 'Purpose__Months since last delinquent__diff__-30', 'Purpose__Months since last delinquent__diff__-24', 'Purpose__Months since last delinquent__diff__-7', 'Purpose__Months since last delinquent__diff__-3', 'Purpose__Months since last delinquent__diff__-2', 'Purpose__Months since last delinquent__diff__-1', 'Purpose__Months since last delinquent__diff__1', 'Purpose__Months since last delinquent__diff__2', 'Purpose__Months since last delinquent__diff__3', 'Purpose__Months since last delinquent__diff__7', 'Purpose__Months since last delinquent__diff__24', 'Purpose__Months since last delinquent__diff__30', 'Purpose__Bankruptcies__diff__-30', 'Purpose__Bankruptcies__diff__-24', 'Purpose__Bankruptcies__diff__-7', 'Purpose__Bankruptcies__diff__-3', 'Purpose__Bankruptcies__diff__-2', 'Purpose__Bankruptcies__diff__-1', 'Purpose__Bankruptcies__diff__1', 'Purpose__Bankruptcies__diff__2', 'Purpose__Bankruptcies__diff__3', 'Purpose__Bankruptcies__diff__7', 'Purpose__Bankruptcies__diff__24', 'Purpose__Bankruptcies__diff__30', 'Purpose__Current Loan Amount__diff__-30', 'Purpose__Current Loan Amount__diff__-24', 'Purpose__Current Loan Amount__diff__-7', 'Purpose__Current Loan Amount__diff__-3', 'Purpose__Current Loan Amount__diff__-2', 'Purpose__Current Loan Amount__diff__-1', 'Purpose__Current Loan Amount__diff__1', 'Purpose__Current Loan Amount__diff__2', 'Purpose__Current Loan Amount__diff__3', 'Purpose__Current Loan Amount__diff__7', 'Purpose__Current Loan Amount__diff__24', 'Purpose__Current Loan Amount__diff__30', 'Purpose__Current Credit Balance__diff__-30', 'Purpose__Current Credit Balance__diff__-24', 'Purpose__Current Credit Balance__diff__-7', 'Purpose__Current Credit Balance__diff__-3', 'Purpose__Current Credit Balance__diff__-2', 'Purpose__Current Credit Balance__diff__-1', 'Purpose__Current Credit Balance__diff__1', 'Purpose__Current Credit Balance__diff__2', 'Purpose__Current Credit Balance__diff__3', 'Purpose__Current Credit Balance__diff__7', 'Purpose__Current Credit Balance__diff__24', 'Purpose__Current Credit Balance__diff__30', 'Purpose__Monthly Debt__diff__-30', 'Purpose__Monthly Debt__diff__-24', 'Purpose__Monthly Debt__diff__-7', 'Purpose__Monthly Debt__diff__-3', 'Purpose__Monthly Debt__diff__-2', 'Purpose__Monthly Debt__diff__-1', 'Purpose__Monthly Debt__diff__1', 'Purpose__Monthly Debt__diff__2', 'Purpose__Monthly Debt__diff__3', 'Purpose__Monthly Debt__diff__7', 'Purpose__Monthly Debt__diff__24', 'Purpose__Monthly Debt__diff__30', 'Purpose__Credit Score__diff__-30', 'Purpose__Credit Score__diff__-24', 'Purpose__Credit Score__diff__-7', 'Purpose__Credit Score__diff__-3', 'Purpose__Credit Score__diff__-2', 'Purpose__Credit Score__diff__-1', 'Purpose__Credit Score__diff__1', 'Purpose__Credit Score__diff__2', 'Purpose__Credit Score__diff__3', 'Purpose__Credit Score__diff__7', 'Purpose__Credit Score__diff__24', 'Purpose__Credit Score__diff__30']\n",
      "   INFO ->  start training lightgbm model\n",
      "   INFO ->  (7500, 739)\n"
     ]
    },
    {
     "name": "stdout",
     "output_type": "stream",
     "text": [
      "Training on fold 1\n",
      "Training until validation scores don't improve for 150 rounds\n",
      "[100]\ttraining's auc: 0.806289\tvalid_1's auc: 0.768583\n",
      "[200]\ttraining's auc: 0.829332\tvalid_1's auc: 0.7714\n",
      "[300]\ttraining's auc: 0.854634\tvalid_1's auc: 0.772553\n",
      "[400]\ttraining's auc: 0.896757\tvalid_1's auc: 0.771928\n",
      "Early stopping, best iteration is:\n",
      "[313]\ttraining's auc: 0.857778\tvalid_1's auc: 0.772962\n",
      "AUC: 0.772962182843244\n",
      "Fold 1 finished in 0:00:02.276716\n",
      "Training on fold 2\n",
      "Training until validation scores don't improve for 150 rounds\n",
      "[100]\ttraining's auc: 0.808963\tvalid_1's auc: 0.747574\n",
      "Early stopping, best iteration is:\n",
      "[12]\ttraining's auc: 0.782249\tvalid_1's auc: 0.749409\n",
      "AUC: 0.7494085432403866\n",
      "Fold 2 finished in 0:00:01.014192\n",
      "Training on fold 3\n",
      "Training until validation scores don't improve for 150 rounds\n",
      "[100]\ttraining's auc: 0.807328\tvalid_1's auc: 0.760348\n",
      "[200]\ttraining's auc: 0.83481\tvalid_1's auc: 0.761476\n",
      "[300]\ttraining's auc: 0.857219\tvalid_1's auc: 0.763921\n",
      "[400]\ttraining's auc: 0.898985\tvalid_1's auc: 0.765164\n",
      "[500]\ttraining's auc: 0.936464\tvalid_1's auc: 0.767087\n",
      "[600]\ttraining's auc: 0.959843\tvalid_1's auc: 0.763957\n",
      "Early stopping, best iteration is:\n",
      "[478]\ttraining's auc: 0.92947\tvalid_1's auc: 0.767621\n",
      "AUC: 0.7676213048330367\n",
      "Fold 3 finished in 0:00:02.773258\n",
      "Training on fold 4\n",
      "Training until validation scores don't improve for 150 rounds\n",
      "[100]\ttraining's auc: 0.808807\tvalid_1's auc: 0.758634\n",
      "[200]\ttraining's auc: 0.834205\tvalid_1's auc: 0.762125\n",
      "[300]\ttraining's auc: 0.859881\tvalid_1's auc: 0.76327\n",
      "[400]\ttraining's auc: 0.903273\tvalid_1's auc: 0.762487\n",
      "Early stopping, best iteration is:\n",
      "[262]\ttraining's auc: 0.848305\tvalid_1's auc: 0.764114\n",
      "AUC: 0.7641144939965695\n",
      "Fold 4 finished in 0:00:01.892827\n",
      "Training on fold 5\n",
      "Training until validation scores don't improve for 150 rounds\n",
      "[100]\ttraining's auc: 0.802813\tvalid_1's auc: 0.772154\n",
      "[200]\ttraining's auc: 0.829897\tvalid_1's auc: 0.776132\n",
      "[300]\ttraining's auc: 0.854521\tvalid_1's auc: 0.778272\n",
      "[400]\ttraining's auc: 0.900858\tvalid_1's auc: 0.777422\n"
     ]
    },
    {
     "name": "stderr",
     "output_type": "stream",
     "text": [
      "   INFO ->  feature importance\n",
      "   INFO ->                                             feature  fold_1  fold_2  fold_3  \\\n",
      "0                                     Credit Score     348      16     566   \n",
      "1                              Current Loan Amount     250      13     267   \n",
      "2     Years in current job__Credit Score__diff__-7     217       9     254   \n",
      "3                      Purpose__Credit Score__rank     157       3     117   \n",
      "4                  Purpose__Credit Score__diff__-1     175       0     156   \n",
      "..                                             ...     ...     ...     ...   \n",
      "734      Years in current job__Tax Liens__shift__3       0       0       0   \n",
      "735      Years in current job__Tax Liens__shift__7       0       0       0   \n",
      "736         Years in current job__Purpose__nunique       0       0       0   \n",
      "737     Years in current job__Tax Liens__shift__24       0       0       0   \n",
      "738  Purpose__Number of Credit Problems__shift__-7       0       0       0   \n",
      "\n",
      "     fold_4  fold_5  average  \n",
      "0       356     453    347.8  \n",
      "1       192     236    191.6  \n",
      "2        83      56    123.8  \n",
      "3       157     149    116.6  \n",
      "4        48     154    106.6  \n",
      "..      ...     ...      ...  \n",
      "734       0       0      0.0  \n",
      "735       0       0      0.0  \n",
      "736       0       0      0.0  \n",
      "737       0       0      0.0  \n",
      "738       0       0      0.0  \n",
      "\n",
      "[739 rows x 7 columns]\n"
     ]
    },
    {
     "name": "stdout",
     "output_type": "stream",
     "text": [
      "[500]\ttraining's auc: 0.938185\tvalid_1's auc: 0.777984\n",
      "Early stopping, best iteration is:\n",
      "[354]\ttraining's auc: 0.879347\tvalid_1's auc: 0.778926\n",
      "AUC: 0.7789259863752485\n",
      "Fold 5 finished in 0:00:02.167079\n"
     ]
    }
   ],
   "source": [
    "sub = autox.get_submit()"
   ]
  },
  {
   "cell_type": "code",
   "execution_count": 11,
   "metadata": {
    "ExecuteTime": {
     "end_time": "2023-01-23T12:20:53.466361Z",
     "start_time": "2023-01-23T12:20:53.458368Z"
    },
    "scrolled": true
   },
   "outputs": [
    {
     "data": {
      "text/html": [
       "<div>\n",
       "<style scoped>\n",
       "    .dataframe tbody tr th:only-of-type {\n",
       "        vertical-align: middle;\n",
       "    }\n",
       "\n",
       "    .dataframe tbody tr th {\n",
       "        vertical-align: top;\n",
       "    }\n",
       "\n",
       "    .dataframe thead th {\n",
       "        text-align: right;\n",
       "    }\n",
       "</style>\n",
       "<table border=\"1\" class=\"dataframe\">\n",
       "  <thead>\n",
       "    <tr style=\"text-align: right;\">\n",
       "      <th></th>\n",
       "      <th>Id</th>\n",
       "      <th>Credit Default</th>\n",
       "    </tr>\n",
       "  </thead>\n",
       "  <tbody>\n",
       "    <tr>\n",
       "      <th>0</th>\n",
       "      <td>8445</td>\n",
       "      <td>0.205975</td>\n",
       "    </tr>\n",
       "    <tr>\n",
       "      <th>1</th>\n",
       "      <td>8010</td>\n",
       "      <td>0.330606</td>\n",
       "    </tr>\n",
       "    <tr>\n",
       "      <th>2</th>\n",
       "      <td>9583</td>\n",
       "      <td>0.066836</td>\n",
       "    </tr>\n",
       "    <tr>\n",
       "      <th>3</th>\n",
       "      <td>7532</td>\n",
       "      <td>0.229845</td>\n",
       "    </tr>\n",
       "    <tr>\n",
       "      <th>4</th>\n",
       "      <td>9886</td>\n",
       "      <td>0.841803</td>\n",
       "    </tr>\n",
       "    <tr>\n",
       "      <th>...</th>\n",
       "      <td>...</td>\n",
       "      <td>...</td>\n",
       "    </tr>\n",
       "    <tr>\n",
       "      <th>245</th>\n",
       "      <td>7869</td>\n",
       "      <td>0.285282</td>\n",
       "    </tr>\n",
       "    <tr>\n",
       "      <th>246</th>\n",
       "      <td>8600</td>\n",
       "      <td>0.445876</td>\n",
       "    </tr>\n",
       "    <tr>\n",
       "      <th>247</th>\n",
       "      <td>9869</td>\n",
       "      <td>0.325835</td>\n",
       "    </tr>\n",
       "    <tr>\n",
       "      <th>248</th>\n",
       "      <td>9905</td>\n",
       "      <td>0.198783</td>\n",
       "    </tr>\n",
       "    <tr>\n",
       "      <th>249</th>\n",
       "      <td>7582</td>\n",
       "      <td>0.285223</td>\n",
       "    </tr>\n",
       "  </tbody>\n",
       "</table>\n",
       "<p>250 rows × 2 columns</p>\n",
       "</div>"
      ],
      "text/plain": [
       "       Id  Credit Default\n",
       "0    8445        0.205975\n",
       "1    8010        0.330606\n",
       "2    9583        0.066836\n",
       "3    7532        0.229845\n",
       "4    9886        0.841803\n",
       "..    ...             ...\n",
       "245  7869        0.285282\n",
       "246  8600        0.445876\n",
       "247  9869        0.325835\n",
       "248  9905        0.198783\n",
       "249  7582        0.285223\n",
       "\n",
       "[250 rows x 2 columns]"
      ]
     },
     "execution_count": 11,
     "metadata": {},
     "output_type": "execute_result"
    }
   ],
   "source": [
    "sub"
   ]
  },
  {
   "cell_type": "markdown",
   "metadata": {},
   "source": [
    "# 保存AutoX"
   ]
  },
  {
   "cell_type": "code",
   "execution_count": 12,
   "metadata": {
    "ExecuteTime": {
     "end_time": "2023-01-23T12:20:55.228749Z",
     "start_time": "2023-01-23T12:20:55.225752Z"
    }
   },
   "outputs": [],
   "source": [
    "import pickle\n",
    "\n",
    "def save_obj(obj, name):\n",
    "    with open('../temp/'+ name + '.pkl', 'wb') as f:\n",
    "        pickle.dump(obj, f, pickle.HIGHEST_PROTOCOL)"
   ]
  },
  {
   "cell_type": "code",
   "execution_count": 13,
   "metadata": {
    "ExecuteTime": {
     "end_time": "2023-01-23T12:20:58.254673Z",
     "start_time": "2023-01-23T12:20:57.020944Z"
    }
   },
   "outputs": [],
   "source": [
    "save_obj(autox, \"autox_loan_default\")"
   ]
  },
  {
   "cell_type": "markdown",
   "metadata": {},
   "source": [
    "# 重新导入AutoX"
   ]
  },
  {
   "cell_type": "code",
   "execution_count": 2,
   "metadata": {
    "ExecuteTime": {
     "end_time": "2023-01-23T12:42:50.423286Z",
     "start_time": "2023-01-23T12:42:50.417494Z"
    }
   },
   "outputs": [],
   "source": [
    "import pickle\n",
    "\n",
    "def load_obj(name):\n",
    "    with open('../temp/' + name + '.pkl', 'rb') as f:\n",
    "        return pickle.load(f)"
   ]
  },
  {
   "cell_type": "code",
   "execution_count": 3,
   "metadata": {
    "ExecuteTime": {
     "end_time": "2023-01-23T12:42:51.180683Z",
     "start_time": "2023-01-23T12:42:50.987788Z"
    },
    "scrolled": true
   },
   "outputs": [],
   "source": [
    "import sys\n",
    "sys.path.append('../AutoX')\n",
    "\n",
    "from autox import AutoX\n",
    "from autox import AutoXReload\n",
    "\n",
    "autox_file = load_obj(\"autox_loan_default\")"
   ]
  },
  {
   "cell_type": "code",
   "execution_count": 14,
   "metadata": {
    "ExecuteTime": {
     "end_time": "2023-01-23T12:43:13.780751Z",
     "start_time": "2023-01-23T12:43:13.751161Z"
    },
    "scrolled": true
   },
   "outputs": [],
   "source": [
    "path = f'../data/loan_default'\n",
    "\n",
    "# autox_reload = AutoXReload(autox_file, test_path = f'{path}/test.csv')\n",
    "autox_reload = AutoXReload(autox_file, test_path = None, test = test_2)"
   ]
  },
  {
   "cell_type": "code",
   "execution_count": 15,
   "metadata": {
    "ExecuteTime": {
     "end_time": "2023-01-23T12:43:17.900040Z",
     "start_time": "2023-01-23T12:43:16.165822Z"
    },
    "scrolled": true
   },
   "outputs": [
    {
     "name": "stderr",
     "output_type": "stream",
     "text": [
      "   INFO ->  start feature engineer\n",
      "   INFO ->  feature engineer: one2M\n",
      "   INFO ->  featureOne2M ops: {}\n",
      "   INFO ->  ignore featureOne2M\n",
      "   INFO ->  feature engineer: time\n",
      "   INFO ->  featureTime ops: []\n",
      "0it [00:00, ?it/s]\n",
      "   INFO ->  feature engineer: Cumsum\n",
      "100%|██████████| 2/2 [00:00<00:00, 32.51it/s]\n",
      "   INFO ->  this cols with inf data, del them: ['Years in current job__Annual Income__cumsum', 'Years in current job__Tax Liens__cumsum', 'Years in current job__Number of Open Accounts__cumsum', 'Years in current job__Years of Credit History__cumsum', 'Years in current job__Maximum Open Credit__cumsum', 'Years in current job__Number of Credit Problems__cumsum', 'Years in current job__Months since last delinquent__cumsum', 'Years in current job__Bankruptcies__cumsum', 'Years in current job__Current Loan Amount__cumsum', 'Years in current job__Current Credit Balance__cumsum', 'Years in current job__Monthly Debt__cumsum', 'Years in current job__Credit Score__cumsum', 'Purpose__Annual Income__cumsum', 'Purpose__Tax Liens__cumsum', 'Purpose__Number of Open Accounts__cumsum', 'Purpose__Years of Credit History__cumsum', 'Purpose__Maximum Open Credit__cumsum', 'Purpose__Number of Credit Problems__cumsum', 'Purpose__Months since last delinquent__cumsum', 'Purpose__Bankruptcies__cumsum', 'Purpose__Current Loan Amount__cumsum', 'Purpose__Current Credit Balance__cumsum', 'Purpose__Monthly Debt__cumsum', 'Purpose__Credit Score__cumsum']\n",
      "   INFO ->  featureCumsum ops: {'Years in current job': ['Annual Income', 'Tax Liens', 'Number of Open Accounts', 'Years of Credit History', 'Maximum Open Credit', 'Number of Credit Problems', 'Months since last delinquent', 'Bankruptcies', 'Current Loan Amount', 'Current Credit Balance', 'Monthly Debt', 'Credit Score'], 'Purpose': ['Annual Income', 'Tax Liens', 'Number of Open Accounts', 'Years of Credit History', 'Maximum Open Credit', 'Number of Credit Problems', 'Months since last delinquent', 'Bankruptcies', 'Current Loan Amount', 'Current Credit Balance', 'Monthly Debt', 'Credit Score']}\n",
      "   INFO ->  feature engineer: Shift\n",
      "100%|██████████| 2/2 [00:00<00:00,  4.53it/s]\n",
      "   INFO ->  featureShift ops: {'Years in current job': ['Annual Income', 'Tax Liens', 'Number of Open Accounts', 'Years of Credit History', 'Maximum Open Credit', 'Number of Credit Problems', 'Months since last delinquent', 'Bankruptcies', 'Current Loan Amount', 'Current Credit Balance', 'Monthly Debt', 'Credit Score'], 'Purpose': ['Annual Income', 'Tax Liens', 'Number of Open Accounts', 'Years of Credit History', 'Maximum Open Credit', 'Number of Credit Problems', 'Months since last delinquent', 'Bankruptcies', 'Current Loan Amount', 'Current Credit Balance', 'Monthly Debt', 'Credit Score']}\n",
      "   INFO ->  feature engineer: Diff\n",
      "100%|██████████| 2/2 [00:00<00:00,  3.23it/s]\n",
      "   INFO ->  featureDiff ops: {'Years in current job': ['Annual Income', 'Tax Liens', 'Number of Open Accounts', 'Years of Credit History', 'Maximum Open Credit', 'Number of Credit Problems', 'Months since last delinquent', 'Bankruptcies', 'Current Loan Amount', 'Current Credit Balance', 'Monthly Debt', 'Credit Score'], 'Purpose': ['Annual Income', 'Tax Liens', 'Number of Open Accounts', 'Years of Credit History', 'Maximum Open Credit', 'Number of Credit Problems', 'Months since last delinquent', 'Bankruptcies', 'Current Loan Amount', 'Current Credit Balance', 'Monthly Debt', 'Credit Score']}\n",
      "   INFO ->  feature engineer: Stat\n",
      "100%|██████████| 2/2 [00:00<00:00, 10.45it/s]\n",
      "   INFO ->  featureStat ops: {'Years in current job': {'Home Ownership': ['nunique'], 'Annual Income': ['mean', 'min', 'max', 'median', 'std'], 'Tax Liens': ['mean', 'min', 'max', 'median', 'std'], 'Number of Open Accounts': ['mean', 'min', 'max', 'median', 'std'], 'Years of Credit History': ['mean', 'min', 'max', 'median', 'std'], 'Maximum Open Credit': ['mean', 'min', 'max', 'median', 'std'], 'Number of Credit Problems': ['mean', 'min', 'max', 'median', 'std'], 'Months since last delinquent': ['mean', 'min', 'max', 'median', 'std'], 'Bankruptcies': ['mean', 'min', 'max', 'median', 'std'], 'Purpose': ['nunique'], 'Term': ['nunique'], 'Current Loan Amount': ['mean', 'min', 'max', 'median', 'std'], 'Current Credit Balance': ['mean', 'min', 'max', 'median', 'std'], 'Monthly Debt': ['mean', 'min', 'max', 'median', 'std'], 'Credit Score': ['mean', 'min', 'max', 'median', 'std']}, 'Purpose': {'Home Ownership': ['nunique'], 'Annual Income': ['mean', 'min', 'max', 'median', 'std'], 'Years in current job': ['nunique'], 'Tax Liens': ['mean', 'min', 'max', 'median', 'std'], 'Number of Open Accounts': ['mean', 'min', 'max', 'median', 'std'], 'Years of Credit History': ['mean', 'min', 'max', 'median', 'std'], 'Maximum Open Credit': ['mean', 'min', 'max', 'median', 'std'], 'Number of Credit Problems': ['mean', 'min', 'max', 'median', 'std'], 'Months since last delinquent': ['mean', 'min', 'max', 'median', 'std'], 'Bankruptcies': ['mean', 'min', 'max', 'median', 'std'], 'Term': ['nunique'], 'Current Loan Amount': ['mean', 'min', 'max', 'median', 'std'], 'Current Credit Balance': ['mean', 'min', 'max', 'median', 'std'], 'Monthly Debt': ['mean', 'min', 'max', 'median', 'std'], 'Credit Score': ['mean', 'min', 'max', 'median', 'std']}}\n",
      "   INFO ->  feature engineer: NLP\n",
      "0it [00:00, ?it/s]\n",
      "   INFO ->  featureNlp ops: []\n",
      "   INFO ->  feature engineer: Count\n",
      "   INFO ->  featureCount ops: [['Home Ownership', 'Years in current job'], ['Home Ownership', 'Purpose'], ['Home Ownership', 'Term'], ['Years in current job', 'Home Ownership'], ['Years in current job', 'Purpose'], ['Years in current job', 'Term'], ['Purpose', 'Home Ownership'], ['Purpose', 'Years in current job'], ['Purpose', 'Term'], ['Term', 'Home Ownership'], ['Term', 'Years in current job'], ['Term', 'Purpose'], ['Home Ownership'], ['Years in current job'], ['Purpose'], ['Term']]\n",
      "100%|██████████| 16/16 [00:00<00:00, 167.84it/s]\n",
      "   INFO ->  feature engineer: Rank\n",
      "100%|██████████| 2/2 [00:00<00:00, 35.26it/s]\n",
      "   INFO ->  featureRank ops: {'Years in current job': {'Id': ['rank'], 'Annual Income': ['rank'], 'Tax Liens': ['rank'], 'Number of Open Accounts': ['rank'], 'Years of Credit History': ['rank'], 'Maximum Open Credit': ['rank'], 'Number of Credit Problems': ['rank'], 'Months since last delinquent': ['rank'], 'Bankruptcies': ['rank'], 'Current Loan Amount': ['rank'], 'Current Credit Balance': ['rank'], 'Monthly Debt': ['rank'], 'Credit Score': ['rank'], 'Credit Default': ['rank']}, 'Purpose': {'Id': ['rank'], 'Annual Income': ['rank'], 'Tax Liens': ['rank'], 'Number of Open Accounts': ['rank'], 'Years of Credit History': ['rank'], 'Maximum Open Credit': ['rank'], 'Number of Credit Problems': ['rank'], 'Months since last delinquent': ['rank'], 'Bankruptcies': ['rank'], 'Current Loan Amount': ['rank'], 'Current Credit Balance': ['rank'], 'Monthly Debt': ['rank'], 'Credit Score': ['rank'], 'Credit Default': ['rank']}}\n",
      "   INFO ->  feature engineer: Image\n",
      "   INFO ->  ignore image feature\n",
      "100%|██████████| 18/18 [00:00<00:00, 1598.57it/s]\n",
      "   INFO ->  label_encoder_list: ['Home Ownership', 'Years in current job', 'Purpose', 'Term']\n",
      "   INFO ->  ordinal_encoder_list: []\n",
      "   INFO ->  feature combination\n",
      "100%|██████████| 9/9 [00:00<00:00, 85.40it/s]\n",
      "   INFO ->  shape of FE_all: (7750, 764), shape of train: (7500, 764), shape of test: (250, 764)\n",
      "   INFO ->  feature filter\n",
      "   INFO ->  used_features: ['Annual Income', 'Tax Liens', 'Number of Open Accounts', 'Years of Credit History', 'Maximum Open Credit', 'Number of Credit Problems', 'Months since last delinquent', 'Bankruptcies', 'Current Loan Amount', 'Current Credit Balance', 'Monthly Debt', 'Credit Score', 'COUNT_Home Ownership__Years in current job', 'COUNT_Home Ownership__Purpose', 'COUNT_Home Ownership__Term', 'COUNT_Years in current job__Home Ownership', 'COUNT_Years in current job__Purpose', 'COUNT_Years in current job__Term', 'COUNT_Purpose__Home Ownership', 'COUNT_Purpose__Years in current job', 'COUNT_Purpose__Term', 'COUNT_Term__Home Ownership', 'COUNT_Term__Years in current job', 'COUNT_Term__Purpose', 'COUNT_Home Ownership', 'COUNT_Years in current job', 'COUNT_Purpose', 'COUNT_Term', 'Years in current job__Home Ownership__nunique', 'Years in current job__Annual Income__mean', 'Years in current job__Annual Income__min', 'Years in current job__Annual Income__max', 'Years in current job__Annual Income__median', 'Years in current job__Annual Income__std', 'Years in current job__Tax Liens__mean', 'Years in current job__Tax Liens__max', 'Years in current job__Tax Liens__std', 'Years in current job__Number of Open Accounts__mean', 'Years in current job__Number of Open Accounts__min', 'Years in current job__Number of Open Accounts__max', 'Years in current job__Number of Open Accounts__median', 'Years in current job__Number of Open Accounts__std', 'Years in current job__Years of Credit History__mean', 'Years in current job__Years of Credit History__min', 'Years in current job__Years of Credit History__max', 'Years in current job__Years of Credit History__median', 'Years in current job__Years of Credit History__std', 'Years in current job__Maximum Open Credit__mean', 'Years in current job__Maximum Open Credit__max', 'Years in current job__Maximum Open Credit__median', 'Years in current job__Maximum Open Credit__std', 'Years in current job__Number of Credit Problems__mean', 'Years in current job__Number of Credit Problems__max', 'Years in current job__Number of Credit Problems__std', 'Years in current job__Months since last delinquent__mean', 'Years in current job__Months since last delinquent__min', 'Years in current job__Months since last delinquent__max', 'Years in current job__Months since last delinquent__median', 'Years in current job__Months since last delinquent__std', 'Years in current job__Bankruptcies__mean', 'Years in current job__Bankruptcies__max', 'Years in current job__Bankruptcies__std', 'Years in current job__Purpose__nunique', 'Years in current job__Current Loan Amount__mean', 'Years in current job__Current Loan Amount__min', 'Years in current job__Current Loan Amount__median', 'Years in current job__Current Loan Amount__std', 'Years in current job__Current Credit Balance__mean', 'Years in current job__Current Credit Balance__max', 'Years in current job__Current Credit Balance__median', 'Years in current job__Current Credit Balance__std', 'Years in current job__Monthly Debt__mean', 'Years in current job__Monthly Debt__min', 'Years in current job__Monthly Debt__max', 'Years in current job__Monthly Debt__median', 'Years in current job__Monthly Debt__std', 'Years in current job__Credit Score__mean', 'Years in current job__Credit Score__min', 'Years in current job__Credit Score__max', 'Years in current job__Credit Score__median', 'Years in current job__Credit Score__std', 'Purpose__Home Ownership__nunique', 'Purpose__Annual Income__mean', 'Purpose__Annual Income__min', 'Purpose__Annual Income__max', 'Purpose__Annual Income__median', 'Purpose__Annual Income__std', 'Purpose__Years in current job__nunique', 'Purpose__Tax Liens__mean', 'Purpose__Tax Liens__max', 'Purpose__Tax Liens__std', 'Purpose__Number of Open Accounts__mean', 'Purpose__Number of Open Accounts__min', 'Purpose__Number of Open Accounts__max', 'Purpose__Number of Open Accounts__median', 'Purpose__Number of Open Accounts__std', 'Purpose__Years of Credit History__mean', 'Purpose__Years of Credit History__min', 'Purpose__Years of Credit History__max', 'Purpose__Years of Credit History__median', 'Purpose__Years of Credit History__std', 'Purpose__Maximum Open Credit__mean', 'Purpose__Maximum Open Credit__min', 'Purpose__Maximum Open Credit__max', 'Purpose__Maximum Open Credit__median', 'Purpose__Maximum Open Credit__std', 'Purpose__Number of Credit Problems__mean', 'Purpose__Number of Credit Problems__max', 'Purpose__Number of Credit Problems__std', 'Purpose__Months since last delinquent__mean', 'Purpose__Months since last delinquent__min', 'Purpose__Months since last delinquent__max', 'Purpose__Months since last delinquent__median', 'Purpose__Months since last delinquent__std', 'Purpose__Bankruptcies__mean', 'Purpose__Bankruptcies__max', 'Purpose__Bankruptcies__std', 'Purpose__Current Loan Amount__mean', 'Purpose__Current Loan Amount__min', 'Purpose__Current Loan Amount__max', 'Purpose__Current Loan Amount__median', 'Purpose__Current Loan Amount__std', 'Purpose__Current Credit Balance__mean', 'Purpose__Current Credit Balance__min', 'Purpose__Current Credit Balance__max', 'Purpose__Current Credit Balance__median', 'Purpose__Current Credit Balance__std', 'Purpose__Monthly Debt__mean', 'Purpose__Monthly Debt__min', 'Purpose__Monthly Debt__max', 'Purpose__Monthly Debt__median', 'Purpose__Monthly Debt__std', 'Purpose__Credit Score__mean', 'Purpose__Credit Score__min', 'Purpose__Credit Score__max', 'Purpose__Credit Score__median', 'Purpose__Credit Score__std', 'Years in current job__Id__rank', 'Years in current job__Annual Income__rank', 'Years in current job__Tax Liens__rank', 'Years in current job__Number of Open Accounts__rank', 'Years in current job__Years of Credit History__rank', 'Years in current job__Maximum Open Credit__rank', 'Years in current job__Number of Credit Problems__rank', 'Years in current job__Months since last delinquent__rank', 'Years in current job__Bankruptcies__rank', 'Years in current job__Current Loan Amount__rank', 'Years in current job__Current Credit Balance__rank', 'Years in current job__Monthly Debt__rank', 'Years in current job__Credit Score__rank', 'Purpose__Id__rank', 'Purpose__Annual Income__rank', 'Purpose__Tax Liens__rank', 'Purpose__Number of Open Accounts__rank', 'Purpose__Years of Credit History__rank', 'Purpose__Maximum Open Credit__rank', 'Purpose__Number of Credit Problems__rank', 'Purpose__Months since last delinquent__rank', 'Purpose__Bankruptcies__rank', 'Purpose__Current Loan Amount__rank', 'Purpose__Current Credit Balance__rank', 'Purpose__Monthly Debt__rank', 'Purpose__Credit Score__rank', 'Years in current job__Annual Income__shift__-30', 'Years in current job__Annual Income__shift__-24', 'Years in current job__Annual Income__shift__-7', 'Years in current job__Annual Income__shift__-3', 'Years in current job__Annual Income__shift__-2', 'Years in current job__Annual Income__shift__-1', 'Years in current job__Annual Income__shift__1', 'Years in current job__Annual Income__shift__2', 'Years in current job__Annual Income__shift__3', 'Years in current job__Annual Income__shift__7', 'Years in current job__Annual Income__shift__24', 'Years in current job__Annual Income__shift__30', 'Years in current job__Tax Liens__shift__-30', 'Years in current job__Tax Liens__shift__-24', 'Years in current job__Tax Liens__shift__-7', 'Years in current job__Tax Liens__shift__-3', 'Years in current job__Tax Liens__shift__-2', 'Years in current job__Tax Liens__shift__-1', 'Years in current job__Tax Liens__shift__1', 'Years in current job__Tax Liens__shift__2', 'Years in current job__Tax Liens__shift__3', 'Years in current job__Tax Liens__shift__7', 'Years in current job__Tax Liens__shift__24', 'Years in current job__Tax Liens__shift__30', 'Years in current job__Number of Open Accounts__shift__-30', 'Years in current job__Number of Open Accounts__shift__-24', 'Years in current job__Number of Open Accounts__shift__-7', 'Years in current job__Number of Open Accounts__shift__-3', 'Years in current job__Number of Open Accounts__shift__-2', 'Years in current job__Number of Open Accounts__shift__-1', 'Years in current job__Number of Open Accounts__shift__1', 'Years in current job__Number of Open Accounts__shift__2', 'Years in current job__Number of Open Accounts__shift__3', 'Years in current job__Number of Open Accounts__shift__7', 'Years in current job__Number of Open Accounts__shift__24', 'Years in current job__Number of Open Accounts__shift__30', 'Years in current job__Years of Credit History__shift__-30', 'Years in current job__Years of Credit History__shift__-24', 'Years in current job__Years of Credit History__shift__-7', 'Years in current job__Years of Credit History__shift__-3', 'Years in current job__Years of Credit History__shift__-2', 'Years in current job__Years of Credit History__shift__-1', 'Years in current job__Years of Credit History__shift__1', 'Years in current job__Years of Credit History__shift__2', 'Years in current job__Years of Credit History__shift__3', 'Years in current job__Years of Credit History__shift__7', 'Years in current job__Years of Credit History__shift__24', 'Years in current job__Years of Credit History__shift__30', 'Years in current job__Maximum Open Credit__shift__-30', 'Years in current job__Maximum Open Credit__shift__-24', 'Years in current job__Maximum Open Credit__shift__-7', 'Years in current job__Maximum Open Credit__shift__-3', 'Years in current job__Maximum Open Credit__shift__-2', 'Years in current job__Maximum Open Credit__shift__-1', 'Years in current job__Maximum Open Credit__shift__1', 'Years in current job__Maximum Open Credit__shift__2', 'Years in current job__Maximum Open Credit__shift__3', 'Years in current job__Maximum Open Credit__shift__7', 'Years in current job__Maximum Open Credit__shift__24', 'Years in current job__Maximum Open Credit__shift__30', 'Years in current job__Number of Credit Problems__shift__-30', 'Years in current job__Number of Credit Problems__shift__-24', 'Years in current job__Number of Credit Problems__shift__-7', 'Years in current job__Number of Credit Problems__shift__-3', 'Years in current job__Number of Credit Problems__shift__-2', 'Years in current job__Number of Credit Problems__shift__-1', 'Years in current job__Number of Credit Problems__shift__1', 'Years in current job__Number of Credit Problems__shift__2', 'Years in current job__Number of Credit Problems__shift__3', 'Years in current job__Number of Credit Problems__shift__7', 'Years in current job__Number of Credit Problems__shift__24', 'Years in current job__Number of Credit Problems__shift__30', 'Years in current job__Months since last delinquent__shift__-30', 'Years in current job__Months since last delinquent__shift__-24', 'Years in current job__Months since last delinquent__shift__-7', 'Years in current job__Months since last delinquent__shift__-3', 'Years in current job__Months since last delinquent__shift__-2', 'Years in current job__Months since last delinquent__shift__-1', 'Years in current job__Months since last delinquent__shift__1', 'Years in current job__Months since last delinquent__shift__2', 'Years in current job__Months since last delinquent__shift__3', 'Years in current job__Months since last delinquent__shift__7', 'Years in current job__Months since last delinquent__shift__24', 'Years in current job__Months since last delinquent__shift__30', 'Years in current job__Bankruptcies__shift__-30', 'Years in current job__Bankruptcies__shift__-24', 'Years in current job__Bankruptcies__shift__-7', 'Years in current job__Bankruptcies__shift__-3', 'Years in current job__Bankruptcies__shift__-2', 'Years in current job__Bankruptcies__shift__-1', 'Years in current job__Bankruptcies__shift__1', 'Years in current job__Bankruptcies__shift__2', 'Years in current job__Bankruptcies__shift__3', 'Years in current job__Bankruptcies__shift__7', 'Years in current job__Bankruptcies__shift__24', 'Years in current job__Bankruptcies__shift__30', 'Years in current job__Current Loan Amount__shift__-30', 'Years in current job__Current Loan Amount__shift__-24', 'Years in current job__Current Loan Amount__shift__-7', 'Years in current job__Current Loan Amount__shift__-3', 'Years in current job__Current Loan Amount__shift__-2', 'Years in current job__Current Loan Amount__shift__-1', 'Years in current job__Current Loan Amount__shift__1', 'Years in current job__Current Loan Amount__shift__2', 'Years in current job__Current Loan Amount__shift__3', 'Years in current job__Current Loan Amount__shift__7', 'Years in current job__Current Loan Amount__shift__24', 'Years in current job__Current Loan Amount__shift__30', 'Years in current job__Current Credit Balance__shift__-30', 'Years in current job__Current Credit Balance__shift__-24', 'Years in current job__Current Credit Balance__shift__-7', 'Years in current job__Current Credit Balance__shift__-3', 'Years in current job__Current Credit Balance__shift__-2', 'Years in current job__Current Credit Balance__shift__-1', 'Years in current job__Current Credit Balance__shift__1', 'Years in current job__Current Credit Balance__shift__2', 'Years in current job__Current Credit Balance__shift__3', 'Years in current job__Current Credit Balance__shift__7', 'Years in current job__Current Credit Balance__shift__24', 'Years in current job__Current Credit Balance__shift__30', 'Years in current job__Monthly Debt__shift__-30', 'Years in current job__Monthly Debt__shift__-24', 'Years in current job__Monthly Debt__shift__-7', 'Years in current job__Monthly Debt__shift__-3', 'Years in current job__Monthly Debt__shift__-2', 'Years in current job__Monthly Debt__shift__-1', 'Years in current job__Monthly Debt__shift__1', 'Years in current job__Monthly Debt__shift__2', 'Years in current job__Monthly Debt__shift__3', 'Years in current job__Monthly Debt__shift__7', 'Years in current job__Monthly Debt__shift__24', 'Years in current job__Monthly Debt__shift__30', 'Years in current job__Credit Score__shift__-30', 'Years in current job__Credit Score__shift__-24', 'Years in current job__Credit Score__shift__-7', 'Years in current job__Credit Score__shift__-3', 'Years in current job__Credit Score__shift__-2', 'Years in current job__Credit Score__shift__-1', 'Years in current job__Credit Score__shift__1', 'Years in current job__Credit Score__shift__2', 'Years in current job__Credit Score__shift__3', 'Years in current job__Credit Score__shift__7', 'Years in current job__Credit Score__shift__24', 'Years in current job__Credit Score__shift__30', 'Purpose__Annual Income__shift__-30', 'Purpose__Annual Income__shift__-24', 'Purpose__Annual Income__shift__-7', 'Purpose__Annual Income__shift__-3', 'Purpose__Annual Income__shift__-2', 'Purpose__Annual Income__shift__-1', 'Purpose__Annual Income__shift__1', 'Purpose__Annual Income__shift__2', 'Purpose__Annual Income__shift__3', 'Purpose__Annual Income__shift__7', 'Purpose__Annual Income__shift__24', 'Purpose__Annual Income__shift__30', 'Purpose__Tax Liens__shift__-30', 'Purpose__Tax Liens__shift__-24', 'Purpose__Tax Liens__shift__-7', 'Purpose__Tax Liens__shift__-3', 'Purpose__Tax Liens__shift__-2', 'Purpose__Tax Liens__shift__-1', 'Purpose__Tax Liens__shift__1', 'Purpose__Tax Liens__shift__2', 'Purpose__Tax Liens__shift__3', 'Purpose__Tax Liens__shift__7', 'Purpose__Tax Liens__shift__24', 'Purpose__Tax Liens__shift__30', 'Purpose__Number of Open Accounts__shift__-30', 'Purpose__Number of Open Accounts__shift__-24', 'Purpose__Number of Open Accounts__shift__-7', 'Purpose__Number of Open Accounts__shift__-3', 'Purpose__Number of Open Accounts__shift__-2', 'Purpose__Number of Open Accounts__shift__-1', 'Purpose__Number of Open Accounts__shift__1', 'Purpose__Number of Open Accounts__shift__2', 'Purpose__Number of Open Accounts__shift__3', 'Purpose__Number of Open Accounts__shift__7', 'Purpose__Number of Open Accounts__shift__24', 'Purpose__Number of Open Accounts__shift__30', 'Purpose__Years of Credit History__shift__-30', 'Purpose__Years of Credit History__shift__-24', 'Purpose__Years of Credit History__shift__-7', 'Purpose__Years of Credit History__shift__-3', 'Purpose__Years of Credit History__shift__-2', 'Purpose__Years of Credit History__shift__-1', 'Purpose__Years of Credit History__shift__1', 'Purpose__Years of Credit History__shift__2', 'Purpose__Years of Credit History__shift__3', 'Purpose__Years of Credit History__shift__7', 'Purpose__Years of Credit History__shift__24', 'Purpose__Years of Credit History__shift__30', 'Purpose__Maximum Open Credit__shift__-30', 'Purpose__Maximum Open Credit__shift__-24', 'Purpose__Maximum Open Credit__shift__-7', 'Purpose__Maximum Open Credit__shift__-3', 'Purpose__Maximum Open Credit__shift__-2', 'Purpose__Maximum Open Credit__shift__-1', 'Purpose__Maximum Open Credit__shift__1', 'Purpose__Maximum Open Credit__shift__2', 'Purpose__Maximum Open Credit__shift__3', 'Purpose__Maximum Open Credit__shift__7', 'Purpose__Maximum Open Credit__shift__24', 'Purpose__Maximum Open Credit__shift__30', 'Purpose__Number of Credit Problems__shift__-30', 'Purpose__Number of Credit Problems__shift__-24', 'Purpose__Number of Credit Problems__shift__-7', 'Purpose__Number of Credit Problems__shift__-3', 'Purpose__Number of Credit Problems__shift__-2', 'Purpose__Number of Credit Problems__shift__-1', 'Purpose__Number of Credit Problems__shift__1', 'Purpose__Number of Credit Problems__shift__2', 'Purpose__Number of Credit Problems__shift__3', 'Purpose__Number of Credit Problems__shift__7', 'Purpose__Number of Credit Problems__shift__24', 'Purpose__Number of Credit Problems__shift__30', 'Purpose__Months since last delinquent__shift__-30', 'Purpose__Months since last delinquent__shift__-24', 'Purpose__Months since last delinquent__shift__-7', 'Purpose__Months since last delinquent__shift__-3', 'Purpose__Months since last delinquent__shift__-2', 'Purpose__Months since last delinquent__shift__-1', 'Purpose__Months since last delinquent__shift__1', 'Purpose__Months since last delinquent__shift__2', 'Purpose__Months since last delinquent__shift__3', 'Purpose__Months since last delinquent__shift__7', 'Purpose__Months since last delinquent__shift__24', 'Purpose__Months since last delinquent__shift__30', 'Purpose__Bankruptcies__shift__-30', 'Purpose__Bankruptcies__shift__-24', 'Purpose__Bankruptcies__shift__-7', 'Purpose__Bankruptcies__shift__-3', 'Purpose__Bankruptcies__shift__-2', 'Purpose__Bankruptcies__shift__-1', 'Purpose__Bankruptcies__shift__1', 'Purpose__Bankruptcies__shift__2', 'Purpose__Bankruptcies__shift__3', 'Purpose__Bankruptcies__shift__7', 'Purpose__Bankruptcies__shift__24', 'Purpose__Bankruptcies__shift__30', 'Purpose__Current Loan Amount__shift__-30', 'Purpose__Current Loan Amount__shift__-24', 'Purpose__Current Loan Amount__shift__-7', 'Purpose__Current Loan Amount__shift__-3', 'Purpose__Current Loan Amount__shift__-2', 'Purpose__Current Loan Amount__shift__-1', 'Purpose__Current Loan Amount__shift__1', 'Purpose__Current Loan Amount__shift__2', 'Purpose__Current Loan Amount__shift__3', 'Purpose__Current Loan Amount__shift__7', 'Purpose__Current Loan Amount__shift__24', 'Purpose__Current Loan Amount__shift__30', 'Purpose__Current Credit Balance__shift__-30', 'Purpose__Current Credit Balance__shift__-24', 'Purpose__Current Credit Balance__shift__-7', 'Purpose__Current Credit Balance__shift__-3', 'Purpose__Current Credit Balance__shift__-2', 'Purpose__Current Credit Balance__shift__-1', 'Purpose__Current Credit Balance__shift__1', 'Purpose__Current Credit Balance__shift__2', 'Purpose__Current Credit Balance__shift__3', 'Purpose__Current Credit Balance__shift__7', 'Purpose__Current Credit Balance__shift__24', 'Purpose__Current Credit Balance__shift__30', 'Purpose__Monthly Debt__shift__-30', 'Purpose__Monthly Debt__shift__-24', 'Purpose__Monthly Debt__shift__-7', 'Purpose__Monthly Debt__shift__-3', 'Purpose__Monthly Debt__shift__-2', 'Purpose__Monthly Debt__shift__-1', 'Purpose__Monthly Debt__shift__1', 'Purpose__Monthly Debt__shift__2', 'Purpose__Monthly Debt__shift__3', 'Purpose__Monthly Debt__shift__7', 'Purpose__Monthly Debt__shift__24', 'Purpose__Monthly Debt__shift__30', 'Purpose__Credit Score__shift__-30', 'Purpose__Credit Score__shift__-24', 'Purpose__Credit Score__shift__-7', 'Purpose__Credit Score__shift__-3', 'Purpose__Credit Score__shift__-2', 'Purpose__Credit Score__shift__-1', 'Purpose__Credit Score__shift__1', 'Purpose__Credit Score__shift__2', 'Purpose__Credit Score__shift__3', 'Purpose__Credit Score__shift__7', 'Purpose__Credit Score__shift__24', 'Purpose__Credit Score__shift__30', 'Years in current job__Annual Income__diff__-30', 'Years in current job__Annual Income__diff__-24', 'Years in current job__Annual Income__diff__-7', 'Years in current job__Annual Income__diff__-3', 'Years in current job__Annual Income__diff__-2', 'Years in current job__Annual Income__diff__-1', 'Years in current job__Annual Income__diff__1', 'Years in current job__Annual Income__diff__2', 'Years in current job__Annual Income__diff__3', 'Years in current job__Annual Income__diff__7', 'Years in current job__Annual Income__diff__24', 'Years in current job__Annual Income__diff__30', 'Years in current job__Tax Liens__diff__-30', 'Years in current job__Tax Liens__diff__-24', 'Years in current job__Tax Liens__diff__-7', 'Years in current job__Tax Liens__diff__-3', 'Years in current job__Tax Liens__diff__-2', 'Years in current job__Tax Liens__diff__-1', 'Years in current job__Tax Liens__diff__1', 'Years in current job__Tax Liens__diff__2', 'Years in current job__Tax Liens__diff__3', 'Years in current job__Tax Liens__diff__7', 'Years in current job__Tax Liens__diff__24', 'Years in current job__Tax Liens__diff__30', 'Years in current job__Number of Open Accounts__diff__-30', 'Years in current job__Number of Open Accounts__diff__-24', 'Years in current job__Number of Open Accounts__diff__-7', 'Years in current job__Number of Open Accounts__diff__-3', 'Years in current job__Number of Open Accounts__diff__-2', 'Years in current job__Number of Open Accounts__diff__-1', 'Years in current job__Number of Open Accounts__diff__1', 'Years in current job__Number of Open Accounts__diff__2', 'Years in current job__Number of Open Accounts__diff__3', 'Years in current job__Number of Open Accounts__diff__7', 'Years in current job__Number of Open Accounts__diff__24', 'Years in current job__Number of Open Accounts__diff__30', 'Years in current job__Years of Credit History__diff__-30', 'Years in current job__Years of Credit History__diff__-24', 'Years in current job__Years of Credit History__diff__-7', 'Years in current job__Years of Credit History__diff__-3', 'Years in current job__Years of Credit History__diff__-2', 'Years in current job__Years of Credit History__diff__-1', 'Years in current job__Years of Credit History__diff__1', 'Years in current job__Years of Credit History__diff__2', 'Years in current job__Years of Credit History__diff__3', 'Years in current job__Years of Credit History__diff__7', 'Years in current job__Years of Credit History__diff__24', 'Years in current job__Years of Credit History__diff__30', 'Years in current job__Maximum Open Credit__diff__-30', 'Years in current job__Maximum Open Credit__diff__-24', 'Years in current job__Maximum Open Credit__diff__-7', 'Years in current job__Maximum Open Credit__diff__-3', 'Years in current job__Maximum Open Credit__diff__-2', 'Years in current job__Maximum Open Credit__diff__-1', 'Years in current job__Maximum Open Credit__diff__1', 'Years in current job__Maximum Open Credit__diff__2', 'Years in current job__Maximum Open Credit__diff__3', 'Years in current job__Maximum Open Credit__diff__7', 'Years in current job__Maximum Open Credit__diff__24', 'Years in current job__Maximum Open Credit__diff__30', 'Years in current job__Number of Credit Problems__diff__-30', 'Years in current job__Number of Credit Problems__diff__-24', 'Years in current job__Number of Credit Problems__diff__-7', 'Years in current job__Number of Credit Problems__diff__-3', 'Years in current job__Number of Credit Problems__diff__-2', 'Years in current job__Number of Credit Problems__diff__-1', 'Years in current job__Number of Credit Problems__diff__1', 'Years in current job__Number of Credit Problems__diff__2', 'Years in current job__Number of Credit Problems__diff__3', 'Years in current job__Number of Credit Problems__diff__7', 'Years in current job__Number of Credit Problems__diff__24', 'Years in current job__Number of Credit Problems__diff__30', 'Years in current job__Months since last delinquent__diff__-30', 'Years in current job__Months since last delinquent__diff__-24', 'Years in current job__Months since last delinquent__diff__-7', 'Years in current job__Months since last delinquent__diff__-3', 'Years in current job__Months since last delinquent__diff__-2', 'Years in current job__Months since last delinquent__diff__-1', 'Years in current job__Months since last delinquent__diff__1', 'Years in current job__Months since last delinquent__diff__2', 'Years in current job__Months since last delinquent__diff__3', 'Years in current job__Months since last delinquent__diff__7', 'Years in current job__Months since last delinquent__diff__24', 'Years in current job__Months since last delinquent__diff__30', 'Years in current job__Bankruptcies__diff__-30', 'Years in current job__Bankruptcies__diff__-24', 'Years in current job__Bankruptcies__diff__-7', 'Years in current job__Bankruptcies__diff__-3', 'Years in current job__Bankruptcies__diff__-2', 'Years in current job__Bankruptcies__diff__-1', 'Years in current job__Bankruptcies__diff__1', 'Years in current job__Bankruptcies__diff__2', 'Years in current job__Bankruptcies__diff__3', 'Years in current job__Bankruptcies__diff__7', 'Years in current job__Bankruptcies__diff__24', 'Years in current job__Bankruptcies__diff__30', 'Years in current job__Current Loan Amount__diff__-30', 'Years in current job__Current Loan Amount__diff__-24', 'Years in current job__Current Loan Amount__diff__-7', 'Years in current job__Current Loan Amount__diff__-3', 'Years in current job__Current Loan Amount__diff__-2', 'Years in current job__Current Loan Amount__diff__-1', 'Years in current job__Current Loan Amount__diff__1', 'Years in current job__Current Loan Amount__diff__2', 'Years in current job__Current Loan Amount__diff__3', 'Years in current job__Current Loan Amount__diff__7', 'Years in current job__Current Loan Amount__diff__24', 'Years in current job__Current Loan Amount__diff__30', 'Years in current job__Current Credit Balance__diff__-30', 'Years in current job__Current Credit Balance__diff__-24', 'Years in current job__Current Credit Balance__diff__-7', 'Years in current job__Current Credit Balance__diff__-3', 'Years in current job__Current Credit Balance__diff__-2', 'Years in current job__Current Credit Balance__diff__-1', 'Years in current job__Current Credit Balance__diff__1', 'Years in current job__Current Credit Balance__diff__2', 'Years in current job__Current Credit Balance__diff__3', 'Years in current job__Current Credit Balance__diff__7', 'Years in current job__Current Credit Balance__diff__24', 'Years in current job__Current Credit Balance__diff__30', 'Years in current job__Monthly Debt__diff__-30', 'Years in current job__Monthly Debt__diff__-24', 'Years in current job__Monthly Debt__diff__-7', 'Years in current job__Monthly Debt__diff__-3', 'Years in current job__Monthly Debt__diff__-2', 'Years in current job__Monthly Debt__diff__-1', 'Years in current job__Monthly Debt__diff__1', 'Years in current job__Monthly Debt__diff__2', 'Years in current job__Monthly Debt__diff__3', 'Years in current job__Monthly Debt__diff__7', 'Years in current job__Monthly Debt__diff__24', 'Years in current job__Monthly Debt__diff__30', 'Years in current job__Credit Score__diff__-30', 'Years in current job__Credit Score__diff__-24', 'Years in current job__Credit Score__diff__-7', 'Years in current job__Credit Score__diff__-3', 'Years in current job__Credit Score__diff__-2', 'Years in current job__Credit Score__diff__-1', 'Years in current job__Credit Score__diff__1', 'Years in current job__Credit Score__diff__2', 'Years in current job__Credit Score__diff__3', 'Years in current job__Credit Score__diff__7', 'Years in current job__Credit Score__diff__24', 'Years in current job__Credit Score__diff__30', 'Purpose__Annual Income__diff__-30', 'Purpose__Annual Income__diff__-24', 'Purpose__Annual Income__diff__-7', 'Purpose__Annual Income__diff__-3', 'Purpose__Annual Income__diff__-2', 'Purpose__Annual Income__diff__-1', 'Purpose__Annual Income__diff__1', 'Purpose__Annual Income__diff__2', 'Purpose__Annual Income__diff__3', 'Purpose__Annual Income__diff__7', 'Purpose__Annual Income__diff__24', 'Purpose__Annual Income__diff__30', 'Purpose__Tax Liens__diff__-30', 'Purpose__Tax Liens__diff__-24', 'Purpose__Tax Liens__diff__-7', 'Purpose__Tax Liens__diff__-3', 'Purpose__Tax Liens__diff__-2', 'Purpose__Tax Liens__diff__-1', 'Purpose__Tax Liens__diff__1', 'Purpose__Tax Liens__diff__2', 'Purpose__Tax Liens__diff__3', 'Purpose__Tax Liens__diff__7', 'Purpose__Tax Liens__diff__24', 'Purpose__Tax Liens__diff__30', 'Purpose__Number of Open Accounts__diff__-30', 'Purpose__Number of Open Accounts__diff__-24', 'Purpose__Number of Open Accounts__diff__-7', 'Purpose__Number of Open Accounts__diff__-3', 'Purpose__Number of Open Accounts__diff__-2', 'Purpose__Number of Open Accounts__diff__-1', 'Purpose__Number of Open Accounts__diff__1', 'Purpose__Number of Open Accounts__diff__2', 'Purpose__Number of Open Accounts__diff__3', 'Purpose__Number of Open Accounts__diff__7', 'Purpose__Number of Open Accounts__diff__24', 'Purpose__Number of Open Accounts__diff__30', 'Purpose__Years of Credit History__diff__-30', 'Purpose__Years of Credit History__diff__-24', 'Purpose__Years of Credit History__diff__-7', 'Purpose__Years of Credit History__diff__-3', 'Purpose__Years of Credit History__diff__-2', 'Purpose__Years of Credit History__diff__-1', 'Purpose__Years of Credit History__diff__1', 'Purpose__Years of Credit History__diff__2', 'Purpose__Years of Credit History__diff__3', 'Purpose__Years of Credit History__diff__7', 'Purpose__Years of Credit History__diff__24', 'Purpose__Years of Credit History__diff__30', 'Purpose__Maximum Open Credit__diff__-30', 'Purpose__Maximum Open Credit__diff__-24', 'Purpose__Maximum Open Credit__diff__-7', 'Purpose__Maximum Open Credit__diff__-3', 'Purpose__Maximum Open Credit__diff__-2', 'Purpose__Maximum Open Credit__diff__-1', 'Purpose__Maximum Open Credit__diff__1', 'Purpose__Maximum Open Credit__diff__2', 'Purpose__Maximum Open Credit__diff__3', 'Purpose__Maximum Open Credit__diff__7', 'Purpose__Maximum Open Credit__diff__24', 'Purpose__Maximum Open Credit__diff__30', 'Purpose__Number of Credit Problems__diff__-30', 'Purpose__Number of Credit Problems__diff__-24', 'Purpose__Number of Credit Problems__diff__-7', 'Purpose__Number of Credit Problems__diff__-3', 'Purpose__Number of Credit Problems__diff__-2', 'Purpose__Number of Credit Problems__diff__-1', 'Purpose__Number of Credit Problems__diff__1', 'Purpose__Number of Credit Problems__diff__2', 'Purpose__Number of Credit Problems__diff__3', 'Purpose__Number of Credit Problems__diff__7', 'Purpose__Number of Credit Problems__diff__24', 'Purpose__Number of Credit Problems__diff__30', 'Purpose__Months since last delinquent__diff__-30', 'Purpose__Months since last delinquent__diff__-24', 'Purpose__Months since last delinquent__diff__-7', 'Purpose__Months since last delinquent__diff__-3', 'Purpose__Months since last delinquent__diff__-2', 'Purpose__Months since last delinquent__diff__-1', 'Purpose__Months since last delinquent__diff__1', 'Purpose__Months since last delinquent__diff__2', 'Purpose__Months since last delinquent__diff__3', 'Purpose__Months since last delinquent__diff__7', 'Purpose__Months since last delinquent__diff__24', 'Purpose__Months since last delinquent__diff__30', 'Purpose__Bankruptcies__diff__-30', 'Purpose__Bankruptcies__diff__-24', 'Purpose__Bankruptcies__diff__-7', 'Purpose__Bankruptcies__diff__-3', 'Purpose__Bankruptcies__diff__-2', 'Purpose__Bankruptcies__diff__-1', 'Purpose__Bankruptcies__diff__1', 'Purpose__Bankruptcies__diff__2', 'Purpose__Bankruptcies__diff__3', 'Purpose__Bankruptcies__diff__7', 'Purpose__Bankruptcies__diff__24', 'Purpose__Bankruptcies__diff__30', 'Purpose__Current Loan Amount__diff__-30', 'Purpose__Current Loan Amount__diff__-24', 'Purpose__Current Loan Amount__diff__-7', 'Purpose__Current Loan Amount__diff__-3', 'Purpose__Current Loan Amount__diff__-2', 'Purpose__Current Loan Amount__diff__-1', 'Purpose__Current Loan Amount__diff__1', 'Purpose__Current Loan Amount__diff__2', 'Purpose__Current Loan Amount__diff__3', 'Purpose__Current Loan Amount__diff__7', 'Purpose__Current Loan Amount__diff__24', 'Purpose__Current Loan Amount__diff__30', 'Purpose__Current Credit Balance__diff__-30', 'Purpose__Current Credit Balance__diff__-24', 'Purpose__Current Credit Balance__diff__-7', 'Purpose__Current Credit Balance__diff__-3', 'Purpose__Current Credit Balance__diff__-2', 'Purpose__Current Credit Balance__diff__-1', 'Purpose__Current Credit Balance__diff__1', 'Purpose__Current Credit Balance__diff__2', 'Purpose__Current Credit Balance__diff__3', 'Purpose__Current Credit Balance__diff__7', 'Purpose__Current Credit Balance__diff__24', 'Purpose__Current Credit Balance__diff__30', 'Purpose__Monthly Debt__diff__-30', 'Purpose__Monthly Debt__diff__-24', 'Purpose__Monthly Debt__diff__-7', 'Purpose__Monthly Debt__diff__-3', 'Purpose__Monthly Debt__diff__-2', 'Purpose__Monthly Debt__diff__-1', 'Purpose__Monthly Debt__diff__1', 'Purpose__Monthly Debt__diff__2', 'Purpose__Monthly Debt__diff__3', 'Purpose__Monthly Debt__diff__7', 'Purpose__Monthly Debt__diff__24', 'Purpose__Monthly Debt__diff__30', 'Purpose__Credit Score__diff__-30', 'Purpose__Credit Score__diff__-24', 'Purpose__Credit Score__diff__-7', 'Purpose__Credit Score__diff__-3', 'Purpose__Credit Score__diff__-2', 'Purpose__Credit Score__diff__-1', 'Purpose__Credit Score__diff__1', 'Purpose__Credit Score__diff__2', 'Purpose__Credit Score__diff__3', 'Purpose__Credit Score__diff__7', 'Purpose__Credit Score__diff__24', 'Purpose__Credit Score__diff__30']\n",
      "   INFO ->  start training lightgbm model\n",
      "   INFO ->  feature importance\n",
      "   INFO ->                                             feature  fold_1  fold_2  fold_3  \\\n",
      "0                                     Credit Score     348      16     566   \n",
      "1                              Current Loan Amount     250      13     267   \n",
      "2     Years in current job__Credit Score__diff__-7     217       9     254   \n",
      "3                      Purpose__Credit Score__rank     157       3     117   \n",
      "4                  Purpose__Credit Score__diff__-1     175       0     156   \n",
      "..                                             ...     ...     ...     ...   \n",
      "734      Years in current job__Tax Liens__shift__3       0       0       0   \n",
      "735      Years in current job__Tax Liens__shift__7       0       0       0   \n",
      "736         Years in current job__Purpose__nunique       0       0       0   \n",
      "737     Years in current job__Tax Liens__shift__24       0       0       0   \n",
      "738  Purpose__Number of Credit Problems__shift__-7       0       0       0   \n",
      "\n",
      "     fold_4  fold_5  average  \n",
      "0       356     453    347.8  \n",
      "1       192     236    191.6  \n",
      "2        83      56    123.8  \n",
      "3       157     149    116.6  \n",
      "4        48     154    106.6  \n",
      "..      ...     ...      ...  \n",
      "734       0       0      0.0  \n",
      "735       0       0      0.0  \n",
      "736       0       0      0.0  \n",
      "737       0       0      0.0  \n",
      "738       0       0      0.0  \n",
      "\n",
      "[739 rows x 7 columns]\n",
      "   INFO ->  start training xgboost model\n"
     ]
    }
   ],
   "source": [
    "sub_reload = autox_reload.get_submit()"
   ]
  },
  {
   "cell_type": "code",
   "execution_count": 16,
   "metadata": {
    "ExecuteTime": {
     "end_time": "2023-01-23T12:43:22.554874Z",
     "start_time": "2023-01-23T12:43:22.526141Z"
    },
    "scrolled": true
   },
   "outputs": [
    {
     "data": {
      "text/html": [
       "<div>\n",
       "<style scoped>\n",
       "    .dataframe tbody tr th:only-of-type {\n",
       "        vertical-align: middle;\n",
       "    }\n",
       "\n",
       "    .dataframe tbody tr th {\n",
       "        vertical-align: top;\n",
       "    }\n",
       "\n",
       "    .dataframe thead th {\n",
       "        text-align: right;\n",
       "    }\n",
       "</style>\n",
       "<table border=\"1\" class=\"dataframe\">\n",
       "  <thead>\n",
       "    <tr style=\"text-align: right;\">\n",
       "      <th></th>\n",
       "      <th>Id</th>\n",
       "      <th>Credit Default</th>\n",
       "    </tr>\n",
       "  </thead>\n",
       "  <tbody>\n",
       "    <tr>\n",
       "      <th>0</th>\n",
       "      <td>8292</td>\n",
       "      <td>0.312630</td>\n",
       "    </tr>\n",
       "    <tr>\n",
       "      <th>1</th>\n",
       "      <td>8948</td>\n",
       "      <td>0.268545</td>\n",
       "    </tr>\n",
       "    <tr>\n",
       "      <th>2</th>\n",
       "      <td>7633</td>\n",
       "      <td>0.203158</td>\n",
       "    </tr>\n",
       "    <tr>\n",
       "      <th>3</th>\n",
       "      <td>8979</td>\n",
       "      <td>0.284007</td>\n",
       "    </tr>\n",
       "    <tr>\n",
       "      <th>4</th>\n",
       "      <td>9420</td>\n",
       "      <td>0.415454</td>\n",
       "    </tr>\n",
       "    <tr>\n",
       "      <th>...</th>\n",
       "      <td>...</td>\n",
       "      <td>...</td>\n",
       "    </tr>\n",
       "    <tr>\n",
       "      <th>245</th>\n",
       "      <td>7674</td>\n",
       "      <td>0.838841</td>\n",
       "    </tr>\n",
       "    <tr>\n",
       "      <th>246</th>\n",
       "      <td>8294</td>\n",
       "      <td>0.271614</td>\n",
       "    </tr>\n",
       "    <tr>\n",
       "      <th>247</th>\n",
       "      <td>8543</td>\n",
       "      <td>0.281924</td>\n",
       "    </tr>\n",
       "    <tr>\n",
       "      <th>248</th>\n",
       "      <td>8791</td>\n",
       "      <td>0.435425</td>\n",
       "    </tr>\n",
       "    <tr>\n",
       "      <th>249</th>\n",
       "      <td>7948</td>\n",
       "      <td>0.467963</td>\n",
       "    </tr>\n",
       "  </tbody>\n",
       "</table>\n",
       "<p>250 rows × 2 columns</p>\n",
       "</div>"
      ],
      "text/plain": [
       "       Id  Credit Default\n",
       "0    8292        0.312630\n",
       "1    8948        0.268545\n",
       "2    7633        0.203158\n",
       "3    8979        0.284007\n",
       "4    9420        0.415454\n",
       "..    ...             ...\n",
       "245  7674        0.838841\n",
       "246  8294        0.271614\n",
       "247  8543        0.281924\n",
       "248  8791        0.435425\n",
       "249  7948        0.467963\n",
       "\n",
       "[250 rows x 2 columns]"
      ]
     },
     "execution_count": 16,
     "metadata": {},
     "output_type": "execute_result"
    }
   ],
   "source": [
    "sub_reload"
   ]
  },
  {
   "cell_type": "code",
   "execution_count": null,
   "metadata": {},
   "outputs": [],
   "source": []
  },
  {
   "cell_type": "code",
   "execution_count": null,
   "metadata": {},
   "outputs": [],
   "source": []
  },
  {
   "cell_type": "code",
   "execution_count": null,
   "metadata": {},
   "outputs": [],
   "source": []
  },
  {
   "cell_type": "code",
   "execution_count": null,
   "metadata": {},
   "outputs": [],
   "source": []
  }
 ],
 "metadata": {
  "kernelspec": {
   "display_name": "Python 3",
   "language": "python",
   "name": "python3"
  },
  "language_info": {
   "codemirror_mode": {
    "name": "ipython",
    "version": 3
   },
   "file_extension": ".py",
   "mimetype": "text/x-python",
   "name": "python",
   "nbconvert_exporter": "python",
   "pygments_lexer": "ipython3",
   "version": "3.7.3"
  },
  "toc": {
   "base_numbering": 1,
   "nav_menu": {},
   "number_sections": true,
   "sideBar": true,
   "skip_h1_title": false,
   "title_cell": "Table of Contents",
   "title_sidebar": "Contents",
   "toc_cell": false,
   "toc_position": {},
   "toc_section_display": true,
   "toc_window_display": false
  },
  "varInspector": {
   "cols": {
    "lenName": 16,
    "lenType": 16,
    "lenVar": 40
   },
   "kernels_config": {
    "python": {
     "delete_cmd_postfix": "",
     "delete_cmd_prefix": "del ",
     "library": "var_list.py",
     "varRefreshCmd": "print(var_dic_list())"
    },
    "r": {
     "delete_cmd_postfix": ") ",
     "delete_cmd_prefix": "rm(",
     "library": "var_list.r",
     "varRefreshCmd": "cat(var_dic_list()) "
    }
   },
   "types_to_exclude": [
    "module",
    "function",
    "builtin_function_or_method",
    "instance",
    "_Feature"
   ],
   "window_display": false
  }
 },
 "nbformat": 4,
 "nbformat_minor": 2
}
