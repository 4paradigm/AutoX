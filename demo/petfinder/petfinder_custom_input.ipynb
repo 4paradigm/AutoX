{
 "cells": [
  {
   "cell_type": "code",
   "execution_count": 1,
   "metadata": {
    "ExecuteTime": {
     "end_time": "2022-04-09T01:22:44.811706Z",
     "start_time": "2022-04-09T01:22:44.534853Z"
    },
    "execution": {
     "iopub.execute_input": "2021-11-29T07:16:32.984161Z",
     "iopub.status.busy": "2021-11-29T07:16:32.982939Z",
     "iopub.status.idle": "2021-11-29T07:16:32.993329Z",
     "shell.execute_reply": "2021-11-29T07:16:32.993823Z",
     "shell.execute_reply.started": "2021-11-29T07:13:57.406272Z"
    },
    "papermill": {
     "duration": 0.02437,
     "end_time": "2021-11-29T07:16:32.994135",
     "exception": false,
     "start_time": "2021-11-29T07:16:32.969765",
     "status": "completed"
    },
    "tags": []
   },
   "outputs": [
    {
     "name": "stderr",
     "output_type": "stream",
     "text": [
      "/home/caihengxing/anaconda3/lib/python3.7/site-packages/pandas/compat/_optional.py:138: UserWarning: Pandas requires version '2.7.0' or newer of 'numexpr' (version '2.6.9' currently installed).\n",
      "  warnings.warn(msg, UserWarning)\n"
     ]
    }
   ],
   "source": [
    "import pandas as pd\n",
    "import numpy as np\n",
    "import os\n",
    "from tqdm import tqdm"
   ]
  },
  {
   "cell_type": "code",
   "execution_count": 2,
   "metadata": {
    "ExecuteTime": {
     "end_time": "2022-04-09T01:22:45.563307Z",
     "start_time": "2022-04-09T01:22:45.541425Z"
    },
    "execution": {
     "iopub.execute_input": "2021-11-29T07:16:33.041418Z",
     "iopub.status.busy": "2021-11-29T07:16:33.040715Z",
     "iopub.status.idle": "2021-11-29T07:16:33.090493Z",
     "shell.execute_reply": "2021-11-29T07:16:33.091021Z",
     "shell.execute_reply.started": "2021-11-29T07:14:19.940576Z"
    },
    "papermill": {
     "duration": 0.064068,
     "end_time": "2021-11-29T07:16:33.091222",
     "exception": false,
     "start_time": "2021-11-29T07:16:33.027154",
     "status": "completed"
    },
    "tags": []
   },
   "outputs": [],
   "source": [
    "data = pd.read_csv('/home/caihengxing/kaggle/petfinder/input/train.csv')"
   ]
  },
  {
   "cell_type": "code",
   "execution_count": 3,
   "metadata": {
    "ExecuteTime": {
     "end_time": "2022-04-09T01:22:46.199264Z",
     "start_time": "2022-04-09T01:22:46.170780Z"
    }
   },
   "outputs": [
    {
     "data": {
      "text/html": [
       "<div>\n",
       "<style scoped>\n",
       "    .dataframe tbody tr th:only-of-type {\n",
       "        vertical-align: middle;\n",
       "    }\n",
       "\n",
       "    .dataframe tbody tr th {\n",
       "        vertical-align: top;\n",
       "    }\n",
       "\n",
       "    .dataframe thead th {\n",
       "        text-align: right;\n",
       "    }\n",
       "</style>\n",
       "<table border=\"1\" class=\"dataframe\">\n",
       "  <thead>\n",
       "    <tr style=\"text-align: right;\">\n",
       "      <th></th>\n",
       "      <th>Id</th>\n",
       "      <th>Subject Focus</th>\n",
       "      <th>Eyes</th>\n",
       "      <th>Face</th>\n",
       "      <th>Near</th>\n",
       "      <th>Action</th>\n",
       "      <th>Accessory</th>\n",
       "      <th>Group</th>\n",
       "      <th>Collage</th>\n",
       "      <th>Human</th>\n",
       "      <th>Occlusion</th>\n",
       "      <th>Info</th>\n",
       "      <th>Blur</th>\n",
       "      <th>Pawpularity</th>\n",
       "    </tr>\n",
       "  </thead>\n",
       "  <tbody>\n",
       "    <tr>\n",
       "      <th>0</th>\n",
       "      <td>0007de18844b0dbbb5e1f607da0606e0</td>\n",
       "      <td>0</td>\n",
       "      <td>1</td>\n",
       "      <td>1</td>\n",
       "      <td>1</td>\n",
       "      <td>0</td>\n",
       "      <td>0</td>\n",
       "      <td>1</td>\n",
       "      <td>0</td>\n",
       "      <td>0</td>\n",
       "      <td>0</td>\n",
       "      <td>0</td>\n",
       "      <td>0</td>\n",
       "      <td>63</td>\n",
       "    </tr>\n",
       "    <tr>\n",
       "      <th>1</th>\n",
       "      <td>0009c66b9439883ba2750fb825e1d7db</td>\n",
       "      <td>0</td>\n",
       "      <td>1</td>\n",
       "      <td>1</td>\n",
       "      <td>0</td>\n",
       "      <td>0</td>\n",
       "      <td>0</td>\n",
       "      <td>0</td>\n",
       "      <td>0</td>\n",
       "      <td>0</td>\n",
       "      <td>0</td>\n",
       "      <td>0</td>\n",
       "      <td>0</td>\n",
       "      <td>42</td>\n",
       "    </tr>\n",
       "    <tr>\n",
       "      <th>2</th>\n",
       "      <td>0013fd999caf9a3efe1352ca1b0d937e</td>\n",
       "      <td>0</td>\n",
       "      <td>1</td>\n",
       "      <td>1</td>\n",
       "      <td>1</td>\n",
       "      <td>0</td>\n",
       "      <td>0</td>\n",
       "      <td>0</td>\n",
       "      <td>0</td>\n",
       "      <td>1</td>\n",
       "      <td>1</td>\n",
       "      <td>0</td>\n",
       "      <td>0</td>\n",
       "      <td>28</td>\n",
       "    </tr>\n",
       "    <tr>\n",
       "      <th>3</th>\n",
       "      <td>0018df346ac9c1d8413cfcc888ca8246</td>\n",
       "      <td>0</td>\n",
       "      <td>1</td>\n",
       "      <td>1</td>\n",
       "      <td>1</td>\n",
       "      <td>0</td>\n",
       "      <td>0</td>\n",
       "      <td>0</td>\n",
       "      <td>0</td>\n",
       "      <td>0</td>\n",
       "      <td>0</td>\n",
       "      <td>0</td>\n",
       "      <td>0</td>\n",
       "      <td>15</td>\n",
       "    </tr>\n",
       "    <tr>\n",
       "      <th>4</th>\n",
       "      <td>001dc955e10590d3ca4673f034feeef2</td>\n",
       "      <td>0</td>\n",
       "      <td>0</td>\n",
       "      <td>0</td>\n",
       "      <td>1</td>\n",
       "      <td>0</td>\n",
       "      <td>0</td>\n",
       "      <td>1</td>\n",
       "      <td>0</td>\n",
       "      <td>0</td>\n",
       "      <td>0</td>\n",
       "      <td>0</td>\n",
       "      <td>0</td>\n",
       "      <td>72</td>\n",
       "    </tr>\n",
       "  </tbody>\n",
       "</table>\n",
       "</div>"
      ],
      "text/plain": [
       "                                 Id  Subject Focus  Eyes  Face  Near  Action  \\\n",
       "0  0007de18844b0dbbb5e1f607da0606e0              0     1     1     1       0   \n",
       "1  0009c66b9439883ba2750fb825e1d7db              0     1     1     0       0   \n",
       "2  0013fd999caf9a3efe1352ca1b0d937e              0     1     1     1       0   \n",
       "3  0018df346ac9c1d8413cfcc888ca8246              0     1     1     1       0   \n",
       "4  001dc955e10590d3ca4673f034feeef2              0     0     0     1       0   \n",
       "\n",
       "   Accessory  Group  Collage  Human  Occlusion  Info  Blur  Pawpularity  \n",
       "0          0      1        0      0          0     0     0           63  \n",
       "1          0      0        0      0          0     0     0           42  \n",
       "2          0      0        0      1          1     0     0           28  \n",
       "3          0      0        0      0          0     0     0           15  \n",
       "4          0      1        0      0          0     0     0           72  "
      ]
     },
     "execution_count": 3,
     "metadata": {},
     "output_type": "execute_result"
    }
   ],
   "source": [
    "data.head()"
   ]
  },
  {
   "cell_type": "code",
   "execution_count": 4,
   "metadata": {
    "ExecuteTime": {
     "end_time": "2022-04-09T01:22:47.281826Z",
     "start_time": "2022-04-09T01:22:46.586614Z"
    },
    "execution": {
     "iopub.execute_input": "2021-11-29T07:16:33.114541Z",
     "iopub.status.busy": "2021-11-29T07:16:33.113500Z",
     "iopub.status.idle": "2021-11-29T07:16:34.114141Z",
     "shell.execute_reply": "2021-11-29T07:16:34.112799Z",
     "shell.execute_reply.started": "2021-11-29T07:14:22.769083Z"
    },
    "papermill": {
     "duration": 1.014418,
     "end_time": "2021-11-29T07:16:34.114300",
     "exception": false,
     "start_time": "2021-11-29T07:16:33.099882",
     "status": "completed"
    },
    "tags": []
   },
   "outputs": [],
   "source": [
    "from sklearn.model_selection import train_test_split\n",
    "\n",
    "train, test = train_test_split(data, test_size=0.2, random_state=42)"
   ]
  },
  {
   "cell_type": "code",
   "execution_count": 5,
   "metadata": {
    "ExecuteTime": {
     "end_time": "2022-04-09T01:22:48.436136Z",
     "start_time": "2022-04-09T01:22:48.425914Z"
    },
    "execution": {
     "iopub.execute_input": "2021-11-29T07:16:34.140532Z",
     "iopub.status.busy": "2021-11-29T07:16:34.135088Z",
     "iopub.status.idle": "2021-11-29T07:16:34.151796Z",
     "shell.execute_reply": "2021-11-29T07:16:34.152349Z",
     "shell.execute_reply.started": "2021-11-29T07:14:31.209177Z"
    },
    "papermill": {
     "duration": 0.029012,
     "end_time": "2021-11-29T07:16:34.152519",
     "exception": false,
     "start_time": "2021-11-29T07:16:34.123507",
     "status": "completed"
    },
    "scrolled": true,
    "tags": []
   },
   "outputs": [
    {
     "name": "stderr",
     "output_type": "stream",
     "text": [
      "/home/caihengxing/anaconda3/lib/python3.7/site-packages/pandas/core/frame.py:4913: SettingWithCopyWarning: \n",
      "A value is trying to be set on a copy of a slice from a DataFrame\n",
      "\n",
      "See the caveats in the documentation: https://pandas.pydata.org/pandas-docs/stable/user_guide/indexing.html#returning-a-view-versus-a-copy\n",
      "  errors=errors,\n"
     ]
    }
   ],
   "source": [
    "solution = test[['Id','Pawpularity']]\n",
    "test.drop('Pawpularity', axis=1, inplace=True)"
   ]
  },
  {
   "cell_type": "code",
   "execution_count": 6,
   "metadata": {
    "ExecuteTime": {
     "end_time": "2022-04-09T01:22:49.611838Z",
     "start_time": "2022-04-09T01:22:49.607381Z"
    }
   },
   "outputs": [],
   "source": [
    "import os\n",
    "path_output = '/home/caihengxing/kaggle/petfinder/custom_input'\n",
    "os.makedirs(path_output, exist_ok = True)\n",
    "\n",
    "path_output_2 = '/home/caihengxing/kaggle/petfinder/custom_input/solution'\n",
    "os.makedirs(path_output_2, exist_ok = True)"
   ]
  },
  {
   "cell_type": "code",
   "execution_count": 7,
   "metadata": {
    "ExecuteTime": {
     "end_time": "2022-04-09T01:23:16.212543Z",
     "start_time": "2022-04-09T01:23:16.173152Z"
    },
    "execution": {
     "iopub.execute_input": "2021-11-29T07:16:34.176494Z",
     "iopub.status.busy": "2021-11-29T07:16:34.175831Z",
     "iopub.status.idle": "2021-11-29T07:16:34.246357Z",
     "shell.execute_reply": "2021-11-29T07:16:34.245436Z",
     "shell.execute_reply.started": "2021-11-29T07:14:37.750361Z"
    },
    "papermill": {
     "duration": 0.084348,
     "end_time": "2021-11-29T07:16:34.246591",
     "exception": false,
     "start_time": "2021-11-29T07:16:34.162243",
     "status": "completed"
    },
    "tags": []
   },
   "outputs": [],
   "source": [
    "train.to_csv(path_output + '/train.csv', index = False)\n",
    "test.to_csv(path_output + '/test.csv', index = False)"
   ]
  },
  {
   "cell_type": "code",
   "execution_count": 8,
   "metadata": {
    "ExecuteTime": {
     "end_time": "2022-04-09T01:23:26.128240Z",
     "start_time": "2022-04-09T01:23:26.116459Z"
    },
    "execution": {
     "iopub.execute_input": "2021-11-29T07:16:34.176494Z",
     "iopub.status.busy": "2021-11-29T07:16:34.175831Z",
     "iopub.status.idle": "2021-11-29T07:16:34.246357Z",
     "shell.execute_reply": "2021-11-29T07:16:34.245436Z",
     "shell.execute_reply.started": "2021-11-29T07:14:37.750361Z"
    },
    "papermill": {
     "duration": 0.084348,
     "end_time": "2021-11-29T07:16:34.246591",
     "exception": false,
     "start_time": "2021-11-29T07:16:34.162243",
     "status": "completed"
    },
    "scrolled": true,
    "tags": []
   },
   "outputs": [],
   "source": [
    "solution.to_csv(path_output_2 + '/solution.csv', index = False)"
   ]
  },
  {
   "cell_type": "code",
   "execution_count": 9,
   "metadata": {
    "ExecuteTime": {
     "end_time": "2022-04-09T01:23:37.012121Z",
     "start_time": "2022-04-09T01:23:36.998337Z"
    },
    "execution": {
     "iopub.execute_input": "2021-11-29T07:16:34.275967Z",
     "iopub.status.busy": "2021-11-29T07:16:34.275261Z",
     "iopub.status.idle": "2021-11-29T07:16:34.289121Z",
     "shell.execute_reply": "2021-11-29T07:16:34.289695Z",
     "shell.execute_reply.started": "2021-11-29T07:14:38.573323Z"
    },
    "papermill": {
     "duration": 0.031371,
     "end_time": "2021-11-29T07:16:34.289897",
     "exception": false,
     "start_time": "2021-11-29T07:16:34.258526",
     "status": "completed"
    },
    "scrolled": true,
    "tags": []
   },
   "outputs": [
    {
     "name": "stderr",
     "output_type": "stream",
     "text": [
      "/home/caihengxing/anaconda3/lib/python3.7/site-packages/ipykernel_launcher.py:1: SettingWithCopyWarning: \n",
      "A value is trying to be set on a copy of a slice from a DataFrame.\n",
      "Try using .loc[row_indexer,col_indexer] = value instead\n",
      "\n",
      "See the caveats in the documentation: https://pandas.pydata.org/pandas-docs/stable/user_guide/indexing.html#returning-a-view-versus-a-copy\n",
      "  \"\"\"Entry point for launching an IPython kernel.\n"
     ]
    }
   ],
   "source": [
    "solution['Pawpularity'] = 0\n",
    "solution.to_csv(path_output + '/sample_submission.csv', index = False)"
   ]
  },
  {
   "cell_type": "code",
   "execution_count": 10,
   "metadata": {
    "ExecuteTime": {
     "end_time": "2022-04-09T01:24:58.337035Z",
     "start_time": "2022-04-09T01:24:57.988482Z"
    },
    "execution": {
     "iopub.execute_input": "2021-11-29T07:16:34.315493Z",
     "iopub.status.busy": "2021-11-29T07:16:34.312013Z",
     "iopub.status.idle": "2021-11-29T07:16:34.317513Z",
     "shell.execute_reply": "2021-11-29T07:16:34.318001Z",
     "shell.execute_reply.started": "2021-11-29T07:16:10.457387Z"
    },
    "papermill": {
     "duration": 0.018606,
     "end_time": "2021-11-29T07:16:34.318250",
     "exception": false,
     "start_time": "2021-11-29T07:16:34.299644",
     "status": "completed"
    },
    "tags": []
   },
   "outputs": [],
   "source": [
    "!mv /home/caihengxing/kaggle/petfinder/input/train /home/caihengxing/kaggle/petfinder/custom_input/image"
   ]
  },
  {
   "cell_type": "code",
   "execution_count": null,
   "metadata": {
    "papermill": {
     "duration": 0.009139,
     "end_time": "2021-11-29T07:16:34.336972",
     "exception": false,
     "start_time": "2021-11-29T07:16:34.327833",
     "status": "completed"
    },
    "tags": []
   },
   "outputs": [],
   "source": []
  }
 ],
 "metadata": {
  "kernelspec": {
   "display_name": "Python 3",
   "language": "python",
   "name": "python3"
  },
  "language_info": {
   "codemirror_mode": {
    "name": "ipython",
    "version": 3
   },
   "file_extension": ".py",
   "mimetype": "text/x-python",
   "name": "python",
   "nbconvert_exporter": "python",
   "pygments_lexer": "ipython3",
   "version": "3.7.3"
  },
  "papermill": {
   "default_parameters": {},
   "duration": 11.594622,
   "end_time": "2021-11-29T07:16:35.058761",
   "environment_variables": {},
   "exception": null,
   "input_path": "__notebook__.ipynb",
   "output_path": "__notebook__.ipynb",
   "parameters": {},
   "start_time": "2021-11-29T07:16:23.464139",
   "version": "2.3.3"
  },
  "toc": {
   "base_numbering": 1,
   "nav_menu": {},
   "number_sections": true,
   "sideBar": true,
   "skip_h1_title": false,
   "title_cell": "Table of Contents",
   "title_sidebar": "Contents",
   "toc_cell": false,
   "toc_position": {},
   "toc_section_display": true,
   "toc_window_display": false
  },
  "varInspector": {
   "cols": {
    "lenName": 16,
    "lenType": 16,
    "lenVar": 40
   },
   "kernels_config": {
    "python": {
     "delete_cmd_postfix": "",
     "delete_cmd_prefix": "del ",
     "library": "var_list.py",
     "varRefreshCmd": "print(var_dic_list())"
    },
    "r": {
     "delete_cmd_postfix": ") ",
     "delete_cmd_prefix": "rm(",
     "library": "var_list.r",
     "varRefreshCmd": "cat(var_dic_list()) "
    }
   },
   "types_to_exclude": [
    "module",
    "function",
    "builtin_function_or_method",
    "instance",
    "_Feature"
   ],
   "window_display": false
  }
 },
 "nbformat": 4,
 "nbformat_minor": 5
}
