{
 "cells": [
  {
   "cell_type": "code",
   "execution_count": 1,
   "metadata": {
    "ExecuteTime": {
     "end_time": "2022-04-09T01:29:05.784232Z",
     "start_time": "2022-04-09T01:29:05.365207Z"
    }
   },
   "outputs": [
    {
     "name": "stderr",
     "output_type": "stream",
     "text": [
      "/home/caihengxing/anaconda3/lib/python3.7/site-packages/pandas/compat/_optional.py:138: UserWarning: Pandas requires version '2.7.0' or newer of 'numexpr' (version '2.6.9' currently installed).\n",
      "  warnings.warn(msg, UserWarning)\n"
     ]
    }
   ],
   "source": [
    "import pandas as pd\n",
    "import numpy as np\n",
    "import os"
   ]
  },
  {
   "cell_type": "code",
   "execution_count": 2,
   "metadata": {
    "ExecuteTime": {
     "end_time": "2022-04-09T01:29:11.956845Z",
     "start_time": "2022-04-09T01:29:06.016573Z"
    },
    "scrolled": true
   },
   "outputs": [
    {
     "name": "stdout",
     "output_type": "stream",
     "text": [
      "Checking whether there is an H2O instance running at http://localhost:54321 ..... not found.\n",
      "Attempting to start a local H2O server...\n",
      "  Java Version: openjdk version \"11.0.14.1\" 2022-02-08 LTS; OpenJDK Runtime Environment 18.9 (build 11.0.14.1+1-LTS); OpenJDK 64-Bit Server VM 18.9 (build 11.0.14.1+1-LTS, mixed mode, sharing)\n",
      "  Starting server from /home/caihengxing/anaconda3/lib/python3.7/site-packages/h2o/backend/bin/h2o.jar\n",
      "  Ice root: /tmp/tmppmlb0ynj\n",
      "  JVM stdout: /tmp/tmppmlb0ynj/h2o_caihengxing_started_from_python.out\n",
      "  JVM stderr: /tmp/tmppmlb0ynj/h2o_caihengxing_started_from_python.err\n",
      "  Server is running at http://127.0.0.1:59587\n",
      "Connecting to H2O server at http://127.0.0.1:59587 ... successful.\n"
     ]
    },
    {
     "data": {
      "text/html": [
       "<div style=\"overflow:auto\"><table style=\"width:50%\"><tr><td>H2O_cluster_uptime:</td>\n",
       "<td>02 secs</td></tr>\n",
       "<tr><td>H2O_cluster_timezone:</td>\n",
       "<td>Asia/Shanghai</td></tr>\n",
       "<tr><td>H2O_data_parsing_timezone:</td>\n",
       "<td>UTC</td></tr>\n",
       "<tr><td>H2O_cluster_version:</td>\n",
       "<td>3.36.0.4</td></tr>\n",
       "<tr><td>H2O_cluster_version_age:</td>\n",
       "<td>9 days </td></tr>\n",
       "<tr><td>H2O_cluster_name:</td>\n",
       "<td>H2O_from_python_caihengxing_xdns1o</td></tr>\n",
       "<tr><td>H2O_cluster_total_nodes:</td>\n",
       "<td>1</td></tr>\n",
       "<tr><td>H2O_cluster_free_memory:</td>\n",
       "<td>29.97 Gb</td></tr>\n",
       "<tr><td>H2O_cluster_total_cores:</td>\n",
       "<td>40</td></tr>\n",
       "<tr><td>H2O_cluster_allowed_cores:</td>\n",
       "<td>40</td></tr>\n",
       "<tr><td>H2O_cluster_status:</td>\n",
       "<td>locked, healthy</td></tr>\n",
       "<tr><td>H2O_connection_url:</td>\n",
       "<td>http://127.0.0.1:59587</td></tr>\n",
       "<tr><td>H2O_connection_proxy:</td>\n",
       "<td>{\"http\": null, \"https\": null}</td></tr>\n",
       "<tr><td>H2O_internal_security:</td>\n",
       "<td>False</td></tr>\n",
       "<tr><td>Python_version:</td>\n",
       "<td>3.7.3 final</td></tr></table></div>"
      ],
      "text/plain": [
       "--------------------------  ----------------------------------\n",
       "H2O_cluster_uptime:         02 secs\n",
       "H2O_cluster_timezone:       Asia/Shanghai\n",
       "H2O_data_parsing_timezone:  UTC\n",
       "H2O_cluster_version:        3.36.0.4\n",
       "H2O_cluster_version_age:    9 days\n",
       "H2O_cluster_name:           H2O_from_python_caihengxing_xdns1o\n",
       "H2O_cluster_total_nodes:    1\n",
       "H2O_cluster_free_memory:    29.97 Gb\n",
       "H2O_cluster_total_cores:    40\n",
       "H2O_cluster_allowed_cores:  40\n",
       "H2O_cluster_status:         locked, healthy\n",
       "H2O_connection_url:         http://127.0.0.1:59587\n",
       "H2O_connection_proxy:       {\"http\": null, \"https\": null}\n",
       "H2O_internal_security:      False\n",
       "Python_version:             3.7.3 final\n",
       "--------------------------  ----------------------------------"
      ]
     },
     "metadata": {},
     "output_type": "display_data"
    }
   ],
   "source": [
    "import h2o\n",
    "from h2o.automl import H2OAutoML\n",
    "h2o.init()"
   ]
  },
  {
   "cell_type": "code",
   "execution_count": 3,
   "metadata": {
    "ExecuteTime": {
     "end_time": "2022-04-09T01:29:58.943711Z",
     "start_time": "2022-04-09T01:29:58.939912Z"
    }
   },
   "outputs": [],
   "source": [
    "data_path = '/home/caihengxing/kaggle/petfinder/custom_input/'"
   ]
  },
  {
   "cell_type": "code",
   "execution_count": 4,
   "metadata": {
    "ExecuteTime": {
     "end_time": "2022-04-09T01:29:59.762589Z",
     "start_time": "2022-04-09T01:29:59.758859Z"
    }
   },
   "outputs": [],
   "source": [
    "train_path = data_path + 'train.csv'\n",
    "test_path  = data_path + 'test.csv'"
   ]
  },
  {
   "cell_type": "code",
   "execution_count": 5,
   "metadata": {
    "ExecuteTime": {
     "end_time": "2022-04-09T01:30:02.653763Z",
     "start_time": "2022-04-09T01:30:01.243530Z"
    },
    "scrolled": true
   },
   "outputs": [
    {
     "name": "stdout",
     "output_type": "stream",
     "text": [
      "Parse progress: |████████████████████████████████████████████████████████████████| (done) 100%\n",
      "Parse progress: |████████████████████████████████████████████████████████████████| (done) 100%\n"
     ]
    }
   ],
   "source": [
    "# Load data into H2O\n",
    "train = h2o.import_file(train_path)\n",
    "test  = h2o.import_file(test_path)"
   ]
  },
  {
   "cell_type": "code",
   "execution_count": 6,
   "metadata": {
    "ExecuteTime": {
     "end_time": "2022-04-09T01:30:03.916604Z",
     "start_time": "2022-04-09T01:30:03.832555Z"
    },
    "scrolled": true
   },
   "outputs": [
    {
     "data": {
      "text/html": [
       "<table>\n",
       "<thead>\n",
       "<tr><th>Id                              </th><th style=\"text-align: right;\">  Subject Focus</th><th style=\"text-align: right;\">  Eyes</th><th style=\"text-align: right;\">  Face</th><th style=\"text-align: right;\">  Near</th><th style=\"text-align: right;\">  Action</th><th style=\"text-align: right;\">  Accessory</th><th style=\"text-align: right;\">  Group</th><th style=\"text-align: right;\">  Collage</th><th style=\"text-align: right;\">  Human</th><th style=\"text-align: right;\">  Occlusion</th><th style=\"text-align: right;\">  Info</th><th style=\"text-align: right;\">  Blur</th><th style=\"text-align: right;\">  Pawpularity</th></tr>\n",
       "</thead>\n",
       "<tbody>\n",
       "<tr><td>ec07599018885a44734a9ba27d306055</td><td style=\"text-align: right;\">              0</td><td style=\"text-align: right;\">     1</td><td style=\"text-align: right;\">     1</td><td style=\"text-align: right;\">     1</td><td style=\"text-align: right;\">       0</td><td style=\"text-align: right;\">          0</td><td style=\"text-align: right;\">      0</td><td style=\"text-align: right;\">        0</td><td style=\"text-align: right;\">      0</td><td style=\"text-align: right;\">          0</td><td style=\"text-align: right;\">     0</td><td style=\"text-align: right;\">     0</td><td style=\"text-align: right;\">           99</td></tr>\n",
       "<tr><td>df5a9f783ff2ae373ee99fa33679da64</td><td style=\"text-align: right;\">              0</td><td style=\"text-align: right;\">     1</td><td style=\"text-align: right;\">     1</td><td style=\"text-align: right;\">     1</td><td style=\"text-align: right;\">       0</td><td style=\"text-align: right;\">          0</td><td style=\"text-align: right;\">      1</td><td style=\"text-align: right;\">        0</td><td style=\"text-align: right;\">      0</td><td style=\"text-align: right;\">          0</td><td style=\"text-align: right;\">     0</td><td style=\"text-align: right;\">     0</td><td style=\"text-align: right;\">           67</td></tr>\n",
       "<tr><td>d9ba322c3fbf962b458c3be9a2f0ffd0</td><td style=\"text-align: right;\">              0</td><td style=\"text-align: right;\">     1</td><td style=\"text-align: right;\">     1</td><td style=\"text-align: right;\">     0</td><td style=\"text-align: right;\">       0</td><td style=\"text-align: right;\">          0</td><td style=\"text-align: right;\">      0</td><td style=\"text-align: right;\">        0</td><td style=\"text-align: right;\">      0</td><td style=\"text-align: right;\">          0</td><td style=\"text-align: right;\">     0</td><td style=\"text-align: right;\">     0</td><td style=\"text-align: right;\">           58</td></tr>\n",
       "<tr><td>c9bd7f7c498a5189bae9eab446cd8e01</td><td style=\"text-align: right;\">              0</td><td style=\"text-align: right;\">     1</td><td style=\"text-align: right;\">     1</td><td style=\"text-align: right;\">     1</td><td style=\"text-align: right;\">       0</td><td style=\"text-align: right;\">          0</td><td style=\"text-align: right;\">      0</td><td style=\"text-align: right;\">        1</td><td style=\"text-align: right;\">      0</td><td style=\"text-align: right;\">          0</td><td style=\"text-align: right;\">     1</td><td style=\"text-align: right;\">     0</td><td style=\"text-align: right;\">           49</td></tr>\n",
       "<tr><td>700db4fae0b34f8648ce3d96852232dc</td><td style=\"text-align: right;\">              0</td><td style=\"text-align: right;\">     1</td><td style=\"text-align: right;\">     1</td><td style=\"text-align: right;\">     1</td><td style=\"text-align: right;\">       0</td><td style=\"text-align: right;\">          0</td><td style=\"text-align: right;\">      0</td><td style=\"text-align: right;\">        0</td><td style=\"text-align: right;\">      0</td><td style=\"text-align: right;\">          0</td><td style=\"text-align: right;\">     0</td><td style=\"text-align: right;\">     0</td><td style=\"text-align: right;\">           35</td></tr>\n",
       "<tr><td>6214a3bb7baaf4221c9ba32b02b53cc7</td><td style=\"text-align: right;\">              0</td><td style=\"text-align: right;\">     1</td><td style=\"text-align: right;\">     1</td><td style=\"text-align: right;\">     1</td><td style=\"text-align: right;\">       0</td><td style=\"text-align: right;\">          0</td><td style=\"text-align: right;\">      0</td><td style=\"text-align: right;\">        0</td><td style=\"text-align: right;\">      0</td><td style=\"text-align: right;\">          0</td><td style=\"text-align: right;\">     0</td><td style=\"text-align: right;\">     0</td><td style=\"text-align: right;\">           22</td></tr>\n",
       "<tr><td>349258bf7c10d69df71b270e9be3f2a9</td><td style=\"text-align: right;\">              0</td><td style=\"text-align: right;\">     1</td><td style=\"text-align: right;\">     1</td><td style=\"text-align: right;\">     0</td><td style=\"text-align: right;\">       0</td><td style=\"text-align: right;\">          0</td><td style=\"text-align: right;\">      0</td><td style=\"text-align: right;\">        0</td><td style=\"text-align: right;\">      1</td><td style=\"text-align: right;\">          1</td><td style=\"text-align: right;\">     0</td><td style=\"text-align: right;\">     0</td><td style=\"text-align: right;\">           23</td></tr>\n",
       "<tr><td>73a7d3bd6ab8bff0b8b937a5f8ae603a</td><td style=\"text-align: right;\">              0</td><td style=\"text-align: right;\">     1</td><td style=\"text-align: right;\">     1</td><td style=\"text-align: right;\">     1</td><td style=\"text-align: right;\">       0</td><td style=\"text-align: right;\">          0</td><td style=\"text-align: right;\">      0</td><td style=\"text-align: right;\">        0</td><td style=\"text-align: right;\">      0</td><td style=\"text-align: right;\">          0</td><td style=\"text-align: right;\">     0</td><td style=\"text-align: right;\">     0</td><td style=\"text-align: right;\">           32</td></tr>\n",
       "<tr><td>8d35591e7c8b48390f713e5a54993e49</td><td style=\"text-align: right;\">              0</td><td style=\"text-align: right;\">     0</td><td style=\"text-align: right;\">     1</td><td style=\"text-align: right;\">     1</td><td style=\"text-align: right;\">       0</td><td style=\"text-align: right;\">          0</td><td style=\"text-align: right;\">      0</td><td style=\"text-align: right;\">        0</td><td style=\"text-align: right;\">      0</td><td style=\"text-align: right;\">          0</td><td style=\"text-align: right;\">     0</td><td style=\"text-align: right;\">     0</td><td style=\"text-align: right;\">           36</td></tr>\n",
       "<tr><td>375019472b95e3ddc99065110e684c2f</td><td style=\"text-align: right;\">              0</td><td style=\"text-align: right;\">     0</td><td style=\"text-align: right;\">     0</td><td style=\"text-align: right;\">     1</td><td style=\"text-align: right;\">       0</td><td style=\"text-align: right;\">          0</td><td style=\"text-align: right;\">      1</td><td style=\"text-align: right;\">        0</td><td style=\"text-align: right;\">      0</td><td style=\"text-align: right;\">          0</td><td style=\"text-align: right;\">     0</td><td style=\"text-align: right;\">     0</td><td style=\"text-align: right;\">           22</td></tr>\n",
       "</tbody>\n",
       "</table>"
      ]
     },
     "metadata": {},
     "output_type": "display_data"
    },
    {
     "data": {
      "text/plain": []
     },
     "execution_count": 6,
     "metadata": {},
     "output_type": "execute_result"
    }
   ],
   "source": [
    "train.head()"
   ]
  },
  {
   "cell_type": "code",
   "execution_count": 7,
   "metadata": {
    "ExecuteTime": {
     "end_time": "2022-04-09T01:30:11.335193Z",
     "start_time": "2022-04-09T01:30:11.332686Z"
    }
   },
   "outputs": [],
   "source": [
    "y = \"Pawpularity\""
   ]
  },
  {
   "cell_type": "code",
   "execution_count": 8,
   "metadata": {
    "ExecuteTime": {
     "end_time": "2022-04-09T03:03:43.889497Z",
     "start_time": "2022-04-09T01:30:20.517756Z"
    },
    "scrolled": true
   },
   "outputs": [
    {
     "name": "stdout",
     "output_type": "stream",
     "text": [
      "AutoML progress: |\n",
      "09:30:20.678: _train param, Dropping bad and constant columns: [Id]\n",
      "\n",
      "\n",
      "09:30:22.719: _train param, Dropping bad and constant columns: [Id]\n",
      "\n",
      "██\n",
      "09:30:24.727: _train param, Dropping bad and constant columns: [Id]\n",
      "\n",
      "█\n",
      "09:30:26.740: _train param, Dropping unused columns: [Id]\n",
      "09:30:27.744: _train param, Dropping bad and constant columns: [Id]\n",
      "\n",
      "█\n",
      "09:30:29.751: _train param, Dropping bad and constant columns: [Id]\n",
      "\n",
      "██\n",
      "09:30:31.755: _train param, Dropping bad and constant columns: [Id]\n",
      "\n",
      "\n",
      "09:30:32.759: _train param, Dropping bad and constant columns: [Id]\n",
      "09:30:33.763: _train param, Dropping bad and constant columns: [Id]\n",
      "\n",
      "█\n",
      "09:30:34.768: _train param, Dropping unused columns: [Id]\n",
      "\n",
      "█\n",
      "09:30:35.773: _train param, Dropping unused columns: [Id]\n",
      "09:30:36.776: _train param, Dropping bad and constant columns: [Id]\n",
      "\n",
      "█\n",
      "09:30:37.781: _train param, Dropping bad and constant columns: [Id]\n",
      "\n",
      "█\n",
      "09:30:38.787: _train param, Dropping bad and constant columns: [Id]\n",
      "\n",
      "██\n",
      "09:30:39.799: _train param, Dropping bad and constant columns: [Id]\n",
      "\n",
      "█\n",
      "09:30:41.805: _train param, Dropping unused columns: [Id]\n",
      "09:30:42.810: _train param, Dropping unused columns: [Id]\n",
      "\n",
      "██████████████████████████████████████████████\n",
      "09:42:14.287: _train param, Dropping unused columns: [Id]\n",
      "09:42:15.300: _train param, Dropping unused columns: [Id]\n",
      "\n",
      "███\n",
      "10:19:33.404: _train param, Dropping unused columns: [Id]\n",
      "10:19:34.414: _train param, Dropping unused columns: [Id]\n",
      "\n",
      "\n",
      "10:20:03.446: _train param, Dropping bad and constant columns: [Id]\n",
      "10:20:06.454: _train param, Dropping unused columns: [Id]\n",
      "\n",
      "\n",
      "10:20:08.471: _train param, Dropping unused columns: [Id]\n",
      "\n",
      "\n",
      "10:20:10.483: _train param, Dropping unused columns: [Id]\n",
      "\n",
      "\n",
      "10:20:16.506: _train param, Dropping unused columns: [Id]\n",
      "\n",
      "\n",
      "10:20:21.524: _train param, Dropping unused columns: [Id]\n",
      "10:20:22.535: _train param, Dropping unused columns: [Id]\n",
      "\n",
      "█\n",
      "11:03:13.808: _train param, Dropping unused columns: [Id]\n",
      "11:03:18.781: _train param, Dropping unused columns: [Id]\n",
      "\n",
      "| (done) 100%\n",
      "Model Details\n",
      "=============\n",
      "H2OStackedEnsembleEstimator :  Stacked Ensemble\n",
      "Model Key:  StackedEnsemble_AllModels_4_AutoML_1_20220409_93020\n",
      "\n",
      "No model summary for this model\n",
      "\n",
      "ModelMetricsRegressionGLM: stackedensemble\n",
      "** Reported on train data. **\n",
      "\n",
      "MSE: 419.43586039229695\n",
      "RMSE: 20.480133309924938\n",
      "MAE: 15.702519569372877\n",
      "RMSLE: 0.6139733010479658\n",
      "R^2: 8.949916277323222e-05\n",
      "Mean Residual Deviance: 419.43586039229695\n",
      "Null degrees of freedom: 7928\n",
      "Residual degrees of freedom: 7917\n",
      "Null deviance: 3326004.6116786497\n",
      "Residual deviance: 3325706.9370505223\n",
      "AIC: 70410.04955640233\n",
      "\n",
      "ModelMetricsRegressionGLM: stackedensemble\n",
      "** Reported on cross-validation data. **\n",
      "\n",
      "MSE: 418.39476431049815\n",
      "RMSE: 20.45470029872103\n",
      "MAE: 15.329698966546463\n",
      "RMSLE: 0.6033509631659485\n",
      "R^2: 0.0025714111852632726\n",
      "Mean Residual Deviance: 418.39476431049815\n",
      "Null degrees of freedom: 7928\n",
      "Residual degrees of freedom: 7914\n",
      "Null deviance: 3326398.5516471528\n",
      "Residual deviance: 3317452.08621794\n",
      "AIC: 70396.34424881889\n"
     ]
    },
    {
     "data": {
      "text/plain": []
     },
     "execution_count": 8,
     "metadata": {},
     "output_type": "execute_result"
    }
   ],
   "source": [
    "aml2 = H2OAutoML(max_runtime_secs = 7200, seed = 1, project_name = \"petfinder\")\n",
    "aml2.train(y = y, training_frame = train)"
   ]
  },
  {
   "cell_type": "code",
   "execution_count": 9,
   "metadata": {
    "ExecuteTime": {
     "end_time": "2022-04-09T03:03:44.655034Z",
     "start_time": "2022-04-09T03:03:43.971333Z"
    },
    "scrolled": true
   },
   "outputs": [
    {
     "name": "stdout",
     "output_type": "stream",
     "text": [
      "stackedensemble prediction progress: |███████████████████████████████████████████| (done) 100%\n"
     ]
    }
   ],
   "source": [
    "pred = aml2.predict(test)"
   ]
  },
  {
   "cell_type": "code",
   "execution_count": 10,
   "metadata": {
    "ExecuteTime": {
     "end_time": "2022-04-09T03:03:44.775459Z",
     "start_time": "2022-04-09T03:03:44.764976Z"
    }
   },
   "outputs": [],
   "source": [
    "sub = pd.read_csv(test_path)\n",
    "sub = sub[['Id']]"
   ]
  },
  {
   "cell_type": "code",
   "execution_count": 11,
   "metadata": {
    "ExecuteTime": {
     "end_time": "2022-04-09T03:03:44.910437Z",
     "start_time": "2022-04-09T03:03:44.879300Z"
    },
    "scrolled": true
   },
   "outputs": [],
   "source": [
    "pred = h2o.as_list(pred)"
   ]
  },
  {
   "cell_type": "code",
   "execution_count": 12,
   "metadata": {
    "ExecuteTime": {
     "end_time": "2022-04-09T03:03:45.055252Z",
     "start_time": "2022-04-09T03:03:45.052116Z"
    },
    "scrolled": true
   },
   "outputs": [],
   "source": [
    "sub[y] = pred['predict']"
   ]
  },
  {
   "cell_type": "code",
   "execution_count": 13,
   "metadata": {
    "ExecuteTime": {
     "end_time": "2022-04-09T03:03:45.177696Z",
     "start_time": "2022-04-09T03:03:45.167564Z"
    }
   },
   "outputs": [],
   "source": [
    "sub.to_csv(\"./h2o_sub_petfinder.csv\", index = False)"
   ]
  },
  {
   "cell_type": "markdown",
   "metadata": {},
   "source": [
    "### 结果计算"
   ]
  },
  {
   "cell_type": "code",
   "execution_count": 16,
   "metadata": {
    "ExecuteTime": {
     "end_time": "2022-04-09T03:15:26.629110Z",
     "start_time": "2022-04-09T03:15:26.620559Z"
    },
    "scrolled": true
   },
   "outputs": [],
   "source": [
    "solution = pd.read_csv('/home/caihengxing/kaggle/petfinder/custom_input/solution/solution.csv')"
   ]
  },
  {
   "cell_type": "code",
   "execution_count": 19,
   "metadata": {
    "ExecuteTime": {
     "end_time": "2022-04-09T03:15:40.279913Z",
     "start_time": "2022-04-09T03:15:40.271860Z"
    }
   },
   "outputs": [
    {
     "data": {
      "text/html": [
       "<div>\n",
       "<style scoped>\n",
       "    .dataframe tbody tr th:only-of-type {\n",
       "        vertical-align: middle;\n",
       "    }\n",
       "\n",
       "    .dataframe tbody tr th {\n",
       "        vertical-align: top;\n",
       "    }\n",
       "\n",
       "    .dataframe thead th {\n",
       "        text-align: right;\n",
       "    }\n",
       "</style>\n",
       "<table border=\"1\" class=\"dataframe\">\n",
       "  <thead>\n",
       "    <tr style=\"text-align: right;\">\n",
       "      <th></th>\n",
       "      <th>Id</th>\n",
       "      <th>Pawpularity</th>\n",
       "    </tr>\n",
       "  </thead>\n",
       "  <tbody>\n",
       "    <tr>\n",
       "      <th>0</th>\n",
       "      <td>48d53aeabee4f92f77eee3a323343c77</td>\n",
       "      <td>40</td>\n",
       "    </tr>\n",
       "    <tr>\n",
       "      <th>1</th>\n",
       "      <td>b60e82fd313066b801fa4431d1ce4f4e</td>\n",
       "      <td>64</td>\n",
       "    </tr>\n",
       "    <tr>\n",
       "      <th>2</th>\n",
       "      <td>09ae71fc4eda1e0ae05680d1950bc009</td>\n",
       "      <td>26</td>\n",
       "    </tr>\n",
       "    <tr>\n",
       "      <th>3</th>\n",
       "      <td>263879abce68de4af02ef5f7ef873d24</td>\n",
       "      <td>73</td>\n",
       "    </tr>\n",
       "    <tr>\n",
       "      <th>4</th>\n",
       "      <td>4ea0587a137c7983ca92851b6cb36ca1</td>\n",
       "      <td>39</td>\n",
       "    </tr>\n",
       "  </tbody>\n",
       "</table>\n",
       "</div>"
      ],
      "text/plain": [
       "                                 Id  Pawpularity\n",
       "0  48d53aeabee4f92f77eee3a323343c77           40\n",
       "1  b60e82fd313066b801fa4431d1ce4f4e           64\n",
       "2  09ae71fc4eda1e0ae05680d1950bc009           26\n",
       "3  263879abce68de4af02ef5f7ef873d24           73\n",
       "4  4ea0587a137c7983ca92851b6cb36ca1           39"
      ]
     },
     "execution_count": 19,
     "metadata": {},
     "output_type": "execute_result"
    }
   ],
   "source": [
    "solution.head()"
   ]
  },
  {
   "cell_type": "code",
   "execution_count": 18,
   "metadata": {
    "ExecuteTime": {
     "end_time": "2022-04-09T03:15:33.499694Z",
     "start_time": "2022-04-09T03:15:33.491962Z"
    },
    "scrolled": true
   },
   "outputs": [
    {
     "data": {
      "text/html": [
       "<div>\n",
       "<style scoped>\n",
       "    .dataframe tbody tr th:only-of-type {\n",
       "        vertical-align: middle;\n",
       "    }\n",
       "\n",
       "    .dataframe tbody tr th {\n",
       "        vertical-align: top;\n",
       "    }\n",
       "\n",
       "    .dataframe thead th {\n",
       "        text-align: right;\n",
       "    }\n",
       "</style>\n",
       "<table border=\"1\" class=\"dataframe\">\n",
       "  <thead>\n",
       "    <tr style=\"text-align: right;\">\n",
       "      <th></th>\n",
       "      <th>Id</th>\n",
       "      <th>Pawpularity</th>\n",
       "    </tr>\n",
       "  </thead>\n",
       "  <tbody>\n",
       "    <tr>\n",
       "      <th>0</th>\n",
       "      <td>48d53aeabee4f92f77eee3a323343c77</td>\n",
       "      <td>39.480234</td>\n",
       "    </tr>\n",
       "    <tr>\n",
       "      <th>1</th>\n",
       "      <td>b60e82fd313066b801fa4431d1ce4f4e</td>\n",
       "      <td>40.465166</td>\n",
       "    </tr>\n",
       "    <tr>\n",
       "      <th>2</th>\n",
       "      <td>09ae71fc4eda1e0ae05680d1950bc009</td>\n",
       "      <td>41.037345</td>\n",
       "    </tr>\n",
       "    <tr>\n",
       "      <th>3</th>\n",
       "      <td>263879abce68de4af02ef5f7ef873d24</td>\n",
       "      <td>40.965496</td>\n",
       "    </tr>\n",
       "    <tr>\n",
       "      <th>4</th>\n",
       "      <td>4ea0587a137c7983ca92851b6cb36ca1</td>\n",
       "      <td>39.750307</td>\n",
       "    </tr>\n",
       "  </tbody>\n",
       "</table>\n",
       "</div>"
      ],
      "text/plain": [
       "                                 Id  Pawpularity\n",
       "0  48d53aeabee4f92f77eee3a323343c77    39.480234\n",
       "1  b60e82fd313066b801fa4431d1ce4f4e    40.465166\n",
       "2  09ae71fc4eda1e0ae05680d1950bc009    41.037345\n",
       "3  263879abce68de4af02ef5f7ef873d24    40.965496\n",
       "4  4ea0587a137c7983ca92851b6cb36ca1    39.750307"
      ]
     },
     "execution_count": 18,
     "metadata": {},
     "output_type": "execute_result"
    }
   ],
   "source": [
    "sub.head()"
   ]
  },
  {
   "cell_type": "code",
   "execution_count": 20,
   "metadata": {
    "ExecuteTime": {
     "end_time": "2022-04-09T03:16:03.380983Z",
     "start_time": "2022-04-09T03:16:03.374679Z"
    },
    "scrolled": true
   },
   "outputs": [
    {
     "data": {
      "text/plain": [
       "True"
      ]
     },
     "execution_count": 20,
     "metadata": {},
     "output_type": "execute_result"
    }
   ],
   "source": [
    "all(sub['Id'] == solution['Id'])"
   ]
  },
  {
   "cell_type": "code",
   "execution_count": 21,
   "metadata": {
    "ExecuteTime": {
     "end_time": "2022-04-09T03:16:09.496332Z",
     "start_time": "2022-04-09T03:16:09.492834Z"
    }
   },
   "outputs": [],
   "source": [
    "y_true = solution['Pawpularity']\n",
    "y_pred = sub['Pawpularity']"
   ]
  },
  {
   "cell_type": "code",
   "execution_count": 23,
   "metadata": {
    "ExecuteTime": {
     "end_time": "2022-04-09T03:16:35.079225Z",
     "start_time": "2022-04-09T03:16:35.073305Z"
    },
    "scrolled": true
   },
   "outputs": [
    {
     "name": "stdout",
     "output_type": "stream",
     "text": [
      "21.058669860756076\n"
     ]
    }
   ],
   "source": [
    "from sklearn.metrics import mean_squared_error\n",
    "# squared: If True returns MSE value, if False returns RMSE value.\n",
    "rmse = np.sqrt(mean_squared_error(y_true, y_pred))\n",
    "print(rmse)"
   ]
  },
  {
   "cell_type": "code",
   "execution_count": null,
   "metadata": {},
   "outputs": [],
   "source": []
  }
 ],
 "metadata": {
  "kernelspec": {
   "display_name": "Python 3",
   "language": "python",
   "name": "python3"
  },
  "language_info": {
   "codemirror_mode": {
    "name": "ipython",
    "version": 3
   },
   "file_extension": ".py",
   "mimetype": "text/x-python",
   "name": "python",
   "nbconvert_exporter": "python",
   "pygments_lexer": "ipython3",
   "version": "3.7.3"
  },
  "toc": {
   "base_numbering": 1,
   "nav_menu": {},
   "number_sections": true,
   "sideBar": true,
   "skip_h1_title": false,
   "title_cell": "Table of Contents",
   "title_sidebar": "Contents",
   "toc_cell": false,
   "toc_position": {},
   "toc_section_display": true,
   "toc_window_display": false
  },
  "varInspector": {
   "cols": {
    "lenName": 16,
    "lenType": 16,
    "lenVar": 40
   },
   "kernels_config": {
    "python": {
     "delete_cmd_postfix": "",
     "delete_cmd_prefix": "del ",
     "library": "var_list.py",
     "varRefreshCmd": "print(var_dic_list())"
    },
    "r": {
     "delete_cmd_postfix": ") ",
     "delete_cmd_prefix": "rm(",
     "library": "var_list.r",
     "varRefreshCmd": "cat(var_dic_list()) "
    }
   },
   "types_to_exclude": [
    "module",
    "function",
    "builtin_function_or_method",
    "instance",
    "_Feature"
   ],
   "window_display": false
  }
 },
 "nbformat": 4,
 "nbformat_minor": 5
}
