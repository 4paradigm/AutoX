{
 "cells": [
  {
   "cell_type": "code",
   "execution_count": 1,
   "id": "c40a37d4",
   "metadata": {
    "ExecuteTime": {
     "end_time": "2021-09-07T07:09:13.854748Z",
     "start_time": "2021-09-07T07:09:13.738008Z"
    },
    "execution": {
     "iopub.execute_input": "2022-04-09T01:49:39.037517Z",
     "iopub.status.busy": "2022-04-09T01:49:39.036477Z",
     "iopub.status.idle": "2022-04-09T01:52:52.942514Z",
     "shell.execute_reply": "2022-04-09T01:52:52.943029Z",
     "shell.execute_reply.started": "2022-04-09T01:38:26.337048Z"
    },
    "papermill": {
     "duration": 193.927872,
     "end_time": "2022-04-09T01:52:52.943726",
     "exception": false,
     "start_time": "2022-04-09T01:49:39.015854",
     "status": "completed"
    },
    "tags": []
   },
   "outputs": [
    {
     "name": "stdout",
     "output_type": "stream",
     "text": [
      "Requirement already satisfied: pip in /opt/conda/lib/python3.7/site-packages (21.3.1)\r\n",
      "Collecting pip\r\n",
      "  Downloading pip-22.0.4-py3-none-any.whl (2.1 MB)\r\n",
      "     |████████████████████████████████| 2.1 MB 4.4 MB/s            \r\n",
      "\u001b[?25hInstalling collected packages: pip\r\n",
      "  Attempting uninstall: pip\r\n",
      "    Found existing installation: pip 21.3.1\r\n",
      "    Uninstalling pip-21.3.1:\r\n",
      "      Successfully uninstalled pip-21.3.1\r\n",
      "Successfully installed pip-22.0.4\r\n",
      "\u001b[33mWARNING: Running pip as the 'root' user can result in broken permissions and conflicting behaviour with the system package manager. It is recommended to use a virtual environment instead: https://pip.pypa.io/warnings/venv\u001b[0m\r\n",
      "Requirement already satisfied: setuptools in /opt/conda/lib/python3.7/site-packages (59.5.0)\r\n",
      "Collecting setuptools\r\n",
      "  Downloading setuptools-62.0.0-py3-none-any.whl (1.1 MB)\r\n",
      "\u001b[2K     \u001b[90m━━━━━━━━━━━━━━━━━━━━━━━━━━━━━━━━━━━━━━━━\u001b[0m \u001b[32m1.1/1.1 MB\u001b[0m \u001b[31m15.6 MB/s\u001b[0m eta \u001b[36m0:00:00\u001b[0m\r\n",
      "\u001b[?25hRequirement already satisfied: wheel in /opt/conda/lib/python3.7/site-packages (0.37.0)\r\n",
      "Collecting wheel\r\n",
      "  Downloading wheel-0.37.1-py2.py3-none-any.whl (35 kB)\r\n",
      "Installing collected packages: wheel, setuptools\r\n",
      "  Attempting uninstall: wheel\r\n",
      "    Found existing installation: wheel 0.37.0\r\n",
      "    Uninstalling wheel-0.37.0:\r\n",
      "      Successfully uninstalled wheel-0.37.0\r\n",
      "  Attempting uninstall: setuptools\r\n",
      "    Found existing installation: setuptools 59.5.0\r\n",
      "    Uninstalling setuptools-59.5.0:\r\n",
      "      Successfully uninstalled setuptools-59.5.0\r\n",
      "\u001b[31mERROR: pip's dependency resolver does not currently take into account all the packages that are installed. This behaviour is the source of the following dependency conflicts.\r\n",
      "tensorflow-io 0.21.0 requires tensorflow-io-gcs-filesystem==0.21.0, which is not installed.\r\n",
      "explainable-ai-sdk 1.3.2 requires xai-image-widget, which is not installed.\r\n",
      "beatrix-jupyterlab 3.1.6 requires google-cloud-bigquery-storage, which is not installed.\r\n",
      "thinc 8.0.15 requires typing-extensions<4.0.0.0,>=3.7.4.1; python_version < \"3.8\", but you have typing-extensions 4.1.1 which is incompatible.\r\n",
      "tensorflow 2.6.2 requires numpy~=1.19.2, but you have numpy 1.20.3 which is incompatible.\r\n",
      "tensorflow 2.6.2 requires six~=1.15.0, but you have six 1.16.0 which is incompatible.\r\n",
      "tensorflow 2.6.2 requires typing-extensions~=3.7.4, but you have typing-extensions 4.1.1 which is incompatible.\r\n",
      "tensorflow 2.6.2 requires wrapt~=1.12.1, but you have wrapt 1.13.3 which is incompatible.\r\n",
      "tensorflow-transform 1.5.0 requires absl-py<0.13,>=0.9, but you have absl-py 0.15.0 which is incompatible.\r\n",
      "tensorflow-transform 1.5.0 requires numpy<1.20,>=1.16, but you have numpy 1.20.3 which is incompatible.\r\n",
      "tensorflow-transform 1.5.0 requires pyarrow<6,>=1, but you have pyarrow 6.0.1 which is incompatible.\r\n",
      "tensorflow-transform 1.5.0 requires tensorflow!=2.0.*,!=2.1.*,!=2.2.*,!=2.3.*,!=2.4.*,!=2.5.*,!=2.6.*,<2.8,>=1.15.2, but you have tensorflow 2.6.2 which is incompatible.\r\n",
      "tensorflow-serving-api 2.7.0 requires tensorflow<3,>=2.7.0, but you have tensorflow 2.6.2 which is incompatible.\r\n",
      "spacy 3.2.3 requires typing-extensions<4.0.0.0,>=3.7.4; python_version < \"3.8\", but you have typing-extensions 4.1.1 which is incompatible.\r\n",
      "pytorch-lightning 1.5.10 requires setuptools==59.5.0, but you have setuptools 62.0.0 which is incompatible.\r\n",
      "gcsfs 2021.11.1 requires fsspec==2021.11.1, but you have fsspec 2022.2.0 which is incompatible.\r\n",
      "cloud-tpu-client 0.10 requires google-api-python-client==1.8.0, but you have google-api-python-client 1.12.11 which is incompatible.\r\n",
      "arviz 0.11.4 requires typing-extensions<4,>=3.7.4.3, but you have typing-extensions 4.1.1 which is incompatible.\u001b[0m\u001b[31m\r\n",
      "\u001b[0mSuccessfully installed setuptools-62.0.0 wheel-0.37.1\r\n",
      "\u001b[33mWARNING: Running pip as the 'root' user can result in broken permissions and conflicting behaviour with the system package manager. It is recommended to use a virtual environment instead: https://pip.pypa.io/warnings/venv\u001b[0m\u001b[33m\r\n",
      "\u001b[0mLooking in links: https://download.pytorch.org/whl/cpu/torch_stable.html\r\n",
      "Collecting torch==1.10.1+cpu\r\n",
      "  Downloading https://download.pytorch.org/whl/cpu/torch-1.10.1%2Bcpu-cp37-cp37m-linux_x86_64.whl (199.3 MB)\r\n",
      "\u001b[2K     \u001b[90m━━━━━━━━━━━━━━━━━━━━━━━━━━━━━━━━━━━━━━━\u001b[0m \u001b[32m199.3/199.3 MB\u001b[0m \u001b[31m3.9 MB/s\u001b[0m eta \u001b[36m0:00:00\u001b[0m\r\n",
      "\u001b[?25hRequirement already satisfied: typing-extensions in /opt/conda/lib/python3.7/site-packages (from torch==1.10.1+cpu) (4.1.1)\r\n",
      "Installing collected packages: torch\r\n",
      "  Attempting uninstall: torch\r\n",
      "    Found existing installation: torch 1.9.1+cpu\r\n",
      "    Uninstalling torch-1.9.1+cpu:\r\n",
      "      Successfully uninstalled torch-1.9.1+cpu\r\n",
      "\u001b[31mERROR: pip's dependency resolver does not currently take into account all the packages that are installed. This behaviour is the source of the following dependency conflicts.\r\n",
      "torchvision 0.10.1+cpu requires torch==1.9.1, but you have torch 1.10.1+cpu which is incompatible.\r\n",
      "torchtext 0.10.1 requires torch==1.9.1, but you have torch 1.10.1+cpu which is incompatible.\r\n",
      "torchaudio 0.9.1 requires torch==1.9.1, but you have torch 1.10.1+cpu which is incompatible.\r\n",
      "pytorch-lightning 1.5.10 requires setuptools==59.5.0, but you have setuptools 62.0.0 which is incompatible.\u001b[0m\u001b[31m\r\n",
      "\u001b[0mSuccessfully installed torch-1.10.1+cpu\r\n",
      "\u001b[33mWARNING: Running pip as the 'root' user can result in broken permissions and conflicting behaviour with the system package manager. It is recommended to use a virtual environment instead: https://pip.pypa.io/warnings/venv\u001b[0m\u001b[33m\r\n",
      "\u001b[0mCollecting autogluon\r\n",
      "  Downloading autogluon-0.4.0-py3-none-any.whl (9.5 kB)\r\n",
      "Collecting autogluon.vision==0.4.0\r\n",
      "  Downloading autogluon.vision-0.4.0-py3-none-any.whl (48 kB)\r\n",
      "\u001b[2K     \u001b[90m━━━━━━━━━━━━━━━━━━━━━━━━━━━━━━━━━━━━━━━━\u001b[0m \u001b[32m48.6/48.6 KB\u001b[0m \u001b[31m1.8 MB/s\u001b[0m eta \u001b[36m0:00:00\u001b[0m\r\n",
      "\u001b[?25hCollecting autogluon.text==0.4.0\r\n",
      "  Downloading autogluon.text-0.4.0-py3-none-any.whl (133 kB)\r\n",
      "\u001b[2K     \u001b[90m━━━━━━━━━━━━━━━━━━━━━━━━━━━━━━━━━━━━━━━\u001b[0m \u001b[32m133.7/133.7 KB\u001b[0m \u001b[31m5.2 MB/s\u001b[0m eta \u001b[36m0:00:00\u001b[0m\r\n",
      "\u001b[?25hCollecting autogluon.features==0.4.0\r\n",
      "  Downloading autogluon.features-0.4.0-py3-none-any.whl (59 kB)\r\n",
      "\u001b[2K     \u001b[90m━━━━━━━━━━━━━━━━━━━━━━━━━━━━━━━━━━━━━━━━\u001b[0m \u001b[32m59.1/59.1 KB\u001b[0m \u001b[31m4.9 MB/s\u001b[0m eta \u001b[36m0:00:00\u001b[0m\r\n",
      "\u001b[?25hCollecting autogluon.tabular[all]==0.4.0\r\n",
      "  Downloading autogluon.tabular-0.4.0-py3-none-any.whl (267 kB)\r\n",
      "\u001b[2K     \u001b[90m━━━━━━━━━━━━━━━━━━━━━━━━━━━━━━━━━━━━━━\u001b[0m \u001b[32m267.0/267.0 KB\u001b[0m \u001b[31m10.8 MB/s\u001b[0m eta \u001b[36m0:00:00\u001b[0m\r\n",
      "\u001b[?25hCollecting autogluon.core[all]==0.4.0\r\n",
      "  Downloading autogluon.core-0.4.0-py3-none-any.whl (188 kB)\r\n",
      "\u001b[2K     \u001b[90m━━━━━━━━━━━━━━━━━━━━━━━━━━━━━━━━━━━━━━\u001b[0m \u001b[32m188.2/188.2 KB\u001b[0m \u001b[31m15.7 MB/s\u001b[0m eta \u001b[36m0:00:00\u001b[0m\r\n",
      "\u001b[?25hCollecting distributed<=2021.11.2,>=2021.09.1\r\n",
      "  Downloading distributed-2021.11.2-py3-none-any.whl (802 kB)\r\n",
      "\u001b[2K     \u001b[90m━━━━━━━━━━━━━━━━━━━━━━━━━━━━━━━━━━━━━━\u001b[0m \u001b[32m802.2/802.2 KB\u001b[0m \u001b[31m24.8 MB/s\u001b[0m eta \u001b[36m0:00:00\u001b[0m\r\n",
      "\u001b[?25hRequirement already satisfied: scikit-learn<1.1,>=1.0.0 in /opt/conda/lib/python3.7/site-packages (from autogluon.core[all]==0.4.0->autogluon) (1.0.1)\r\n",
      "Requirement already satisfied: tqdm>=4.38.0 in /opt/conda/lib/python3.7/site-packages (from autogluon.core[all]==0.4.0->autogluon) (4.62.3)\r\n",
      "Requirement already satisfied: matplotlib in /opt/conda/lib/python3.7/site-packages (from autogluon.core[all]==0.4.0->autogluon) (3.5.1)\r\n",
      "Collecting dask<=2021.11.2,>=2021.09.1\r\n",
      "  Downloading dask-2021.11.2-py3-none-any.whl (1.0 MB)\r\n",
      "\u001b[2K     \u001b[90m━━━━━━━━━━━━━━━━━━━━━━━━━━━━━━━━━━━━━━━━\u001b[0m \u001b[32m1.0/1.0 MB\u001b[0m \u001b[31m40.0 MB/s\u001b[0m eta \u001b[36m0:00:00\u001b[0m\r\n",
      "\u001b[?25hCollecting numpy<1.23,>=1.21\r\n",
      "  Downloading numpy-1.21.5-cp37-cp37m-manylinux_2_12_x86_64.manylinux2010_x86_64.whl (15.7 MB)\r\n",
      "\u001b[2K     \u001b[90m━━━━━━━━━━━━━━━━━━━━━━━━━━━━━━━━━━━━━━━━\u001b[0m \u001b[32m15.7/15.7 MB\u001b[0m \u001b[31m55.3 MB/s\u001b[0m eta \u001b[36m0:00:00\u001b[0m\r\n",
      "\u001b[?25hRequirement already satisfied: scipy<1.8.0,>=1.5.4 in /opt/conda/lib/python3.7/site-packages (from autogluon.core[all]==0.4.0->autogluon) (1.7.3)\r\n",
      "Requirement already satisfied: pandas<1.4,>=1.2.5 in /opt/conda/lib/python3.7/site-packages (from autogluon.core[all]==0.4.0->autogluon) (1.3.5)\r\n",
      "Requirement already satisfied: requests in /opt/conda/lib/python3.7/site-packages (from autogluon.core[all]==0.4.0->autogluon) (2.26.0)\r\n",
      "Collecting autogluon.common==0.4.0\r\n",
      "  Downloading autogluon.common-0.4.0-py3-none-any.whl (37 kB)\r\n",
      "Requirement already satisfied: boto3 in /opt/conda/lib/python3.7/site-packages (from autogluon.core[all]==0.4.0->autogluon) (1.21.20)\r\n",
      "Collecting ray<1.9,>=1.7\r\n",
      "  Downloading ray-1.8.0-cp37-cp37m-manylinux2014_x86_64.whl (54.7 MB)\r\n",
      "\u001b[2K     \u001b[90m━━━━━━━━━━━━━━━━━━━━━━━━━━━━━━━━━━━━━━━━\u001b[0m \u001b[32m54.7/54.7 MB\u001b[0m \u001b[31m21.5 MB/s\u001b[0m eta \u001b[36m0:00:00\u001b[0m\r\n",
      "\u001b[?25hRequirement already satisfied: psutil<5.9,>=5.7.3 in /opt/conda/lib/python3.7/site-packages (from autogluon.features==0.4.0->autogluon) (5.8.0)\r\n",
      "Requirement already satisfied: networkx<3.0,>=2.3 in /opt/conda/lib/python3.7/site-packages (from autogluon.tabular[all]==0.4.0->autogluon) (2.6.3)\r\n",
      "Requirement already satisfied: torch<1.11,>=1.0 in /opt/conda/lib/python3.7/site-packages (from autogluon.tabular[all]==0.4.0->autogluon) (1.10.1+cpu)\r\n",
      "Collecting xgboost<1.5,>=1.4\r\n",
      "  Downloading xgboost-1.4.2-py3-none-manylinux2010_x86_64.whl (166.7 MB)\r\n",
      "\u001b[2K     \u001b[90m━━━━━━━━━━━━━━━━━━━━━━━━━━━━━━━━━━━━━━━\u001b[0m \u001b[32m166.7/166.7 MB\u001b[0m \u001b[31m7.3 MB/s\u001b[0m eta \u001b[36m0:00:00\u001b[0m\r\n",
      "\u001b[?25hRequirement already satisfied: catboost<1.1,>=1.0 in /opt/conda/lib/python3.7/site-packages (from autogluon.tabular[all]==0.4.0->autogluon) (1.0.4)\r\n",
      "Requirement already satisfied: lightgbm<3.4,>=3.3 in /opt/conda/lib/python3.7/site-packages (from autogluon.tabular[all]==0.4.0->autogluon) (3.3.1)\r\n",
      "Requirement already satisfied: fastai<2.6,>=2.3.1 in /opt/conda/lib/python3.7/site-packages (from autogluon.tabular[all]==0.4.0->autogluon) (2.5.3)\r\n",
      "Collecting autogluon-contrib-nlp==0.0.1b20220208\r\n",
      "  Downloading autogluon_contrib_nlp-0.0.1b20220208-py3-none-any.whl (157 kB)\r\n",
      "\u001b[2K     \u001b[90m━━━━━━━━━━━━━━━━━━━━━━━━━━━━━━━━━━━━━━\u001b[0m \u001b[32m157.3/157.3 KB\u001b[0m \u001b[31m12.0 MB/s\u001b[0m eta \u001b[36m0:00:00\u001b[0m\r\n",
      "\u001b[?25hCollecting omegaconf<2.2.0,>=2.1.1\r\n",
      "  Downloading omegaconf-2.1.1-py3-none-any.whl (74 kB)\r\n",
      "\u001b[2K     \u001b[90m━━━━━━━━━━━━━━━━━━━━━━━━━━━━━━━━━━━━━━━━\u001b[0m \u001b[32m74.7/74.7 KB\u001b[0m \u001b[31m5.8 MB/s\u001b[0m eta \u001b[36m0:00:00\u001b[0m\r\n",
      "\u001b[?25hCollecting torchmetrics<0.8.0,>=0.7.2\r\n",
      "  Downloading torchmetrics-0.7.3-py3-none-any.whl (398 kB)\r\n",
      "\u001b[2K     \u001b[90m━━━━━━━━━━━━━━━━━━━━━━━━━━━━━━━━━━━━━━\u001b[0m \u001b[32m398.2/398.2 KB\u001b[0m \u001b[31m27.3 MB/s\u001b[0m eta \u001b[36m0:00:00\u001b[0m\r\n",
      "\u001b[?25hRequirement already satisfied: transformers<4.17.0,>=4.16.2 in /opt/conda/lib/python3.7/site-packages (from autogluon.text==0.4.0->autogluon) (4.16.2)\r\n",
      "Requirement already satisfied: sentencepiece<0.2.0,>=0.1.95 in /opt/conda/lib/python3.7/site-packages (from autogluon.text==0.4.0->autogluon) (0.1.96)\r\n",
      "Collecting nptyping<1.5.0,>=1.4.4\r\n",
      "  Downloading nptyping-1.4.4-py3-none-any.whl (31 kB)\r\n",
      "Collecting Pillow<9.1.0,>=9.0.0\r\n",
      "  Downloading Pillow-9.0.1-cp37-cp37m-manylinux_2_17_x86_64.manylinux2014_x86_64.whl (4.3 MB)\r\n",
      "\u001b[2K     \u001b[90m━━━━━━━━━━━━━━━━━━━━━━━━━━━━━━━━━━━━━━━━\u001b[0m \u001b[32m4.3/4.3 MB\u001b[0m \u001b[31m65.2 MB/s\u001b[0m eta \u001b[36m0:00:00\u001b[0m\r\n",
      "\u001b[?25hRequirement already satisfied: scikit-image<0.20.0,>=0.19.1 in /opt/conda/lib/python3.7/site-packages (from autogluon.text==0.4.0->autogluon) (0.19.1)\r\n",
      "Requirement already satisfied: smart-open<5.3.0,>=5.2.1 in /opt/conda/lib/python3.7/site-packages (from autogluon.text==0.4.0->autogluon) (5.2.1)\r\n",
      "Requirement already satisfied: pytorch-lightning<1.6.0,>=1.5.10 in /opt/conda/lib/python3.7/site-packages (from autogluon.text==0.4.0->autogluon) (1.5.10)\r\n",
      "Requirement already satisfied: fairscale<0.5.0,>=0.4.5 in /opt/conda/lib/python3.7/site-packages (from autogluon.text==0.4.0->autogluon) (0.4.5)\r\n",
      "Collecting timm<0.6.0,>=0.5.4\r\n",
      "  Downloading timm-0.5.4-py3-none-any.whl (431 kB)\r\n",
      "\u001b[2K     \u001b[90m━━━━━━━━━━━━━━━━━━━━━━━━━━━━━━━━━━━━━━\u001b[0m \u001b[32m431.5/431.5 KB\u001b[0m \u001b[31m28.3 MB/s\u001b[0m eta \u001b[36m0:00:00\u001b[0m\r\n",
      "\u001b[?25hRequirement already satisfied: gluoncv<0.10.6,>=0.10.5 in /opt/conda/lib/python3.7/site-packages (from autogluon.vision==0.4.0->autogluon) (0.10.5)\r\n",
      "Requirement already satisfied: sacremoses>=0.0.38 in /opt/conda/lib/python3.7/site-packages (from autogluon-contrib-nlp==0.0.1b20220208->autogluon.text==0.4.0->autogluon) (0.0.49)\r\n",
      "Collecting sentencepiece<0.2.0,>=0.1.95\r\n",
      "  Downloading sentencepiece-0.1.95-cp37-cp37m-manylinux2014_x86_64.whl (1.2 MB)\r\n",
      "\u001b[2K     \u001b[90m━━━━━━━━━━━━━━━━━━━━━━━━━━━━━━━━━━━━━━━━\u001b[0m \u001b[32m1.2/1.2 MB\u001b[0m \u001b[31m51.1 MB/s\u001b[0m eta \u001b[36m0:00:00\u001b[0m\r\n",
      "\u001b[?25hRequirement already satisfied: regex in /opt/conda/lib/python3.7/site-packages (from autogluon-contrib-nlp==0.0.1b20220208->autogluon.text==0.4.0->autogluon) (2021.11.10)\r\n",
      "Requirement already satisfied: flake8 in /opt/conda/lib/python3.7/site-packages (from autogluon-contrib-nlp==0.0.1b20220208->autogluon.text==0.4.0->autogluon) (4.0.1)\r\n",
      "Requirement already satisfied: tokenizers>=0.9.4 in /opt/conda/lib/python3.7/site-packages (from autogluon-contrib-nlp==0.0.1b20220208->autogluon.text==0.4.0->autogluon) (0.11.6)\r\n",
      "Collecting contextvars\r\n",
      "  Downloading contextvars-2.4.tar.gz (9.6 kB)\r\n",
      "  Preparing metadata (setup.py) ... \u001b[?25l-\b \b\\\b \b|\b \b/\b \bdone\r\n",
      "\u001b[?25hRequirement already satisfied: yacs>=0.1.6 in /opt/conda/lib/python3.7/site-packages (from autogluon-contrib-nlp==0.0.1b20220208->autogluon.text==0.4.0->autogluon) (0.1.8)\r\n",
      "Requirement already satisfied: protobuf in /opt/conda/lib/python3.7/site-packages (from autogluon-contrib-nlp==0.0.1b20220208->autogluon.text==0.4.0->autogluon) (3.19.4)\r\n",
      "Requirement already satisfied: pyarrow in /opt/conda/lib/python3.7/site-packages (from autogluon-contrib-nlp==0.0.1b20220208->autogluon.text==0.4.0->autogluon) (6.0.1)\r\n",
      "Collecting sacrebleu\r\n",
      "  Downloading sacrebleu-2.0.0-py3-none-any.whl (90 kB)\r\n",
      "\u001b[2K     \u001b[90m━━━━━━━━━━━━━━━━━━━━━━━━━━━━━━━━━━━━━━━━\u001b[0m \u001b[32m90.7/90.7 KB\u001b[0m \u001b[31m7.3 MB/s\u001b[0m eta \u001b[36m0:00:00\u001b[0m\r\n",
      "\u001b[?25hRequirement already satisfied: graphviz in /opt/conda/lib/python3.7/site-packages (from catboost<1.1,>=1.0->autogluon.tabular[all]==0.4.0->autogluon) (0.8.4)\r\n",
      "Requirement already satisfied: six in /opt/conda/lib/python3.7/site-packages (from catboost<1.1,>=1.0->autogluon.tabular[all]==0.4.0->autogluon) (1.16.0)\r\n",
      "Requirement already satisfied: plotly in /opt/conda/lib/python3.7/site-packages (from catboost<1.1,>=1.0->autogluon.tabular[all]==0.4.0->autogluon) (5.6.0)\r\n",
      "Requirement already satisfied: toolz>=0.8.2 in /opt/conda/lib/python3.7/site-packages (from dask<=2021.11.2,>=2021.09.1->autogluon.core[all]==0.4.0->autogluon) (0.11.2)\r\n",
      "Requirement already satisfied: fsspec>=0.6.0 in /opt/conda/lib/python3.7/site-packages (from dask<=2021.11.2,>=2021.09.1->autogluon.core[all]==0.4.0->autogluon) (2022.2.0)\r\n",
      "Requirement already satisfied: partd>=0.3.10 in /opt/conda/lib/python3.7/site-packages (from dask<=2021.11.2,>=2021.09.1->autogluon.core[all]==0.4.0->autogluon) (1.2.0)\r\n",
      "Requirement already satisfied: packaging>=20.0 in /opt/conda/lib/python3.7/site-packages (from dask<=2021.11.2,>=2021.09.1->autogluon.core[all]==0.4.0->autogluon) (21.3)\r\n",
      "Requirement already satisfied: pyyaml in /opt/conda/lib/python3.7/site-packages (from dask<=2021.11.2,>=2021.09.1->autogluon.core[all]==0.4.0->autogluon) (6.0)\r\n",
      "Requirement already satisfied: cloudpickle>=1.1.1 in /opt/conda/lib/python3.7/site-packages (from dask<=2021.11.2,>=2021.09.1->autogluon.core[all]==0.4.0->autogluon) (2.0.0)\r\n",
      "Requirement already satisfied: sortedcontainers!=2.0.0,!=2.0.1 in /opt/conda/lib/python3.7/site-packages (from distributed<=2021.11.2,>=2021.09.1->autogluon.core[all]==0.4.0->autogluon) (2.4.0)\r\n",
      "Requirement already satisfied: jinja2 in /opt/conda/lib/python3.7/site-packages (from distributed<=2021.11.2,>=2021.09.1->autogluon.core[all]==0.4.0->autogluon) (3.0.3)\r\n",
      "Requirement already satisfied: msgpack>=0.6.0 in /opt/conda/lib/python3.7/site-packages (from distributed<=2021.11.2,>=2021.09.1->autogluon.core[all]==0.4.0->autogluon) (1.0.3)\r\n",
      "Requirement already satisfied: setuptools in /opt/conda/lib/python3.7/site-packages (from distributed<=2021.11.2,>=2021.09.1->autogluon.core[all]==0.4.0->autogluon) (62.0.0)\r\n",
      "Requirement already satisfied: tornado>=5 in /opt/conda/lib/python3.7/site-packages (from distributed<=2021.11.2,>=2021.09.1->autogluon.core[all]==0.4.0->autogluon) (6.1)\r\n",
      "Requirement already satisfied: zict>=0.1.3 in /opt/conda/lib/python3.7/site-packages (from distributed<=2021.11.2,>=2021.09.1->autogluon.core[all]==0.4.0->autogluon) (2.1.0)\r\n",
      "Requirement already satisfied: click>=6.6 in /opt/conda/lib/python3.7/site-packages (from distributed<=2021.11.2,>=2021.09.1->autogluon.core[all]==0.4.0->autogluon) (8.0.3)\r\n",
      "Requirement already satisfied: tblib>=1.6.0 in /opt/conda/lib/python3.7/site-packages (from distributed<=2021.11.2,>=2021.09.1->autogluon.core[all]==0.4.0->autogluon) (1.7.0)\r\n",
      "Requirement already satisfied: pip in /opt/conda/lib/python3.7/site-packages (from fastai<2.6,>=2.3.1->autogluon.tabular[all]==0.4.0->autogluon) (22.0.4)\r\n",
      "Requirement already satisfied: spacy<4 in /opt/conda/lib/python3.7/site-packages (from fastai<2.6,>=2.3.1->autogluon.tabular[all]==0.4.0->autogluon) (3.2.3)\r\n",
      "Requirement already satisfied: fastdownload<2,>=0.0.5 in /opt/conda/lib/python3.7/site-packages (from fastai<2.6,>=2.3.1->autogluon.tabular[all]==0.4.0->autogluon) (0.0.5)\r\n",
      "Requirement already satisfied: torchvision>=0.8.2 in /opt/conda/lib/python3.7/site-packages (from fastai<2.6,>=2.3.1->autogluon.tabular[all]==0.4.0->autogluon) (0.10.1+cpu)\r\n",
      "Requirement already satisfied: fastprogress>=0.2.4 in /opt/conda/lib/python3.7/site-packages (from fastai<2.6,>=2.3.1->autogluon.tabular[all]==0.4.0->autogluon) (1.0.2)\r\n",
      "Requirement already satisfied: fastcore<1.4,>=1.3.22 in /opt/conda/lib/python3.7/site-packages (from fastai<2.6,>=2.3.1->autogluon.tabular[all]==0.4.0->autogluon) (1.3.29)\r\n",
      "Requirement already satisfied: autocfg in /opt/conda/lib/python3.7/site-packages (from gluoncv<0.10.6,>=0.10.5->autogluon.vision==0.4.0->autogluon) (0.0.8)\r\n",
      "Requirement already satisfied: opencv-python in /opt/conda/lib/python3.7/site-packages (from gluoncv<0.10.6,>=0.10.5->autogluon.vision==0.4.0->autogluon) (4.5.4.60)\r\n",
      "Requirement already satisfied: portalocker in /opt/conda/lib/python3.7/site-packages (from gluoncv<0.10.6,>=0.10.5->autogluon.vision==0.4.0->autogluon) (2.4.0)\r\n",
      "Requirement already satisfied: wheel in /opt/conda/lib/python3.7/site-packages (from lightgbm<3.4,>=3.3->autogluon.tabular[all]==0.4.0->autogluon) (0.37.1)\r\n",
      "Collecting typish>=1.7.0\r\n",
      "  Downloading typish-1.9.3-py3-none-any.whl (45 kB)\r\n",
      "\u001b[2K     \u001b[90m━━━━━━━━━━━━━━━━━━━━━━━━━━━━━━━━━━━━━━━━\u001b[0m \u001b[32m45.1/45.1 KB\u001b[0m \u001b[31m3.6 MB/s\u001b[0m eta \u001b[36m0:00:00\u001b[0m\r\n",
      "\u001b[?25hCollecting antlr4-python3-runtime==4.8\r\n",
      "  Downloading antlr4-python3-runtime-4.8.tar.gz (112 kB)\r\n",
      "\u001b[2K     \u001b[90m━━━━━━━━━━━━━━━━━━━━━━━━━━━━━━━━━━━━━━\u001b[0m \u001b[32m112.4/112.4 KB\u001b[0m \u001b[31m10.3 MB/s\u001b[0m eta \u001b[36m0:00:00\u001b[0m\r\n",
      "\u001b[?25h  Preparing metadata (setup.py) ... \u001b[?25l-\b \b\\\b \b|\b \b/\b \bdone\r\n",
      "\u001b[?25hRequirement already satisfied: python-dateutil>=2.7.3 in /opt/conda/lib/python3.7/site-packages (from pandas<1.4,>=1.2.5->autogluon.core[all]==0.4.0->autogluon) (2.8.2)\r\n",
      "Requirement already satisfied: pytz>=2017.3 in /opt/conda/lib/python3.7/site-packages (from pandas<1.4,>=1.2.5->autogluon.core[all]==0.4.0->autogluon) (2021.3)\r\n",
      "Requirement already satisfied: typing-extensions in /opt/conda/lib/python3.7/site-packages (from pytorch-lightning<1.6.0,>=1.5.10->autogluon.text==0.4.0->autogluon) (4.1.1)\r\n",
      "Requirement already satisfied: tensorboard>=2.2.0 in /opt/conda/lib/python3.7/site-packages (from pytorch-lightning<1.6.0,>=1.5.10->autogluon.text==0.4.0->autogluon) (2.6.0)\r\n",
      "Collecting setuptools\r\n",
      "  Downloading setuptools-59.5.0-py3-none-any.whl (952 kB)\r\n",
      "\u001b[2K     \u001b[90m━━━━━━━━━━━━━━━━━━━━━━━━━━━━━━━━━━━━━━\u001b[0m \u001b[32m952.4/952.4 KB\u001b[0m \u001b[31m43.0 MB/s\u001b[0m eta \u001b[36m0:00:00\u001b[0m\r\n",
      "\u001b[?25hRequirement already satisfied: future>=0.17.1 in /opt/conda/lib/python3.7/site-packages (from pytorch-lightning<1.6.0,>=1.5.10->autogluon.text==0.4.0->autogluon) (0.18.2)\r\n",
      "Requirement already satisfied: pyDeprecate==0.3.1 in /opt/conda/lib/python3.7/site-packages (from pytorch-lightning<1.6.0,>=1.5.10->autogluon.text==0.4.0->autogluon) (0.3.1)\r\n",
      "Requirement already satisfied: jsonschema in /opt/conda/lib/python3.7/site-packages (from ray<1.9,>=1.7->autogluon.core[all]==0.4.0->autogluon) (4.3.1)\r\n",
      "Requirement already satisfied: grpcio>=1.28.1 in /opt/conda/lib/python3.7/site-packages (from ray<1.9,>=1.7->autogluon.core[all]==0.4.0->autogluon) (1.43.0)\r\n",
      "Requirement already satisfied: redis>=3.5.0 in /opt/conda/lib/python3.7/site-packages (from ray<1.9,>=1.7->autogluon.core[all]==0.4.0->autogluon) (4.1.4)\r\n",
      "Requirement already satisfied: attrs in /opt/conda/lib/python3.7/site-packages (from ray<1.9,>=1.7->autogluon.core[all]==0.4.0->autogluon) (21.2.0)\r\n",
      "Requirement already satisfied: filelock in /opt/conda/lib/python3.7/site-packages (from ray<1.9,>=1.7->autogluon.core[all]==0.4.0->autogluon) (3.4.0)\r\n",
      "Requirement already satisfied: PyWavelets>=1.1.1 in /opt/conda/lib/python3.7/site-packages (from scikit-image<0.20.0,>=0.19.1->autogluon.text==0.4.0->autogluon) (1.2.0)\r\n",
      "Requirement already satisfied: tifffile>=2019.7.26 in /opt/conda/lib/python3.7/site-packages (from scikit-image<0.20.0,>=0.19.1->autogluon.text==0.4.0->autogluon) (2021.11.2)\r\n",
      "Requirement already satisfied: imageio>=2.4.1 in /opt/conda/lib/python3.7/site-packages (from scikit-image<0.20.0,>=0.19.1->autogluon.text==0.4.0->autogluon) (2.9.0)\r\n",
      "Requirement already satisfied: threadpoolctl>=2.0.0 in /opt/conda/lib/python3.7/site-packages (from scikit-learn<1.1,>=1.0.0->autogluon.core[all]==0.4.0->autogluon) (3.0.0)\r\n",
      "Requirement already satisfied: joblib>=0.11 in /opt/conda/lib/python3.7/site-packages (from scikit-learn<1.1,>=1.0.0->autogluon.core[all]==0.4.0->autogluon) (1.1.0)\r\n",
      "Requirement already satisfied: huggingface-hub<1.0,>=0.1.0 in /opt/conda/lib/python3.7/site-packages (from transformers<4.17.0,>=4.16.2->autogluon.text==0.4.0->autogluon) (0.4.0)\r\n",
      "Requirement already satisfied: importlib-metadata in /opt/conda/lib/python3.7/site-packages (from transformers<4.17.0,>=4.16.2->autogluon.text==0.4.0->autogluon) (4.11.3)\r\n",
      "Requirement already satisfied: jmespath<1.0.0,>=0.7.1 in /opt/conda/lib/python3.7/site-packages (from boto3->autogluon.core[all]==0.4.0->autogluon) (0.10.0)\r\n",
      "Requirement already satisfied: botocore<1.25.0,>=1.24.20 in /opt/conda/lib/python3.7/site-packages (from boto3->autogluon.core[all]==0.4.0->autogluon) (1.24.20)\r\n",
      "Requirement already satisfied: s3transfer<0.6.0,>=0.5.0 in /opt/conda/lib/python3.7/site-packages (from boto3->autogluon.core[all]==0.4.0->autogluon) (0.5.2)\r\n",
      "Requirement already satisfied: pyparsing>=2.2.1 in /opt/conda/lib/python3.7/site-packages (from matplotlib->autogluon.core[all]==0.4.0->autogluon) (3.0.6)\r\n",
      "Requirement already satisfied: fonttools>=4.22.0 in /opt/conda/lib/python3.7/site-packages (from matplotlib->autogluon.core[all]==0.4.0->autogluon) (4.28.4)\r\n",
      "Requirement already satisfied: kiwisolver>=1.0.1 in /opt/conda/lib/python3.7/site-packages (from matplotlib->autogluon.core[all]==0.4.0->autogluon) (1.3.2)\r\n",
      "Requirement already satisfied: cycler>=0.10 in /opt/conda/lib/python3.7/site-packages (from matplotlib->autogluon.core[all]==0.4.0->autogluon) (0.11.0)\r\n",
      "Requirement already satisfied: charset-normalizer~=2.0.0 in /opt/conda/lib/python3.7/site-packages (from requests->autogluon.core[all]==0.4.0->autogluon) (2.0.9)\r\n",
      "Requirement already satisfied: idna<4,>=2.5 in /opt/conda/lib/python3.7/site-packages (from requests->autogluon.core[all]==0.4.0->autogluon) (3.1)\r\n",
      "Requirement already satisfied: certifi>=2017.4.17 in /opt/conda/lib/python3.7/site-packages (from requests->autogluon.core[all]==0.4.0->autogluon) (2021.10.8)\r\n",
      "Requirement already satisfied: urllib3<1.27,>=1.21.1 in /opt/conda/lib/python3.7/site-packages (from requests->autogluon.core[all]==0.4.0->autogluon) (1.26.7)\r\n",
      "Requirement already satisfied: aiohttp in /opt/conda/lib/python3.7/site-packages (from fsspec>=0.6.0->dask<=2021.11.2,>=2021.09.1->autogluon.core[all]==0.4.0->autogluon) (3.8.1)\r\n",
      "Requirement already satisfied: locket in /opt/conda/lib/python3.7/site-packages (from partd>=0.3.10->dask<=2021.11.2,>=2021.09.1->autogluon.core[all]==0.4.0->autogluon) (0.2.1)\r\n",
      "Requirement already satisfied: deprecated>=1.2.3 in /opt/conda/lib/python3.7/site-packages (from redis>=3.5.0->ray<1.9,>=1.7->autogluon.core[all]==0.4.0->autogluon) (1.2.13)\r\n",
      "Requirement already satisfied: zipp>=0.5 in /opt/conda/lib/python3.7/site-packages (from importlib-metadata->transformers<4.17.0,>=4.16.2->autogluon.text==0.4.0->autogluon) (3.6.0)\r\n",
      "Requirement already satisfied: pathy>=0.3.5 in /opt/conda/lib/python3.7/site-packages (from spacy<4->fastai<2.6,>=2.3.1->autogluon.tabular[all]==0.4.0->autogluon) (0.6.1)\r\n",
      "Requirement already satisfied: spacy-loggers<2.0.0,>=1.0.0 in /opt/conda/lib/python3.7/site-packages (from spacy<4->fastai<2.6,>=2.3.1->autogluon.tabular[all]==0.4.0->autogluon) (1.0.1)\r\n",
      "Requirement already satisfied: thinc<8.1.0,>=8.0.12 in /opt/conda/lib/python3.7/site-packages (from spacy<4->fastai<2.6,>=2.3.1->autogluon.tabular[all]==0.4.0->autogluon) (8.0.15)\r\n",
      "Requirement already satisfied: srsly<3.0.0,>=2.4.1 in /opt/conda/lib/python3.7/site-packages (from spacy<4->fastai<2.6,>=2.3.1->autogluon.tabular[all]==0.4.0->autogluon) (2.4.2)\r\n",
      "Requirement already satisfied: catalogue<2.1.0,>=2.0.6 in /opt/conda/lib/python3.7/site-packages (from spacy<4->fastai<2.6,>=2.3.1->autogluon.tabular[all]==0.4.0->autogluon) (2.0.6)\r\n",
      "Requirement already satisfied: murmurhash<1.1.0,>=0.28.0 in /opt/conda/lib/python3.7/site-packages (from spacy<4->fastai<2.6,>=2.3.1->autogluon.tabular[all]==0.4.0->autogluon) (1.0.6)\r\n",
      "Collecting typing-extensions\r\n",
      "  Downloading typing_extensions-3.10.0.2-py3-none-any.whl (26 kB)\r\n",
      "Requirement already satisfied: preshed<3.1.0,>=3.0.2 in /opt/conda/lib/python3.7/site-packages (from spacy<4->fastai<2.6,>=2.3.1->autogluon.tabular[all]==0.4.0->autogluon) (3.0.6)\r\n",
      "Requirement already satisfied: blis<0.8.0,>=0.4.0 in /opt/conda/lib/python3.7/site-packages (from spacy<4->fastai<2.6,>=2.3.1->autogluon.tabular[all]==0.4.0->autogluon) (0.7.6)\r\n",
      "Requirement already satisfied: langcodes<4.0.0,>=3.2.0 in /opt/conda/lib/python3.7/site-packages (from spacy<4->fastai<2.6,>=2.3.1->autogluon.tabular[all]==0.4.0->autogluon) (3.3.0)\r\n",
      "Requirement already satisfied: cymem<2.1.0,>=2.0.2 in /opt/conda/lib/python3.7/site-packages (from spacy<4->fastai<2.6,>=2.3.1->autogluon.tabular[all]==0.4.0->autogluon) (2.0.6)\r\n",
      "Requirement already satisfied: typer<0.5.0,>=0.3.0 in /opt/conda/lib/python3.7/site-packages (from spacy<4->fastai<2.6,>=2.3.1->autogluon.tabular[all]==0.4.0->autogluon) (0.4.0)\r\n",
      "Requirement already satisfied: spacy-legacy<3.1.0,>=3.0.8 in /opt/conda/lib/python3.7/site-packages (from spacy<4->fastai<2.6,>=2.3.1->autogluon.tabular[all]==0.4.0->autogluon) (3.0.9)\r\n",
      "Requirement already satisfied: pydantic!=1.8,!=1.8.1,<1.9.0,>=1.7.4 in /opt/conda/lib/python3.7/site-packages (from spacy<4->fastai<2.6,>=2.3.1->autogluon.tabular[all]==0.4.0->autogluon) (1.8.2)\r\n",
      "Requirement already satisfied: wasabi<1.1.0,>=0.8.1 in /opt/conda/lib/python3.7/site-packages (from spacy<4->fastai<2.6,>=2.3.1->autogluon.tabular[all]==0.4.0->autogluon) (0.9.0)\r\n",
      "Requirement already satisfied: google-auth-oauthlib<0.5,>=0.4.1 in /opt/conda/lib/python3.7/site-packages (from tensorboard>=2.2.0->pytorch-lightning<1.6.0,>=1.5.10->autogluon.text==0.4.0->autogluon) (0.4.6)\r\n",
      "Requirement already satisfied: tensorboard-plugin-wit>=1.6.0 in /opt/conda/lib/python3.7/site-packages (from tensorboard>=2.2.0->pytorch-lightning<1.6.0,>=1.5.10->autogluon.text==0.4.0->autogluon) (1.8.0)\r\n",
      "Requirement already satisfied: markdown>=2.6.8 in /opt/conda/lib/python3.7/site-packages (from tensorboard>=2.2.0->pytorch-lightning<1.6.0,>=1.5.10->autogluon.text==0.4.0->autogluon) (3.3.6)\r\n",
      "Requirement already satisfied: absl-py>=0.4 in /opt/conda/lib/python3.7/site-packages (from tensorboard>=2.2.0->pytorch-lightning<1.6.0,>=1.5.10->autogluon.text==0.4.0->autogluon) (0.15.0)\r\n",
      "Requirement already satisfied: google-auth<2,>=1.6.3 in /opt/conda/lib/python3.7/site-packages (from tensorboard>=2.2.0->pytorch-lightning<1.6.0,>=1.5.10->autogluon.text==0.4.0->autogluon) (1.35.0)\r\n",
      "Requirement already satisfied: werkzeug>=0.11.15 in /opt/conda/lib/python3.7/site-packages (from tensorboard>=2.2.0->pytorch-lightning<1.6.0,>=1.5.10->autogluon.text==0.4.0->autogluon) (2.0.2)\r\n",
      "Requirement already satisfied: tensorboard-data-server<0.7.0,>=0.6.0 in /opt/conda/lib/python3.7/site-packages (from tensorboard>=2.2.0->pytorch-lightning<1.6.0,>=1.5.10->autogluon.text==0.4.0->autogluon) (0.6.1)\r\n",
      "Collecting torch<1.11,>=1.0\r\n",
      "  Downloading torch-1.9.1-cp37-cp37m-manylinux1_x86_64.whl (831.4 MB)\r\n",
      "\u001b[2K     \u001b[90m━━━━━━━━━━━━━━━━━━━━━━━━━━━━━━━━━━━━━\u001b[0m \u001b[32m831.4/831.4 MB\u001b[0m \u001b[31m762.4 kB/s\u001b[0m eta \u001b[36m0:00:00\u001b[0m\r\n",
      "\u001b[?25hRequirement already satisfied: heapdict in /opt/conda/lib/python3.7/site-packages (from zict>=0.1.3->distributed<=2021.11.2,>=2021.09.1->autogluon.core[all]==0.4.0->autogluon) (1.0.1)\r\n",
      "Collecting immutables>=0.9\r\n",
      "  Downloading immutables-0.17-cp37-cp37m-manylinux_2_5_x86_64.manylinux1_x86_64.manylinux_2_17_x86_64.manylinux2014_x86_64.whl (116 kB)\r\n",
      "\u001b[2K     \u001b[90m━━━━━━━━━━━━━━━━━━━━━━━━━━━━━━━━━━━━━━\u001b[0m \u001b[32m116.5/116.5 KB\u001b[0m \u001b[31m10.5 MB/s\u001b[0m eta \u001b[36m0:00:00\u001b[0m\r\n",
      "\u001b[?25hCollecting importlib-metadata\r\n",
      "  Downloading importlib_metadata-4.2.0-py3-none-any.whl (16 kB)\r\n",
      "Requirement already satisfied: pycodestyle<2.9.0,>=2.8.0 in /opt/conda/lib/python3.7/site-packages (from flake8->autogluon-contrib-nlp==0.0.1b20220208->autogluon.text==0.4.0->autogluon) (2.8.0)\r\n",
      "Requirement already satisfied: mccabe<0.7.0,>=0.6.0 in /opt/conda/lib/python3.7/site-packages (from flake8->autogluon-contrib-nlp==0.0.1b20220208->autogluon.text==0.4.0->autogluon) (0.6.1)\r\n",
      "Requirement already satisfied: pyflakes<2.5.0,>=2.4.0 in /opt/conda/lib/python3.7/site-packages (from flake8->autogluon-contrib-nlp==0.0.1b20220208->autogluon.text==0.4.0->autogluon) (2.4.0)\r\n",
      "Requirement already satisfied: MarkupSafe>=2.0 in /opt/conda/lib/python3.7/site-packages (from jinja2->distributed<=2021.11.2,>=2021.09.1->autogluon.core[all]==0.4.0->autogluon) (2.1.1)\r\n",
      "Requirement already satisfied: importlib-resources>=1.4.0 in /opt/conda/lib/python3.7/site-packages (from jsonschema->ray<1.9,>=1.7->autogluon.core[all]==0.4.0->autogluon) (5.4.0)\r\n",
      "Requirement already satisfied: pyrsistent!=0.17.0,!=0.17.1,!=0.17.2,>=0.14.0 in /opt/conda/lib/python3.7/site-packages (from jsonschema->ray<1.9,>=1.7->autogluon.core[all]==0.4.0->autogluon) (0.18.0)\r\n",
      "Requirement already satisfied: tenacity>=6.2.0 in /opt/conda/lib/python3.7/site-packages (from plotly->catboost<1.1,>=1.0->autogluon.tabular[all]==0.4.0->autogluon) (8.0.1)\r\n",
      "Requirement already satisfied: colorama in /opt/conda/lib/python3.7/site-packages (from sacrebleu->autogluon-contrib-nlp==0.0.1b20220208->autogluon.text==0.4.0->autogluon) (0.4.4)\r\n",
      "Requirement already satisfied: tabulate>=0.8.9 in /opt/conda/lib/python3.7/site-packages (from sacrebleu->autogluon-contrib-nlp==0.0.1b20220208->autogluon.text==0.4.0->autogluon) (0.8.9)\r\n",
      "Requirement already satisfied: wrapt<2,>=1.10 in /opt/conda/lib/python3.7/site-packages (from deprecated>=1.2.3->redis>=3.5.0->ray<1.9,>=1.7->autogluon.core[all]==0.4.0->autogluon) (1.13.3)\r\n",
      "Requirement already satisfied: pyasn1-modules>=0.2.1 in /opt/conda/lib/python3.7/site-packages (from google-auth<2,>=1.6.3->tensorboard>=2.2.0->pytorch-lightning<1.6.0,>=1.5.10->autogluon.text==0.4.0->autogluon) (0.2.7)\r\n",
      "Requirement already satisfied: rsa<5,>=3.1.4 in /opt/conda/lib/python3.7/site-packages (from google-auth<2,>=1.6.3->tensorboard>=2.2.0->pytorch-lightning<1.6.0,>=1.5.10->autogluon.text==0.4.0->autogluon) (4.8)\r\n",
      "Requirement already satisfied: cachetools<5.0,>=2.0.0 in /opt/conda/lib/python3.7/site-packages (from google-auth<2,>=1.6.3->tensorboard>=2.2.0->pytorch-lightning<1.6.0,>=1.5.10->autogluon.text==0.4.0->autogluon) (4.2.4)\r\n",
      "Requirement already satisfied: requests-oauthlib>=0.7.0 in /opt/conda/lib/python3.7/site-packages (from google-auth-oauthlib<0.5,>=0.4.1->tensorboard>=2.2.0->pytorch-lightning<1.6.0,>=1.5.10->autogluon.text==0.4.0->autogluon) (1.3.0)\r\n",
      "Collecting markdown>=2.6.8\r\n",
      "  Downloading Markdown-3.3.4-py3-none-any.whl (97 kB)\r\n",
      "\u001b[2K     \u001b[90m━━━━━━━━━━━━━━━━━━━━━━━━━━━━━━━━━━━━━━━━\u001b[0m \u001b[32m97.6/97.6 KB\u001b[0m \u001b[31m7.5 MB/s\u001b[0m eta \u001b[36m0:00:00\u001b[0m\r\n",
      "\u001b[?25hRequirement already satisfied: yarl<2.0,>=1.0 in /opt/conda/lib/python3.7/site-packages (from aiohttp->fsspec>=0.6.0->dask<=2021.11.2,>=2021.09.1->autogluon.core[all]==0.4.0->autogluon) (1.7.2)\r\n",
      "Requirement already satisfied: async-timeout<5.0,>=4.0.0a3 in /opt/conda/lib/python3.7/site-packages (from aiohttp->fsspec>=0.6.0->dask<=2021.11.2,>=2021.09.1->autogluon.core[all]==0.4.0->autogluon) (4.0.1)\r\n",
      "Requirement already satisfied: aiosignal>=1.1.2 in /opt/conda/lib/python3.7/site-packages (from aiohttp->fsspec>=0.6.0->dask<=2021.11.2,>=2021.09.1->autogluon.core[all]==0.4.0->autogluon) (1.2.0)\r\n",
      "Requirement already satisfied: multidict<7.0,>=4.5 in /opt/conda/lib/python3.7/site-packages (from aiohttp->fsspec>=0.6.0->dask<=2021.11.2,>=2021.09.1->autogluon.core[all]==0.4.0->autogluon) (5.2.0)\r\n",
      "Requirement already satisfied: asynctest==0.13.0 in /opt/conda/lib/python3.7/site-packages (from aiohttp->fsspec>=0.6.0->dask<=2021.11.2,>=2021.09.1->autogluon.core[all]==0.4.0->autogluon) (0.13.0)\r\n",
      "Requirement already satisfied: frozenlist>=1.1.1 in /opt/conda/lib/python3.7/site-packages (from aiohttp->fsspec>=0.6.0->dask<=2021.11.2,>=2021.09.1->autogluon.core[all]==0.4.0->autogluon) (1.2.0)\r\n",
      "Requirement already satisfied: pyasn1<0.5.0,>=0.4.6 in /opt/conda/lib/python3.7/site-packages (from pyasn1-modules>=0.2.1->google-auth<2,>=1.6.3->tensorboard>=2.2.0->pytorch-lightning<1.6.0,>=1.5.10->autogluon.text==0.4.0->autogluon) (0.4.8)\r\n",
      "Requirement already satisfied: oauthlib>=3.0.0 in /opt/conda/lib/python3.7/site-packages (from requests-oauthlib>=0.7.0->google-auth-oauthlib<0.5,>=0.4.1->tensorboard>=2.2.0->pytorch-lightning<1.6.0,>=1.5.10->autogluon.text==0.4.0->autogluon) (3.1.1)\r\n",
      "Building wheels for collected packages: antlr4-python3-runtime, contextvars\r\n",
      "  Building wheel for antlr4-python3-runtime (setup.py) ... \u001b[?25l-\b \b\\\b \b|\b \b/\b \b-\b \b\\\b \b|\b \b/\b \b-\b \b\\\b \bdone\r\n",
      "\u001b[?25h  Created wheel for antlr4-python3-runtime: filename=antlr4_python3_runtime-4.8-py3-none-any.whl size=141230 sha256=c8fc1faf434d8bd6b7a4d38379b15b616a068d13a3f66659a9ef9fe76aac36fa\r\n",
      "  Stored in directory: /root/.cache/pip/wheels/ca/33/b7/336836125fc9bb4ceaa4376d8abca10ca8bc84ddc824baea6c\r\n",
      "  Building wheel for contextvars (setup.py) ... \u001b[?25l-\b \b\\\b \b|\b \b/\b \b-\b \b\\\b \b|\b \bdone\r\n",
      "\u001b[?25h  Created wheel for contextvars: filename=contextvars-2.4-py3-none-any.whl size=7681 sha256=9e2da192ad39162aa6c821575fdb37a44f35ae4c365102691c1b91bf4f406513\r\n",
      "  Stored in directory: /root/.cache/pip/wheels/0a/11/79/e70e668095c0bb1f94718af672ef2d35ee7a023fee56ef54d9\r\n",
      "Successfully built antlr4-python3-runtime contextvars\r\n",
      "Installing collected packages: typish, typing-extensions, sentencepiece, antlr4-python3-runtime, torch, setuptools, Pillow, omegaconf, numpy, importlib-metadata, immutables, torchmetrics, sacrebleu, nptyping, markdown, dask, contextvars, xgboost, timm, ray, distributed, autogluon-contrib-nlp, autogluon.common, autogluon.features, autogluon.core, autogluon.vision, autogluon.text, autogluon.tabular, autogluon\r\n",
      "  Attempting uninstall: typing-extensions\r\n",
      "    Found existing installation: typing_extensions 4.1.1\r\n",
      "    Uninstalling typing_extensions-4.1.1:\r\n",
      "      Successfully uninstalled typing_extensions-4.1.1\r\n",
      "  Attempting uninstall: sentencepiece\r\n",
      "    Found existing installation: sentencepiece 0.1.96\r\n",
      "    Uninstalling sentencepiece-0.1.96:\r\n",
      "      Successfully uninstalled sentencepiece-0.1.96\r\n",
      "  Attempting uninstall: torch\r\n",
      "    Found existing installation: torch 1.10.1+cpu\r\n",
      "    Uninstalling torch-1.10.1+cpu:\r\n",
      "      Successfully uninstalled torch-1.10.1+cpu\r\n",
      "  Attempting uninstall: setuptools\r\n",
      "    Found existing installation: setuptools 62.0.0\r\n",
      "    Uninstalling setuptools-62.0.0:\r\n",
      "      Successfully uninstalled setuptools-62.0.0\r\n",
      "  Attempting uninstall: Pillow\r\n",
      "    Found existing installation: Pillow 8.2.0\r\n",
      "    Uninstalling Pillow-8.2.0:\r\n",
      "      Successfully uninstalled Pillow-8.2.0\r\n",
      "  Attempting uninstall: numpy\r\n",
      "    Found existing installation: numpy 1.20.3\r\n",
      "    Uninstalling numpy-1.20.3:\r\n",
      "      Successfully uninstalled numpy-1.20.3\r\n",
      "  Attempting uninstall: importlib-metadata\r\n",
      "    Found existing installation: importlib-metadata 4.11.3\r\n",
      "    Uninstalling importlib-metadata-4.11.3:\r\n",
      "      Successfully uninstalled importlib-metadata-4.11.3\r\n",
      "  Attempting uninstall: torchmetrics\r\n",
      "    Found existing installation: torchmetrics 0.6.2\r\n",
      "    Uninstalling torchmetrics-0.6.2:\r\n",
      "      Successfully uninstalled torchmetrics-0.6.2\r\n",
      "  Attempting uninstall: markdown\r\n",
      "    Found existing installation: Markdown 3.3.6\r\n",
      "    Uninstalling Markdown-3.3.6:\r\n",
      "      Successfully uninstalled Markdown-3.3.6\r\n",
      "  Attempting uninstall: dask\r\n",
      "    Found existing installation: dask 2022.2.0\r\n",
      "    Uninstalling dask-2022.2.0:\r\n",
      "      Successfully uninstalled dask-2022.2.0\r\n",
      "  Attempting uninstall: xgboost\r\n",
      "    Found existing installation: xgboost 1.5.2\r\n",
      "    Uninstalling xgboost-1.5.2:\r\n",
      "      Successfully uninstalled xgboost-1.5.2\r\n",
      "  Attempting uninstall: ray\r\n",
      "    Found existing installation: ray 1.11.0\r\n",
      "    Uninstalling ray-1.11.0:\r\n",
      "      Successfully uninstalled ray-1.11.0\r\n",
      "  Attempting uninstall: distributed\r\n",
      "    Found existing installation: distributed 2022.2.0\r\n",
      "    Uninstalling distributed-2022.2.0:\r\n",
      "      Successfully uninstalled distributed-2022.2.0\r\n",
      "\u001b[31mERROR: pip's dependency resolver does not currently take into account all the packages that are installed. This behaviour is the source of the following dependency conflicts.\r\n",
      "tensorflow-io 0.21.0 requires tensorflow-io-gcs-filesystem==0.21.0, which is not installed.\r\n",
      "explainable-ai-sdk 1.3.2 requires xai-image-widget, which is not installed.\r\n",
      "beatrix-jupyterlab 3.1.6 requires google-cloud-bigquery-storage, which is not installed.\r\n",
      "tfx-bsl 1.5.0 requires absl-py<0.13,>=0.9, but you have absl-py 0.15.0 which is incompatible.\r\n",
      "tfx-bsl 1.5.0 requires numpy<1.20,>=1.16, but you have numpy 1.21.5 which is incompatible.\r\n",
      "tfx-bsl 1.5.0 requires pyarrow<6,>=1, but you have pyarrow 6.0.1 which is incompatible.\r\n",
      "tfx-bsl 1.5.0 requires tensorflow!=2.0.*,!=2.1.*,!=2.2.*,!=2.3.*,!=2.4.*,!=2.5.*,!=2.6.*,<3,>=1.15.2, but you have tensorflow 2.6.2 which is incompatible.\r\n",
      "tensorflow 2.6.2 requires numpy~=1.19.2, but you have numpy 1.21.5 which is incompatible.\r\n",
      "tensorflow 2.6.2 requires six~=1.15.0, but you have six 1.16.0 which is incompatible.\r\n",
      "tensorflow 2.6.2 requires typing-extensions~=3.7.4, but you have typing-extensions 3.10.0.2 which is incompatible.\r\n",
      "tensorflow 2.6.2 requires wrapt~=1.12.1, but you have wrapt 1.13.3 which is incompatible.\r\n",
      "tensorflow-transform 1.5.0 requires absl-py<0.13,>=0.9, but you have absl-py 0.15.0 which is incompatible.\r\n",
      "tensorflow-transform 1.5.0 requires numpy<1.20,>=1.16, but you have numpy 1.21.5 which is incompatible.\r\n",
      "tensorflow-transform 1.5.0 requires pyarrow<6,>=1, but you have pyarrow 6.0.1 which is incompatible.\r\n",
      "tensorflow-transform 1.5.0 requires tensorflow!=2.0.*,!=2.1.*,!=2.2.*,!=2.3.*,!=2.4.*,!=2.5.*,!=2.6.*,<2.8,>=1.15.2, but you have tensorflow 2.6.2 which is incompatible.\r\n",
      "tensorflow-serving-api 2.7.0 requires tensorflow<3,>=2.7.0, but you have tensorflow 2.6.2 which is incompatible.\r\n",
      "pdpbox 0.2.1 requires matplotlib==3.1.1, but you have matplotlib 3.5.1 which is incompatible.\r\n",
      "numba 0.54.1 requires numpy<1.21,>=1.17, but you have numpy 1.21.5 which is incompatible.\r\n",
      "gym 0.23.1 requires importlib-metadata>=4.10.0; python_version < \"3.10\", but you have importlib-metadata 4.2.0 which is incompatible.\r\n",
      "gcsfs 2021.11.1 requires fsspec==2021.11.1, but you have fsspec 2022.2.0 which is incompatible.\r\n",
      "easyocr 1.4.1 requires Pillow<8.3.0, but you have pillow 9.0.1 which is incompatible.\r\n",
      "cloud-tpu-client 0.10 requires google-api-python-client==1.8.0, but you have google-api-python-client 1.12.11 which is incompatible.\r\n",
      "apache-beam 2.34.0 requires dill<0.3.2,>=0.3.1.1, but you have dill 0.3.4 which is incompatible.\r\n",
      "apache-beam 2.34.0 requires httplib2<0.20.0,>=0.8, but you have httplib2 0.20.2 which is incompatible.\r\n",
      "apache-beam 2.34.0 requires numpy<1.21.0,>=1.14.3, but you have numpy 1.21.5 which is incompatible.\r\n",
      "apache-beam 2.34.0 requires pyarrow<6.0.0,>=0.15.1, but you have pyarrow 6.0.1 which is incompatible.\r\n",
      "aioitertools 0.10.0 requires typing_extensions>=4.0; python_version < \"3.10\", but you have typing-extensions 3.10.0.2 which is incompatible.\r\n",
      "aiobotocore 2.1.2 requires botocore<1.23.25,>=1.23.24, but you have botocore 1.24.20 which is incompatible.\u001b[0m\u001b[31m\r\n",
      "\u001b[0mSuccessfully installed Pillow-9.0.1 antlr4-python3-runtime-4.8 autogluon-0.4.0 autogluon-contrib-nlp-0.0.1b20220208 autogluon.common-0.4.0 autogluon.core-0.4.0 autogluon.features-0.4.0 autogluon.tabular-0.4.0 autogluon.text-0.4.0 autogluon.vision-0.4.0 contextvars-2.4 dask-2021.11.2 distributed-2021.11.2 immutables-0.17 importlib-metadata-4.2.0 markdown-3.3.4 nptyping-1.4.4 numpy-1.21.5 omegaconf-2.1.1 ray-1.8.0 sacrebleu-2.0.0 sentencepiece-0.1.95 setuptools-59.5.0 timm-0.5.4 torch-1.9.1 torchmetrics-0.7.3 typing-extensions-3.10.0.2 typish-1.9.3 xgboost-1.4.2\r\n",
      "\u001b[33mWARNING: Running pip as the 'root' user can result in broken permissions and conflicting behaviour with the system package manager. It is recommended to use a virtual environment instead: https://pip.pypa.io/warnings/venv\u001b[0m\u001b[33m\r\n",
      "\u001b[0m"
     ]
    }
   ],
   "source": [
    "!pip3 install -U pip\n",
    "!pip3 install -U setuptools wheel\n",
    "\n",
    "# CPU version of pytorch has smaller footprint - see installation instructions in\n",
    "# pytorch documentation - https://pytorch.org/get-started/locally/\n",
    "!pip3 install torch==1.10.1+cpu -f https://download.pytorch.org/whl/cpu/torch_stable.html\n",
    "\n",
    "!pip3 install autogluon"
   ]
  },
  {
   "cell_type": "code",
   "execution_count": 2,
   "id": "60c201ee",
   "metadata": {
    "ExecuteTime": {
     "end_time": "2021-09-07T07:09:31.466599Z",
     "start_time": "2021-09-07T07:09:31.455855Z"
    },
    "execution": {
     "iopub.execute_input": "2022-04-09T01:52:53.482459Z",
     "iopub.status.busy": "2022-04-09T01:52:53.481471Z",
     "iopub.status.idle": "2022-04-09T01:52:55.448510Z",
     "shell.execute_reply": "2022-04-09T01:52:55.447843Z",
     "shell.execute_reply.started": "2022-04-09T01:42:04.100147Z"
    },
    "papermill": {
     "duration": 2.237891,
     "end_time": "2022-04-09T01:52:55.448656",
     "exception": false,
     "start_time": "2022-04-09T01:52:53.210765",
     "status": "completed"
    },
    "scrolled": true,
    "tags": []
   },
   "outputs": [],
   "source": [
    "from autogluon.tabular import TabularDataset, TabularPredictor\n",
    "import autogluon"
   ]
  },
  {
   "cell_type": "code",
   "execution_count": 3,
   "id": "fa227a77",
   "metadata": {
    "ExecuteTime": {
     "end_time": "2021-08-05T03:24:43.598823Z",
     "start_time": "2021-08-05T03:24:43.453Z"
    },
    "execution": {
     "iopub.execute_input": "2022-04-09T01:52:55.982755Z",
     "iopub.status.busy": "2022-04-09T01:52:55.981846Z",
     "iopub.status.idle": "2022-04-09T01:52:56.027393Z",
     "shell.execute_reply": "2022-04-09T01:52:56.027805Z",
     "shell.execute_reply.started": "2022-04-09T01:42:44.117589Z"
    },
    "papermill": {
     "duration": 0.313863,
     "end_time": "2022-04-09T01:52:56.028026",
     "exception": false,
     "start_time": "2022-04-09T01:52:55.714163",
     "status": "completed"
    },
    "scrolled": true,
    "tags": []
   },
   "outputs": [
    {
     "name": "stderr",
     "output_type": "stream",
     "text": [
      "Loaded data from: ../input/petfinder-train-test-split/train.csv | Columns = 14 / 14 | Rows = 7929 -> 7929\n"
     ]
    }
   ],
   "source": [
    "train_data = TabularDataset('../input/petfinder-train-test-split/train.csv')"
   ]
  },
  {
   "cell_type": "code",
   "execution_count": 4,
   "id": "3231a69d",
   "metadata": {
    "ExecuteTime": {
     "end_time": "2021-08-05T03:24:43.601189Z",
     "start_time": "2021-08-05T03:24:43.457Z"
    },
    "execution": {
     "iopub.execute_input": "2022-04-09T01:52:56.566477Z",
     "iopub.status.busy": "2022-04-09T01:52:56.565825Z",
     "iopub.status.idle": "2022-04-09T01:52:56.585628Z",
     "shell.execute_reply": "2022-04-09T01:52:56.586118Z",
     "shell.execute_reply.started": "2022-04-09T01:42:49.088827Z"
    },
    "papermill": {
     "duration": 0.29284,
     "end_time": "2022-04-09T01:52:56.586299",
     "exception": false,
     "start_time": "2022-04-09T01:52:56.293459",
     "status": "completed"
    },
    "scrolled": true,
    "tags": []
   },
   "outputs": [
    {
     "data": {
      "text/html": [
       "<div>\n",
       "<style scoped>\n",
       "    .dataframe tbody tr th:only-of-type {\n",
       "        vertical-align: middle;\n",
       "    }\n",
       "\n",
       "    .dataframe tbody tr th {\n",
       "        vertical-align: top;\n",
       "    }\n",
       "\n",
       "    .dataframe thead th {\n",
       "        text-align: right;\n",
       "    }\n",
       "</style>\n",
       "<table border=\"1\" class=\"dataframe\">\n",
       "  <thead>\n",
       "    <tr style=\"text-align: right;\">\n",
       "      <th></th>\n",
       "      <th>Id</th>\n",
       "      <th>Subject Focus</th>\n",
       "      <th>Eyes</th>\n",
       "      <th>Face</th>\n",
       "      <th>Near</th>\n",
       "      <th>Action</th>\n",
       "      <th>Accessory</th>\n",
       "      <th>Group</th>\n",
       "      <th>Collage</th>\n",
       "      <th>Human</th>\n",
       "      <th>Occlusion</th>\n",
       "      <th>Info</th>\n",
       "      <th>Blur</th>\n",
       "      <th>Pawpularity</th>\n",
       "    </tr>\n",
       "  </thead>\n",
       "  <tbody>\n",
       "    <tr>\n",
       "      <th>0</th>\n",
       "      <td>ec07599018885a44734a9ba27d306055</td>\n",
       "      <td>0</td>\n",
       "      <td>1</td>\n",
       "      <td>1</td>\n",
       "      <td>1</td>\n",
       "      <td>0</td>\n",
       "      <td>0</td>\n",
       "      <td>0</td>\n",
       "      <td>0</td>\n",
       "      <td>0</td>\n",
       "      <td>0</td>\n",
       "      <td>0</td>\n",
       "      <td>0</td>\n",
       "      <td>99</td>\n",
       "    </tr>\n",
       "    <tr>\n",
       "      <th>1</th>\n",
       "      <td>df5a9f783ff2ae373ee99fa33679da64</td>\n",
       "      <td>0</td>\n",
       "      <td>1</td>\n",
       "      <td>1</td>\n",
       "      <td>1</td>\n",
       "      <td>0</td>\n",
       "      <td>0</td>\n",
       "      <td>1</td>\n",
       "      <td>0</td>\n",
       "      <td>0</td>\n",
       "      <td>0</td>\n",
       "      <td>0</td>\n",
       "      <td>0</td>\n",
       "      <td>67</td>\n",
       "    </tr>\n",
       "    <tr>\n",
       "      <th>2</th>\n",
       "      <td>d9ba322c3fbf962b458c3be9a2f0ffd0</td>\n",
       "      <td>0</td>\n",
       "      <td>1</td>\n",
       "      <td>1</td>\n",
       "      <td>0</td>\n",
       "      <td>0</td>\n",
       "      <td>0</td>\n",
       "      <td>0</td>\n",
       "      <td>0</td>\n",
       "      <td>0</td>\n",
       "      <td>0</td>\n",
       "      <td>0</td>\n",
       "      <td>0</td>\n",
       "      <td>58</td>\n",
       "    </tr>\n",
       "    <tr>\n",
       "      <th>3</th>\n",
       "      <td>c9bd7f7c498a5189bae9eab446cd8e01</td>\n",
       "      <td>0</td>\n",
       "      <td>1</td>\n",
       "      <td>1</td>\n",
       "      <td>1</td>\n",
       "      <td>0</td>\n",
       "      <td>0</td>\n",
       "      <td>0</td>\n",
       "      <td>1</td>\n",
       "      <td>0</td>\n",
       "      <td>0</td>\n",
       "      <td>1</td>\n",
       "      <td>0</td>\n",
       "      <td>49</td>\n",
       "    </tr>\n",
       "    <tr>\n",
       "      <th>4</th>\n",
       "      <td>700db4fae0b34f8648ce3d96852232dc</td>\n",
       "      <td>0</td>\n",
       "      <td>1</td>\n",
       "      <td>1</td>\n",
       "      <td>1</td>\n",
       "      <td>0</td>\n",
       "      <td>0</td>\n",
       "      <td>0</td>\n",
       "      <td>0</td>\n",
       "      <td>0</td>\n",
       "      <td>0</td>\n",
       "      <td>0</td>\n",
       "      <td>0</td>\n",
       "      <td>35</td>\n",
       "    </tr>\n",
       "  </tbody>\n",
       "</table>\n",
       "</div>"
      ],
      "text/plain": [
       "                                 Id  Subject Focus  Eyes  Face  Near  Action  \\\n",
       "0  ec07599018885a44734a9ba27d306055              0     1     1     1       0   \n",
       "1  df5a9f783ff2ae373ee99fa33679da64              0     1     1     1       0   \n",
       "2  d9ba322c3fbf962b458c3be9a2f0ffd0              0     1     1     0       0   \n",
       "3  c9bd7f7c498a5189bae9eab446cd8e01              0     1     1     1       0   \n",
       "4  700db4fae0b34f8648ce3d96852232dc              0     1     1     1       0   \n",
       "\n",
       "   Accessory  Group  Collage  Human  Occlusion  Info  Blur  Pawpularity  \n",
       "0          0      0        0      0          0     0     0           99  \n",
       "1          0      1        0      0          0     0     0           67  \n",
       "2          0      0        0      0          0     0     0           58  \n",
       "3          0      0        1      0          0     1     0           49  \n",
       "4          0      0        0      0          0     0     0           35  "
      ]
     },
     "execution_count": 4,
     "metadata": {},
     "output_type": "execute_result"
    }
   ],
   "source": [
    "train_data.head()"
   ]
  },
  {
   "cell_type": "code",
   "execution_count": 5,
   "id": "40e5b19d",
   "metadata": {
    "ExecuteTime": {
     "end_time": "2021-08-05T03:24:43.602480Z",
     "start_time": "2021-08-05T03:24:43.459Z"
    },
    "execution": {
     "iopub.execute_input": "2022-04-09T01:52:57.135575Z",
     "iopub.status.busy": "2022-04-09T01:52:57.134964Z",
     "iopub.status.idle": "2022-04-09T01:52:57.137177Z",
     "shell.execute_reply": "2022-04-09T01:52:57.137710Z",
     "shell.execute_reply.started": "2022-04-09T01:42:58.292024Z"
    },
    "papermill": {
     "duration": 0.277708,
     "end_time": "2022-04-09T01:52:57.137874",
     "exception": false,
     "start_time": "2022-04-09T01:52:56.860166",
     "status": "completed"
    },
    "scrolled": true,
    "tags": []
   },
   "outputs": [],
   "source": [
    "label = 'Pawpularity'"
   ]
  },
  {
   "cell_type": "code",
   "execution_count": 6,
   "id": "fe5b2a62",
   "metadata": {
    "ExecuteTime": {
     "end_time": "2021-08-05T03:24:43.603651Z",
     "start_time": "2021-08-05T03:24:43.464Z"
    },
    "execution": {
     "iopub.execute_input": "2022-04-09T01:52:57.850169Z",
     "iopub.status.busy": "2022-04-09T01:52:57.849503Z",
     "iopub.status.idle": "2022-04-09T01:55:45.937475Z",
     "shell.execute_reply": "2022-04-09T01:55:45.938013Z",
     "shell.execute_reply.started": "2022-04-09T01:43:21.181101Z"
    },
    "papermill": {
     "duration": 168.529951,
     "end_time": "2022-04-09T01:55:45.938306",
     "exception": false,
     "start_time": "2022-04-09T01:52:57.408355",
     "status": "completed"
    },
    "scrolled": true,
    "tags": []
   },
   "outputs": [
    {
     "name": "stderr",
     "output_type": "stream",
     "text": [
      "Beginning AutoGluon training ...\n",
      "AutoGluon will save models to \"petfinder-autogluon/\"\n",
      "AutoGluon Version:  0.4.0\n",
      "Python Version:     3.7.12\n",
      "Operating System:   Linux\n",
      "Train Data Rows:    7929\n",
      "Train Data Columns: 13\n",
      "Label Column: Pawpularity\n",
      "Preprocessing data ...\n",
      "AutoGluon infers your prediction problem is: 'multiclass' (because dtype of label-column == int, but few unique label-values observed).\n",
      "\tFirst 10 (of 100) unique label values:  [99, 67, 58, 49, 35, 22, 23, 32, 36, 51]\n",
      "\tIf 'multiclass' is not the correct problem_type, please manually specify the problem_type parameter during predictor init (You may specify problem_type as one of: ['binary', 'multiclass', 'regression'])\n",
      "Warning: Some classes in the training set have fewer than 10 examples. AutoGluon will only keep 93 out of 100 classes for training and will not try to predict the rare classes. To keep more classes, increase the number of datapoints from these rare classes in the training data or reduce label_count_threshold.\n",
      "Fraction of data from classes with at least 10 examples that will be kept for training models: 0.9945768697187539\n",
      "Train Data Class Count: 93\n",
      "Using Feature Generators to preprocess the data ...\n",
      "Fitting AutoMLPipelineFeatureGenerator...\n",
      "\tAvailable Memory:                    17906.9 MB\n",
      "\tTrain Data (Original)  Memory Usage: 1.46 MB (0.0% of available memory)\n",
      "\tInferring data type of each feature based on column values. Set feature_metadata_in to manually specify special dtypes of the features.\n",
      "\tStage 1 Generators:\n",
      "\t\tFitting AsTypeFeatureGenerator...\n",
      "\t\t\tNote: Converting 12 features to boolean dtype as they only contain 2 unique values.\n",
      "\tStage 2 Generators:\n",
      "\t\tFitting FillNaFeatureGenerator...\n",
      "\tStage 3 Generators:\n",
      "\t\tFitting IdentityFeatureGenerator...\n",
      "\t\tFitting CategoryFeatureGenerator...\n",
      "\t\t\tFitting CategoryMemoryMinimizeFeatureGenerator...\n",
      "\tStage 4 Generators:\n",
      "\t\tFitting DropUniqueFeatureGenerator...\n",
      "\tUnused Original Features (Count: 1): ['Id']\n",
      "\t\tThese features were not used to generate any of the output features. Add a feature generator compatible with these features to utilize them.\n",
      "\t\tFeatures can also be unused if they carry very little information, such as being categorical but having almost entirely unique values or being duplicates of other features.\n",
      "\t\tThese features do not need to be present at inference time.\n",
      "\t\t('object', []) : 1 | ['Id']\n",
      "\tTypes of features in original data (raw dtype, special dtypes):\n",
      "\t\t('int', []) : 12 | ['Subject Focus', 'Eyes', 'Face', 'Near', 'Action', ...]\n",
      "\tTypes of features in processed data (raw dtype, special dtypes):\n",
      "\t\t('int', ['bool']) : 12 | ['Subject Focus', 'Eyes', 'Face', 'Near', 'Action', ...]\n",
      "\t0.2s = Fit runtime\n",
      "\t12 features in original data used to generate 12 features in processed data.\n",
      "\tTrain Data (Processed) Memory Usage: 0.09 MB (0.0% of available memory)\n",
      "Data preprocessing and feature engineering runtime = 0.26s ...\n",
      "AutoGluon will gauge predictive performance using evaluation metric: 'accuracy'\n",
      "\tTo change this, specify the eval_metric parameter of Predictor()\n",
      "Automatically generating train/validation split with holdout_frac=0.1, Train Rows: 7097, Val Rows: 789\n",
      "Fitting 13 L1 models ...\n",
      "Fitting model: KNeighborsUnif ...\n",
      "\tNo valid features to train KNeighborsUnif... Skipping this model.\n",
      "Fitting model: KNeighborsDist ...\n",
      "\tNo valid features to train KNeighborsDist... Skipping this model.\n",
      "Fitting model: NeuralNetFastAI ...\n",
      "\t0.038\t = Validation score   (accuracy)\n",
      "\t12.46s\t = Training   runtime\n",
      "\t0.02s\t = Validation runtime\n",
      "Fitting model: LightGBMXT ...\n"
     ]
    },
    {
     "data": {
      "text/html": [
       "<style type='text/css'>\n",
       ".datatable table.frame { margin-bottom: 0; }\n",
       ".datatable table.frame thead { border-bottom: none; }\n",
       ".datatable table.frame tr.coltypes td {  color: #FFFFFF;  line-height: 6px;  padding: 0 0.5em;}\n",
       ".datatable .bool    { background: #DDDD99; }\n",
       ".datatable .object  { background: #565656; }\n",
       ".datatable .int     { background: #5D9E5D; }\n",
       ".datatable .float   { background: #4040CC; }\n",
       ".datatable .str     { background: #CC4040; }\n",
       ".datatable .time    { background: #40CC40; }\n",
       ".datatable .row_index {  background: var(--jp-border-color3);  border-right: 1px solid var(--jp-border-color0);  color: var(--jp-ui-font-color3);  font-size: 9px;}\n",
       ".datatable .frame tbody td { text-align: left; }\n",
       ".datatable .frame tr.coltypes .row_index {  background: var(--jp-border-color0);}\n",
       ".datatable th:nth-child(2) { padding-left: 12px; }\n",
       ".datatable .hellipsis {  color: var(--jp-cell-editor-border-color);}\n",
       ".datatable .vellipsis {  background: var(--jp-layout-color0);  color: var(--jp-cell-editor-border-color);}\n",
       ".datatable .na {  color: var(--jp-cell-editor-border-color);  font-size: 80%;}\n",
       ".datatable .sp {  opacity: 0.25;}\n",
       ".datatable .footer { font-size: 9px; }\n",
       ".datatable .frame_dimensions {  background: var(--jp-border-color3);  border-top: 1px solid var(--jp-border-color0);  color: var(--jp-ui-font-color3);  display: inline-block;  opacity: 0.6;  padding: 1px 10px 1px 5px;}\n",
       "</style>\n"
      ],
      "text/plain": [
       "<IPython.core.display.HTML object>"
      ]
     },
     "metadata": {},
     "output_type": "display_data"
    },
    {
     "name": "stderr",
     "output_type": "stream",
     "text": [
      "\t0.0342\t = Validation score   (accuracy)\n",
      "\t22.98s\t = Training   runtime\n",
      "\t0.02s\t = Validation runtime\n",
      "Fitting model: LightGBM ...\n",
      "\t0.0342\t = Validation score   (accuracy)\n",
      "\t22.26s\t = Training   runtime\n",
      "\t0.02s\t = Validation runtime\n",
      "Fitting model: RandomForestGini ...\n",
      "\t0.0317\t = Validation score   (accuracy)\n",
      "\t1.22s\t = Training   runtime\n",
      "\t0.2s\t = Validation runtime\n",
      "Fitting model: RandomForestEntr ...\n",
      "\t0.0317\t = Validation score   (accuracy)\n",
      "\t1.22s\t = Training   runtime\n",
      "\t0.2s\t = Validation runtime\n",
      "Fitting model: CatBoost ...\n",
      "\t0.0368\t = Validation score   (accuracy)\n",
      "\t29.22s\t = Training   runtime\n",
      "\t0.02s\t = Validation runtime\n",
      "Fitting model: ExtraTreesGini ...\n",
      "\t0.0317\t = Validation score   (accuracy)\n",
      "\t1.13s\t = Training   runtime\n",
      "\t0.2s\t = Validation runtime\n",
      "Fitting model: ExtraTreesEntr ...\n",
      "\t0.0317\t = Validation score   (accuracy)\n",
      "\t1.22s\t = Training   runtime\n",
      "\t0.2s\t = Validation runtime\n",
      "Fitting model: XGBoost ...\n",
      "\t0.033\t = Validation score   (accuracy)\n",
      "\t22.61s\t = Training   runtime\n",
      "\t0.01s\t = Validation runtime\n",
      "Fitting model: NeuralNetTorch ...\n",
      "\t0.0406\t = Validation score   (accuracy)\n",
      "\t9.51s\t = Training   runtime\n",
      "\t0.01s\t = Validation runtime\n",
      "Fitting model: LightGBMLarge ...\n",
      "\t0.0355\t = Validation score   (accuracy)\n",
      "\t38.83s\t = Training   runtime\n",
      "\t0.03s\t = Validation runtime\n",
      "Fitting model: WeightedEnsemble_L2 ...\n",
      "\t0.0406\t = Validation score   (accuracy)\n",
      "\t1.36s\t = Training   runtime\n",
      "\t0.0s\t = Validation runtime\n",
      "AutoGluon training complete, total runtime = 168.04s ... Best model: \"WeightedEnsemble_L2\"\n",
      "TabularPredictor saved. To load, use: predictor = TabularPredictor.load(\"petfinder-autogluon/\")\n"
     ]
    }
   ],
   "source": [
    "save_path = 'petfinder-autogluon'  # specifies folder to store trained models\n",
    "predictor = TabularPredictor(label=label, path=save_path).fit(train_data)"
   ]
  },
  {
   "cell_type": "code",
   "execution_count": 7,
   "id": "3fe0aeb5",
   "metadata": {
    "ExecuteTime": {
     "end_time": "2021-08-05T03:24:43.604879Z",
     "start_time": "2021-08-05T03:24:43.465Z"
    },
    "execution": {
     "iopub.execute_input": "2022-04-09T01:55:46.528333Z",
     "iopub.status.busy": "2022-04-09T01:55:46.527714Z",
     "iopub.status.idle": "2022-04-09T01:55:46.545271Z",
     "shell.execute_reply": "2022-04-09T01:55:46.545715Z",
     "shell.execute_reply.started": "2022-04-09T01:46:14.635696Z"
    },
    "papermill": {
     "duration": 0.312487,
     "end_time": "2022-04-09T01:55:46.545871",
     "exception": false,
     "start_time": "2022-04-09T01:55:46.233384",
     "status": "completed"
    },
    "scrolled": true,
    "tags": []
   },
   "outputs": [
    {
     "name": "stderr",
     "output_type": "stream",
     "text": [
      "Loaded data from: ../input/petfinder-train-test-split/test.csv | Columns = 13 / 13 | Rows = 1983 -> 1983\n"
     ]
    }
   ],
   "source": [
    "test_data_nolab = TabularDataset('../input/petfinder-train-test-split/test.csv')"
   ]
  },
  {
   "cell_type": "code",
   "execution_count": 8,
   "id": "5d3db3f3",
   "metadata": {
    "ExecuteTime": {
     "end_time": "2021-08-05T03:24:43.606162Z",
     "start_time": "2021-08-05T03:24:43.466Z"
    },
    "execution": {
     "iopub.execute_input": "2022-04-09T01:55:47.134397Z",
     "iopub.status.busy": "2022-04-09T01:55:47.133732Z",
     "iopub.status.idle": "2022-04-09T01:55:47.180258Z",
     "shell.execute_reply": "2022-04-09T01:55:47.179770Z",
     "shell.execute_reply.started": "2022-04-09T01:46:14.659058Z"
    },
    "papermill": {
     "duration": 0.3429,
     "end_time": "2022-04-09T01:55:47.180400",
     "exception": false,
     "start_time": "2022-04-09T01:55:46.837500",
     "status": "completed"
    },
    "tags": []
   },
   "outputs": [],
   "source": [
    "y_pred = predictor.predict(test_data_nolab)"
   ]
  },
  {
   "cell_type": "code",
   "execution_count": 9,
   "id": "f76f89f2",
   "metadata": {
    "ExecuteTime": {
     "end_time": "2021-08-05T03:24:43.607359Z",
     "start_time": "2021-08-05T03:24:43.468Z"
    },
    "execution": {
     "iopub.execute_input": "2022-04-09T01:55:47.768611Z",
     "iopub.status.busy": "2022-04-09T01:55:47.767851Z",
     "iopub.status.idle": "2022-04-09T01:55:47.770815Z",
     "shell.execute_reply": "2022-04-09T01:55:47.771290Z",
     "shell.execute_reply.started": "2022-04-09T01:46:14.722637Z"
    },
    "papermill": {
     "duration": 0.299981,
     "end_time": "2022-04-09T01:55:47.771449",
     "exception": false,
     "start_time": "2022-04-09T01:55:47.471468",
     "status": "completed"
    },
    "scrolled": true,
    "tags": []
   },
   "outputs": [
    {
     "data": {
      "text/plain": [
       "0       30\n",
       "1       33\n",
       "2       30\n",
       "3       26\n",
       "4       29\n",
       "        ..\n",
       "1978    28\n",
       "1979    30\n",
       "1980    26\n",
       "1981    30\n",
       "1982    30\n",
       "Name: Pawpularity, Length: 1983, dtype: int64"
      ]
     },
     "execution_count": 9,
     "metadata": {},
     "output_type": "execute_result"
    }
   ],
   "source": [
    "y_pred"
   ]
  },
  {
   "cell_type": "code",
   "execution_count": 10,
   "id": "5b477e77",
   "metadata": {
    "ExecuteTime": {
     "end_time": "2021-08-05T03:24:43.608568Z",
     "start_time": "2021-08-05T03:24:43.469Z"
    },
    "execution": {
     "iopub.execute_input": "2022-04-09T01:55:48.383748Z",
     "iopub.status.busy": "2022-04-09T01:55:48.382617Z",
     "iopub.status.idle": "2022-04-09T01:55:48.385466Z",
     "shell.execute_reply": "2022-04-09T01:55:48.384877Z",
     "shell.execute_reply.started": "2022-04-09T01:46:14.736207Z"
    },
    "papermill": {
     "duration": 0.318781,
     "end_time": "2022-04-09T01:55:48.385615",
     "exception": false,
     "start_time": "2022-04-09T01:55:48.066834",
     "status": "completed"
    },
    "tags": []
   },
   "outputs": [],
   "source": [
    "id_ = ['Id']"
   ]
  },
  {
   "cell_type": "code",
   "execution_count": 11,
   "id": "68e283ad",
   "metadata": {
    "ExecuteTime": {
     "end_time": "2021-08-05T03:24:43.609750Z",
     "start_time": "2021-08-05T03:24:43.470Z"
    },
    "execution": {
     "iopub.execute_input": "2022-04-09T01:55:49.037229Z",
     "iopub.status.busy": "2022-04-09T01:55:49.036343Z",
     "iopub.status.idle": "2022-04-09T01:55:49.041725Z",
     "shell.execute_reply": "2022-04-09T01:55:49.042334Z",
     "shell.execute_reply.started": "2022-04-09T01:46:14.746539Z"
    },
    "papermill": {
     "duration": 0.330674,
     "end_time": "2022-04-09T01:55:49.042514",
     "exception": false,
     "start_time": "2022-04-09T01:55:48.711840",
     "status": "completed"
    },
    "tags": []
   },
   "outputs": [],
   "source": [
    "sub = test_data_nolab[id_].copy()\n",
    "sub[label] = list(y_pred.values)"
   ]
  },
  {
   "cell_type": "code",
   "execution_count": 12,
   "id": "5def1ed3",
   "metadata": {
    "ExecuteTime": {
     "end_time": "2021-08-05T03:24:43.611237Z",
     "start_time": "2021-08-05T03:24:43.471Z"
    },
    "execution": {
     "iopub.execute_input": "2022-04-09T01:55:49.659200Z",
     "iopub.status.busy": "2022-04-09T01:55:49.658502Z",
     "iopub.status.idle": "2022-04-09T01:55:49.667403Z",
     "shell.execute_reply": "2022-04-09T01:55:49.667967Z",
     "shell.execute_reply.started": "2022-04-09T01:46:23.890269Z"
    },
    "papermill": {
     "duration": 0.31911,
     "end_time": "2022-04-09T01:55:49.668183",
     "exception": false,
     "start_time": "2022-04-09T01:55:49.349073",
     "status": "completed"
    },
    "tags": []
   },
   "outputs": [],
   "source": [
    "sub.to_csv(\"./autogluon_sub_petfinder.csv\", index = False)"
   ]
  },
  {
   "cell_type": "code",
   "execution_count": 13,
   "id": "2b6f1087",
   "metadata": {
    "execution": {
     "iopub.execute_input": "2022-04-09T01:55:50.296107Z",
     "iopub.status.busy": "2022-04-09T01:55:50.295237Z",
     "iopub.status.idle": "2022-04-09T01:55:50.307679Z",
     "shell.execute_reply": "2022-04-09T01:55:50.308117Z",
     "shell.execute_reply.started": "2022-04-09T01:46:35.614090Z"
    },
    "papermill": {
     "duration": 0.326831,
     "end_time": "2022-04-09T01:55:50.308287",
     "exception": false,
     "start_time": "2022-04-09T01:55:49.981456",
     "status": "completed"
    },
    "tags": []
   },
   "outputs": [],
   "source": [
    "import pandas as pd\n",
    "import numpy as np\n",
    "import os\n",
    "from tqdm import tqdm\n",
    "\n",
    "solution = pd.read_csv('../input/petfinder-train-test-split/solution.csv')"
   ]
  },
  {
   "cell_type": "code",
   "execution_count": 14,
   "id": "63d36be5",
   "metadata": {
    "execution": {
     "iopub.execute_input": "2022-04-09T01:55:50.913315Z",
     "iopub.status.busy": "2022-04-09T01:55:50.912415Z",
     "iopub.status.idle": "2022-04-09T01:55:50.921617Z",
     "shell.execute_reply": "2022-04-09T01:55:50.921146Z",
     "shell.execute_reply.started": "2022-04-09T01:46:47.125126Z"
    },
    "papermill": {
     "duration": 0.312195,
     "end_time": "2022-04-09T01:55:50.921756",
     "exception": false,
     "start_time": "2022-04-09T01:55:50.609561",
     "status": "completed"
    },
    "tags": []
   },
   "outputs": [
    {
     "data": {
      "text/html": [
       "<div>\n",
       "<style scoped>\n",
       "    .dataframe tbody tr th:only-of-type {\n",
       "        vertical-align: middle;\n",
       "    }\n",
       "\n",
       "    .dataframe tbody tr th {\n",
       "        vertical-align: top;\n",
       "    }\n",
       "\n",
       "    .dataframe thead th {\n",
       "        text-align: right;\n",
       "    }\n",
       "</style>\n",
       "<table border=\"1\" class=\"dataframe\">\n",
       "  <thead>\n",
       "    <tr style=\"text-align: right;\">\n",
       "      <th></th>\n",
       "      <th>Id</th>\n",
       "      <th>Pawpularity</th>\n",
       "    </tr>\n",
       "  </thead>\n",
       "  <tbody>\n",
       "    <tr>\n",
       "      <th>0</th>\n",
       "      <td>48d53aeabee4f92f77eee3a323343c77</td>\n",
       "      <td>40</td>\n",
       "    </tr>\n",
       "    <tr>\n",
       "      <th>1</th>\n",
       "      <td>b60e82fd313066b801fa4431d1ce4f4e</td>\n",
       "      <td>64</td>\n",
       "    </tr>\n",
       "    <tr>\n",
       "      <th>2</th>\n",
       "      <td>09ae71fc4eda1e0ae05680d1950bc009</td>\n",
       "      <td>26</td>\n",
       "    </tr>\n",
       "    <tr>\n",
       "      <th>3</th>\n",
       "      <td>263879abce68de4af02ef5f7ef873d24</td>\n",
       "      <td>73</td>\n",
       "    </tr>\n",
       "    <tr>\n",
       "      <th>4</th>\n",
       "      <td>4ea0587a137c7983ca92851b6cb36ca1</td>\n",
       "      <td>39</td>\n",
       "    </tr>\n",
       "  </tbody>\n",
       "</table>\n",
       "</div>"
      ],
      "text/plain": [
       "                                 Id  Pawpularity\n",
       "0  48d53aeabee4f92f77eee3a323343c77           40\n",
       "1  b60e82fd313066b801fa4431d1ce4f4e           64\n",
       "2  09ae71fc4eda1e0ae05680d1950bc009           26\n",
       "3  263879abce68de4af02ef5f7ef873d24           73\n",
       "4  4ea0587a137c7983ca92851b6cb36ca1           39"
      ]
     },
     "execution_count": 14,
     "metadata": {},
     "output_type": "execute_result"
    }
   ],
   "source": [
    "solution.head()"
   ]
  },
  {
   "cell_type": "code",
   "execution_count": 15,
   "id": "19666e19",
   "metadata": {
    "execution": {
     "iopub.execute_input": "2022-04-09T01:55:51.555316Z",
     "iopub.status.busy": "2022-04-09T01:55:51.554677Z",
     "iopub.status.idle": "2022-04-09T01:55:51.557248Z",
     "shell.execute_reply": "2022-04-09T01:55:51.557681Z",
     "shell.execute_reply.started": "2022-04-09T01:46:52.195298Z"
    },
    "papermill": {
     "duration": 0.312636,
     "end_time": "2022-04-09T01:55:51.557833",
     "exception": false,
     "start_time": "2022-04-09T01:55:51.245197",
     "status": "completed"
    },
    "tags": []
   },
   "outputs": [
    {
     "data": {
      "text/html": [
       "<div>\n",
       "<style scoped>\n",
       "    .dataframe tbody tr th:only-of-type {\n",
       "        vertical-align: middle;\n",
       "    }\n",
       "\n",
       "    .dataframe tbody tr th {\n",
       "        vertical-align: top;\n",
       "    }\n",
       "\n",
       "    .dataframe thead th {\n",
       "        text-align: right;\n",
       "    }\n",
       "</style>\n",
       "<table border=\"1\" class=\"dataframe\">\n",
       "  <thead>\n",
       "    <tr style=\"text-align: right;\">\n",
       "      <th></th>\n",
       "      <th>Id</th>\n",
       "      <th>Pawpularity</th>\n",
       "    </tr>\n",
       "  </thead>\n",
       "  <tbody>\n",
       "    <tr>\n",
       "      <th>0</th>\n",
       "      <td>48d53aeabee4f92f77eee3a323343c77</td>\n",
       "      <td>30</td>\n",
       "    </tr>\n",
       "    <tr>\n",
       "      <th>1</th>\n",
       "      <td>b60e82fd313066b801fa4431d1ce4f4e</td>\n",
       "      <td>33</td>\n",
       "    </tr>\n",
       "    <tr>\n",
       "      <th>2</th>\n",
       "      <td>09ae71fc4eda1e0ae05680d1950bc009</td>\n",
       "      <td>30</td>\n",
       "    </tr>\n",
       "    <tr>\n",
       "      <th>3</th>\n",
       "      <td>263879abce68de4af02ef5f7ef873d24</td>\n",
       "      <td>26</td>\n",
       "    </tr>\n",
       "    <tr>\n",
       "      <th>4</th>\n",
       "      <td>4ea0587a137c7983ca92851b6cb36ca1</td>\n",
       "      <td>29</td>\n",
       "    </tr>\n",
       "  </tbody>\n",
       "</table>\n",
       "</div>"
      ],
      "text/plain": [
       "                                 Id  Pawpularity\n",
       "0  48d53aeabee4f92f77eee3a323343c77           30\n",
       "1  b60e82fd313066b801fa4431d1ce4f4e           33\n",
       "2  09ae71fc4eda1e0ae05680d1950bc009           30\n",
       "3  263879abce68de4af02ef5f7ef873d24           26\n",
       "4  4ea0587a137c7983ca92851b6cb36ca1           29"
      ]
     },
     "execution_count": 15,
     "metadata": {},
     "output_type": "execute_result"
    }
   ],
   "source": [
    "sub.head()"
   ]
  },
  {
   "cell_type": "code",
   "execution_count": 16,
   "id": "99534f69",
   "metadata": {
    "execution": {
     "iopub.execute_input": "2022-04-09T01:55:52.170391Z",
     "iopub.status.busy": "2022-04-09T01:55:52.169697Z",
     "iopub.status.idle": "2022-04-09T01:55:52.177828Z",
     "shell.execute_reply": "2022-04-09T01:55:52.178269Z",
     "shell.execute_reply.started": "2022-04-09T01:47:21.235957Z"
    },
    "papermill": {
     "duration": 0.317577,
     "end_time": "2022-04-09T01:55:52.178436",
     "exception": false,
     "start_time": "2022-04-09T01:55:51.860859",
     "status": "completed"
    },
    "tags": []
   },
   "outputs": [
    {
     "data": {
      "text/plain": [
       "True"
      ]
     },
     "execution_count": 16,
     "metadata": {},
     "output_type": "execute_result"
    }
   ],
   "source": [
    "all(solution['Id'] == sub['Id'])"
   ]
  },
  {
   "cell_type": "code",
   "execution_count": 17,
   "id": "728470ed",
   "metadata": {
    "execution": {
     "iopub.execute_input": "2022-04-09T01:55:52.783327Z",
     "iopub.status.busy": "2022-04-09T01:55:52.782414Z",
     "iopub.status.idle": "2022-04-09T01:55:52.789173Z",
     "shell.execute_reply": "2022-04-09T01:55:52.789709Z",
     "shell.execute_reply.started": "2022-04-09T01:48:45.847717Z"
    },
    "papermill": {
     "duration": 0.308115,
     "end_time": "2022-04-09T01:55:52.789874",
     "exception": false,
     "start_time": "2022-04-09T01:55:52.481759",
     "status": "completed"
    },
    "tags": []
   },
   "outputs": [
    {
     "data": {
      "text/plain": [
       "23.173293094838808"
      ]
     },
     "execution_count": 17,
     "metadata": {},
     "output_type": "execute_result"
    }
   ],
   "source": [
    "from sklearn.metrics import mean_squared_error\n",
    "y_true = solution['Pawpularity']\n",
    "y_pred = sub['Pawpularity']\n",
    "rmse = mean_squared_error(y_true, y_pred, squared = False)\n",
    "rmse"
   ]
  },
  {
   "cell_type": "code",
   "execution_count": null,
   "id": "af05b2a4",
   "metadata": {
    "papermill": {
     "duration": 0.293137,
     "end_time": "2022-04-09T01:55:53.388245",
     "exception": false,
     "start_time": "2022-04-09T01:55:53.095108",
     "status": "completed"
    },
    "tags": []
   },
   "outputs": [],
   "source": []
  }
 ],
 "metadata": {
  "kernelspec": {
   "display_name": "Python 3",
   "language": "python",
   "name": "python3"
  },
  "language_info": {
   "codemirror_mode": {
    "name": "ipython",
    "version": 3
   },
   "file_extension": ".py",
   "mimetype": "text/x-python",
   "name": "python",
   "nbconvert_exporter": "python",
   "pygments_lexer": "ipython3",
   "version": "3.7.12"
  },
  "papermill": {
   "default_parameters": {},
   "duration": 384.276098,
   "end_time": "2022-04-09T01:55:54.796280",
   "environment_variables": {},
   "exception": null,
   "input_path": "__notebook__.ipynb",
   "output_path": "__notebook__.ipynb",
   "parameters": {},
   "start_time": "2022-04-09T01:49:30.520182",
   "version": "2.3.3"
  }
 },
 "nbformat": 4,
 "nbformat_minor": 5
}
