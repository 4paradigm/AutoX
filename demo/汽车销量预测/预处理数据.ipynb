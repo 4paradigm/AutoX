{
 "cells": [
  {
   "cell_type": "code",
   "execution_count": 2,
   "metadata": {
    "ExecuteTime": {
     "end_time": "2022-01-13T06:50:31.243509Z",
     "start_time": "2022-01-13T06:50:31.239456Z"
    },
    "scrolled": true
   },
   "outputs": [],
   "source": [
    "import pandas as pd\n",
    "import numpy as np\n",
    "import os\n",
    "from tqdm import tqdm"
   ]
  },
  {
   "cell_type": "code",
   "execution_count": 3,
   "metadata": {
    "ExecuteTime": {
     "end_time": "2022-01-13T06:50:36.423721Z",
     "start_time": "2022-01-13T06:50:36.405363Z"
    },
    "scrolled": true
   },
   "outputs": [],
   "source": [
    "train = pd.read_csv('./train.csv')\n",
    "test  = pd.read_csv('./test.csv')"
   ]
  },
  {
   "cell_type": "code",
   "execution_count": 4,
   "metadata": {
    "ExecuteTime": {
     "end_time": "2022-01-13T06:50:38.216951Z",
     "start_time": "2022-01-13T06:50:38.205659Z"
    },
    "scrolled": true
   },
   "outputs": [],
   "source": [
    "train['time'] = train['time'].apply(lambda x: '20' + x)\n",
    "test['time'] = test['time'].apply(lambda x: '20' + x)"
   ]
  },
  {
   "cell_type": "code",
   "execution_count": 5,
   "metadata": {
    "ExecuteTime": {
     "end_time": "2022-01-13T06:50:39.513746Z",
     "start_time": "2022-01-13T06:50:39.441531Z"
    },
    "scrolled": true
   },
   "outputs": [],
   "source": [
    "month_map = {'Jan': '01-01', \n",
    "             'Feb': '02-01', \n",
    "             'Mar': '03-01', \n",
    "             'Apr': '04-01', \n",
    "             'May': '05-01', \n",
    "             'Jun': '06-01', \n",
    "             'Jul': '07-01', \n",
    "             'Aug': '08-01',\n",
    "             'Sep': '09-01', \n",
    "             'Oct': '10-01', \n",
    "             'Nov': '11-01', \n",
    "             'Dec': '12-01',\n",
    "            }\n",
    "for item in month_map:\n",
    "    key = item\n",
    "    val = month_map[item]\n",
    "    train['time'] = train['time'].apply(lambda x: x.replace(key, val))\n",
    "    test['time'] = test['time'].apply(lambda x: x.replace(key, val))"
   ]
  },
  {
   "cell_type": "code",
   "execution_count": 6,
   "metadata": {
    "ExecuteTime": {
     "end_time": "2022-01-13T06:50:45.052445Z",
     "start_time": "2022-01-13T06:50:45.008451Z"
    },
    "scrolled": true
   },
   "outputs": [],
   "source": [
    "train.to_csv('./train.csv', index = False)\n",
    "test.to_csv('./test.csv', index = False)"
   ]
  },
  {
   "cell_type": "code",
   "execution_count": null,
   "metadata": {},
   "outputs": [],
   "source": []
  }
 ],
 "metadata": {
  "kernelspec": {
   "display_name": "Python 3",
   "language": "python",
   "name": "python3"
  },
  "language_info": {
   "codemirror_mode": {
    "name": "ipython",
    "version": 3
   },
   "file_extension": ".py",
   "mimetype": "text/x-python",
   "name": "python",
   "nbconvert_exporter": "python",
   "pygments_lexer": "ipython3",
   "version": "3.7.3"
  },
  "toc": {
   "base_numbering": 1,
   "nav_menu": {},
   "number_sections": true,
   "sideBar": true,
   "skip_h1_title": false,
   "title_cell": "Table of Contents",
   "title_sidebar": "Contents",
   "toc_cell": false,
   "toc_position": {},
   "toc_section_display": true,
   "toc_window_display": false
  },
  "varInspector": {
   "cols": {
    "lenName": 16,
    "lenType": 16,
    "lenVar": 40
   },
   "kernels_config": {
    "python": {
     "delete_cmd_postfix": "",
     "delete_cmd_prefix": "del ",
     "library": "var_list.py",
     "varRefreshCmd": "print(var_dic_list())"
    },
    "r": {
     "delete_cmd_postfix": ") ",
     "delete_cmd_prefix": "rm(",
     "library": "var_list.r",
     "varRefreshCmd": "cat(var_dic_list()) "
    }
   },
   "types_to_exclude": [
    "module",
    "function",
    "builtin_function_or_method",
    "instance",
    "_Feature"
   ],
   "window_display": false
  }
 },
 "nbformat": 4,
 "nbformat_minor": 2
}
